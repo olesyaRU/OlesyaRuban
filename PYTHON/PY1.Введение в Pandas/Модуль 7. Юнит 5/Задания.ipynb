{
 "cells": [
  {
   "cell_type": "markdown",
   "metadata": {},
   "source": [
    "### Введение"
   ]
  },
  {
   "cell_type": "code",
   "execution_count": 6,
   "metadata": {},
   "outputs": [
    {
     "ename": "NameError",
     "evalue": "name 'medications' is not defined",
     "output_type": "error",
     "traceback": [
      "\u001b[1;31m---------------------------------------------------------------------------\u001b[0m",
      "\u001b[1;31mNameError\u001b[0m                                 Traceback (most recent call last)",
      "Cell \u001b[1;32mIn[6], line 11\u001b[0m\n\u001b[0;32m      9\u001b[0m     med \u001b[38;5;241m=\u001b[39m medications\u001b[38;5;241m.\u001b[39mloc[name]\u001b[38;5;241m/\u001b[39m\u001b[38;5;28msum\u001b[39m(medications) \u001b[38;5;241m*\u001b[39m \u001b[38;5;241m100\u001b[39m\n\u001b[0;32m     10\u001b[0m     \u001b[38;5;28;01mreturn\u001b[39;00m med\n\u001b[1;32m---> 11\u001b[0m \u001b[38;5;28mprint\u001b[39m(\u001b[43mmedications\u001b[49m)\n\u001b[0;32m     12\u001b[0m \u001b[38;5;28mprint\u001b[39m(med)\n",
      "\u001b[1;31mNameError\u001b[0m: name 'medications' is not defined"
     ]
    }
   ],
   "source": [
    "import pandas as pd\n",
    "names=['chlorhexidine', 'cyntomycin', 'afobazol']\n",
    "counts=[15, 18, 7]\n",
    "\n",
    "def create_medications(names, counts):\n",
    "    medications = pd.Series(index=names, data=counts)\n",
    "    return medications\n",
    "def get_percent(medications, name):\n",
    "    med = medications.loc[name]/sum(medications) * 100\n",
    "    return med\n",
    "print(medications)\n",
    "print(med)"
   ]
  },
  {
   "cell_type": "code",
   "execution_count": 8,
   "metadata": {},
   "outputs": [
    {
     "name": "stdout",
     "output_type": "stream",
     "text": [
      "     country  population    square\n",
      "0     Англия       56.29    133396\n",
      "1     Канада       38.05   9984670\n",
      "2        США      322.28   9826630\n",
      "3     Россия      146.24  17125191\n",
      "4    Украина       45.50    603628\n",
      "5   Беларусь        9.50    207600\n",
      "6  Казахстан       17.04   2724902\n"
     ]
    }
   ],
   "source": [
    "countries_df = pd.DataFrame({\n",
    "    'country': ['Англия', 'Канада', 'США', 'Россия', 'Украина', 'Беларусь', 'Казахстан'],\n",
    "    'population': [56.29, 38.05, 322.28, 146.24, 45.5, 9.5, 17.04],\n",
    "    'square': [133396, 9984670, 9826630, 17125191, 603628, 207600, 2724902]\n",
    "})\n",
    "print(countries_df)"
   ]
  },
  {
   "cell_type": "code",
   "execution_count": 9,
   "metadata": {},
   "outputs": [
    {
     "data": {
      "text/html": [
       "<div>\n",
       "<style scoped>\n",
       "    .dataframe tbody tr th:only-of-type {\n",
       "        vertical-align: middle;\n",
       "    }\n",
       "\n",
       "    .dataframe tbody tr th {\n",
       "        vertical-align: top;\n",
       "    }\n",
       "\n",
       "    .dataframe thead th {\n",
       "        text-align: right;\n",
       "    }\n",
       "</style>\n",
       "<table border=\"1\" class=\"dataframe\">\n",
       "  <thead>\n",
       "    <tr style=\"text-align: right;\">\n",
       "      <th></th>\n",
       "      <th>country</th>\n",
       "      <th>population</th>\n",
       "      <th>square</th>\n",
       "    </tr>\n",
       "  </thead>\n",
       "  <tbody>\n",
       "    <tr>\n",
       "      <th>UK</th>\n",
       "      <td>Англия</td>\n",
       "      <td>56.29</td>\n",
       "      <td>133396</td>\n",
       "    </tr>\n",
       "    <tr>\n",
       "      <th>CA</th>\n",
       "      <td>Канада</td>\n",
       "      <td>38.05</td>\n",
       "      <td>9984670</td>\n",
       "    </tr>\n",
       "    <tr>\n",
       "      <th>US</th>\n",
       "      <td>США</td>\n",
       "      <td>322.28</td>\n",
       "      <td>9826630</td>\n",
       "    </tr>\n",
       "    <tr>\n",
       "      <th>RU</th>\n",
       "      <td>Россия</td>\n",
       "      <td>146.24</td>\n",
       "      <td>17125191</td>\n",
       "    </tr>\n",
       "    <tr>\n",
       "      <th>UA</th>\n",
       "      <td>Украина</td>\n",
       "      <td>45.50</td>\n",
       "      <td>603628</td>\n",
       "    </tr>\n",
       "    <tr>\n",
       "      <th>BY</th>\n",
       "      <td>Беларусь</td>\n",
       "      <td>9.50</td>\n",
       "      <td>207600</td>\n",
       "    </tr>\n",
       "    <tr>\n",
       "      <th>KZ</th>\n",
       "      <td>Казахстан</td>\n",
       "      <td>17.04</td>\n",
       "      <td>2724902</td>\n",
       "    </tr>\n",
       "  </tbody>\n",
       "</table>\n",
       "</div>"
      ],
      "text/plain": [
       "      country  population    square\n",
       "UK     Англия       56.29    133396\n",
       "CA     Канада       38.05   9984670\n",
       "US        США      322.28   9826630\n",
       "RU     Россия      146.24  17125191\n",
       "UA    Украина       45.50    603628\n",
       "BY   Беларусь        9.50    207600\n",
       "KZ  Казахстан       17.04   2724902"
      ]
     },
     "metadata": {},
     "output_type": "display_data"
    }
   ],
   "source": [
    "countries_df = pd.DataFrame(\n",
    "    data = [\n",
    "        ['Англия', 56.29, 133396],\n",
    "        ['Канада', 38.05, 9984670],\n",
    "        ['США', 322.28, 9826630],\n",
    "        ['Россия', 146.24, 17125191],\n",
    "        ['Украина', 45.5, 603628],\n",
    "        ['Беларусь', 9.5, 207600],\n",
    "        ['Казахстан', 17.04, 2724902]\n",
    "    ],\n",
    "    columns= ['country', 'population', 'square'],\n",
    "    index = ['UK', 'CA', 'US', 'RU', 'UA', 'BY', 'KZ']\n",
    ")\n",
    "display(countries_df)"
   ]
  },
  {
   "cell_type": "code",
   "execution_count": 10,
   "metadata": {},
   "outputs": [
    {
     "data": {
      "text/plain": [
       "population    9.070000e+01\n",
       "square        5.800860e+06\n",
       "dtype: float64"
      ]
     },
     "execution_count": 10,
     "metadata": {},
     "output_type": "execute_result"
    }
   ],
   "source": [
    "countries_df.mean(axis=0, numeric_only=True)"
   ]
  },
  {
   "cell_type": "code",
   "execution_count": 11,
   "metadata": {},
   "outputs": [
    {
     "data": {
      "text/plain": [
       "UK      66726.145\n",
       "CA    4992354.025\n",
       "US    4913476.140\n",
       "RU    8562668.620\n",
       "UA     301836.750\n",
       "BY     103804.750\n",
       "KZ    1362459.520\n",
       "dtype: float64"
      ]
     },
     "execution_count": 11,
     "metadata": {},
     "output_type": "execute_result"
    }
   ],
   "source": [
    "countries_df.mean(axis=1, numeric_only=True)"
   ]
  }
 ],
 "metadata": {
  "kernelspec": {
   "display_name": "Python 3",
   "language": "python",
   "name": "python3"
  },
  "language_info": {
   "codemirror_mode": {
    "name": "ipython",
    "version": 3
   },
   "file_extension": ".py",
   "mimetype": "text/x-python",
   "name": "python",
   "nbconvert_exporter": "python",
   "pygments_lexer": "ipython3",
   "version": "3.9.10"
  }
 },
 "nbformat": 4,
 "nbformat_minor": 2
}
