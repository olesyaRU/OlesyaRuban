{
 "cells": [
  {
   "cell_type": "markdown",
   "id": "503a436e",
   "metadata": {},
   "source": [
    "## PJ по курсу \"Глубокие нейронные сети\"\n",
    "## Ольга Юрлова"
   ]
  },
  {
   "cell_type": "markdown",
   "id": "3a07b22d",
   "metadata": {},
   "source": [
    "### Курс \"Data Science in Medicine\""
   ]
  },
  {
   "cell_type": "markdown",
   "id": "c8369d25",
   "metadata": {},
   "source": [
    "# Проект по применению моделей машинного обучения для предсказания сердечно-сосудистых заболеваний (ССЗ)\n",
    "\n",
    "## Цель проекта:\n",
    "\n",
    "    1. Изучите и напишите краткое содержание научной статьи.\n",
    "    2. Проанализируйте данные.\n",
    "    3. Проведите корреляционный анализ.\n",
    "    4. Обучите следующие модели и сравните результаты:\n",
    "        - Logistic Regression;\n",
    "        - Randomforest;\n",
    "        - Neural Network.\n"
   ]
  },
  {
   "cell_type": "markdown",
   "id": "6f926f22",
   "metadata": {},
   "source": [
    "## Библиотеки и загрузка данных"
   ]
  },
  {
   "cell_type": "code",
   "execution_count": 109,
   "id": "38918e9d",
   "metadata": {},
   "outputs": [
    {
     "name": "stdout",
     "output_type": "stream",
     "text": [
      "Requirement already satisfied: missingno in c:\\users\\okayu\\appdata\\local\\programs\\python\\python39\\lib\\site-packages (0.5.2)\n",
      "Requirement already satisfied: numpy in c:\\users\\okayu\\appdata\\local\\programs\\python\\python39\\lib\\site-packages (from missingno) (1.24.4)\n",
      "Note: you may need to restart the kernel to use updated packages.Requirement already satisfied: matplotlib in c:\\users\\okayu\\appdata\\local\\programs\\python\\python39\\lib\\site-packages (from missingno) (3.5.2)\n",
      "Requirement already satisfied: scipy in c:\\users\\okayu\\appdata\\local\\programs\\python\\python39\\lib\\site-packages (from missingno) (1.8.1)\n",
      "Requirement already satisfied: seaborn in c:\\users\\okayu\\appdata\\local\\programs\\python\\python39\\lib\\site-packages (from missingno) (0.12.1)\n",
      "Requirement already satisfied: cycler>=0.10 in c:\\users\\okayu\\appdata\\local\\programs\\python\\python39\\lib\\site-packages (from matplotlib->missingno) (0.11.0)\n",
      "Requirement already satisfied: fonttools>=4.22.0 in c:\\users\\okayu\\appdata\\local\\programs\\python\\python39\\lib\\site-packages (from matplotlib->missingno) (4.33.3)\n",
      "Requirement already satisfied: kiwisolver>=1.0.1 in c:\\users\\okayu\\appdata\\local\\programs\\python\\python39\\lib\\site-packages (from matplotlib->missingno) (1.4.3)\n",
      "Requirement already satisfied: packaging>=20.0 in c:\\users\\okayu\\appdata\\local\\programs\\python\\python39\\lib\\site-packages (from matplotlib->missingno) (21.3)\n",
      "Requirement already satisfied: pillow>=6.2.0 in c:\\users\\okayu\\appdata\\local\\programs\\python\\python39\\lib\\site-packages (from matplotlib->missingno) (9.1.1)\n",
      "Requirement already satisfied: pyparsing>=2.2.1 in c:\\users\\okayu\\appdata\\local\\programs\\python\\python39\\lib\\site-packages (from matplotlib->missingno) (3.0.6)\n",
      "Requirement already satisfied: python-dateutil>=2.7 in c:\\users\\okayu\\appdata\\local\\programs\\python\\python39\\lib\\site-packages (from matplotlib->missingno) (2.8.2)\n",
      "Requirement already satisfied: pandas>=0.25 in c:\\users\\okayu\\appdata\\local\\programs\\python\\python39\\lib\\site-packages (from seaborn->missingno) (2.2.2)\n",
      "\n",
      "Requirement already satisfied: pytz>=2020.1 in c:\\users\\okayu\\appdata\\local\\programs\\python\\python39\\lib\\site-packages (from pandas>=0.25->seaborn->missingno) (2021.3)"
     ]
    },
    {
     "name": "stderr",
     "output_type": "stream",
     "text": [
      "WARNING: Ignoring invalid distribution -yspark (c:\\users\\okayu\\appdata\\local\\programs\\python\\python39\\lib\\site-packages)\n",
      "WARNING: Ignoring invalid distribution -yspark (c:\\users\\okayu\\appdata\\local\\programs\\python\\python39\\lib\\site-packages)\n",
      "WARNING: Ignoring invalid distribution -yspark (c:\\users\\okayu\\appdata\\local\\programs\\python\\python39\\lib\\site-packages)\n"
     ]
    },
    {
     "name": "stdout",
     "output_type": "stream",
     "text": [
      "\n",
      "Requirement already satisfied: tzdata>=2022.7 in c:\\users\\okayu\\appdata\\local\\programs\\python\\python39\\lib\\site-packages (from pandas>=0.25->seaborn->missingno) (2024.1)\n",
      "Requirement already satisfied: six>=1.5 in c:\\users\\okayu\\appdata\\local\\programs\\python\\python39\\lib\\site-packages (from python-dateutil>=2.7->matplotlib->missingno) (1.16.0)\n"
     ]
    }
   ],
   "source": [
    "pip install missingno"
   ]
  },
  {
   "cell_type": "code",
   "execution_count": 110,
   "id": "abe5c597",
   "metadata": {},
   "outputs": [
    {
     "name": "stdout",
     "output_type": "stream",
     "text": [
      "Requirement already satisfied: tensorflow in c:\\users\\okayu\\appdata\\local\\programs\\python\\python39\\lib\\site-packages (2.17.0)\n",
      "Requirement already satisfied: tensorflow-intel==2.17.0 in c:\\users\\okayu\\appdata\\local\\programs\\python\\python39\\lib\\site-packages (from tensorflow) (2.17.0)\n",
      "Requirement already satisfied: absl-py>=1.0.0 in c:\\users\\okayu\\appdata\\local\\programs\\python\\python39\\lib\\site-packages (from tensorflow-intel==2.17.0->tensorflow) (2.1.0)\n",
      "Requirement already satisfied: astunparse>=1.6.0 in c:\\users\\okayu\\appdata\\local\\programs\\python\\python39\\lib\\site-packages (from tensorflow-intel==2.17.0->tensorflow) (1.6.3)\n",
      "Requirement already satisfied: flatbuffers>=24.3.25 in c:\\users\\okayu\\appdata\\local\\programs\\python\\python39\\lib\\site-packages (from tensorflow-intel==2.17.0->tensorflow) (24.3.25)\n",
      "Requirement already satisfied: gast!=0.5.0,!=0.5.1,!=0.5.2,>=0.2.1 in c:\\users\\okayu\\appdata\\local\\programs\\python\\python39\\lib\\site-packages (from tensorflow-intel==2.17.0->tensorflow) (0.6.0)\n",
      "Requirement already satisfied: google-pasta>=0.1.1 in c:\\users\\okayu\\appdata\\local\\programs\\python\\python39\\lib\\site-packages (from tensorflow-intel==2.17.0->tensorflow) (0.2.0)\n",
      "Requirement already satisfied: h5py>=3.10.0 in c:\\users\\okayu\\appdata\\local\\programs\\python\\python39\\lib\\site-packages (from tensorflow-intel==2.17.0->tensorflow) (3.12.1)\n",
      "Requirement already satisfied: libclang>=13.0.0 in c:\\users\\okayu\\appdata\\local\\programs\\python\\python39\\lib\\site-packages (from tensorflow-intel==2.17.0->tensorflow) (18.1.1)\n",
      "Requirement already satisfied: ml-dtypes<0.5.0,>=0.3.1 in c:\\users\\okayu\\appdata\\local\\programs\\python\\python39\\lib\\site-packages (from tensorflow-intel==2.17.0->tensorflow) (0.4.1)\n",
      "Requirement already satisfied: opt-einsum>=2.3.2 in c:\\users\\okayu\\appdata\\local\\programs\\python\\python39\\lib\\site-packages (from tensorflow-intel==2.17.0->tensorflow) (3.4.0)\n",
      "Requirement already satisfied: packaging in c:\\users\\okayu\\appdata\\local\\programs\\python\\python39\\lib\\site-packages (from tensorflow-intel==2.17.0->tensorflow) (21.3)\n",
      "Requirement already satisfied: protobuf!=4.21.0,!=4.21.1,!=4.21.2,!=4.21.3,!=4.21.4,!=4.21.5,<5.0.0dev,>=3.20.3 in c:\\users\\okayu\\appdata\\local\\programs\\python\\python39\\lib\\site-packages (from tensorflow-intel==2.17.0->tensorflow) (4.25.5)\n",
      "Requirement already satisfied: requests<3,>=2.21.0 in c:\\users\\okayu\\appdata\\local\\programs\\python\\python39\\lib\\site-packages (from tensorflow-intel==2.17.0->tensorflow) (2.26.0)\n",
      "Requirement already satisfied: setuptools in c:\\users\\okayu\\appdata\\local\\programs\\python\\python39\\lib\\site-packages (from tensorflow-intel==2.17.0->tensorflow) (57.4.0)\n",
      "Requirement already satisfied: six>=1.12.0 in c:\\users\\okayu\\appdata\\local\\programs\\python\\python39\\lib\\site-packages (from tensorflow-intel==2.17.0->tensorflow) (1.16.0)\n",
      "Requirement already satisfied: termcolor>=1.1.0 in c:\\users\\okayu\\appdata\\local\\programs\\python\\python39\\lib\\site-packages (from tensorflow-intel==2.17.0->tensorflow) (2.4.0)\n",
      "Requirement already satisfied: typing-extensions>=3.6.6 in c:\\users\\okayu\\appdata\\local\\programs\\python\\python39\\lib\\site-packages (from tensorflow-intel==2.17.0->tensorflow) (4.12.2)\n",
      "Requirement already satisfied: wrapt>=1.11.0 in c:\\users\\okayu\\appdata\\local\\programs\\python\\python39\\lib\\site-packages (from tensorflow-intel==2.17.0->tensorflow) (1.16.0)\n",
      "Requirement already satisfied: grpcio<2.0,>=1.24.3 in c:\\users\\okayu\\appdata\\local\\programs\\python\\python39\\lib\\site-packages (from tensorflow-intel==2.17.0->tensorflow) (1.66.2)\n",
      "Requirement already satisfied: tensorboard<2.18,>=2.17 in c:\\users\\okayu\\appdata\\local\\programs\\python\\python39\\lib\\site-packages (from tensorflow-intel==2.17.0->tensorflow) (2.17.1)\n",
      "Requirement already satisfied: keras>=3.2.0 in c:\\users\\okayu\\appdata\\local\\programs\\python\\python39\\lib\\site-packages (from tensorflow-intel==2.17.0->tensorflow) (3.5.0)\n",
      "Requirement already satisfied: tensorflow-io-gcs-filesystem>=0.23.1 in c:\\users\\okayu\\appdata\\local\\programs\\python\\python39\\lib\\site-packages (from tensorflow-intel==2.17.0->tensorflow) (0.31.0)\n",
      "Requirement already satisfied: numpy<2.0.0,>=1.23.5 in c:\\users\\okayu\\appdata\\local\\programs\\python\\python39\\lib\\site-packages (from tensorflow-intel==2.17.0->tensorflow) (1.24.4)\n",
      "Requirement already satisfied: wheel<1.0,>=0.23.0 in c:\\users\\okayu\\appdata\\local\\programs\\python\\python39\\lib\\site-packages (from astunparse>=1.6.0->tensorflow-intel==2.17.0->tensorflow) (0.44.0)\n",
      "Requirement already satisfied: rich in c:\\users\\okayu\\appdata\\local\\programs\\python\\python39\\lib\\site-packages (from keras>=3.2.0->tensorflow-intel==2.17.0->tensorflow) (13.9.1)\n",
      "Note: you may need to restart the kernel to use updated packages.Requirement already satisfied: namex in c:\\users\\okayu\\appdata\\local\\programs\\python\\python39\\lib\\site-packages (from keras>=3.2.0->tensorflow-intel==2.17.0->tensorflow) (0.0.8)\n",
      "\n"
     ]
    },
    {
     "name": "stderr",
     "output_type": "stream",
     "text": [
      "WARNING: Ignoring invalid distribution -yspark (c:\\users\\okayu\\appdata\\local\\programs\\python\\python39\\lib\\site-packages)\n",
      "WARNING: Ignoring invalid distribution -yspark (c:\\users\\okayu\\appdata\\local\\programs\\python\\python39\\lib\\site-packages)\n",
      "WARNING: Ignoring invalid distribution -yspark (c:\\users\\okayu\\appdata\\local\\programs\\python\\python39\\lib\\site-packages)\n"
     ]
    },
    {
     "name": "stdout",
     "output_type": "stream",
     "text": [
      "Requirement already satisfied: optree in c:\\users\\okayu\\appdata\\local\\programs\\python\\python39\\lib\\site-packages (from keras>=3.2.0->tensorflow-intel==2.17.0->tensorflow) (0.13.0)\n",
      "Requirement already satisfied: urllib3<1.27,>=1.21.1 in c:\\users\\okayu\\appdata\\local\\programs\\python\\python39\\lib\\site-packages (from requests<3,>=2.21.0->tensorflow-intel==2.17.0->tensorflow) (1.26.7)\n",
      "Requirement already satisfied: certifi>=2017.4.17 in c:\\users\\okayu\\appdata\\local\\programs\\python\\python39\\lib\\site-packages (from requests<3,>=2.21.0->tensorflow-intel==2.17.0->tensorflow) (2021.10.8)\n",
      "Requirement already satisfied: charset-normalizer~=2.0.0 in c:\\users\\okayu\\appdata\\local\\programs\\python\\python39\\lib\\site-packages (from requests<3,>=2.21.0->tensorflow-intel==2.17.0->tensorflow) (2.0.9)\n",
      "Requirement already satisfied: idna<4,>=2.5 in c:\\users\\okayu\\appdata\\local\\programs\\python\\python39\\lib\\site-packages (from requests<3,>=2.21.0->tensorflow-intel==2.17.0->tensorflow) (3.3)\n",
      "Requirement already satisfied: markdown>=2.6.8 in c:\\users\\okayu\\appdata\\local\\programs\\python\\python39\\lib\\site-packages (from tensorboard<2.18,>=2.17->tensorflow-intel==2.17.0->tensorflow) (3.7)\n",
      "Requirement already satisfied: tensorboard-data-server<0.8.0,>=0.7.0 in c:\\users\\okayu\\appdata\\local\\programs\\python\\python39\\lib\\site-packages (from tensorboard<2.18,>=2.17->tensorflow-intel==2.17.0->tensorflow) (0.7.2)\n",
      "Requirement already satisfied: werkzeug>=1.0.1 in c:\\users\\okayu\\appdata\\local\\programs\\python\\python39\\lib\\site-packages (from tensorboard<2.18,>=2.17->tensorflow-intel==2.17.0->tensorflow) (2.1.2)\n",
      "Requirement already satisfied: pyparsing!=3.0.5,>=2.0.2 in c:\\users\\okayu\\appdata\\local\\programs\\python\\python39\\lib\\site-packages (from packaging->tensorflow-intel==2.17.0->tensorflow) (3.0.6)\n",
      "Requirement already satisfied: importlib-metadata>=4.4 in c:\\users\\okayu\\appdata\\local\\programs\\python\\python39\\lib\\site-packages (from markdown>=2.6.8->tensorboard<2.18,>=2.17->tensorflow-intel==2.17.0->tensorflow) (4.12.0)\n",
      "Requirement already satisfied: markdown-it-py>=2.2.0 in c:\\users\\okayu\\appdata\\local\\programs\\python\\python39\\lib\\site-packages (from rich->keras>=3.2.0->tensorflow-intel==2.17.0->tensorflow) (3.0.0)\n",
      "Requirement already satisfied: pygments<3.0.0,>=2.13.0 in c:\\users\\okayu\\appdata\\local\\programs\\python\\python39\\lib\\site-packages (from rich->keras>=3.2.0->tensorflow-intel==2.17.0->tensorflow) (2.18.0)\n",
      "Requirement already satisfied: zipp>=0.5 in c:\\users\\okayu\\appdata\\local\\programs\\python\\python39\\lib\\site-packages (from importlib-metadata>=4.4->markdown>=2.6.8->tensorboard<2.18,>=2.17->tensorflow-intel==2.17.0->tensorflow) (3.8.1)\n",
      "Requirement already satisfied: mdurl~=0.1 in c:\\users\\okayu\\appdata\\local\\programs\\python\\python39\\lib\\site-packages (from markdown-it-py>=2.2.0->rich->keras>=3.2.0->tensorflow-intel==2.17.0->tensorflow) (0.1.2)\n"
     ]
    }
   ],
   "source": [
    "pip install tensorflow"
   ]
  },
  {
   "cell_type": "code",
   "execution_count": 111,
   "id": "62c25c48",
   "metadata": {},
   "outputs": [],
   "source": [
    "import pandas as pd\n",
    "import numpy as np\n",
    "import missingno\n",
    "import matplotlib.pyplot as plt\n",
    "import seaborn as sns\n",
    "%matplotlib inline\n",
    "from warnings import filterwarnings\n",
    "filterwarnings('ignore')\n",
    "import scipy.stats as stats\n",
    "from sklearn.preprocessing import StandardScaler\n",
    "from sklearn.model_selection import train_test_split\n",
    "from sklearn.linear_model import LogisticRegression\n",
    "from sklearn.ensemble import RandomForestClassifier \n",
    "from sklearn.metrics import make_scorer, mean_squared_error, r2_score\n",
    "from sklearn.metrics import mean_absolute_error\n",
    "from sklearn.metrics import accuracy_score, confusion_matrix, classification_report\n",
    "import tensorflow as tf\n",
    "from tensorflow import keras\n",
    "from tensorflow.keras.models import Sequential\n",
    "from tensorflow.keras.layers import Dense"
   ]
  },
  {
   "cell_type": "code",
   "execution_count": 112,
   "id": "6e8d0fc2",
   "metadata": {},
   "outputs": [],
   "source": [
    "df = pd.read_csv(\"train.csv\")"
   ]
  },
  {
   "cell_type": "code",
   "execution_count": 113,
   "id": "30f2e60a",
   "metadata": {},
   "outputs": [],
   "source": [
    "df_test = pd.read_csv(\"test.csv\")"
   ]
  },
  {
   "cell_type": "code",
   "execution_count": 114,
   "id": "0fa77724",
   "metadata": {},
   "outputs": [
    {
     "data": {
      "text/plain": [
       "((600000, 15), (400000, 14))"
      ]
     },
     "execution_count": 114,
     "metadata": {},
     "output_type": "execute_result"
    }
   ],
   "source": [
    "df.shape, df_test.shape"
   ]
  },
  {
   "cell_type": "code",
   "execution_count": 115,
   "id": "a3401634",
   "metadata": {},
   "outputs": [
    {
     "data": {
      "text/html": [
       "<div>\n",
       "<style scoped>\n",
       "    .dataframe tbody tr th:only-of-type {\n",
       "        vertical-align: middle;\n",
       "    }\n",
       "\n",
       "    .dataframe tbody tr th {\n",
       "        vertical-align: top;\n",
       "    }\n",
       "\n",
       "    .dataframe thead th {\n",
       "        text-align: right;\n",
       "    }\n",
       "</style>\n",
       "<table border=\"1\" class=\"dataframe\">\n",
       "  <thead>\n",
       "    <tr style=\"text-align: right;\">\n",
       "      <th></th>\n",
       "      <th>ID</th>\n",
       "      <th>age</th>\n",
       "      <th>sex</th>\n",
       "      <th>chest</th>\n",
       "      <th>resting_blood_pressure</th>\n",
       "      <th>serum_cholestoral</th>\n",
       "      <th>fasting_blood_sugar</th>\n",
       "      <th>resting_electrocardiographic_results</th>\n",
       "      <th>maximum_heart_rate_achieved</th>\n",
       "      <th>exercise_induced_angina</th>\n",
       "      <th>oldpeak</th>\n",
       "      <th>slope</th>\n",
       "      <th>number_of_major_vessels</th>\n",
       "      <th>thal</th>\n",
       "      <th>class</th>\n",
       "    </tr>\n",
       "  </thead>\n",
       "  <tbody>\n",
       "    <tr>\n",
       "      <th>0</th>\n",
       "      <td>0</td>\n",
       "      <td>49.207124</td>\n",
       "      <td>0</td>\n",
       "      <td>4.000000</td>\n",
       "      <td>162.996167</td>\n",
       "      <td>181.108682</td>\n",
       "      <td>0</td>\n",
       "      <td>0</td>\n",
       "      <td>148.227858</td>\n",
       "      <td>1</td>\n",
       "      <td>0.944547</td>\n",
       "      <td>2</td>\n",
       "      <td>0</td>\n",
       "      <td>3</td>\n",
       "      <td>1</td>\n",
       "    </tr>\n",
       "    <tr>\n",
       "      <th>1</th>\n",
       "      <td>1</td>\n",
       "      <td>53.628425</td>\n",
       "      <td>1</td>\n",
       "      <td>1.741596</td>\n",
       "      <td>130.233730</td>\n",
       "      <td>276.474630</td>\n",
       "      <td>0</td>\n",
       "      <td>2</td>\n",
       "      <td>152.917139</td>\n",
       "      <td>0</td>\n",
       "      <td>0.119070</td>\n",
       "      <td>2</td>\n",
       "      <td>0</td>\n",
       "      <td>3</td>\n",
       "      <td>0</td>\n",
       "    </tr>\n",
       "    <tr>\n",
       "      <th>2</th>\n",
       "      <td>2</td>\n",
       "      <td>49.591426</td>\n",
       "      <td>1</td>\n",
       "      <td>4.000000</td>\n",
       "      <td>146.999012</td>\n",
       "      <td>223.300517</td>\n",
       "      <td>1</td>\n",
       "      <td>2</td>\n",
       "      <td>102.352090</td>\n",
       "      <td>1</td>\n",
       "      <td>1.616747</td>\n",
       "      <td>2</td>\n",
       "      <td>2</td>\n",
       "      <td>7</td>\n",
       "      <td>1</td>\n",
       "    </tr>\n",
       "    <tr>\n",
       "      <th>3</th>\n",
       "      <td>3</td>\n",
       "      <td>58.991445</td>\n",
       "      <td>1</td>\n",
       "      <td>4.000000</td>\n",
       "      <td>112.369143</td>\n",
       "      <td>187.245501</td>\n",
       "      <td>0</td>\n",
       "      <td>0</td>\n",
       "      <td>158.164750</td>\n",
       "      <td>1</td>\n",
       "      <td>0.000000</td>\n",
       "      <td>1</td>\n",
       "      <td>1</td>\n",
       "      <td>7</td>\n",
       "      <td>1</td>\n",
       "    </tr>\n",
       "    <tr>\n",
       "      <th>4</th>\n",
       "      <td>4</td>\n",
       "      <td>51.053602</td>\n",
       "      <td>1</td>\n",
       "      <td>1.954609</td>\n",
       "      <td>138.032047</td>\n",
       "      <td>238.482868</td>\n",
       "      <td>0</td>\n",
       "      <td>0</td>\n",
       "      <td>172.540828</td>\n",
       "      <td>0</td>\n",
       "      <td>1.150464</td>\n",
       "      <td>1</td>\n",
       "      <td>1</td>\n",
       "      <td>3</td>\n",
       "      <td>0</td>\n",
       "    </tr>\n",
       "  </tbody>\n",
       "</table>\n",
       "</div>"
      ],
      "text/plain": [
       "   ID        age  sex     chest  resting_blood_pressure  serum_cholestoral  \\\n",
       "0   0  49.207124    0  4.000000              162.996167         181.108682   \n",
       "1   1  53.628425    1  1.741596              130.233730         276.474630   \n",
       "2   2  49.591426    1  4.000000              146.999012         223.300517   \n",
       "3   3  58.991445    1  4.000000              112.369143         187.245501   \n",
       "4   4  51.053602    1  1.954609              138.032047         238.482868   \n",
       "\n",
       "   fasting_blood_sugar  resting_electrocardiographic_results  \\\n",
       "0                    0                                     0   \n",
       "1                    0                                     2   \n",
       "2                    1                                     2   \n",
       "3                    0                                     0   \n",
       "4                    0                                     0   \n",
       "\n",
       "   maximum_heart_rate_achieved  exercise_induced_angina   oldpeak  slope  \\\n",
       "0                   148.227858                        1  0.944547      2   \n",
       "1                   152.917139                        0  0.119070      2   \n",
       "2                   102.352090                        1  1.616747      2   \n",
       "3                   158.164750                        1  0.000000      1   \n",
       "4                   172.540828                        0  1.150464      1   \n",
       "\n",
       "   number_of_major_vessels  thal  class  \n",
       "0                        0     3      1  \n",
       "1                        0     3      0  \n",
       "2                        2     7      1  \n",
       "3                        1     7      1  \n",
       "4                        1     3      0  "
      ]
     },
     "execution_count": 115,
     "metadata": {},
     "output_type": "execute_result"
    }
   ],
   "source": [
    "df.head()"
   ]
  },
  {
   "cell_type": "code",
   "execution_count": 116,
   "id": "68ad44eb",
   "metadata": {},
   "outputs": [
    {
     "data": {
      "text/html": [
       "<div>\n",
       "<style scoped>\n",
       "    .dataframe tbody tr th:only-of-type {\n",
       "        vertical-align: middle;\n",
       "    }\n",
       "\n",
       "    .dataframe tbody tr th {\n",
       "        vertical-align: top;\n",
       "    }\n",
       "\n",
       "    .dataframe thead th {\n",
       "        text-align: right;\n",
       "    }\n",
       "</style>\n",
       "<table border=\"1\" class=\"dataframe\">\n",
       "  <thead>\n",
       "    <tr style=\"text-align: right;\">\n",
       "      <th></th>\n",
       "      <th>ID</th>\n",
       "      <th>age</th>\n",
       "      <th>sex</th>\n",
       "      <th>chest</th>\n",
       "      <th>resting_blood_pressure</th>\n",
       "      <th>serum_cholestoral</th>\n",
       "      <th>fasting_blood_sugar</th>\n",
       "      <th>resting_electrocardiographic_results</th>\n",
       "      <th>maximum_heart_rate_achieved</th>\n",
       "      <th>exercise_induced_angina</th>\n",
       "      <th>oldpeak</th>\n",
       "      <th>slope</th>\n",
       "      <th>number_of_major_vessels</th>\n",
       "      <th>thal</th>\n",
       "    </tr>\n",
       "  </thead>\n",
       "  <tbody>\n",
       "    <tr>\n",
       "      <th>0</th>\n",
       "      <td>600000</td>\n",
       "      <td>53.963191</td>\n",
       "      <td>1</td>\n",
       "      <td>4.000000</td>\n",
       "      <td>136.940829</td>\n",
       "      <td>236.862814</td>\n",
       "      <td>0</td>\n",
       "      <td>2</td>\n",
       "      <td>143.961525</td>\n",
       "      <td>1</td>\n",
       "      <td>0.711100</td>\n",
       "      <td>1</td>\n",
       "      <td>2</td>\n",
       "      <td>7</td>\n",
       "    </tr>\n",
       "    <tr>\n",
       "      <th>1</th>\n",
       "      <td>600001</td>\n",
       "      <td>49.621479</td>\n",
       "      <td>1</td>\n",
       "      <td>4.000000</td>\n",
       "      <td>122.024651</td>\n",
       "      <td>226.593019</td>\n",
       "      <td>0</td>\n",
       "      <td>2</td>\n",
       "      <td>112.220874</td>\n",
       "      <td>1</td>\n",
       "      <td>0.000000</td>\n",
       "      <td>1</td>\n",
       "      <td>1</td>\n",
       "      <td>7</td>\n",
       "    </tr>\n",
       "    <tr>\n",
       "      <th>2</th>\n",
       "      <td>600002</td>\n",
       "      <td>36.933893</td>\n",
       "      <td>1</td>\n",
       "      <td>1.300924</td>\n",
       "      <td>127.585643</td>\n",
       "      <td>351.061046</td>\n",
       "      <td>0</td>\n",
       "      <td>0</td>\n",
       "      <td>177.945922</td>\n",
       "      <td>0</td>\n",
       "      <td>0.313078</td>\n",
       "      <td>1</td>\n",
       "      <td>0</td>\n",
       "      <td>7</td>\n",
       "    </tr>\n",
       "    <tr>\n",
       "      <th>3</th>\n",
       "      <td>600003</td>\n",
       "      <td>54.884588</td>\n",
       "      <td>1</td>\n",
       "      <td>3.000000</td>\n",
       "      <td>124.876745</td>\n",
       "      <td>250.370530</td>\n",
       "      <td>0</td>\n",
       "      <td>0</td>\n",
       "      <td>153.176526</td>\n",
       "      <td>0</td>\n",
       "      <td>0.308277</td>\n",
       "      <td>1</td>\n",
       "      <td>1</td>\n",
       "      <td>7</td>\n",
       "    </tr>\n",
       "    <tr>\n",
       "      <th>4</th>\n",
       "      <td>600004</td>\n",
       "      <td>71.016392</td>\n",
       "      <td>0</td>\n",
       "      <td>1.746972</td>\n",
       "      <td>120.922600</td>\n",
       "      <td>210.979710</td>\n",
       "      <td>0</td>\n",
       "      <td>0</td>\n",
       "      <td>164.573122</td>\n",
       "      <td>0</td>\n",
       "      <td>1.021370</td>\n",
       "      <td>1</td>\n",
       "      <td>1</td>\n",
       "      <td>3</td>\n",
       "    </tr>\n",
       "  </tbody>\n",
       "</table>\n",
       "</div>"
      ],
      "text/plain": [
       "       ID        age  sex     chest  resting_blood_pressure  \\\n",
       "0  600000  53.963191    1  4.000000              136.940829   \n",
       "1  600001  49.621479    1  4.000000              122.024651   \n",
       "2  600002  36.933893    1  1.300924              127.585643   \n",
       "3  600003  54.884588    1  3.000000              124.876745   \n",
       "4  600004  71.016392    0  1.746972              120.922600   \n",
       "\n",
       "   serum_cholestoral  fasting_blood_sugar  \\\n",
       "0         236.862814                    0   \n",
       "1         226.593019                    0   \n",
       "2         351.061046                    0   \n",
       "3         250.370530                    0   \n",
       "4         210.979710                    0   \n",
       "\n",
       "   resting_electrocardiographic_results  maximum_heart_rate_achieved  \\\n",
       "0                                     2                   143.961525   \n",
       "1                                     2                   112.220874   \n",
       "2                                     0                   177.945922   \n",
       "3                                     0                   153.176526   \n",
       "4                                     0                   164.573122   \n",
       "\n",
       "   exercise_induced_angina   oldpeak  slope  number_of_major_vessels  thal  \n",
       "0                        1  0.711100      1                        2     7  \n",
       "1                        1  0.000000      1                        1     7  \n",
       "2                        0  0.313078      1                        0     7  \n",
       "3                        0  0.308277      1                        1     7  \n",
       "4                        0  1.021370      1                        1     3  "
      ]
     },
     "execution_count": 116,
     "metadata": {},
     "output_type": "execute_result"
    }
   ],
   "source": [
    "df_test.head()"
   ]
  },
  {
   "cell_type": "markdown",
   "id": "fec1bd14",
   "metadata": {},
   "source": [
    "Датасет содержит 600 000 записей в обучающем наборе и 400 000 в тестовом. Обучающий набор содержит целевую переменную наличия или отсутствия ССЗ. Каждая запись содержит id пациента и 13 признаков:\n",
    "\n",
    "    Age (возраст);\n",
    "    Sex (пол);\n",
    "    Chest (боль в груди от 1 до 4);\n",
    "    Resting_blood_pressure (артериальное давление в состоянии покоя);\n",
    "    Serum_cholestoral (уровень холестерина в крови mg/dl);\n",
    "    Fasting_blood_sugar (анализ глюкозы в крови натощак (> 120 mg/dl));\n",
    "    Resting_electrocardiographic_results (результаты электрокардиографических исследований в покое 0, 1, 2);\n",
    "    Maximum_heart_rate_achieved (максимальная частота сердечных сокращений);\n",
    "    Exercise_induced_angina (стенокардия при нагрузке),\n",
    "    Oldpeak (депрессия ST-сегмента);\n",
    "    Slope (наклон пикового сегмента ST при физической нагрузке);\n",
    "    Number_of_major_vessels (количество крупных сосудов (0-3), окрашенных с помощью флюороскопии);\n",
    "    Thal (3 = норма; 6 = фиксированный дефект; 7 = обратимый дефект);\n",
    "    class target (0 - отсутствие, 1 - наличие ССЗ)\n"
   ]
  },
  {
   "cell_type": "markdown",
   "id": "0ec89c50",
   "metadata": {},
   "source": [
    "## Анализ данных"
   ]
  },
  {
   "cell_type": "code",
   "execution_count": 117,
   "id": "eabf7b3e",
   "metadata": {},
   "outputs": [
    {
     "data": {
      "text/plain": [
       "<AxesSubplot:>"
      ]
     },
     "execution_count": 117,
     "metadata": {},
     "output_type": "execute_result"
    },
    {
     "data": {
      "image/png": "[encoded data removed]",
      "text/plain": [
       "<Figure size 1800x720 with 2 Axes>"
      ]
     },
     "metadata": {
      "needs_background": "light"
     },
     "output_type": "display_data"
    }
   ],
   "source": [
    "# Проверка пропущенных значений\n",
    "missingno.matrix(df)"
   ]
  },
  {
   "cell_type": "code",
   "execution_count": 118,
   "id": "9f236159",
   "metadata": {},
   "outputs": [
    {
     "data": {
      "text/plain": [
       "<AxesSubplot:>"
      ]
     },
     "execution_count": 118,
     "metadata": {},
     "output_type": "execute_result"
    },
    {
     "data": {
      "image/png": "[encoded data removed]",
      "text/plain": [
       "<Figure size 1800x720 with 2 Axes>"
      ]
     },
     "metadata": {
      "needs_background": "light"
     },
     "output_type": "display_data"
    }
   ],
   "source": [
    "# Проверка пропущенных значений\n",
    "missingno.matrix(df_test)"
   ]
  },
  {
   "cell_type": "code",
   "execution_count": 119,
   "id": "50c684f9",
   "metadata": {},
   "outputs": [
    {
     "data": {
      "text/plain": [
       "False"
      ]
     },
     "execution_count": 119,
     "metadata": {},
     "output_type": "execute_result"
    }
   ],
   "source": [
    "# Проверка на дупликаты\n",
    "df.duplicated().any()"
   ]
  },
  {
   "cell_type": "code",
   "execution_count": 120,
   "id": "b21f7f5a",
   "metadata": {},
   "outputs": [
    {
     "data": {
      "text/plain": [
       "False"
      ]
     },
     "execution_count": 120,
     "metadata": {},
     "output_type": "execute_result"
    }
   ],
   "source": [
    "# Проверка на дупликаты\n",
    "df_test.duplicated().any()"
   ]
  },
  {
   "cell_type": "code",
   "execution_count": 121,
   "id": "03bce25f",
   "metadata": {},
   "outputs": [
    {
     "data": {
      "text/plain": [
       "ID                                        int64\n",
       "age                                     float64\n",
       "sex                                       int64\n",
       "chest                                   float64\n",
       "resting_blood_pressure                  float64\n",
       "serum_cholestoral                       float64\n",
       "fasting_blood_sugar                       int64\n",
       "resting_electrocardiographic_results      int64\n",
       "maximum_heart_rate_achieved             float64\n",
       "exercise_induced_angina                   int64\n",
       "oldpeak                                 float64\n",
       "slope                                     int64\n",
       "number_of_major_vessels                   int64\n",
       "thal                                      int64\n",
       "class                                     int64\n",
       "dtype: object"
      ]
     },
     "execution_count": 121,
     "metadata": {},
     "output_type": "execute_result"
    }
   ],
   "source": [
    "df.dtypes"
   ]
  },
  {
   "cell_type": "code",
   "execution_count": 122,
   "id": "30bb1f87",
   "metadata": {},
   "outputs": [
    {
     "data": {
      "text/plain": [
       "ID                                        int64\n",
       "age                                     float64\n",
       "sex                                       int64\n",
       "chest                                   float64\n",
       "resting_blood_pressure                  float64\n",
       "serum_cholestoral                       float64\n",
       "fasting_blood_sugar                       int64\n",
       "resting_electrocardiographic_results      int64\n",
       "maximum_heart_rate_achieved             float64\n",
       "exercise_induced_angina                   int64\n",
       "oldpeak                                 float64\n",
       "slope                                     int64\n",
       "number_of_major_vessels                   int64\n",
       "thal                                      int64\n",
       "dtype: object"
      ]
     },
     "execution_count": 122,
     "metadata": {},
     "output_type": "execute_result"
    }
   ],
   "source": [
    "df_test.dtypes"
   ]
  },
  {
   "cell_type": "markdown",
   "id": "f46d7fbd",
   "metadata": {},
   "source": [
    "### В датасетах отсутствуют дупликаты и пропущенные значения. Несмотря на то, что тип данных числовой, смысл данных варьируется от числовых показателей до категориальных переменных. Необходимо переприсвоение типов данных в соответствии со смысловыми значениями и, как следствие, оценкой корреляции с целевой переменной."
   ]
  },
  {
   "cell_type": "code",
   "execution_count": 123,
   "id": "be679941",
   "metadata": {},
   "outputs": [],
   "source": [
    "# Копирование датасетов для предобработки\n",
    "df_pre = df.copy()\n",
    "df_test_pre = df_test.copy()"
   ]
  },
  {
   "cell_type": "code",
   "execution_count": 124,
   "id": "f67ad014",
   "metadata": {},
   "outputs": [],
   "source": [
    "# Копирование колонки ID в тестовом датасете для последующего сохранения в результирующий файл\n",
    "ID=df_test_pre['ID'].copy()\n",
    "df_test_pre1 = pd.concat([ID,df_test_pre],axis=1)\n"
   ]
  },
  {
   "cell_type": "code",
   "execution_count": 125,
   "id": "a4349074",
   "metadata": {},
   "outputs": [],
   "source": [
    "df_pre = df_pre.drop(['ID'],axis=1)\n",
    "df_test_pre = df_test_pre.drop(['ID'],axis=1)"
   ]
  },
  {
   "cell_type": "code",
   "execution_count": 126,
   "id": "331f5d66",
   "metadata": {},
   "outputs": [],
   "source": [
    "# Преобразование данных для предобработки\n",
    "df_pre['age']=df_pre['age'].astype(int)\n",
    "df_pre['chest']=df_pre['chest'].astype(int)\n",
    "\n",
    "df_test_pre['age']=df_test_pre['age'].astype(int)\n",
    "df_test_pre['chest']=df_test_pre['chest'].astype(int)"
   ]
  },
  {
   "cell_type": "code",
   "execution_count": 127,
   "id": "5c5acc9f",
   "metadata": {},
   "outputs": [],
   "source": [
    "df_pre['sex']=df_pre['sex'].astype(object)\n",
    "df_pre['chest']=df_pre['chest'].astype(object)\n",
    "df_pre['fasting_blood_sugar']=df_pre['fasting_blood_sugar'].astype(object)\n",
    "df_pre['resting_electrocardiographic_results']=df_pre['resting_electrocardiographic_results'].astype(object)\n",
    "df_pre['exercise_induced_angina']=df_pre['exercise_induced_angina'].astype(object)\n",
    "df_pre['slope']=df_pre['slope'].astype(object)\n",
    "df_pre['number_of_major_vessels']=df_pre['number_of_major_vessels'].astype(object)\n",
    "df_pre['thal']=df_pre['thal'].astype(object)\n",
    "\n",
    "df_test_pre['sex']=df_test_pre['sex'].astype(object)\n",
    "df_test_pre['chest']=df_test_pre['chest'].astype(object)\n",
    "df_test_pre['fasting_blood_sugar']=df_test_pre['fasting_blood_sugar'].astype(object)\n",
    "df_test_pre['resting_electrocardiographic_results']=df_test_pre['resting_electrocardiographic_results'].astype(object)\n",
    "df_test_pre['exercise_induced_angina']=df_test_pre['exercise_induced_angina'].astype(object)\n",
    "df_test_pre['slope']=df_test_pre['slope'].astype(object)\n",
    "df_test_pre['number_of_major_vessels']=df_test_pre['number_of_major_vessels'].astype(object)\n",
    "df_test_pre['thal']=df_test_pre['thal'].astype(object)"
   ]
  },
  {
   "cell_type": "code",
   "execution_count": 128,
   "id": "959146dd",
   "metadata": {},
   "outputs": [
    {
     "name": "stdout",
     "output_type": "stream",
     "text": [
      "<class 'pandas.core.frame.DataFrame'>\n",
      "RangeIndex: 600000 entries, 0 to 599999\n",
      "Data columns (total 14 columns):\n",
      " #   Column                                Non-Null Count   Dtype  \n",
      "---  ------                                --------------   -----  \n",
      " 0   age                                   600000 non-null  int32  \n",
      " 1   sex                                   600000 non-null  object \n",
      " 2   chest                                 600000 non-null  object \n",
      " 3   resting_blood_pressure                600000 non-null  float64\n",
      " 4   serum_cholestoral                     600000 non-null  float64\n",
      " 5   fasting_blood_sugar                   600000 non-null  object \n",
      " 6   resting_electrocardiographic_results  600000 non-null  object \n",
      " 7   maximum_heart_rate_achieved           600000 non-null  float64\n",
      " 8   exercise_induced_angina               600000 non-null  object \n",
      " 9   oldpeak                               600000 non-null  float64\n",
      " 10  slope                                 600000 non-null  object \n",
      " 11  number_of_major_vessels               600000 non-null  object \n",
      " 12  thal                                  600000 non-null  object \n",
      " 13  class                                 600000 non-null  int64  \n",
      "dtypes: float64(4), int32(1), int64(1), object(8)\n",
      "memory usage: 61.8+ MB\n"
     ]
    }
   ],
   "source": [
    "df_pre.info()"
   ]
  },
  {
   "cell_type": "code",
   "execution_count": 129,
   "id": "eaa80040",
   "metadata": {},
   "outputs": [
    {
     "data": {
      "text/html": [
       "<div>\n",
       "<style scoped>\n",
       "    .dataframe tbody tr th:only-of-type {\n",
       "        vertical-align: middle;\n",
       "    }\n",
       "\n",
       "    .dataframe tbody tr th {\n",
       "        vertical-align: top;\n",
       "    }\n",
       "\n",
       "    .dataframe thead th {\n",
       "        text-align: right;\n",
       "    }\n",
       "</style>\n",
       "<table border=\"1\" class=\"dataframe\">\n",
       "  <thead>\n",
       "    <tr style=\"text-align: right;\">\n",
       "      <th></th>\n",
       "      <th>age</th>\n",
       "      <th>sex</th>\n",
       "      <th>chest</th>\n",
       "      <th>resting_blood_pressure</th>\n",
       "      <th>serum_cholestoral</th>\n",
       "      <th>fasting_blood_sugar</th>\n",
       "      <th>resting_electrocardiographic_results</th>\n",
       "      <th>maximum_heart_rate_achieved</th>\n",
       "      <th>exercise_induced_angina</th>\n",
       "      <th>oldpeak</th>\n",
       "      <th>slope</th>\n",
       "      <th>number_of_major_vessels</th>\n",
       "      <th>thal</th>\n",
       "      <th>class</th>\n",
       "    </tr>\n",
       "  </thead>\n",
       "  <tbody>\n",
       "    <tr>\n",
       "      <th>0</th>\n",
       "      <td>49</td>\n",
       "      <td>0</td>\n",
       "      <td>4</td>\n",
       "      <td>162.996167</td>\n",
       "      <td>181.108682</td>\n",
       "      <td>0</td>\n",
       "      <td>0</td>\n",
       "      <td>148.227858</td>\n",
       "      <td>1</td>\n",
       "      <td>0.944547</td>\n",
       "      <td>2</td>\n",
       "      <td>0</td>\n",
       "      <td>3</td>\n",
       "      <td>1</td>\n",
       "    </tr>\n",
       "    <tr>\n",
       "      <th>1</th>\n",
       "      <td>53</td>\n",
       "      <td>1</td>\n",
       "      <td>1</td>\n",
       "      <td>130.233730</td>\n",
       "      <td>276.474630</td>\n",
       "      <td>0</td>\n",
       "      <td>2</td>\n",
       "      <td>152.917139</td>\n",
       "      <td>0</td>\n",
       "      <td>0.119070</td>\n",
       "      <td>2</td>\n",
       "      <td>0</td>\n",
       "      <td>3</td>\n",
       "      <td>0</td>\n",
       "    </tr>\n",
       "    <tr>\n",
       "      <th>2</th>\n",
       "      <td>49</td>\n",
       "      <td>1</td>\n",
       "      <td>4</td>\n",
       "      <td>146.999012</td>\n",
       "      <td>223.300517</td>\n",
       "      <td>1</td>\n",
       "      <td>2</td>\n",
       "      <td>102.352090</td>\n",
       "      <td>1</td>\n",
       "      <td>1.616747</td>\n",
       "      <td>2</td>\n",
       "      <td>2</td>\n",
       "      <td>7</td>\n",
       "      <td>1</td>\n",
       "    </tr>\n",
       "    <tr>\n",
       "      <th>3</th>\n",
       "      <td>58</td>\n",
       "      <td>1</td>\n",
       "      <td>4</td>\n",
       "      <td>112.369143</td>\n",
       "      <td>187.245501</td>\n",
       "      <td>0</td>\n",
       "      <td>0</td>\n",
       "      <td>158.164750</td>\n",
       "      <td>1</td>\n",
       "      <td>0.000000</td>\n",
       "      <td>1</td>\n",
       "      <td>1</td>\n",
       "      <td>7</td>\n",
       "      <td>1</td>\n",
       "    </tr>\n",
       "    <tr>\n",
       "      <th>4</th>\n",
       "      <td>51</td>\n",
       "      <td>1</td>\n",
       "      <td>1</td>\n",
       "      <td>138.032047</td>\n",
       "      <td>238.482868</td>\n",
       "      <td>0</td>\n",
       "      <td>0</td>\n",
       "      <td>172.540828</td>\n",
       "      <td>0</td>\n",
       "      <td>1.150464</td>\n",
       "      <td>1</td>\n",
       "      <td>1</td>\n",
       "      <td>3</td>\n",
       "      <td>0</td>\n",
       "    </tr>\n",
       "  </tbody>\n",
       "</table>\n",
       "</div>"
      ],
      "text/plain": [
       "   age sex chest  resting_blood_pressure  serum_cholestoral  \\\n",
       "0   49   0     4              162.996167         181.108682   \n",
       "1   53   1     1              130.233730         276.474630   \n",
       "2   49   1     4              146.999012         223.300517   \n",
       "3   58   1     4              112.369143         187.245501   \n",
       "4   51   1     1              138.032047         238.482868   \n",
       "\n",
       "  fasting_blood_sugar resting_electrocardiographic_results  \\\n",
       "0                   0                                    0   \n",
       "1                   0                                    2   \n",
       "2                   1                                    2   \n",
       "3                   0                                    0   \n",
       "4                   0                                    0   \n",
       "\n",
       "   maximum_heart_rate_achieved exercise_induced_angina   oldpeak slope  \\\n",
       "0                   148.227858                       1  0.944547     2   \n",
       "1                   152.917139                       0  0.119070     2   \n",
       "2                   102.352090                       1  1.616747     2   \n",
       "3                   158.164750                       1  0.000000     1   \n",
       "4                   172.540828                       0  1.150464     1   \n",
       "\n",
       "  number_of_major_vessels thal  class  \n",
       "0                       0    3      1  \n",
       "1                       0    3      0  \n",
       "2                       2    7      1  \n",
       "3                       1    7      1  \n",
       "4                       1    3      0  "
      ]
     },
     "execution_count": 129,
     "metadata": {},
     "output_type": "execute_result"
    }
   ],
   "source": [
    "df_pre.head()"
   ]
  },
  {
   "cell_type": "code",
   "execution_count": 130,
   "id": "44b35c80",
   "metadata": {},
   "outputs": [
    {
     "name": "stdout",
     "output_type": "stream",
     "text": [
      "<class 'pandas.core.frame.DataFrame'>\n",
      "RangeIndex: 400000 entries, 0 to 399999\n",
      "Data columns (total 13 columns):\n",
      " #   Column                                Non-Null Count   Dtype  \n",
      "---  ------                                --------------   -----  \n",
      " 0   age                                   400000 non-null  int32  \n",
      " 1   sex                                   400000 non-null  object \n",
      " 2   chest                                 400000 non-null  object \n",
      " 3   resting_blood_pressure                400000 non-null  float64\n",
      " 4   serum_cholestoral                     400000 non-null  float64\n",
      " 5   fasting_blood_sugar                   400000 non-null  object \n",
      " 6   resting_electrocardiographic_results  400000 non-null  object \n",
      " 7   maximum_heart_rate_achieved           400000 non-null  float64\n",
      " 8   exercise_induced_angina               400000 non-null  object \n",
      " 9   oldpeak                               400000 non-null  float64\n",
      " 10  slope                                 400000 non-null  object \n",
      " 11  number_of_major_vessels               400000 non-null  object \n",
      " 12  thal                                  400000 non-null  object \n",
      "dtypes: float64(4), int32(1), object(8)\n",
      "memory usage: 38.1+ MB\n"
     ]
    }
   ],
   "source": [
    "df_test_pre.info()"
   ]
  },
  {
   "cell_type": "code",
   "execution_count": 131,
   "id": "53a3539d",
   "metadata": {},
   "outputs": [
    {
     "data": {
      "text/html": [
       "<div>\n",
       "<style scoped>\n",
       "    .dataframe tbody tr th:only-of-type {\n",
       "        vertical-align: middle;\n",
       "    }\n",
       "\n",
       "    .dataframe tbody tr th {\n",
       "        vertical-align: top;\n",
       "    }\n",
       "\n",
       "    .dataframe thead th {\n",
       "        text-align: right;\n",
       "    }\n",
       "</style>\n",
       "<table border=\"1\" class=\"dataframe\">\n",
       "  <thead>\n",
       "    <tr style=\"text-align: right;\">\n",
       "      <th></th>\n",
       "      <th>age</th>\n",
       "      <th>sex</th>\n",
       "      <th>chest</th>\n",
       "      <th>resting_blood_pressure</th>\n",
       "      <th>serum_cholestoral</th>\n",
       "      <th>fasting_blood_sugar</th>\n",
       "      <th>resting_electrocardiographic_results</th>\n",
       "      <th>maximum_heart_rate_achieved</th>\n",
       "      <th>exercise_induced_angina</th>\n",
       "      <th>oldpeak</th>\n",
       "      <th>slope</th>\n",
       "      <th>number_of_major_vessels</th>\n",
       "      <th>thal</th>\n",
       "    </tr>\n",
       "  </thead>\n",
       "  <tbody>\n",
       "    <tr>\n",
       "      <th>0</th>\n",
       "      <td>53</td>\n",
       "      <td>1</td>\n",
       "      <td>4</td>\n",
       "      <td>136.940829</td>\n",
       "      <td>236.862814</td>\n",
       "      <td>0</td>\n",
       "      <td>2</td>\n",
       "      <td>143.961525</td>\n",
       "      <td>1</td>\n",
       "      <td>0.711100</td>\n",
       "      <td>1</td>\n",
       "      <td>2</td>\n",
       "      <td>7</td>\n",
       "    </tr>\n",
       "    <tr>\n",
       "      <th>1</th>\n",
       "      <td>49</td>\n",
       "      <td>1</td>\n",
       "      <td>4</td>\n",
       "      <td>122.024651</td>\n",
       "      <td>226.593019</td>\n",
       "      <td>0</td>\n",
       "      <td>2</td>\n",
       "      <td>112.220874</td>\n",
       "      <td>1</td>\n",
       "      <td>0.000000</td>\n",
       "      <td>1</td>\n",
       "      <td>1</td>\n",
       "      <td>7</td>\n",
       "    </tr>\n",
       "    <tr>\n",
       "      <th>2</th>\n",
       "      <td>36</td>\n",
       "      <td>1</td>\n",
       "      <td>1</td>\n",
       "      <td>127.585643</td>\n",
       "      <td>351.061046</td>\n",
       "      <td>0</td>\n",
       "      <td>0</td>\n",
       "      <td>177.945922</td>\n",
       "      <td>0</td>\n",
       "      <td>0.313078</td>\n",
       "      <td>1</td>\n",
       "      <td>0</td>\n",
       "      <td>7</td>\n",
       "    </tr>\n",
       "    <tr>\n",
       "      <th>3</th>\n",
       "      <td>54</td>\n",
       "      <td>1</td>\n",
       "      <td>3</td>\n",
       "      <td>124.876745</td>\n",
       "      <td>250.370530</td>\n",
       "      <td>0</td>\n",
       "      <td>0</td>\n",
       "      <td>153.176526</td>\n",
       "      <td>0</td>\n",
       "      <td>0.308277</td>\n",
       "      <td>1</td>\n",
       "      <td>1</td>\n",
       "      <td>7</td>\n",
       "    </tr>\n",
       "    <tr>\n",
       "      <th>4</th>\n",
       "      <td>71</td>\n",
       "      <td>0</td>\n",
       "      <td>1</td>\n",
       "      <td>120.922600</td>\n",
       "      <td>210.979710</td>\n",
       "      <td>0</td>\n",
       "      <td>0</td>\n",
       "      <td>164.573122</td>\n",
       "      <td>0</td>\n",
       "      <td>1.021370</td>\n",
       "      <td>1</td>\n",
       "      <td>1</td>\n",
       "      <td>3</td>\n",
       "    </tr>\n",
       "  </tbody>\n",
       "</table>\n",
       "</div>"
      ],
      "text/plain": [
       "   age sex chest  resting_blood_pressure  serum_cholestoral  \\\n",
       "0   53   1     4              136.940829         236.862814   \n",
       "1   49   1     4              122.024651         226.593019   \n",
       "2   36   1     1              127.585643         351.061046   \n",
       "3   54   1     3              124.876745         250.370530   \n",
       "4   71   0     1              120.922600         210.979710   \n",
       "\n",
       "  fasting_blood_sugar resting_electrocardiographic_results  \\\n",
       "0                   0                                    2   \n",
       "1                   0                                    2   \n",
       "2                   0                                    0   \n",
       "3                   0                                    0   \n",
       "4                   0                                    0   \n",
       "\n",
       "   maximum_heart_rate_achieved exercise_induced_angina   oldpeak slope  \\\n",
       "0                   143.961525                       1  0.711100     1   \n",
       "1                   112.220874                       1  0.000000     1   \n",
       "2                   177.945922                       0  0.313078     1   \n",
       "3                   153.176526                       0  0.308277     1   \n",
       "4                   164.573122                       0  1.021370     1   \n",
       "\n",
       "  number_of_major_vessels thal  \n",
       "0                       2    7  \n",
       "1                       1    7  \n",
       "2                       0    7  \n",
       "3                       1    7  \n",
       "4                       1    3  "
      ]
     },
     "execution_count": 131,
     "metadata": {},
     "output_type": "execute_result"
    }
   ],
   "source": [
    "df_test_pre.head()"
   ]
  },
  {
   "cell_type": "markdown",
   "id": "6b1285c7",
   "metadata": {},
   "source": [
    "## Предобработка данных"
   ]
  },
  {
   "cell_type": "code",
   "execution_count": 132,
   "id": "092f0a40",
   "metadata": {},
   "outputs": [],
   "source": [
    "# Разделение данных на категориальные и числовые\n",
    "num_data = df_pre.select_dtypes(include=np.number)\n",
    "cat_data = df_pre.select_dtypes(exclude=np.number)\n",
    "\n",
    "num_data_test = df_test_pre.select_dtypes(include=np.number)\n",
    "cat_data_test = df_test_pre.select_dtypes(exclude=np.number)"
   ]
  },
  {
   "cell_type": "code",
   "execution_count": 133,
   "id": "2b9c8fd9",
   "metadata": {},
   "outputs": [
    {
     "data": {
      "text/plain": [
       "Index(['age', 'resting_blood_pressure', 'serum_cholestoral',\n",
       "       'maximum_heart_rate_achieved', 'oldpeak', 'class'],\n",
       "      dtype='object')"
      ]
     },
     "execution_count": 133,
     "metadata": {},
     "output_type": "execute_result"
    }
   ],
   "source": [
    "num_data.columns"
   ]
  },
  {
   "cell_type": "code",
   "execution_count": 134,
   "id": "7122f573",
   "metadata": {},
   "outputs": [
    {
     "data": {
      "text/plain": [
       "Index(['sex', 'chest', 'fasting_blood_sugar',\n",
       "       'resting_electrocardiographic_results', 'exercise_induced_angina',\n",
       "       'slope', 'number_of_major_vessels', 'thal'],\n",
       "      dtype='object')"
      ]
     },
     "execution_count": 134,
     "metadata": {},
     "output_type": "execute_result"
    }
   ],
   "source": [
    "cat_data.columns"
   ]
  },
  {
   "cell_type": "code",
   "execution_count": 135,
   "id": "34c29b25",
   "metadata": {},
   "outputs": [
    {
     "data": {
      "text/html": [
       "<div>\n",
       "<style scoped>\n",
       "    .dataframe tbody tr th:only-of-type {\n",
       "        vertical-align: middle;\n",
       "    }\n",
       "\n",
       "    .dataframe tbody tr th {\n",
       "        vertical-align: top;\n",
       "    }\n",
       "\n",
       "    .dataframe thead th {\n",
       "        text-align: right;\n",
       "    }\n",
       "</style>\n",
       "<table border=\"1\" class=\"dataframe\">\n",
       "  <thead>\n",
       "    <tr style=\"text-align: right;\">\n",
       "      <th></th>\n",
       "      <th>age</th>\n",
       "      <th>resting_blood_pressure</th>\n",
       "      <th>serum_cholestoral</th>\n",
       "      <th>maximum_heart_rate_achieved</th>\n",
       "      <th>oldpeak</th>\n",
       "      <th>class</th>\n",
       "    </tr>\n",
       "  </thead>\n",
       "  <tbody>\n",
       "    <tr>\n",
       "      <th>count</th>\n",
       "      <td>600000.000000</td>\n",
       "      <td>600000.000000</td>\n",
       "      <td>600000.000000</td>\n",
       "      <td>600000.000000</td>\n",
       "      <td>600000.000000</td>\n",
       "      <td>600000.000000</td>\n",
       "    </tr>\n",
       "    <tr>\n",
       "      <th>mean</th>\n",
       "      <td>53.926715</td>\n",
       "      <td>131.340485</td>\n",
       "      <td>249.592420</td>\n",
       "      <td>149.592069</td>\n",
       "      <td>1.051391</td>\n",
       "      <td>0.444185</td>\n",
       "    </tr>\n",
       "    <tr>\n",
       "      <th>std</th>\n",
       "      <td>9.091247</td>\n",
       "      <td>17.842450</td>\n",
       "      <td>51.699976</td>\n",
       "      <td>23.072593</td>\n",
       "      <td>1.144288</td>\n",
       "      <td>0.496875</td>\n",
       "    </tr>\n",
       "    <tr>\n",
       "      <th>min</th>\n",
       "      <td>26.000000</td>\n",
       "      <td>82.918527</td>\n",
       "      <td>98.326263</td>\n",
       "      <td>61.844168</td>\n",
       "      <td>-0.806788</td>\n",
       "      <td>0.000000</td>\n",
       "    </tr>\n",
       "    <tr>\n",
       "      <th>25%</th>\n",
       "      <td>48.000000</td>\n",
       "      <td>119.924094</td>\n",
       "      <td>216.475964</td>\n",
       "      <td>135.704237</td>\n",
       "      <td>0.000000</td>\n",
       "      <td>0.000000</td>\n",
       "    </tr>\n",
       "    <tr>\n",
       "      <th>50%</th>\n",
       "      <td>55.000000</td>\n",
       "      <td>129.727941</td>\n",
       "      <td>244.233699</td>\n",
       "      <td>153.224828</td>\n",
       "      <td>0.811101</td>\n",
       "      <td>0.000000</td>\n",
       "    </tr>\n",
       "    <tr>\n",
       "      <th>75%</th>\n",
       "      <td>60.000000</td>\n",
       "      <td>139.915216</td>\n",
       "      <td>274.345453</td>\n",
       "      <td>165.165497</td>\n",
       "      <td>1.674081</td>\n",
       "      <td>1.000000</td>\n",
       "    </tr>\n",
       "    <tr>\n",
       "      <th>max</th>\n",
       "      <td>79.000000</td>\n",
       "      <td>209.673650</td>\n",
       "      <td>527.755764</td>\n",
       "      <td>208.735196</td>\n",
       "      <td>6.803372</td>\n",
       "      <td>1.000000</td>\n",
       "    </tr>\n",
       "  </tbody>\n",
       "</table>\n",
       "</div>"
      ],
      "text/plain": [
       "                 age  resting_blood_pressure  serum_cholestoral  \\\n",
       "count  600000.000000           600000.000000      600000.000000   \n",
       "mean       53.926715              131.340485         249.592420   \n",
       "std         9.091247               17.842450          51.699976   \n",
       "min        26.000000               82.918527          98.326263   \n",
       "25%        48.000000              119.924094         216.475964   \n",
       "50%        55.000000              129.727941         244.233699   \n",
       "75%        60.000000              139.915216         274.345453   \n",
       "max        79.000000              209.673650         527.755764   \n",
       "\n",
       "       maximum_heart_rate_achieved        oldpeak          class  \n",
       "count                600000.000000  600000.000000  600000.000000  \n",
       "mean                    149.592069       1.051391       0.444185  \n",
       "std                      23.072593       1.144288       0.496875  \n",
       "min                      61.844168      -0.806788       0.000000  \n",
       "25%                     135.704237       0.000000       0.000000  \n",
       "50%                     153.224828       0.811101       0.000000  \n",
       "75%                     165.165497       1.674081       1.000000  \n",
       "max                     208.735196       6.803372       1.000000  "
      ]
     },
     "execution_count": 135,
     "metadata": {},
     "output_type": "execute_result"
    }
   ],
   "source": [
    "num_data.describe(include='all')"
   ]
  },
  {
   "cell_type": "code",
   "execution_count": 136,
   "id": "45181512",
   "metadata": {},
   "outputs": [
    {
     "data": {
      "text/html": [
       "<div>\n",
       "<style scoped>\n",
       "    .dataframe tbody tr th:only-of-type {\n",
       "        vertical-align: middle;\n",
       "    }\n",
       "\n",
       "    .dataframe tbody tr th {\n",
       "        vertical-align: top;\n",
       "    }\n",
       "\n",
       "    .dataframe thead th {\n",
       "        text-align: right;\n",
       "    }\n",
       "</style>\n",
       "<table border=\"1\" class=\"dataframe\">\n",
       "  <thead>\n",
       "    <tr style=\"text-align: right;\">\n",
       "      <th></th>\n",
       "      <th>age</th>\n",
       "      <th>resting_blood_pressure</th>\n",
       "      <th>serum_cholestoral</th>\n",
       "      <th>maximum_heart_rate_achieved</th>\n",
       "      <th>oldpeak</th>\n",
       "    </tr>\n",
       "  </thead>\n",
       "  <tbody>\n",
       "    <tr>\n",
       "      <th>count</th>\n",
       "      <td>400000.000000</td>\n",
       "      <td>400000.000000</td>\n",
       "      <td>400000.000000</td>\n",
       "      <td>400000.000000</td>\n",
       "      <td>400000.000000</td>\n",
       "    </tr>\n",
       "    <tr>\n",
       "      <th>mean</th>\n",
       "      <td>53.907395</td>\n",
       "      <td>131.369647</td>\n",
       "      <td>249.593475</td>\n",
       "      <td>149.659088</td>\n",
       "      <td>1.050086</td>\n",
       "    </tr>\n",
       "    <tr>\n",
       "      <th>std</th>\n",
       "      <td>9.105221</td>\n",
       "      <td>17.862279</td>\n",
       "      <td>51.720531</td>\n",
       "      <td>23.065911</td>\n",
       "      <td>1.140986</td>\n",
       "    </tr>\n",
       "    <tr>\n",
       "      <th>min</th>\n",
       "      <td>27.000000</td>\n",
       "      <td>85.830892</td>\n",
       "      <td>94.958220</td>\n",
       "      <td>58.964662</td>\n",
       "      <td>-0.601414</td>\n",
       "    </tr>\n",
       "    <tr>\n",
       "      <th>25%</th>\n",
       "      <td>48.000000</td>\n",
       "      <td>119.942167</td>\n",
       "      <td>216.455450</td>\n",
       "      <td>135.818008</td>\n",
       "      <td>0.000000</td>\n",
       "    </tr>\n",
       "    <tr>\n",
       "      <th>50%</th>\n",
       "      <td>55.000000</td>\n",
       "      <td>129.735888</td>\n",
       "      <td>244.273212</td>\n",
       "      <td>153.337116</td>\n",
       "      <td>0.816276</td>\n",
       "    </tr>\n",
       "    <tr>\n",
       "      <th>75%</th>\n",
       "      <td>60.000000</td>\n",
       "      <td>139.935499</td>\n",
       "      <td>274.357993</td>\n",
       "      <td>165.216643</td>\n",
       "      <td>1.671519</td>\n",
       "    </tr>\n",
       "    <tr>\n",
       "      <th>max</th>\n",
       "      <td>80.000000</td>\n",
       "      <td>212.300808</td>\n",
       "      <td>527.712687</td>\n",
       "      <td>207.412021</td>\n",
       "      <td>6.856219</td>\n",
       "    </tr>\n",
       "  </tbody>\n",
       "</table>\n",
       "</div>"
      ],
      "text/plain": [
       "                 age  resting_blood_pressure  serum_cholestoral  \\\n",
       "count  400000.000000           400000.000000      400000.000000   \n",
       "mean       53.907395              131.369647         249.593475   \n",
       "std         9.105221               17.862279          51.720531   \n",
       "min        27.000000               85.830892          94.958220   \n",
       "25%        48.000000              119.942167         216.455450   \n",
       "50%        55.000000              129.735888         244.273212   \n",
       "75%        60.000000              139.935499         274.357993   \n",
       "max        80.000000              212.300808         527.712687   \n",
       "\n",
       "       maximum_heart_rate_achieved        oldpeak  \n",
       "count                400000.000000  400000.000000  \n",
       "mean                    149.659088       1.050086  \n",
       "std                      23.065911       1.140986  \n",
       "min                      58.964662      -0.601414  \n",
       "25%                     135.818008       0.000000  \n",
       "50%                     153.337116       0.816276  \n",
       "75%                     165.216643       1.671519  \n",
       "max                     207.412021       6.856219  "
      ]
     },
     "execution_count": 136,
     "metadata": {},
     "output_type": "execute_result"
    }
   ],
   "source": [
    "num_data_test.describe(include='all')"
   ]
  },
  {
   "cell_type": "code",
   "execution_count": 137,
   "id": "0efb2125",
   "metadata": {},
   "outputs": [
    {
     "data": {
      "image/png": "[encoded data removed]",
      "text/plain": [
       "<Figure size 720x360 with 6 Axes>"
      ]
     },
     "metadata": {
      "needs_background": "light"
     },
     "output_type": "display_data"
    }
   ],
   "source": [
    "# Проверка числовых данных на выбросы\n",
    "col_num = num_data.columns\n",
    "plt.figure(figsize=(10,5))\n",
    "for i in range(0,len(col_num)):\n",
    "    plt.subplot(1,len(col_num),i+1)\n",
    "    sns.boxplot(y=df_pre[col_num[i]])\n",
    "    plt.tight_layout()"
   ]
  },
  {
   "cell_type": "code",
   "execution_count": 138,
   "id": "f951ec50",
   "metadata": {},
   "outputs": [],
   "source": [
    "# Обработка выбросов\n",
    "for i in col_num:\n",
    "    Q1 = df_pre[i].quantile(0.25)\n",
    "    Q3 = df_pre[i].quantile(0.75)\n",
    "    IQR = Q3-Q1\n",
    "    LowerBound = Q1 - (1.5 * IQR)\n",
    "    UpperBound = Q3 + (1.5 * IQR)\n",
    "\n",
    "    df_pre = df_pre[(df_pre[i] >= LowerBound)&(df_pre[i] <= UpperBound)]"
   ]
  },
  {
   "cell_type": "code",
   "execution_count": 139,
   "id": "3717adaa",
   "metadata": {},
   "outputs": [
    {
     "data": {
      "image/png": "[encoded data removed]",
      "text/plain": [
       "<Figure size 720x360 with 6 Axes>"
      ]
     },
     "metadata": {
      "needs_background": "light"
     },
     "output_type": "display_data"
    }
   ],
   "source": [
    "# Проверка числовых данных после обработки выбросов\n",
    "\n",
    "plt.figure(figsize=(10,5))\n",
    "for i in range(0,len(col_num)):\n",
    "    plt.subplot(1,len(col_num),i+1)\n",
    "    sns.boxplot(y = df_pre[col_num[i]])\n",
    "    plt.tight_layout()"
   ]
  },
  {
   "cell_type": "code",
   "execution_count": 140,
   "id": "51f44960",
   "metadata": {},
   "outputs": [
    {
     "data": {
      "text/plain": [
       "(543161, 14)"
      ]
     },
     "execution_count": 140,
     "metadata": {},
     "output_type": "execute_result"
    }
   ],
   "source": [
    "df_pre.shape"
   ]
  },
  {
   "cell_type": "code",
   "execution_count": 141,
   "id": "e4ca4f52",
   "metadata": {},
   "outputs": [
    {
     "data": {
      "image/png": "[encoded data removed]",
      "text/plain": [
       "<Figure size 720x360 with 5 Axes>"
      ]
     },
     "metadata": {
      "needs_background": "light"
     },
     "output_type": "display_data"
    }
   ],
   "source": [
    "# Проверка числовых данных на выбросы\n",
    "col_num = num_data_test.columns\n",
    "plt.figure(figsize=(10,5))\n",
    "for i in range(0,len(col_num)):\n",
    "    plt.subplot(1,len(col_num),i+1)\n",
    "    sns.boxplot(y=df_pre[col_num[i]])\n",
    "    plt.tight_layout()"
   ]
  },
  {
   "cell_type": "code",
   "execution_count": 142,
   "id": "1e10b646",
   "metadata": {},
   "outputs": [],
   "source": [
    "# Обработка выбросов\n",
    "for i in col_num:\n",
    "    Q1 = df_test_pre[i].quantile(0.25)\n",
    "    Q3 = df_test_pre[i].quantile(0.75)\n",
    "    IQR = Q3-Q1\n",
    "    LowerBound = Q1 - (1.5 * IQR)\n",
    "    UpperBound = Q3 + (1.5 * IQR)\n",
    "\n",
    "    df_test_pre = df_test_pre[(df_test_pre[i] >= LowerBound)&(df_pre[i] <= UpperBound)]"
   ]
  },
  {
   "cell_type": "code",
   "execution_count": 143,
   "id": "07b97dc3",
   "metadata": {},
   "outputs": [
    {
     "data": {
      "image/png": "[encoded data removed]",
      "text/plain": [
       "<Figure size 720x360 with 5 Axes>"
      ]
     },
     "metadata": {
      "needs_background": "light"
     },
     "output_type": "display_data"
    }
   ],
   "source": [
    "# Проверка числовых данных после обработки выбросов\n",
    "\n",
    "plt.figure(figsize=(10,5))\n",
    "for i in range(0,len(col_num)):\n",
    "    plt.subplot(1,len(col_num),i+1)\n",
    "    sns.boxplot(y = df_pre[col_num[i]])\n",
    "    plt.tight_layout()"
   ]
  },
  {
   "cell_type": "code",
   "execution_count": 144,
   "id": "ae2b82de",
   "metadata": {},
   "outputs": [
    {
     "data": {
      "text/plain": [
       "(359813, 13)"
      ]
     },
     "execution_count": 144,
     "metadata": {},
     "output_type": "execute_result"
    }
   ],
   "source": [
    "df_test_pre.shape"
   ]
  },
  {
   "cell_type": "code",
   "execution_count": 145,
   "id": "cbb68735",
   "metadata": {},
   "outputs": [
    {
     "data": {
      "image/png": "[encoded data removed]",
      "text/plain": [
       "<Figure size 864x576 with 2 Axes>"
      ]
     },
     "metadata": {
      "needs_background": "light"
     },
     "output_type": "display_data"
    }
   ],
   "source": [
    "# Корреляция данных на correlation matrix\n",
    "corr_matrix = df_pre.select_dtypes(include=np.number).corr(method='spearman')\n",
    "\n",
    "plt.figure(figsize=(12, 8))\n",
    "sns.heatmap(corr_matrix, annot=True, cmap='coolwarm')\n",
    "plt.show()"
   ]
  },
  {
   "cell_type": "markdown",
   "id": "f8451d84",
   "metadata": {},
   "source": [
    "### Анализ корреляции числовых данных показал значимую корреляция признаков 'oldpeak',  'age', 'serum_cholestoral' с целевой переменной. Признаки 'resting_blood_pressure', 'maximum_heart_rate_achieved' имеет смысл не учитывать при обучении моделей."
   ]
  },
  {
   "cell_type": "code",
   "execution_count": 146,
   "id": "1396f00a",
   "metadata": {},
   "outputs": [
    {
     "data": {
      "image/png": "[encoded data removed]",
      "text/plain": [
       "<Figure size 1080x720 with 6 Axes>"
      ]
     },
     "metadata": {
      "needs_background": "light"
     },
     "output_type": "display_data"
    }
   ],
   "source": [
    "# Построение Plot histogram для числовых признаков\n",
    "df_pre.select_dtypes(include=np.number).hist(bins=20, figsize=(15, 10))\n",
    "plt.tight_layout()\n",
    "plt.show()"
   ]
  },
  {
   "cell_type": "code",
   "execution_count": 147,
   "id": "f975e56a",
   "metadata": {},
   "outputs": [],
   "source": [
    "df_pre.drop(['maximum_heart_rate_achieved','resting_blood_pressure',], axis=1, inplace=True)"
   ]
  },
  {
   "cell_type": "code",
   "execution_count": 148,
   "id": "c535577d",
   "metadata": {},
   "outputs": [],
   "source": [
    "df_test_pre.drop(['maximum_heart_rate_achieved','resting_blood_pressure',], axis=1, inplace=True)"
   ]
  },
  {
   "cell_type": "code",
   "execution_count": null,
   "id": "45c8b38a",
   "metadata": {},
   "outputs": [],
   "source": []
  },
  {
   "cell_type": "markdown",
   "id": "505dfcd7",
   "metadata": {},
   "source": [
    "## Подготовка датасета к обучению"
   ]
  },
  {
   "cell_type": "code",
   "execution_count": 149,
   "id": "b0b5fe3a",
   "metadata": {},
   "outputs": [],
   "source": [
    "# Разделение данных на features и target\n",
    "X = df_pre.drop('class', axis=1)\n",
    "y = df_pre['class']"
   ]
  },
  {
   "cell_type": "code",
   "execution_count": 150,
   "id": "5ed5a43e",
   "metadata": {},
   "outputs": [],
   "source": [
    "# Конвертация категориальных переменных в dummy переменные\n",
    "X_dummies = pd.get_dummies(X, drop_first=True)  # drop_first=True для уменьшения мультиколлинеарности \n",
    "\n",
    "df_test_dummies = pd.get_dummies(df_test_pre, drop_first=True) "
   ]
  },
  {
   "cell_type": "code",
   "execution_count": null,
   "id": "263baf4e",
   "metadata": {},
   "outputs": [],
   "source": []
  },
  {
   "cell_type": "code",
   "execution_count": 151,
   "id": "8d3052e5",
   "metadata": {},
   "outputs": [],
   "source": [
    "# Разделение на train и test датасеты\n",
    "X_train, X_test, y_train, y_test = train_test_split(X_dummies, y, test_size=0.2, random_state=42)"
   ]
  },
  {
   "cell_type": "code",
   "execution_count": 152,
   "id": "63c9d2c9",
   "metadata": {},
   "outputs": [],
   "source": [
    "# Инициализация StandardScaler\n",
    "scaler = StandardScaler()"
   ]
  },
  {
   "cell_type": "code",
   "execution_count": 153,
   "id": "d166026a",
   "metadata": {},
   "outputs": [],
   "source": [
    "X_train_scaled = X_train.copy()\n",
    "X_test_scaled = X_test.copy()\n",
    "\n",
    "df_test_scaled = df_test_dummies.copy()"
   ]
  },
  {
   "cell_type": "code",
   "execution_count": 154,
   "id": "db75a9cb",
   "metadata": {},
   "outputs": [],
   "source": [
    "# Выделение числовых данных для стандартизации\n",
    "numeric_columns = X_train.select_dtypes(include=np.number).columns\n",
    "\n",
    "numeric_columns_test = df_test_dummies.select_dtypes(include=np.number).columns"
   ]
  },
  {
   "cell_type": "code",
   "execution_count": 155,
   "id": "0cbced31",
   "metadata": {},
   "outputs": [],
   "source": [
    "# Стандартизация числовых данных\n",
    "X_train_scaled[numeric_columns] = scaler.fit_transform(X_train[numeric_columns])\n",
    "X_test_scaled[numeric_columns] = scaler.transform(X_test[numeric_columns])\n",
    "\n",
    "df_test_scaled[numeric_columns_test] = scaler.fit_transform(df_test_dummies[numeric_columns_test])"
   ]
  },
  {
   "cell_type": "code",
   "execution_count": 156,
   "id": "578ca63d",
   "metadata": {},
   "outputs": [
    {
     "data": {
      "text/plain": [
       "((434528, 19), (108633, 19), (434528,))"
      ]
     },
     "execution_count": 156,
     "metadata": {},
     "output_type": "execute_result"
    }
   ],
   "source": [
    "X_train_scaled.shape, X_test_scaled.shape, y_train.shape"
   ]
  },
  {
   "cell_type": "code",
   "execution_count": 157,
   "id": "0fc64ea5",
   "metadata": {},
   "outputs": [
    {
     "data": {
      "text/plain": [
       "class\n",
       "0    248474\n",
       "1    186054\n",
       "Name: count, dtype: int64"
      ]
     },
     "execution_count": 157,
     "metadata": {},
     "output_type": "execute_result"
    }
   ],
   "source": [
    "y_train.value_counts()"
   ]
  },
  {
   "cell_type": "code",
   "execution_count": 158,
   "id": "fc92b24b",
   "metadata": {},
   "outputs": [
    {
     "data": {
      "text/plain": [
       "(359813, 19)"
      ]
     },
     "execution_count": 158,
     "metadata": {},
     "output_type": "execute_result"
    }
   ],
   "source": [
    "df_test_scaled.shape"
   ]
  },
  {
   "cell_type": "markdown",
   "id": "a7572eb3",
   "metadata": {},
   "source": [
    "## Обучение моделей"
   ]
  },
  {
   "cell_type": "markdown",
   "id": "47950a8a",
   "metadata": {},
   "source": [
    "### RandomForestClassifier"
   ]
  },
  {
   "cell_type": "code",
   "execution_count": 159,
   "id": "1175c1bc",
   "metadata": {},
   "outputs": [],
   "source": [
    "# Инициализация RandomForestClassifier\n",
    "RFC_model = RandomForestClassifier(n_estimators=100, random_state=42)\n",
    "\n",
    "# Обучение модели на train датасете\n",
    "RFC_model.fit(X_train_scaled, y_train)\n",
    "\n",
    "# Валидация\n",
    "y_pred1 = RFC_model.predict(X_test_scaled)"
   ]
  },
  {
   "cell_type": "code",
   "execution_count": 160,
   "id": "17d1fa0c",
   "metadata": {},
   "outputs": [
    {
     "name": "stdout",
     "output_type": "stream",
     "text": [
      "Mean Absolute Error (MAE): 0.12748428194011027\n",
      "Accuracy: 0.8725157180598897\n",
      "Confusion Matrix:\n",
      " [[55622  6442]\n",
      " [ 7407 39162]]\n",
      "Classification Report:\n",
      "               precision    recall  f1-score   support\n",
      "\n",
      "           0       0.88      0.90      0.89     62064\n",
      "           1       0.86      0.84      0.85     46569\n",
      "\n",
      "    accuracy                           0.87    108633\n",
      "   macro avg       0.87      0.87      0.87    108633\n",
      "weighted avg       0.87      0.87      0.87    108633\n",
      "\n"
     ]
    }
   ],
   "source": [
    "# Вычисление MAE\n",
    "mae = mean_absolute_error(y_test, y_pred1)\n",
    "print(f\"Mean Absolute Error (MAE): {mae}\")\n",
    "\n",
    "# Вычисление accuracy\n",
    "accuracy = accuracy_score(y_test, y_pred1)\n",
    "print(\"Accuracy:\", accuracy)\n",
    "\n",
    "# Confusion matrix\n",
    "conf_matrix = confusion_matrix(y_test, y_pred1)\n",
    "print(\"Confusion Matrix:\\n\", conf_matrix)\n",
    "\n",
    "# Classification report\n",
    "class_report = classification_report(y_test, y_pred1)\n",
    "print(\"Classification Report:\\n\", class_report)"
   ]
  },
  {
   "cell_type": "markdown",
   "id": "3c9a8284",
   "metadata": {},
   "source": [
    "### LogisticRegression"
   ]
  },
  {
   "cell_type": "code",
   "execution_count": 161,
   "id": "9bb65c0e",
   "metadata": {},
   "outputs": [],
   "source": [
    "# Инициализация Logistic Regression\n",
    "logreg = LogisticRegression(\n",
    "    penalty='l2',        # регуляризация\n",
    "    C=1.0,               # regularization strength\n",
    "    solver='lbfgs',      # оптимайзер для регуляризации\n",
    "    max_iter=100,        # максимальное количество итераций\n",
    "    random_state=42      \n",
    ")\n",
    "\n",
    "# Обучение модели\n",
    "logreg.fit(X_train_scaled, y_train)\n",
    "\n",
    "# Валидация\n",
    "y_pred2 = logreg.predict(X_test_scaled)\n"
   ]
  },
  {
   "cell_type": "code",
   "execution_count": 162,
   "id": "c2b182e7",
   "metadata": {},
   "outputs": [
    {
     "name": "stdout",
     "output_type": "stream",
     "text": [
      "Mean Absolute Error (MAE): 0.12127070043172884\n",
      "Accuracy: 0.8787292995682712\n",
      "Confusion Matrix:\n",
      " [[56116  5948]\n",
      " [ 7226 39343]]\n",
      "Classification Report:\n",
      "               precision    recall  f1-score   support\n",
      "\n",
      "           0       0.89      0.90      0.89     62064\n",
      "           1       0.87      0.84      0.86     46569\n",
      "\n",
      "    accuracy                           0.88    108633\n",
      "   macro avg       0.88      0.87      0.88    108633\n",
      "weighted avg       0.88      0.88      0.88    108633\n",
      "\n"
     ]
    }
   ],
   "source": [
    "# Вычисление MAE\n",
    "mae = mean_absolute_error(y_test, y_pred2)\n",
    "print(f\"Mean Absolute Error (MAE): {mae}\")\n",
    "\n",
    "# Вычисление accuracy\n",
    "accuracy = accuracy_score(y_test, y_pred2)\n",
    "print(\"Accuracy:\", accuracy)\n",
    "\n",
    "# Confusion matrix\n",
    "conf_matrix = confusion_matrix(y_test, y_pred2)\n",
    "print(\"Confusion Matrix:\\n\", conf_matrix)\n",
    "\n",
    "# Classification report\n",
    "class_report = classification_report(y_test, y_pred2)\n",
    "print(\"Classification Report:\\n\", class_report)"
   ]
  },
  {
   "cell_type": "markdown",
   "id": "025648ba",
   "metadata": {},
   "source": [
    "### The neural network (Sequental)"
   ]
  },
  {
   "cell_type": "code",
   "execution_count": 163,
   "id": "324eb92c",
   "metadata": {},
   "outputs": [],
   "source": [
    "from tensorflow.keras import layers, callbacks\n",
    "\n",
    "early_stopping = callbacks.EarlyStopping(\n",
    "    min_delta=0.001, # min изменение, которое считается возрастанием\n",
    "    patience=10, # сколько сделать перед остановкой\n",
    "    restore_best_weights=True,\n",
    ")"
   ]
  },
  {
   "cell_type": "code",
   "execution_count": 164,
   "id": "952f0429",
   "metadata": {},
   "outputs": [],
   "source": [
    "# Определение модели neural network\n",
    "model = Sequential()"
   ]
  },
  {
   "cell_type": "code",
   "execution_count": 165,
   "id": "8b940be0",
   "metadata": {},
   "outputs": [],
   "source": [
    "input_shape = X_train_scaled.shape[1]"
   ]
  },
  {
   "cell_type": "code",
   "execution_count": 166,
   "id": "f96a8d11",
   "metadata": {},
   "outputs": [],
   "source": [
    "# Input layer и hidden layers\n",
    "model.add(Dense(64, input_dim=input_shape, activation='relu'))  # Input layer\n",
    "model.add(Dense(32, activation='relu'))  # Hidden layer\n",
    "model.add(Dense(16, activation='relu'))  # Hidden layer\n",
    "\n",
    "# Output layer\n",
    "model.add(Dense(1, activation='sigmoid'))"
   ]
  },
  {
   "cell_type": "code",
   "execution_count": 167,
   "id": "43db2953",
   "metadata": {},
   "outputs": [],
   "source": [
    "model.compile(loss='binary_crossentropy', optimizer='adam', metrics=['accuracy'])\n"
   ]
  },
  {
   "cell_type": "code",
   "execution_count": 168,
   "id": "8fff6ac4",
   "metadata": {},
   "outputs": [
    {
     "name": "stdout",
     "output_type": "stream",
     "text": [
      "Epoch 1/50\n",
      "\u001b[1m13579/13579\u001b[0m \u001b[32m━━━━━━━━━━━━━━━━━━━━\u001b[0m\u001b[37m\u001b[0m \u001b[1m14s\u001b[0m 964us/step - accuracy: 0.8758 - loss: 0.2964 - val_accuracy: 0.8830 - val_loss: 0.2810\n",
      "Epoch 2/50\n",
      "\u001b[1m13579/13579\u001b[0m \u001b[32m━━━━━━━━━━━━━━━━━━━━\u001b[0m\u001b[37m\u001b[0m \u001b[1m11s\u001b[0m 815us/step - accuracy: 0.8844 - loss: 0.2780 - val_accuracy: 0.8825 - val_loss: 0.2806\n",
      "Epoch 3/50\n",
      "\u001b[1m13579/13579\u001b[0m \u001b[32m━━━━━━━━━━━━━━━━━━━━\u001b[0m\u001b[37m\u001b[0m \u001b[1m11s\u001b[0m 820us/step - accuracy: 0.8838 - loss: 0.2775 - val_accuracy: 0.8847 - val_loss: 0.2764\n",
      "Epoch 4/50\n",
      "\u001b[1m13579/13579\u001b[0m \u001b[32m━━━━━━━━━━━━━━━━━━━━\u001b[0m\u001b[37m\u001b[0m \u001b[1m11s\u001b[0m 824us/step - accuracy: 0.8853 - loss: 0.2733 - val_accuracy: 0.8848 - val_loss: 0.2756\n",
      "Epoch 5/50\n",
      "\u001b[1m13579/13579\u001b[0m \u001b[32m━━━━━━━━━━━━━━━━━━━━\u001b[0m\u001b[37m\u001b[0m \u001b[1m11s\u001b[0m 815us/step - accuracy: 0.8850 - loss: 0.2760 - val_accuracy: 0.8848 - val_loss: 0.2768\n",
      "Epoch 6/50\n",
      "\u001b[1m13579/13579\u001b[0m \u001b[32m━━━━━━━━━━━━━━━━━━━━\u001b[0m\u001b[37m\u001b[0m \u001b[1m12s\u001b[0m 911us/step - accuracy: 0.8858 - loss: 0.2740 - val_accuracy: 0.8852 - val_loss: 0.2748\n",
      "Epoch 7/50\n",
      "\u001b[1m13579/13579\u001b[0m \u001b[32m━━━━━━━━━━━━━━━━━━━━\u001b[0m\u001b[37m\u001b[0m \u001b[1m14s\u001b[0m 1ms/step - accuracy: 0.8859 - loss: 0.2753 - val_accuracy: 0.8858 - val_loss: 0.2749\n",
      "Epoch 8/50\n",
      "\u001b[1m13579/13579\u001b[0m \u001b[32m━━━━━━━━━━━━━━━━━━━━\u001b[0m\u001b[37m\u001b[0m \u001b[1m13s\u001b[0m 945us/step - accuracy: 0.8860 - loss: 0.2729 - val_accuracy: 0.8853 - val_loss: 0.2748\n",
      "Epoch 9/50\n",
      "\u001b[1m13579/13579\u001b[0m \u001b[32m━━━━━━━━━━━━━━━━━━━━\u001b[0m\u001b[37m\u001b[0m \u001b[1m12s\u001b[0m 901us/step - accuracy: 0.8860 - loss: 0.2736 - val_accuracy: 0.8855 - val_loss: 0.2740\n",
      "Epoch 10/50\n",
      "\u001b[1m13579/13579\u001b[0m \u001b[32m━━━━━━━━━━━━━━━━━━━━\u001b[0m\u001b[37m\u001b[0m \u001b[1m13s\u001b[0m 941us/step - accuracy: 0.8856 - loss: 0.2734 - val_accuracy: 0.8863 - val_loss: 0.2733\n",
      "Epoch 11/50\n",
      "\u001b[1m13579/13579\u001b[0m \u001b[32m━━━━━━━━━━━━━━━━━━━━\u001b[0m\u001b[37m\u001b[0m \u001b[1m13s\u001b[0m 929us/step - accuracy: 0.8865 - loss: 0.2733 - val_accuracy: 0.8859 - val_loss: 0.2738\n",
      "Epoch 12/50\n",
      "\u001b[1m13579/13579\u001b[0m \u001b[32m━━━━━━━━━━━━━━━━━━━━\u001b[0m\u001b[37m\u001b[0m \u001b[1m13s\u001b[0m 919us/step - accuracy: 0.8860 - loss: 0.2727 - val_accuracy: 0.8861 - val_loss: 0.2739\n",
      "Epoch 13/50\n",
      "\u001b[1m13579/13579\u001b[0m \u001b[32m━━━━━━━━━━━━━━━━━━━━\u001b[0m\u001b[37m\u001b[0m \u001b[1m13s\u001b[0m 933us/step - accuracy: 0.8866 - loss: 0.2719 - val_accuracy: 0.8863 - val_loss: 0.2737\n",
      "Epoch 14/50\n",
      "\u001b[1m13579/13579\u001b[0m \u001b[32m━━━━━━━━━━━━━━━━━━━━\u001b[0m\u001b[37m\u001b[0m \u001b[1m13s\u001b[0m 930us/step - accuracy: 0.8880 - loss: 0.2705 - val_accuracy: 0.8862 - val_loss: 0.2756\n",
      "Epoch 15/50\n",
      "\u001b[1m13579/13579\u001b[0m \u001b[32m━━━━━━━━━━━━━━━━━━━━\u001b[0m\u001b[37m\u001b[0m \u001b[1m13s\u001b[0m 935us/step - accuracy: 0.8862 - loss: 0.2716 - val_accuracy: 0.8864 - val_loss: 0.2732\n",
      "Epoch 16/50\n",
      "\u001b[1m13579/13579\u001b[0m \u001b[32m━━━━━━━━━━━━━━━━━━━━\u001b[0m\u001b[37m\u001b[0m \u001b[1m12s\u001b[0m 916us/step - accuracy: 0.8861 - loss: 0.2717 - val_accuracy: 0.8867 - val_loss: 0.2729\n",
      "Epoch 17/50\n",
      "\u001b[1m13579/13579\u001b[0m \u001b[32m━━━━━━━━━━━━━━━━━━━━\u001b[0m\u001b[37m\u001b[0m \u001b[1m13s\u001b[0m 922us/step - accuracy: 0.8873 - loss: 0.2698 - val_accuracy: 0.8864 - val_loss: 0.2740\n",
      "Epoch 18/50\n",
      "\u001b[1m13579/13579\u001b[0m \u001b[32m━━━━━━━━━━━━━━━━━━━━\u001b[0m\u001b[37m\u001b[0m \u001b[1m13s\u001b[0m 925us/step - accuracy: 0.8869 - loss: 0.2698 - val_accuracy: 0.8845 - val_loss: 0.2775\n",
      "Epoch 19/50\n",
      "\u001b[1m13579/13579\u001b[0m \u001b[32m━━━━━━━━━━━━━━━━━━━━\u001b[0m\u001b[37m\u001b[0m \u001b[1m13s\u001b[0m 918us/step - accuracy: 0.8866 - loss: 0.2706 - val_accuracy: 0.8862 - val_loss: 0.2732\n",
      "Epoch 20/50\n",
      "\u001b[1m13579/13579\u001b[0m \u001b[32m━━━━━━━━━━━━━━━━━━━━\u001b[0m\u001b[37m\u001b[0m \u001b[1m13s\u001b[0m 930us/step - accuracy: 0.8872 - loss: 0.2714 - val_accuracy: 0.8867 - val_loss: 0.2748\n"
     ]
    }
   ],
   "source": [
    "# Обучение модели\n",
    "history = model.fit(X_train_scaled, y_train, epochs=50, batch_size=32, validation_data=(X_test_scaled, y_test),callbacks=[early_stopping])\n"
   ]
  },
  {
   "cell_type": "code",
   "execution_count": 169,
   "id": "9baccda9",
   "metadata": {},
   "outputs": [
    {
     "name": "stdout",
     "output_type": "stream",
     "text": [
      "\u001b[1m3395/3395\u001b[0m \u001b[32m━━━━━━━━━━━━━━━━━━━━\u001b[0m\u001b[37m\u001b[0m \u001b[1m2s\u001b[0m 611us/step\n"
     ]
    }
   ],
   "source": [
    "# Валидация\n",
    "y_pred_prob = model.predict(X_test_scaled)  \n",
    "y_pred3 = (y_pred_prob > 0.5).astype(int)  # конвертация предсказанных вероятностей в бинарный класс (0 или 1)\n"
   ]
  },
  {
   "cell_type": "code",
   "execution_count": 170,
   "id": "35af419f",
   "metadata": {},
   "outputs": [
    {
     "name": "stdout",
     "output_type": "stream",
     "text": [
      "\u001b[1m3395/3395\u001b[0m \u001b[32m━━━━━━━━━━━━━━━━━━━━\u001b[0m\u001b[37m\u001b[0m \u001b[1m2s\u001b[0m 602us/step - accuracy: 0.8866 - loss: 0.2741\n",
      "Test Accuracy: 0.8862868547439575\n"
     ]
    }
   ],
   "source": [
    "# Оценка\n",
    "loss, accuracy = model.evaluate(X_test_scaled, y_test)\n",
    "print(f'Test Accuracy: {accuracy}')"
   ]
  },
  {
   "cell_type": "code",
   "execution_count": 171,
   "id": "a927dede",
   "metadata": {},
   "outputs": [
    {
     "name": "stdout",
     "output_type": "stream",
     "text": [
      "Mean Absolute Error (MAE): 0.11371314425634936\n",
      "Accuracy: 0.8862868557436506\n",
      "Confusion Matrix:\n",
      " [[56538  5526]\n",
      " [ 6827 39742]]\n",
      "Classification Report:\n",
      "               precision    recall  f1-score   support\n",
      "\n",
      "           0       0.89      0.91      0.90     62064\n",
      "           1       0.88      0.85      0.87     46569\n",
      "\n",
      "    accuracy                           0.89    108633\n",
      "   macro avg       0.89      0.88      0.88    108633\n",
      "weighted avg       0.89      0.89      0.89    108633\n",
      "\n"
     ]
    }
   ],
   "source": [
    "# Вычисление MAE\n",
    "mae = mean_absolute_error(y_test, y_pred3)\n",
    "print(f\"Mean Absolute Error (MAE): {mae}\")\n",
    "\n",
    "# Вычисление accuracy\n",
    "accuracy = accuracy_score(y_test, y_pred3)\n",
    "print(\"Accuracy:\", accuracy)\n",
    "\n",
    "# Confusion matrix\n",
    "conf_matrix = confusion_matrix(y_test, y_pred3)\n",
    "print(\"Confusion Matrix:\\n\", conf_matrix)\n",
    "\n",
    "# Classification report\n",
    "class_report = classification_report(y_test, y_pred3)\n",
    "print(\"Classification Report:\\n\", class_report)"
   ]
  },
  {
   "cell_type": "code",
   "execution_count": 172,
   "id": "6cf17f90",
   "metadata": {},
   "outputs": [
    {
     "data": {
      "text/plain": [
       "<matplotlib.legend.Legend at 0x231edfbea30>"
      ]
     },
     "execution_count": 172,
     "metadata": {},
     "output_type": "execute_result"
    },
    {
     "data": {
      "image/png": "[encoded data removed]",
      "text/plain": [
       "<Figure size 864x288 with 1 Axes>"
      ]
     },
     "metadata": {
      "needs_background": "light"
     },
     "output_type": "display_data"
    }
   ],
   "source": [
    "# График обучения\n",
    "plt.figure(figsize=(12, 4))\n",
    "\n",
    "# Accuracy plot\n",
    "plt.subplot(1, 2, 1)\n",
    "plt.plot(history.history['accuracy'], label='Train Accuracy')\n",
    "plt.plot(history.history['val_accuracy'], label='Validation Accuracy')\n",
    "plt.title('Model Accuracy')\n",
    "plt.xlabel('Epoch')\n",
    "plt.ylabel('Accuracy')\n",
    "plt.legend(loc='upper left')"
   ]
  },
  {
   "cell_type": "code",
   "execution_count": 173,
   "id": "6ba388a6",
   "metadata": {},
   "outputs": [
    {
     "data": {
      "image/png": "[encoded data removed]",
      "text/plain": [
       "<Figure size 432x288 with 1 Axes>"
      ]
     },
     "metadata": {
      "needs_background": "light"
     },
     "output_type": "display_data"
    }
   ],
   "source": [
    "# Loss plot\n",
    "plt.subplot(1, 2, 2)\n",
    "plt.plot(history.history['loss'], label='Train Loss')\n",
    "plt.plot(history.history['val_loss'], label='Validation Loss')\n",
    "plt.title('Model Loss')\n",
    "plt.xlabel('Epoch')\n",
    "plt.ylabel('Loss')\n",
    "plt.legend(loc='upper right')\n",
    "\n",
    "plt.show()"
   ]
  },
  {
   "cell_type": "markdown",
   "id": "75ad4517",
   "metadata": {},
   "source": [
    "### Наилучшие метрики показала модель нейронной сети. Тем не менее, модели можно улучшить с подбором гиперпараметров. Сохраняем скрипт модели нейронной сети для запуска инференса."
   ]
  },
  {
   "cell_type": "code",
   "execution_count": 174,
   "id": "030b1acf",
   "metadata": {},
   "outputs": [],
   "source": [
    "# Сохранение модели нейронной сети\n",
    "model.save('NN_model.keras')\n"
   ]
  },
  {
   "cell_type": "markdown",
   "id": "1d892e7d",
   "metadata": {},
   "source": [
    "## Применение модели нейронной сети к предобработанному тестовому датасету"
   ]
  },
  {
   "cell_type": "code",
   "execution_count": 175,
   "id": "44faee61",
   "metadata": {},
   "outputs": [],
   "source": [
    "X_test_pre = df_test_scaled"
   ]
  },
  {
   "cell_type": "code",
   "execution_count": 176,
   "id": "bc0909f7",
   "metadata": {},
   "outputs": [
    {
     "data": {
      "text/html": [
       "<div>\n",
       "<style scoped>\n",
       "    .dataframe tbody tr th:only-of-type {\n",
       "        vertical-align: middle;\n",
       "    }\n",
       "\n",
       "    .dataframe tbody tr th {\n",
       "        vertical-align: top;\n",
       "    }\n",
       "\n",
       "    .dataframe thead th {\n",
       "        text-align: right;\n",
       "    }\n",
       "</style>\n",
       "<table border=\"1\" class=\"dataframe\">\n",
       "  <thead>\n",
       "    <tr style=\"text-align: right;\">\n",
       "      <th></th>\n",
       "      <th>age</th>\n",
       "      <th>serum_cholestoral</th>\n",
       "      <th>oldpeak</th>\n",
       "      <th>sex_1</th>\n",
       "      <th>chest_1</th>\n",
       "      <th>chest_2</th>\n",
       "      <th>chest_3</th>\n",
       "      <th>chest_4</th>\n",
       "      <th>fasting_blood_sugar_1</th>\n",
       "      <th>resting_electrocardiographic_results_1</th>\n",
       "      <th>resting_electrocardiographic_results_2</th>\n",
       "      <th>exercise_induced_angina_1</th>\n",
       "      <th>slope_2</th>\n",
       "      <th>slope_3</th>\n",
       "      <th>number_of_major_vessels_1</th>\n",
       "      <th>number_of_major_vessels_2</th>\n",
       "      <th>number_of_major_vessels_3</th>\n",
       "      <th>thal_6</th>\n",
       "      <th>thal_7</th>\n",
       "    </tr>\n",
       "  </thead>\n",
       "  <tbody>\n",
       "    <tr>\n",
       "      <th>0</th>\n",
       "      <td>-0.098010</td>\n",
       "      <td>-0.246536</td>\n",
       "      <td>-0.295793</td>\n",
       "      <td>True</td>\n",
       "      <td>False</td>\n",
       "      <td>False</td>\n",
       "      <td>False</td>\n",
       "      <td>True</td>\n",
       "      <td>False</td>\n",
       "      <td>False</td>\n",
       "      <td>True</td>\n",
       "      <td>True</td>\n",
       "      <td>False</td>\n",
       "      <td>False</td>\n",
       "      <td>False</td>\n",
       "      <td>True</td>\n",
       "      <td>False</td>\n",
       "      <td>False</td>\n",
       "      <td>True</td>\n",
       "    </tr>\n",
       "    <tr>\n",
       "      <th>1</th>\n",
       "      <td>-0.537192</td>\n",
       "      <td>-0.445061</td>\n",
       "      <td>-0.919521</td>\n",
       "      <td>True</td>\n",
       "      <td>False</td>\n",
       "      <td>False</td>\n",
       "      <td>False</td>\n",
       "      <td>True</td>\n",
       "      <td>False</td>\n",
       "      <td>False</td>\n",
       "      <td>True</td>\n",
       "      <td>True</td>\n",
       "      <td>False</td>\n",
       "      <td>False</td>\n",
       "      <td>True</td>\n",
       "      <td>False</td>\n",
       "      <td>False</td>\n",
       "      <td>False</td>\n",
       "      <td>True</td>\n",
       "    </tr>\n",
       "    <tr>\n",
       "      <th>2</th>\n",
       "      <td>-1.964534</td>\n",
       "      <td>1.961029</td>\n",
       "      <td>-0.644910</td>\n",
       "      <td>True</td>\n",
       "      <td>True</td>\n",
       "      <td>False</td>\n",
       "      <td>False</td>\n",
       "      <td>False</td>\n",
       "      <td>False</td>\n",
       "      <td>False</td>\n",
       "      <td>False</td>\n",
       "      <td>False</td>\n",
       "      <td>False</td>\n",
       "      <td>False</td>\n",
       "      <td>False</td>\n",
       "      <td>False</td>\n",
       "      <td>False</td>\n",
       "      <td>False</td>\n",
       "      <td>True</td>\n",
       "    </tr>\n",
       "    <tr>\n",
       "      <th>3</th>\n",
       "      <td>0.011786</td>\n",
       "      <td>0.014581</td>\n",
       "      <td>-0.649122</td>\n",
       "      <td>True</td>\n",
       "      <td>False</td>\n",
       "      <td>False</td>\n",
       "      <td>True</td>\n",
       "      <td>False</td>\n",
       "      <td>False</td>\n",
       "      <td>False</td>\n",
       "      <td>False</td>\n",
       "      <td>False</td>\n",
       "      <td>False</td>\n",
       "      <td>False</td>\n",
       "      <td>True</td>\n",
       "      <td>False</td>\n",
       "      <td>False</td>\n",
       "      <td>False</td>\n",
       "      <td>True</td>\n",
       "    </tr>\n",
       "    <tr>\n",
       "      <th>4</th>\n",
       "      <td>1.878310</td>\n",
       "      <td>-0.746882</td>\n",
       "      <td>-0.023646</td>\n",
       "      <td>False</td>\n",
       "      <td>True</td>\n",
       "      <td>False</td>\n",
       "      <td>False</td>\n",
       "      <td>False</td>\n",
       "      <td>False</td>\n",
       "      <td>False</td>\n",
       "      <td>False</td>\n",
       "      <td>False</td>\n",
       "      <td>False</td>\n",
       "      <td>False</td>\n",
       "      <td>True</td>\n",
       "      <td>False</td>\n",
       "      <td>False</td>\n",
       "      <td>False</td>\n",
       "      <td>False</td>\n",
       "    </tr>\n",
       "  </tbody>\n",
       "</table>\n",
       "</div>"
      ],
      "text/plain": [
       "        age  serum_cholestoral   oldpeak  sex_1  chest_1  chest_2  chest_3  \\\n",
       "0 -0.098010          -0.246536 -0.295793   True    False    False    False   \n",
       "1 -0.537192          -0.445061 -0.919521   True    False    False    False   \n",
       "2 -1.964534           1.961029 -0.644910   True     True    False    False   \n",
       "3  0.011786           0.014581 -0.649122   True    False    False     True   \n",
       "4  1.878310          -0.746882 -0.023646  False     True    False    False   \n",
       "\n",
       "   chest_4  fasting_blood_sugar_1  resting_electrocardiographic_results_1  \\\n",
       "0     True                  False                                   False   \n",
       "1     True                  False                                   False   \n",
       "2    False                  False                                   False   \n",
       "3    False                  False                                   False   \n",
       "4    False                  False                                   False   \n",
       "\n",
       "   resting_electrocardiographic_results_2  exercise_induced_angina_1  slope_2  \\\n",
       "0                                    True                       True    False   \n",
       "1                                    True                       True    False   \n",
       "2                                   False                      False    False   \n",
       "3                                   False                      False    False   \n",
       "4                                   False                      False    False   \n",
       "\n",
       "   slope_3  number_of_major_vessels_1  number_of_major_vessels_2  \\\n",
       "0    False                      False                       True   \n",
       "1    False                       True                      False   \n",
       "2    False                      False                      False   \n",
       "3    False                       True                      False   \n",
       "4    False                       True                      False   \n",
       "\n",
       "   number_of_major_vessels_3  thal_6  thal_7  \n",
       "0                      False   False    True  \n",
       "1                      False   False    True  \n",
       "2                      False   False    True  \n",
       "3                      False   False    True  \n",
       "4                      False   False   False  "
      ]
     },
     "execution_count": 176,
     "metadata": {},
     "output_type": "execute_result"
    }
   ],
   "source": [
    "X_test_pre.head()"
   ]
  },
  {
   "cell_type": "code",
   "execution_count": 177,
   "id": "07667160",
   "metadata": {},
   "outputs": [],
   "source": [
    "X_test_pre1 = pd.concat([ID,X_test_pre],axis=1)"
   ]
  },
  {
   "cell_type": "code",
   "execution_count": 178,
   "id": "149cadad",
   "metadata": {},
   "outputs": [
    {
     "data": {
      "text/html": [
       "<div>\n",
       "<style scoped>\n",
       "    .dataframe tbody tr th:only-of-type {\n",
       "        vertical-align: middle;\n",
       "    }\n",
       "\n",
       "    .dataframe tbody tr th {\n",
       "        vertical-align: top;\n",
       "    }\n",
       "\n",
       "    .dataframe thead th {\n",
       "        text-align: right;\n",
       "    }\n",
       "</style>\n",
       "<table border=\"1\" class=\"dataframe\">\n",
       "  <thead>\n",
       "    <tr style=\"text-align: right;\">\n",
       "      <th></th>\n",
       "      <th>ID</th>\n",
       "      <th>age</th>\n",
       "      <th>serum_cholestoral</th>\n",
       "      <th>oldpeak</th>\n",
       "      <th>sex_1</th>\n",
       "      <th>chest_1</th>\n",
       "      <th>chest_2</th>\n",
       "      <th>chest_3</th>\n",
       "      <th>chest_4</th>\n",
       "      <th>fasting_blood_sugar_1</th>\n",
       "      <th>resting_electrocardiographic_results_1</th>\n",
       "      <th>resting_electrocardiographic_results_2</th>\n",
       "      <th>exercise_induced_angina_1</th>\n",
       "      <th>slope_2</th>\n",
       "      <th>slope_3</th>\n",
       "      <th>number_of_major_vessels_1</th>\n",
       "      <th>number_of_major_vessels_2</th>\n",
       "      <th>number_of_major_vessels_3</th>\n",
       "      <th>thal_6</th>\n",
       "      <th>thal_7</th>\n",
       "    </tr>\n",
       "  </thead>\n",
       "  <tbody>\n",
       "    <tr>\n",
       "      <th>0</th>\n",
       "      <td>600000</td>\n",
       "      <td>-0.098010</td>\n",
       "      <td>-0.246536</td>\n",
       "      <td>-0.295793</td>\n",
       "      <td>True</td>\n",
       "      <td>False</td>\n",
       "      <td>False</td>\n",
       "      <td>False</td>\n",
       "      <td>True</td>\n",
       "      <td>False</td>\n",
       "      <td>False</td>\n",
       "      <td>True</td>\n",
       "      <td>True</td>\n",
       "      <td>False</td>\n",
       "      <td>False</td>\n",
       "      <td>False</td>\n",
       "      <td>True</td>\n",
       "      <td>False</td>\n",
       "      <td>False</td>\n",
       "      <td>True</td>\n",
       "    </tr>\n",
       "    <tr>\n",
       "      <th>1</th>\n",
       "      <td>600001</td>\n",
       "      <td>-0.537192</td>\n",
       "      <td>-0.445061</td>\n",
       "      <td>-0.919521</td>\n",
       "      <td>True</td>\n",
       "      <td>False</td>\n",
       "      <td>False</td>\n",
       "      <td>False</td>\n",
       "      <td>True</td>\n",
       "      <td>False</td>\n",
       "      <td>False</td>\n",
       "      <td>True</td>\n",
       "      <td>True</td>\n",
       "      <td>False</td>\n",
       "      <td>False</td>\n",
       "      <td>True</td>\n",
       "      <td>False</td>\n",
       "      <td>False</td>\n",
       "      <td>False</td>\n",
       "      <td>True</td>\n",
       "    </tr>\n",
       "    <tr>\n",
       "      <th>2</th>\n",
       "      <td>600002</td>\n",
       "      <td>-1.964534</td>\n",
       "      <td>1.961029</td>\n",
       "      <td>-0.644910</td>\n",
       "      <td>True</td>\n",
       "      <td>True</td>\n",
       "      <td>False</td>\n",
       "      <td>False</td>\n",
       "      <td>False</td>\n",
       "      <td>False</td>\n",
       "      <td>False</td>\n",
       "      <td>False</td>\n",
       "      <td>False</td>\n",
       "      <td>False</td>\n",
       "      <td>False</td>\n",
       "      <td>False</td>\n",
       "      <td>False</td>\n",
       "      <td>False</td>\n",
       "      <td>False</td>\n",
       "      <td>True</td>\n",
       "    </tr>\n",
       "    <tr>\n",
       "      <th>3</th>\n",
       "      <td>600003</td>\n",
       "      <td>0.011786</td>\n",
       "      <td>0.014581</td>\n",
       "      <td>-0.649122</td>\n",
       "      <td>True</td>\n",
       "      <td>False</td>\n",
       "      <td>False</td>\n",
       "      <td>True</td>\n",
       "      <td>False</td>\n",
       "      <td>False</td>\n",
       "      <td>False</td>\n",
       "      <td>False</td>\n",
       "      <td>False</td>\n",
       "      <td>False</td>\n",
       "      <td>False</td>\n",
       "      <td>True</td>\n",
       "      <td>False</td>\n",
       "      <td>False</td>\n",
       "      <td>False</td>\n",
       "      <td>True</td>\n",
       "    </tr>\n",
       "    <tr>\n",
       "      <th>4</th>\n",
       "      <td>600004</td>\n",
       "      <td>1.878310</td>\n",
       "      <td>-0.746882</td>\n",
       "      <td>-0.023646</td>\n",
       "      <td>False</td>\n",
       "      <td>True</td>\n",
       "      <td>False</td>\n",
       "      <td>False</td>\n",
       "      <td>False</td>\n",
       "      <td>False</td>\n",
       "      <td>False</td>\n",
       "      <td>False</td>\n",
       "      <td>False</td>\n",
       "      <td>False</td>\n",
       "      <td>False</td>\n",
       "      <td>True</td>\n",
       "      <td>False</td>\n",
       "      <td>False</td>\n",
       "      <td>False</td>\n",
       "      <td>False</td>\n",
       "    </tr>\n",
       "  </tbody>\n",
       "</table>\n",
       "</div>"
      ],
      "text/plain": [
       "       ID       age  serum_cholestoral   oldpeak  sex_1 chest_1 chest_2  \\\n",
       "0  600000 -0.098010          -0.246536 -0.295793   True   False   False   \n",
       "1  600001 -0.537192          -0.445061 -0.919521   True   False   False   \n",
       "2  600002 -1.964534           1.961029 -0.644910   True    True   False   \n",
       "3  600003  0.011786           0.014581 -0.649122   True   False   False   \n",
       "4  600004  1.878310          -0.746882 -0.023646  False    True   False   \n",
       "\n",
       "  chest_3 chest_4 fasting_blood_sugar_1  \\\n",
       "0   False    True                 False   \n",
       "1   False    True                 False   \n",
       "2   False   False                 False   \n",
       "3    True   False                 False   \n",
       "4   False   False                 False   \n",
       "\n",
       "  resting_electrocardiographic_results_1  \\\n",
       "0                                  False   \n",
       "1                                  False   \n",
       "2                                  False   \n",
       "3                                  False   \n",
       "4                                  False   \n",
       "\n",
       "  resting_electrocardiographic_results_2 exercise_induced_angina_1 slope_2  \\\n",
       "0                                   True                      True   False   \n",
       "1                                   True                      True   False   \n",
       "2                                  False                     False   False   \n",
       "3                                  False                     False   False   \n",
       "4                                  False                     False   False   \n",
       "\n",
       "  slope_3 number_of_major_vessels_1 number_of_major_vessels_2  \\\n",
       "0   False                     False                      True   \n",
       "1   False                      True                     False   \n",
       "2   False                     False                     False   \n",
       "3   False                      True                     False   \n",
       "4   False                      True                     False   \n",
       "\n",
       "  number_of_major_vessels_3 thal_6 thal_7  \n",
       "0                     False  False   True  \n",
       "1                     False  False   True  \n",
       "2                     False  False   True  \n",
       "3                     False  False   True  \n",
       "4                     False  False  False  "
      ]
     },
     "execution_count": 178,
     "metadata": {},
     "output_type": "execute_result"
    }
   ],
   "source": [
    "X_test_pre1.head()"
   ]
  },
  {
   "cell_type": "code",
   "execution_count": 179,
   "id": "92affeb3",
   "metadata": {},
   "outputs": [
    {
     "data": {
      "text/plain": [
       "(359813, 19)"
      ]
     },
     "execution_count": 179,
     "metadata": {},
     "output_type": "execute_result"
    }
   ],
   "source": [
    "X_test_pre.shape"
   ]
  },
  {
   "cell_type": "code",
   "execution_count": 180,
   "id": "b3fc740c",
   "metadata": {},
   "outputs": [
    {
     "name": "stdout",
     "output_type": "stream",
     "text": [
      "\u001b[1m11245/11245\u001b[0m \u001b[32m━━━━━━━━━━━━━━━━━━━━\u001b[0m\u001b[37m\u001b[0m \u001b[1m6s\u001b[0m 538us/step\n"
     ]
    }
   ],
   "source": [
    "y_pred_test_prob=model.predict(X_test_pre)\n",
    "y_pred_test = (y_pred_test_prob > 0.5).astype(int).flatten()  # конвертация предсказанных вероятностей в бинарный класс (0 или 1)"
   ]
  },
  {
   "cell_type": "code",
   "execution_count": 181,
   "id": "fac75415",
   "metadata": {},
   "outputs": [
    {
     "data": {
      "text/plain": [
       "(359813,)"
      ]
     },
     "execution_count": 181,
     "metadata": {},
     "output_type": "execute_result"
    }
   ],
   "source": [
    "y_pred_test.shape"
   ]
  },
  {
   "cell_type": "code",
   "execution_count": 182,
   "id": "f8a83c7a",
   "metadata": {},
   "outputs": [],
   "source": [
    "col=pd.DataFrame({'class':y_pred_test})"
   ]
  },
  {
   "cell_type": "code",
   "execution_count": 183,
   "id": "cdd0d140",
   "metadata": {},
   "outputs": [],
   "source": [
    "col1=pd.concat([X_test_pre1['ID'],col],axis=1)"
   ]
  },
  {
   "cell_type": "code",
   "execution_count": 184,
   "id": "15e6fab5",
   "metadata": {},
   "outputs": [
    {
     "data": {
      "text/html": [
       "<div>\n",
       "<style scoped>\n",
       "    .dataframe tbody tr th:only-of-type {\n",
       "        vertical-align: middle;\n",
       "    }\n",
       "\n",
       "    .dataframe tbody tr th {\n",
       "        vertical-align: top;\n",
       "    }\n",
       "\n",
       "    .dataframe thead th {\n",
       "        text-align: right;\n",
       "    }\n",
       "</style>\n",
       "<table border=\"1\" class=\"dataframe\">\n",
       "  <thead>\n",
       "    <tr style=\"text-align: right;\">\n",
       "      <th></th>\n",
       "      <th>ID</th>\n",
       "      <th>class</th>\n",
       "    </tr>\n",
       "  </thead>\n",
       "  <tbody>\n",
       "    <tr>\n",
       "      <th>0</th>\n",
       "      <td>600000</td>\n",
       "      <td>1.0</td>\n",
       "    </tr>\n",
       "    <tr>\n",
       "      <th>1</th>\n",
       "      <td>600001</td>\n",
       "      <td>1.0</td>\n",
       "    </tr>\n",
       "    <tr>\n",
       "      <th>2</th>\n",
       "      <td>600002</td>\n",
       "      <td>0.0</td>\n",
       "    </tr>\n",
       "    <tr>\n",
       "      <th>3</th>\n",
       "      <td>600003</td>\n",
       "      <td>0.0</td>\n",
       "    </tr>\n",
       "    <tr>\n",
       "      <th>4</th>\n",
       "      <td>600004</td>\n",
       "      <td>0.0</td>\n",
       "    </tr>\n",
       "  </tbody>\n",
       "</table>\n",
       "</div>"
      ],
      "text/plain": [
       "       ID  class\n",
       "0  600000    1.0\n",
       "1  600001    1.0\n",
       "2  600002    0.0\n",
       "3  600003    0.0\n",
       "4  600004    0.0"
      ]
     },
     "execution_count": 184,
     "metadata": {},
     "output_type": "execute_result"
    }
   ],
   "source": [
    "col1.head()"
   ]
  },
  {
   "cell_type": "code",
   "execution_count": 185,
   "id": "edcf5d48",
   "metadata": {},
   "outputs": [],
   "source": [
    "# Сохранение результата работы модели нейронной сети в файл submission_file.csv\n",
    "col1.to_csv(r\"submission_file.csv\",index=False,header=True)"
   ]
  },
  {
   "cell_type": "code",
   "execution_count": null,
   "id": "cfa660e5",
   "metadata": {},
   "outputs": [],
   "source": []
  }
 ],
 "metadata": {
  "kernelspec": {
   "display_name": "Python 3 (ipykernel)",
   "language": "python",
   "name": "python3"
  },
  "language_info": {
   "codemirror_mode": {
    "name": "ipython",
    "version": 3
   },
   "file_extension": ".py",
   "mimetype": "text/x-python",
   "name": "python",
   "nbconvert_exporter": "python",
   "pygments_lexer": "ipython3",
   "version": "3.9.7"
  }
 },
 "nbformat": 4,
 "nbformat_minor": 5
}
