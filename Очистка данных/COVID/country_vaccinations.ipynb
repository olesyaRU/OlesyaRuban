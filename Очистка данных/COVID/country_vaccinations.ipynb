{
 "cells": [
  {
   "cell_type": "markdown",
   "metadata": {},
   "source": [
    "# Решение теории"
   ]
  },
  {
   "cell_type": "code",
   "execution_count": null,
   "metadata": {},
   "outputs": [],
   "source": [
    "# covid_data — данные о показателях заболеваемости за каждый день в различных регионах 187 стран (источник данных)"
   ]
  },
  {
   "cell_type": "code",
   "execution_count": 2,
   "metadata": {},
   "outputs": [
    {
     "data": {
      "text/html": [
       "<div>\n",
       "<style scoped>\n",
       "    .dataframe tbody tr th:only-of-type {\n",
       "        vertical-align: middle;\n",
       "    }\n",
       "\n",
       "    .dataframe tbody tr th {\n",
       "        vertical-align: top;\n",
       "    }\n",
       "\n",
       "    .dataframe thead th {\n",
       "        text-align: right;\n",
       "    }\n",
       "</style>\n",
       "<table border=\"1\" class=\"dataframe\">\n",
       "  <thead>\n",
       "    <tr style=\"text-align: right;\">\n",
       "      <th></th>\n",
       "      <th>date</th>\n",
       "      <th>province/state</th>\n",
       "      <th>country</th>\n",
       "      <th>confirmed</th>\n",
       "      <th>deaths</th>\n",
       "      <th>recovered</th>\n",
       "    </tr>\n",
       "  </thead>\n",
       "  <tbody>\n",
       "    <tr>\n",
       "      <th>0</th>\n",
       "      <td>01/22/2020</td>\n",
       "      <td>Anhui</td>\n",
       "      <td>China</td>\n",
       "      <td>1.0</td>\n",
       "      <td>0.0</td>\n",
       "      <td>0.0</td>\n",
       "    </tr>\n",
       "    <tr>\n",
       "      <th>1</th>\n",
       "      <td>01/22/2020</td>\n",
       "      <td>Beijing</td>\n",
       "      <td>China</td>\n",
       "      <td>14.0</td>\n",
       "      <td>0.0</td>\n",
       "      <td>0.0</td>\n",
       "    </tr>\n",
       "    <tr>\n",
       "      <th>2</th>\n",
       "      <td>01/22/2020</td>\n",
       "      <td>Chongqing</td>\n",
       "      <td>China</td>\n",
       "      <td>6.0</td>\n",
       "      <td>0.0</td>\n",
       "      <td>0.0</td>\n",
       "    </tr>\n",
       "    <tr>\n",
       "      <th>3</th>\n",
       "      <td>01/22/2020</td>\n",
       "      <td>Fujian</td>\n",
       "      <td>China</td>\n",
       "      <td>1.0</td>\n",
       "      <td>0.0</td>\n",
       "      <td>0.0</td>\n",
       "    </tr>\n",
       "    <tr>\n",
       "      <th>4</th>\n",
       "      <td>01/22/2020</td>\n",
       "      <td>Gansu</td>\n",
       "      <td>China</td>\n",
       "      <td>0.0</td>\n",
       "      <td>0.0</td>\n",
       "      <td>0.0</td>\n",
       "    </tr>\n",
       "  </tbody>\n",
       "</table>\n",
       "</div>"
      ],
      "text/plain": [
       "         date province/state country  confirmed  deaths  recovered\n",
       "0  01/22/2020          Anhui   China        1.0     0.0        0.0\n",
       "1  01/22/2020        Beijing   China       14.0     0.0        0.0\n",
       "2  01/22/2020      Chongqing   China        6.0     0.0        0.0\n",
       "3  01/22/2020         Fujian   China        1.0     0.0        0.0\n",
       "4  01/22/2020          Gansu   China        0.0     0.0        0.0"
      ]
     },
     "metadata": {},
     "output_type": "display_data"
    }
   ],
   "source": [
    "import pandas as pd\n",
    "covid_data = pd.read_csv('data/covid_data.csv')\n",
    "display(covid_data.head())"
   ]
  },
  {
   "cell_type": "code",
   "execution_count": null,
   "metadata": {},
   "outputs": [],
   "source": [
    "# Мы будем работать со следующими столбцами:\n",
    "\n",
    "#date — дата наблюдения;\n",
    "#province/state — наименование провинции/штата;\n",
    "#country — наименование страны;\n",
    "#confirmed — общее число зафиксированных случаев на указанный день;\n",
    "#deaths — общее число зафиксированных смертей на указанный день;\n",
    "#recovered — общее число выздоровлений на указанный день."
   ]
  },
  {
   "cell_type": "code",
   "execution_count": null,
   "metadata": {},
   "outputs": [],
   "source": [
    "# country_vaccinations — данные о процессе вакцинирования людей в 221 стране мира (источник данных)\n",
    "\n",
    "# Обратите внимание, что в приведённом источнике данные о вакцинации постоянно обновляются. В данном модуле будет использоваться файл, который мы скачали заранее."
   ]
  },
  {
   "cell_type": "code",
   "execution_count": 8,
   "metadata": {},
   "outputs": [
    {
     "name": "stdout",
     "output_type": "stream",
     "text": [
      "Index(['country', 'iso_code', 'date', 'total_vaccinations',\n",
      "       'people_vaccinated', 'people_fully_vaccinated',\n",
      "       'daily_vaccinations_raw', 'daily_vaccinations',\n",
      "       'total_vaccinations_per_hundred', 'people_vaccinated_per_hundred',\n",
      "       'people_fully_vaccinated_per_hundred', 'daily_vaccinations_per_million',\n",
      "       'vaccines', 'source_name', 'source_website'],\n",
      "      dtype='object')\n"
     ]
    }
   ],
   "source": [
    "import pandas as pd\n",
    "vaccinations_data = pd.read_csv('data/country_vaccinations.csv')\n",
    "print(vaccinations_data.columns) "
   ]
  },
  {
   "cell_type": "code",
   "execution_count": 11,
   "metadata": {},
   "outputs": [
    {
     "name": "stdout",
     "output_type": "stream",
     "text": [
      "           country        date  total_vaccinations  people_vaccinated  \\\n",
      "0      Afghanistan  2021-02-22                 0.0                0.0   \n",
      "1      Afghanistan  2021-02-23                 NaN                NaN   \n",
      "2      Afghanistan  2021-02-24                 NaN                NaN   \n",
      "3      Afghanistan  2021-02-25                 NaN                NaN   \n",
      "4      Afghanistan  2021-02-26                 NaN                NaN   \n",
      "...            ...         ...                 ...                ...   \n",
      "42790     Zimbabwe  2021-09-01           4270430.0          2615233.0   \n",
      "42791     Zimbabwe  2021-09-02           4323735.0          2649505.0   \n",
      "42792     Zimbabwe  2021-09-03           4372216.0          2681657.0   \n",
      "42793     Zimbabwe  2021-09-04           4400246.0          2698332.0   \n",
      "42794     Zimbabwe  2021-09-05           4431599.0          2713248.0   \n",
      "\n",
      "       people_vaccinated_per_hundred  people_fully_vaccinated  \\\n",
      "0                               0.00                      NaN   \n",
      "1                                NaN                      NaN   \n",
      "2                                NaN                      NaN   \n",
      "3                                NaN                      NaN   \n",
      "4                                NaN                      NaN   \n",
      "...                              ...                      ...   \n",
      "42790                          17.33                1655197.0   \n",
      "42791                          17.56                1674230.0   \n",
      "42792                          17.77                1690559.0   \n",
      "42793                          17.88                1701914.0   \n",
      "42794                          17.98                1718351.0   \n",
      "\n",
      "       people_fully_vaccinated_per_hundred  daily_vaccinations  \\\n",
      "0                                      NaN                 NaN   \n",
      "1                                      NaN              1367.0   \n",
      "2                                      NaN              1367.0   \n",
      "3                                      NaN              1367.0   \n",
      "4                                      NaN              1367.0   \n",
      "...                                    ...                 ...   \n",
      "42790                                10.97             36416.0   \n",
      "42791                                11.09             39711.0   \n",
      "42792                                11.20             42317.0   \n",
      "42793                                11.28             41413.0   \n",
      "42794                                11.39             41964.0   \n",
      "\n",
      "                                                vaccines  \n",
      "0      Johnson&Johnson, Oxford/AstraZeneca, Pfizer/Bi...  \n",
      "1      Johnson&Johnson, Oxford/AstraZeneca, Pfizer/Bi...  \n",
      "2      Johnson&Johnson, Oxford/AstraZeneca, Pfizer/Bi...  \n",
      "3      Johnson&Johnson, Oxford/AstraZeneca, Pfizer/Bi...  \n",
      "4      Johnson&Johnson, Oxford/AstraZeneca, Pfizer/Bi...  \n",
      "...                                                  ...  \n",
      "42790  Oxford/AstraZeneca, Sinopharm/Beijing, Sinovac...  \n",
      "42791  Oxford/AstraZeneca, Sinopharm/Beijing, Sinovac...  \n",
      "42792  Oxford/AstraZeneca, Sinopharm/Beijing, Sinovac...  \n",
      "42793  Oxford/AstraZeneca, Sinopharm/Beijing, Sinovac...  \n",
      "42794  Oxford/AstraZeneca, Sinopharm/Beijing, Sinovac...  \n",
      "\n",
      "[42795 rows x 9 columns]\n"
     ]
    }
   ],
   "source": [
    "vaccinations_data = vaccinations_data[\n",
    "        ['country', 'date', 'total_vaccinations', \n",
    "         'people_vaccinated', 'people_vaccinated_per_hundred',\n",
    "         'people_fully_vaccinated', 'people_fully_vaccinated_per_hundred',\n",
    "         'daily_vaccinations', 'vaccines']\n",
    "    ]\n",
    "print(vaccinations_data)"
   ]
  },
  {
   "cell_type": "code",
   "execution_count": null,
   "metadata": {},
   "outputs": [],
   "source": [
    "# Данная таблица содержит следующие столбцы:\n",
    "\n",
    "country — наименование страны;\n",
    "date — дата наблюдения;\n",
    "total_vaccinations — общее число введённых вакцин в стране на указанный день;\n",
    "people_vaccinated — общее число привитых первым компонентом в стране на указанный день;\n",
    "people_vaccinated_per_hundred — процент привитых первым компонентом в стране на указанный день (рассчитывается как );\n",
    "people_fully_vaccinated — общее число привитых вторым компонентом в стране на указанный день (первый компонент уже был введён им ранее);\n",
    "people_fully_vaccinated_per_hundred — процент привитых вторым компонентом в стране на указанный день (рассчитывается как );\n",
    "daily_vaccination — ежедневная вакцинация (число вакцинированных в указанный день);\n",
    "vaccines — комбинации вакцин, используемые в стране."
   ]
  },
  {
   "cell_type": "code",
   "execution_count": null,
   "metadata": {},
   "outputs": [],
   "source": [
    "# Немного об особенностях данных\n",
    "\n",
    "# В таблице covid_data данные о заболеваемости представлены для каждого региона (штата) страны за каждый день. Например, для США (United States) записи за 29 мая 2021 года имеют вид:"
   ]
  },
  {
   "cell_type": "code",
   "execution_count": null,
   "metadata": {},
   "outputs": [],
   "source": [
    "# В таблице vaccinations_data параметры вакцинирования отображены для всех стран на каждый день, без учёта регионов. \n",
    "# Вот часть таблицы для тех же Соединённых Штатов за 29 мая 2021 года. Как видите, она всего одна:"
   ]
  },
  {
   "cell_type": "code",
   "execution_count": null,
   "metadata": {},
   "outputs": [],
   "source": [
    "# В данных много пропусков, а также неверно введённых значений. Например, для США (United States) и Великобритании (United Kingdom) \n",
    "# в большинстве записей таблицы covid_data число выздоровевших людей равно 0. В данном модуле мы закроем на это глаза, но вообще эти страны подлежали бы исключению из данных, \n",
    "# или нам понадобился бы дополнительный источник данных, из которого мы смогли бы получить недостающую информацию.\n",
    "# Обратите внимание, что признаки confirmed, deaths, recovered, total_vaccination, people_vaccinated, people_fully_vaccinated — это суммарные показатели по стране, \n",
    "# то есть с каждым днём они должны расти. Такие признаки называют накопительными.\n",
    "# Возникает большое желание объединить таблицы. Для этого необходимо учитывать следующие нюансы:\n",
    "# В таблице covid_data необходимо предварительно рассчитать суммарное ежедневное число заболевших во всех провинциях/штатах в каждой стране.\n",
    "# В таблицах не совпадает число стран, а иногда и их названия. \n",
    "# При объединении таблиц по столбцу мы определённо теряем данные (в данной задаче потери незначительны). Избежать этого можно ручными преобразованиями данных — \n",
    "# искать различия в названиях стран в таблицах и преобразовывать их. Однако это не является темой данного модуля.\n",
    "# Таблицы имеют разные периоды наблюдений (вакцины появились позже, чем сам вирус). Объединив данные с типом inner, мы можем потерять большое количество наблюдений в таблице covid_data."
   ]
  },
  {
   "cell_type": "code",
   "execution_count": 13,
   "metadata": {},
   "outputs": [
    {
     "name": "stdout",
     "output_type": "stream",
     "text": [
      "             date             country  confirmed  deaths  recovered\n",
      "0      01/01/2021         Afghanistan    51526.0  2191.0    41727.0\n",
      "1      01/01/2021             Albania    58316.0  1181.0    33634.0\n",
      "2      01/01/2021             Algeria    99897.0  2762.0    67395.0\n",
      "3      01/01/2021             Andorra     8117.0    84.0     7463.0\n",
      "4      01/01/2021              Angola    17568.0   405.0    11146.0\n",
      "...           ...                 ...        ...     ...        ...\n",
      "86780  12/31/2020             Vietnam     1465.0    35.0     1325.0\n",
      "86781  12/31/2020  West Bank and Gaza   138004.0  1400.0   117183.0\n",
      "86782  12/31/2020               Yemen     2099.0   610.0     1394.0\n",
      "86783  12/31/2020              Zambia    20725.0   388.0    18660.0\n",
      "86784  12/31/2020            Zimbabwe    13867.0   363.0    11250.0\n",
      "\n",
      "[86785 rows x 5 columns]\n"
     ]
    }
   ],
   "source": [
    "# Предобработка данных\n",
    "# Опираясь на замечания выше, выполним небольшую предобработку.\n",
    "# В таблице covid_data:\n",
    "# Группируем таблицу по дате и названию страны и рассчитываем суммарные показатели по всем регионам. Тем самым переходим от данных по регионам к данным по странам:\n",
    "covid_data = covid_data.groupby(\n",
    "        ['date', 'country'], \n",
    "        as_index=False\n",
    "    )[['confirmed', 'deaths', 'recovered']].sum()\n",
    "print(covid_data)"
   ]
  },
  {
   "cell_type": "code",
   "execution_count": 15,
   "metadata": {},
   "outputs": [
    {
     "name": "stdout",
     "output_type": "stream",
     "text": [
      "0       2021-01-01\n",
      "1       2021-01-01\n",
      "2       2021-01-01\n",
      "3       2021-01-01\n",
      "4       2021-01-01\n",
      "           ...    \n",
      "86780   2020-12-31\n",
      "86781   2020-12-31\n",
      "86782   2020-12-31\n",
      "86783   2020-12-31\n",
      "86784   2020-12-31\n",
      "Name: date, Length: 86785, dtype: datetime64[ns]\n"
     ]
    }
   ],
   "source": [
    "# Преобразуем даты в формат datetime с помощью функции pd.to_datetime():\n",
    "\n",
    "covid_data['date'] = pd.to_datetime(covid_data['date'])\n",
    "print(covid_data['date'])"
   ]
  },
  {
   "cell_type": "code",
   "execution_count": 17,
   "metadata": {},
   "outputs": [
    {
     "name": "stdout",
     "output_type": "stream",
     "text": [
      "0         7608.0\n",
      "1        23501.0\n",
      "2        29740.0\n",
      "3          570.0\n",
      "4         6017.0\n",
      "          ...   \n",
      "86780      105.0\n",
      "86781    19421.0\n",
      "86782       95.0\n",
      "86783     1677.0\n",
      "86784     2254.0\n",
      "Name: active, Length: 86785, dtype: float64\n"
     ]
    }
   ],
   "source": [
    "# Создадим признак больных на данный момент (active). Для этого вычтем из общего числа зафиксированных случаев число смертей и число выздоровевших пациентов:\n",
    "\n",
    "covid_data['active'] = covid_data['confirmed'] - covid_data['deaths'] - covid_data['recovered']\n",
    "print(covid_data['active'])"
   ]
  },
  {
   "cell_type": "code",
   "execution_count": 18,
   "metadata": {},
   "outputs": [],
   "source": [
    "# Создадим признак ежедневного прироста числа заболевших, умерших и выздоровевших людей. \n",
    "# Для этого отсортируем данные по названиям стран, а затем по датам. После этого произведём группировку по странам и рассчитаем разницу между «вчера и сегодня» с помощью метода diff():\n",
    "covid_data = covid_data.sort_values(by=['country', 'date'])\n",
    "covid_data['daily_confirmed'] = covid_data.groupby('country')['confirmed'].diff()\n",
    "covid_data['daily_deaths'] = covid_data.groupby('country')['deaths'].diff()\n",
    "covid_data['daily_recovered'] = covid_data.groupby('country')['recovered'].diff()"
   ]
  },
  {
   "cell_type": "code",
   "execution_count": 19,
   "metadata": {},
   "outputs": [
    {
     "name": "stdout",
     "output_type": "stream",
     "text": [
      "            date                         country  confirmed  deaths  \\\n",
      "11337 2020-02-24                     Afghanistan        1.0     0.0   \n",
      "11570 2020-02-25                     Afghanistan        1.0     0.0   \n",
      "11807 2020-02-26                     Afghanistan        1.0     0.0   \n",
      "12051 2020-02-27                     Afghanistan        1.0     0.0   \n",
      "12299 2020-02-28                     Afghanistan        1.0     0.0   \n",
      "...          ...                             ...        ...     ...   \n",
      "15933 2020-03-12  occupied Palestinian territory        0.0     0.0   \n",
      "16595 2020-03-14  occupied Palestinian territory        0.0     0.0   \n",
      "16938 2020-03-15  occupied Palestinian territory        0.0     0.0   \n",
      "17290 2020-03-16  occupied Palestinian territory        0.0     0.0   \n",
      "17645 2020-03-17  occupied Palestinian territory        0.0     0.0   \n",
      "\n",
      "       recovered  active  daily_confirmed  daily_deaths  daily_recovered  \n",
      "11337        0.0     1.0              NaN           NaN              NaN  \n",
      "11570        0.0     1.0              0.0           0.0              0.0  \n",
      "11807        0.0     1.0              0.0           0.0              0.0  \n",
      "12051        0.0     1.0              0.0           0.0              0.0  \n",
      "12299        0.0     1.0              0.0           0.0              0.0  \n",
      "...          ...     ...              ...           ...              ...  \n",
      "15933        0.0     0.0              0.0           0.0              0.0  \n",
      "16595        0.0     0.0              0.0           0.0              0.0  \n",
      "16938        0.0     0.0              0.0           0.0              0.0  \n",
      "17290        0.0     0.0              0.0           0.0              0.0  \n",
      "17645        0.0     0.0              0.0           0.0              0.0  \n",
      "\n",
      "[86785 rows x 9 columns]\n"
     ]
    }
   ],
   "source": [
    "# Итоговый вид таблицы covid_data:\n",
    "print(covid_data)"
   ]
  },
  {
   "cell_type": "code",
   "execution_count": 21,
   "metadata": {},
   "outputs": [
    {
     "name": "stdout",
     "output_type": "stream",
     "text": [
      "0       2021-02-22\n",
      "1       2021-02-23\n",
      "2       2021-02-24\n",
      "3       2021-02-25\n",
      "4       2021-02-26\n",
      "           ...    \n",
      "42790   2021-09-01\n",
      "42791   2021-09-02\n",
      "42792   2021-09-03\n",
      "42793   2021-09-04\n",
      "42794   2021-09-05\n",
      "Name: date, Length: 42795, dtype: datetime64[ns]\n"
     ]
    }
   ],
   "source": [
    "# В таблице vaccinations_data достаточно будет преобразовать столбцы в формат datetime:\n",
    "\n",
    "vaccinations_data['date'] = pd.to_datetime(vaccinations_data['date'])\n",
    "print(vaccinations_data['date'])"
   ]
  },
  {
   "cell_type": "code",
   "execution_count": null,
   "metadata": {},
   "outputs": [],
   "source": [
    "# Задание 3.1\n",
    "# За какой период представлены данные в таблице covid_data? В качестве ответа введите даты в формате datetime (без указания времени).\n",
    "# Введите ответ в следующем формате (без пробелов): ГГГГ-ММ-ДД-ГГГГ-ММ-ДД"
   ]
  },
  {
   "cell_type": "code",
   "execution_count": 22,
   "metadata": {},
   "outputs": [
    {
     "name": "stdout",
     "output_type": "stream",
     "text": [
      "Данные о заболеваемости предоставлены от 2020-01-22 00:00:00 до  2021-05-29 00:00:00\n"
     ]
    }
   ],
   "source": [
    "print(f\"Данные о заболеваемости предоставлены от {covid_data['date'].min()} до  {covid_data['date'].max()}\")"
   ]
  },
  {
   "cell_type": "code",
   "execution_count": 23,
   "metadata": {},
   "outputs": [],
   "source": [
    "# Задание 3.2\n",
    "# За какой период представлены данные в таблице vaccinations_data? В качестве ответа введите даты в формате datetime без указания времени.\n",
    "# Введите ответ в следующем формате (без пробелов): ГГГГ-ММ-ДД-ГГГГ-ММ-ДД"
   ]
  },
  {
   "cell_type": "code",
   "execution_count": 24,
   "metadata": {},
   "outputs": [
    {
     "name": "stdout",
     "output_type": "stream",
     "text": [
      "Данные о вакцинации предоставлены от 2020-12-02 00:00:00 до  2021-09-06 00:00:00\n"
     ]
    }
   ],
   "source": [
    "print(f\"Данные о вакцинации предоставлены от {vaccinations_data['date'].min()} до  {vaccinations_data['date'].max()}\")"
   ]
  },
  {
   "cell_type": "code",
   "execution_count": null,
   "metadata": {},
   "outputs": [],
   "source": [
    "# Задание 3.3\n",
    "# С помощью метода merge() объедините таблицы covid_data и vaccinations_data по столбцам date и country.\n",
    "# Тип объединения выставьте так, чтобы в результирующую таблицу попали только наблюдения за период, вычисленный в задании 3.1. То есть в результирующую таблицу должны попасть все записи из таблицы covid_data и из её пересечения с vaccinations_data, но не более. Результат объединения занесите в переменную covid_df.\n",
    "# Сохраните таблицу covid_df — она понадобится нам в следующем юните.\n",
    "# Сколько строк и столбцов в таблице covid_df?\n",
    "# Введите ответ в виде двух чисел через дефис (например, 333-33): первое число — количество строк, второе число — количество столбцов."
   ]
  },
  {
   "cell_type": "code",
   "execution_count": 25,
   "metadata": {},
   "outputs": [
    {
     "name": "stdout",
     "output_type": "stream",
     "text": [
      "Число строк:  86785\n",
      "Число столбцов:  16\n"
     ]
    }
   ],
   "source": [
    "covid_df = covid_data.merge(vaccinations_data, on=['date', 'country'], how='left')\n",
    "print('Число строк: ', covid_df.shape[0])\n",
    "print('Число столбцов: ', covid_df.shape[1])"
   ]
  },
  {
   "cell_type": "code",
   "execution_count": null,
   "metadata": {},
   "outputs": [],
   "source": [
    "# В получившейся в задании 3.3 таблице covid_df создайте признаки death_rate — общий процент смертей среди зафиксированных случаев (летальность) \n",
    "# и recover_rate — общий процент случаев выздоровления. \n",
    "# Данные характеристики рассчитайте как отношение числа смертей (deaths) и числа выздоровлений (recovered) к числу зафиксированных случаев (confirmed) и умножьте результаты на 100%."
   ]
  },
  {
   "cell_type": "code",
   "execution_count": null,
   "metadata": {},
   "outputs": [],
   "source": [
    "# Задание 3.4\n",
    "# Какова максимальная летальность в США (United States) за весь период? Ответ округлите до второго знака после запятой."
   ]
  },
  {
   "cell_type": "code",
   "execution_count": 26,
   "metadata": {},
   "outputs": [
    {
     "data": {
      "text/plain": [
       "7.19"
      ]
     },
     "execution_count": 26,
     "metadata": {},
     "output_type": "execute_result"
    }
   ],
   "source": [
    "covid_df['death_rate'] = covid_df['deaths'] / covid_df['confirmed'] * 100\n",
    "covid_df['recover_rate'] = covid_df['recovered'] / covid_df['confirmed'] * 100\n",
    "round(covid_df[covid_df['country'] == 'United States']['death_rate'].max(), 2)"
   ]
  },
  {
   "cell_type": "code",
   "execution_count": null,
   "metadata": {},
   "outputs": [],
   "source": [
    "# Задание 3.5\n",
    "# Чему равен средний процент выздоровевших в России (Russia)? Ответ округлите до второго знака после запятой."
   ]
  },
  {
   "cell_type": "code",
   "execution_count": 27,
   "metadata": {},
   "outputs": [
    {
     "data": {
      "text/plain": [
       "67.06"
      ]
     },
     "execution_count": 27,
     "metadata": {},
     "output_type": "execute_result"
    }
   ],
   "source": [
    "round(covid_df[covid_df['country'] == 'Russia']['recover_rate'].mean(), 2)"
   ]
  }
 ],
 "metadata": {
  "kernelspec": {
   "display_name": "Python 3",
   "language": "python",
   "name": "python3"
  },
  "language_info": {
   "codemirror_mode": {
    "name": "ipython",
    "version": 3
   },
   "file_extension": ".py",
   "mimetype": "text/x-python",
   "name": "python",
   "nbconvert_exporter": "python",
   "pygments_lexer": "ipython3",
   "version": "3.9.10"
  }
 },
 "nbformat": 4,
 "nbformat_minor": 2
}
