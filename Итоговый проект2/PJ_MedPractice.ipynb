{
 "cells": [
  {
   "cell_type": "markdown",
   "id": "667f70bd",
   "metadata": {},
   "source": [
    "# PJ Heart diseases indicators analysis."
   ]
  },
  {
   "cell_type": "markdown",
   "id": "01289f12",
   "metadata": {},
   "source": [
    "## Olga Yurlova\n",
    "### Course \"Data Science in Medicine\""
   ]
  },
  {
   "cell_type": "code",
   "execution_count": 551,
   "id": "ac02ca51",
   "metadata": {},
   "outputs": [
    {
     "name": "stderr",
     "output_type": "stream",
     "text": [
      "C:\\Users\\okayu\\AppData\\Local\\Temp/ipykernel_16476/3052610066.py:3: FutureWarning: data_manager option is deprecated and will be removed in a future version. Only the BlockManager will be available.\n",
      "  pd.reset_option('all')\n",
      "C:\\Users\\okayu\\AppData\\Local\\Temp/ipykernel_16476/3052610066.py:3: FutureWarning: use_inf_as_na option is deprecated and will be removed in a future version. Convert inf values to NaN before operating instead.\n",
      "  pd.reset_option('all')\n",
      "C:\\Users\\okayu\\AppData\\Local\\Temp/ipykernel_16476/3052610066.py:4: FutureWarning: use_inf_as_na option is deprecated and will be removed in a future version. Convert inf values to NaN before operating instead.\n",
      "  pd.set_option('mode.use_inf_as_na', False)\n"
     ]
    }
   ],
   "source": [
    "import numpy as np\n",
    "import pandas as pd\n",
    "pd.reset_option('all')\n",
    "pd.set_option('mode.use_inf_as_na', False)\n",
    "import matplotlib.pyplot as plt\n",
    "import seaborn as sns\n",
    "from sklearn.preprocessing import StandardScaler\n",
    "from sklearn.preprocessing import LabelEncoder\n",
    "from sklearn.model_selection import train_test_split\n",
    "from sklearn.metrics import mean_absolute_error\n",
    "from sklearn.metrics import accuracy_score, confusion_matrix, classification_report"
   ]
  },
  {
   "cell_type": "code",
   "execution_count": 552,
   "id": "7205ffe3",
   "metadata": {},
   "outputs": [],
   "source": [
    "def outlier_treatment(dataset, factor=1.5):\n",
    "    \"\"\"\n",
    "    Dataset outliers treatment.\n",
    "    \"\"\"\n",
    "    # Count percentiles\n",
    "    q1=np.percentile(dataset, 25)\n",
    "    q3=np.percentile(dataset, 75)\n",
    "    iqr=q3-q1\n",
    "    lower_bound=q1-(iqr*factor)\n",
    "    upper_bound=q3+(iqr*factor)\n",
    "    \n",
    "    # Treat the outliers\n",
    "    treated_data=dataset.copy()\n",
    "    treated_data[(dataset< lower_bound)| (dataset>upper_bound)]= np.nan\n",
    "\n",
    "    return dataset"
   ]
  },
  {
   "cell_type": "code",
   "execution_count": 553,
   "id": "780d438d",
   "metadata": {},
   "outputs": [],
   "source": [
    "def check_normality(dataset):\n",
    "    \"\"\"\n",
    "    Look at the math statistic and check normality of data distribution.\n",
    "    \"\"\"\n",
    "    from scipy.stats import shapiro\n",
    "    \n",
    "    # Split the data into two groups\n",
    "    target= dataset.groupby('target')\n",
    "    healthy=target.get_group(0)\n",
    "    heart_disease=target.get_group(1)\n",
    "\n",
    "    # Shapiro-Wilk Test for Group of healthy\n",
    "    shapiro_test_healthy = shapiro(healthy)\n",
    "    print(f\"Group of healthy: W-statistic = {shapiro_test_healthy[0]}, p-value = {shapiro_test_healthy[1]}\")\n",
    "    if shapiro_test_healthy[1] < 0.05:\n",
    "        print('the date of healthy is not normally distributed')\n",
    "    else:\n",
    "        print('the date of healthy is normally distributed')\n",
    "    \n",
    "    # Shapiro-Wilk Test for Group with Heart Disease\n",
    "    shapiro_test_heart_disease = shapiro(heart_disease)\n",
    "    print(f\"Group with Heart Disease: W-statistic = {shapiro_test_heart_disease[0]}, p-value = {shapiro_test_heart_disease[1]}\")\n",
    "    if shapiro_test_heart_disease[1] < 0.05:\n",
    "        print('the date of heart disease having is not normally distributed')\n",
    "    else:\n",
    "        print('the date of heart disease having is normally distributed')\n",
    "        \n",
    "    return"
   ]
  },
  {
   "cell_type": "code",
   "execution_count": 554,
   "id": "7b714784",
   "metadata": {},
   "outputs": [],
   "source": [
    "def categoric_correlation(dataset,Category1:str,Category2:str):\n",
    "    \"\"\"\n",
    "    Statistics of the categorical features.\n",
    "    \"\"\"\n",
    "    from scipy.stats import chi2_contingency\n",
    "    \n",
    "    # Define relationship between two categorical features using a crosstab, or cross-tabulation\n",
    "    crosstab = pd.crosstab(dataset[Category1], df[Category2])\n",
    "    \n",
    "    # Perform Chi-Square Test\n",
    "    chi2, p, dof, ex = chi2_contingency(crosstab)\n",
    "\n",
    "    print(f\"Chi-Square Statistic: {chi2}\")\n",
    "    print(f\"P-value: {p}\")\n",
    "    \n",
    "    sns.heatmap(crosstab, annot=True, fmt=\"d\", cmap=\"YlGnBu\")\n",
    "    plt.title(\"Crosstab Heatmap\")\n",
    "    plt.show()"
   ]
  },
  {
   "cell_type": "code",
   "execution_count": 555,
   "id": "639d1892",
   "metadata": {},
   "outputs": [],
   "source": [
    "def categoric_encoding(dataset, categorical_columns:list):\n",
    "    \"\"\"\n",
    "    Encoding of the categorical features.\n",
    "    \"\"\"\n",
    "    # Initialize LabelEncoder\n",
    "    label_encoder = LabelEncoder()\n",
    "\n",
    "    # Loop through each categorical column and apply LabelEncoder\n",
    "    for col in categorical_columns:\n",
    "        dataset[col] = label_encoder.fit_transform(dataset[col])\n",
    "\n",
    "    return dataset"
   ]
  },
  {
   "cell_type": "code",
   "execution_count": 556,
   "id": "2f6cc37f",
   "metadata": {},
   "outputs": [],
   "source": [
    "def numerical_scaling(dataset,numerical_columns:list):\n",
    "    \"\"\"\n",
    "    Scaling of the numerical values.\n",
    "    \"\"\"\n",
    "    # Initialize the StandardScaler\n",
    "    scaler = StandardScaler()\n",
    "    \n",
    "    # Scale and transform the data\n",
    "    dataset[numerical_columns] = scaler.fit_transform(dataset[numerical_columns])\n",
    "    \n",
    "    return dataset"
   ]
  },
  {
   "cell_type": "code",
   "execution_count": 557,
   "id": "c547849a",
   "metadata": {},
   "outputs": [],
   "source": [
    "def scores_visualisation(y_test, y_pred):\n",
    "    \"\"\"\n",
    "    Confusion Matrix visualisation.\n",
    "    \"\"\"\n",
    "    from sklearn.metrics import confusion_matrix, ConfusionMatrixDisplay\n",
    "    cm = confusion_matrix(y_test, y_pred)\n",
    "    disp = ConfusionMatrixDisplay(confusion_matrix=cm)\n",
    "    disp.plot()\n",
    "    plt.title('Confusion Matrix of Predicted Heart Disease presence or absence and true data.')\n",
    "    plt.show()\n",
    "    \n",
    "    return"
   ]
  },
  {
   "cell_type": "markdown",
   "id": "ef05485b",
   "metadata": {},
   "source": [
    "## Load data."
   ]
  },
  {
   "cell_type": "code",
   "execution_count": 558,
   "id": "047f2ead",
   "metadata": {},
   "outputs": [],
   "source": [
    "data = pd.read_csv('heart_disease_uci.csv')"
   ]
  },
  {
   "cell_type": "code",
   "execution_count": 559,
   "id": "ea3359ae",
   "metadata": {
    "scrolled": false
   },
   "outputs": [
    {
     "data": {
      "text/html": [
       "<div>\n",
       "<style scoped>\n",
       "    .dataframe tbody tr th:only-of-type {\n",
       "        vertical-align: middle;\n",
       "    }\n",
       "\n",
       "    .dataframe tbody tr th {\n",
       "        vertical-align: top;\n",
       "    }\n",
       "\n",
       "    .dataframe thead th {\n",
       "        text-align: right;\n",
       "    }\n",
       "</style>\n",
       "<table border=\"1\" class=\"dataframe\">\n",
       "  <thead>\n",
       "    <tr style=\"text-align: right;\">\n",
       "      <th></th>\n",
       "      <th>id</th>\n",
       "      <th>age</th>\n",
       "      <th>sex</th>\n",
       "      <th>origin</th>\n",
       "      <th>cp</th>\n",
       "      <th>trestbps</th>\n",
       "      <th>chol</th>\n",
       "      <th>fbs</th>\n",
       "      <th>restecg</th>\n",
       "      <th>thalch</th>\n",
       "      <th>exang</th>\n",
       "      <th>oldpeak</th>\n",
       "      <th>slope</th>\n",
       "      <th>ca</th>\n",
       "      <th>thal</th>\n",
       "      <th>num</th>\n",
       "    </tr>\n",
       "  </thead>\n",
       "  <tbody>\n",
       "    <tr>\n",
       "      <th>0</th>\n",
       "      <td>1</td>\n",
       "      <td>63</td>\n",
       "      <td>Male</td>\n",
       "      <td>Cleveland</td>\n",
       "      <td>typical angina</td>\n",
       "      <td>145.0</td>\n",
       "      <td>233.0</td>\n",
       "      <td>True</td>\n",
       "      <td>lv hypertrophy</td>\n",
       "      <td>150.0</td>\n",
       "      <td>False</td>\n",
       "      <td>2.3</td>\n",
       "      <td>downsloping</td>\n",
       "      <td>0.0</td>\n",
       "      <td>fixed defect</td>\n",
       "      <td>0</td>\n",
       "    </tr>\n",
       "    <tr>\n",
       "      <th>1</th>\n",
       "      <td>2</td>\n",
       "      <td>67</td>\n",
       "      <td>Male</td>\n",
       "      <td>Cleveland</td>\n",
       "      <td>asymptomatic</td>\n",
       "      <td>160.0</td>\n",
       "      <td>286.0</td>\n",
       "      <td>False</td>\n",
       "      <td>lv hypertrophy</td>\n",
       "      <td>108.0</td>\n",
       "      <td>True</td>\n",
       "      <td>1.5</td>\n",
       "      <td>flat</td>\n",
       "      <td>3.0</td>\n",
       "      <td>normal</td>\n",
       "      <td>2</td>\n",
       "    </tr>\n",
       "    <tr>\n",
       "      <th>2</th>\n",
       "      <td>3</td>\n",
       "      <td>67</td>\n",
       "      <td>Male</td>\n",
       "      <td>Cleveland</td>\n",
       "      <td>asymptomatic</td>\n",
       "      <td>120.0</td>\n",
       "      <td>229.0</td>\n",
       "      <td>False</td>\n",
       "      <td>lv hypertrophy</td>\n",
       "      <td>129.0</td>\n",
       "      <td>True</td>\n",
       "      <td>2.6</td>\n",
       "      <td>flat</td>\n",
       "      <td>2.0</td>\n",
       "      <td>reversable defect</td>\n",
       "      <td>1</td>\n",
       "    </tr>\n",
       "    <tr>\n",
       "      <th>3</th>\n",
       "      <td>4</td>\n",
       "      <td>37</td>\n",
       "      <td>Male</td>\n",
       "      <td>Cleveland</td>\n",
       "      <td>non-anginal</td>\n",
       "      <td>130.0</td>\n",
       "      <td>250.0</td>\n",
       "      <td>False</td>\n",
       "      <td>normal</td>\n",
       "      <td>187.0</td>\n",
       "      <td>False</td>\n",
       "      <td>3.5</td>\n",
       "      <td>downsloping</td>\n",
       "      <td>0.0</td>\n",
       "      <td>normal</td>\n",
       "      <td>0</td>\n",
       "    </tr>\n",
       "    <tr>\n",
       "      <th>4</th>\n",
       "      <td>5</td>\n",
       "      <td>41</td>\n",
       "      <td>Female</td>\n",
       "      <td>Cleveland</td>\n",
       "      <td>atypical angina</td>\n",
       "      <td>130.0</td>\n",
       "      <td>204.0</td>\n",
       "      <td>False</td>\n",
       "      <td>lv hypertrophy</td>\n",
       "      <td>172.0</td>\n",
       "      <td>False</td>\n",
       "      <td>1.4</td>\n",
       "      <td>upsloping</td>\n",
       "      <td>0.0</td>\n",
       "      <td>normal</td>\n",
       "      <td>0</td>\n",
       "    </tr>\n",
       "  </tbody>\n",
       "</table>\n",
       "</div>"
      ],
      "text/plain": [
       "   id  age     sex     origin               cp  trestbps   chol    fbs  \\\n",
       "0   1   63    Male  Cleveland   typical angina     145.0  233.0   True   \n",
       "1   2   67    Male  Cleveland     asymptomatic     160.0  286.0  False   \n",
       "2   3   67    Male  Cleveland     asymptomatic     120.0  229.0  False   \n",
       "3   4   37    Male  Cleveland      non-anginal     130.0  250.0  False   \n",
       "4   5   41  Female  Cleveland  atypical angina     130.0  204.0  False   \n",
       "\n",
       "          restecg  thalch  exang  oldpeak        slope   ca  \\\n",
       "0  lv hypertrophy   150.0  False      2.3  downsloping  0.0   \n",
       "1  lv hypertrophy   108.0   True      1.5         flat  3.0   \n",
       "2  lv hypertrophy   129.0   True      2.6         flat  2.0   \n",
       "3          normal   187.0  False      3.5  downsloping  0.0   \n",
       "4  lv hypertrophy   172.0  False      1.4    upsloping  0.0   \n",
       "\n",
       "                thal  num  \n",
       "0       fixed defect    0  \n",
       "1             normal    2  \n",
       "2  reversable defect    1  \n",
       "3             normal    0  \n",
       "4             normal    0  "
      ]
     },
     "execution_count": 559,
     "metadata": {},
     "output_type": "execute_result"
    }
   ],
   "source": [
    "data.head()"
   ]
  },
  {
   "cell_type": "markdown",
   "id": "ba2198e6",
   "metadata": {},
   "source": [
    "#### Columns describtion:\n",
    "\n",
    "    id:             Unique id for each patient\n",
    "    age:            Age of the patient in years\n",
    "    sex:            sex (Male/Female)\n",
    "    origin:         place of study\n",
    "    cp:             chest pain type ([typical angina, atypical angina, non-anginal, asymptomatic])\n",
    "    trestbps:       resting blood pressure (resting blood pressure (in mm Hg on admission to the hospital))\n",
    "    chol:           serum cholesterol in mg/dl\n",
    "    fbs:            if fasting blood sugar > 120 mg/dl (True/False)\n",
    "    restecg:        resting electrocardiographic results [normal, stt abnormality, lv hypertrophy]\n",
    "    thalch:         maximum heart rate achieved\n",
    "    exang:          exercise-induced angina (True/ False)\n",
    "    oldpeak:        ST depression induced by exercise relative to rest\n",
    "    slope:          the slope of the peak exercise ST segment\n",
    "    ca:             number of major vessels (0-3) colored by fluoroscopy\n",
    "    thal:           [normal; fixed defect; reversible defect]\n",
    "    num:            Predicted heart disease (0 or 1)\n"
   ]
  },
  {
   "cell_type": "markdown",
   "id": "5d98cdbd",
   "metadata": {},
   "source": [
    "#### The authors of the databases have requested that any publications resulting from the use of the data include the names of the principal investigator responsible for the data collection at each institution. They would be:\n",
    "\n",
    "    Hungarian Institute of Cardiology. Budapest: Andras Janosi, M.D.\n",
    "    University Hospital, Zurich, Switzerland: William Steinbrunn, M.D.\n",
    "    University Hospital, Basel, Switzerland: Matthias Pfisterer, M.D.\n",
    "    V.A. Medical Center, Long Beach and Cleveland Clinic Foundation: Robert Detrano, M.D., Ph.D.\n"
   ]
  },
  {
   "cell_type": "markdown",
   "id": "f91446c0",
   "metadata": {},
   "source": [
    "## Data preprocessing."
   ]
  },
  {
   "cell_type": "code",
   "execution_count": 560,
   "id": "9620d21e",
   "metadata": {},
   "outputs": [
    {
     "name": "stdout",
     "output_type": "stream",
     "text": [
      "<class 'pandas.core.frame.DataFrame'>\n",
      "RangeIndex: 920 entries, 0 to 919\n",
      "Data columns (total 16 columns):\n",
      " #   Column    Non-Null Count  Dtype  \n",
      "---  ------    --------------  -----  \n",
      " 0   id        920 non-null    int64  \n",
      " 1   age       920 non-null    int64  \n",
      " 2   sex       920 non-null    object \n",
      " 3   origin    920 non-null    object \n",
      " 4   cp        920 non-null    object \n",
      " 5   trestbps  861 non-null    float64\n",
      " 6   chol      890 non-null    float64\n",
      " 7   fbs       830 non-null    object \n",
      " 8   restecg   918 non-null    object \n",
      " 9   thalch    865 non-null    float64\n",
      " 10  exang     865 non-null    object \n",
      " 11  oldpeak   858 non-null    float64\n",
      " 12  slope     611 non-null    object \n",
      " 13  ca        309 non-null    float64\n",
      " 14  thal      434 non-null    object \n",
      " 15  num       920 non-null    int64  \n",
      "dtypes: float64(5), int64(3), object(8)\n",
      "memory usage: 115.1+ KB\n"
     ]
    }
   ],
   "source": [
    "data.info()"
   ]
  },
  {
   "cell_type": "code",
   "execution_count": 561,
   "id": "9c42dd1d",
   "metadata": {},
   "outputs": [
    {
     "data": {
      "text/plain": [
       "num\n",
       "0    411\n",
       "1    265\n",
       "2    109\n",
       "3    107\n",
       "4     28\n",
       "Name: count, dtype: int64"
      ]
     },
     "execution_count": 561,
     "metadata": {},
     "output_type": "execute_result"
    }
   ],
   "source": [
    "data['num'].value_counts()"
   ]
  },
  {
   "cell_type": "markdown",
   "id": "0b72376b",
   "metadata": {},
   "source": [
    "#### While the values '1','2','3' predict heart disease, the value '0' defines the healthy people. For machine learning purposes, it is advisable to group data in binary."
   ]
  },
  {
   "cell_type": "code",
   "execution_count": 562,
   "id": "dbc9b525",
   "metadata": {},
   "outputs": [
    {
     "data": {
      "text/html": [
       "<div>\n",
       "<style scoped>\n",
       "    .dataframe tbody tr th:only-of-type {\n",
       "        vertical-align: middle;\n",
       "    }\n",
       "\n",
       "    .dataframe tbody tr th {\n",
       "        vertical-align: top;\n",
       "    }\n",
       "\n",
       "    .dataframe thead th {\n",
       "        text-align: right;\n",
       "    }\n",
       "</style>\n",
       "<table border=\"1\" class=\"dataframe\">\n",
       "  <thead>\n",
       "    <tr style=\"text-align: right;\">\n",
       "      <th></th>\n",
       "      <th>age</th>\n",
       "      <th>sex</th>\n",
       "      <th>origin</th>\n",
       "      <th>cp</th>\n",
       "      <th>trestbps</th>\n",
       "      <th>chol</th>\n",
       "      <th>fbs</th>\n",
       "      <th>restecg</th>\n",
       "      <th>thalch</th>\n",
       "      <th>exang</th>\n",
       "      <th>oldpeak</th>\n",
       "      <th>slope</th>\n",
       "      <th>ca</th>\n",
       "      <th>thal</th>\n",
       "      <th>target</th>\n",
       "    </tr>\n",
       "  </thead>\n",
       "  <tbody>\n",
       "    <tr>\n",
       "      <th>0</th>\n",
       "      <td>63</td>\n",
       "      <td>Male</td>\n",
       "      <td>Cleveland</td>\n",
       "      <td>typical angina</td>\n",
       "      <td>145.0</td>\n",
       "      <td>233.0</td>\n",
       "      <td>True</td>\n",
       "      <td>lv hypertrophy</td>\n",
       "      <td>150.0</td>\n",
       "      <td>False</td>\n",
       "      <td>2.3</td>\n",
       "      <td>downsloping</td>\n",
       "      <td>0.0</td>\n",
       "      <td>fixed defect</td>\n",
       "      <td>0</td>\n",
       "    </tr>\n",
       "    <tr>\n",
       "      <th>1</th>\n",
       "      <td>67</td>\n",
       "      <td>Male</td>\n",
       "      <td>Cleveland</td>\n",
       "      <td>asymptomatic</td>\n",
       "      <td>160.0</td>\n",
       "      <td>286.0</td>\n",
       "      <td>False</td>\n",
       "      <td>lv hypertrophy</td>\n",
       "      <td>108.0</td>\n",
       "      <td>True</td>\n",
       "      <td>1.5</td>\n",
       "      <td>flat</td>\n",
       "      <td>3.0</td>\n",
       "      <td>normal</td>\n",
       "      <td>1</td>\n",
       "    </tr>\n",
       "    <tr>\n",
       "      <th>2</th>\n",
       "      <td>67</td>\n",
       "      <td>Male</td>\n",
       "      <td>Cleveland</td>\n",
       "      <td>asymptomatic</td>\n",
       "      <td>120.0</td>\n",
       "      <td>229.0</td>\n",
       "      <td>False</td>\n",
       "      <td>lv hypertrophy</td>\n",
       "      <td>129.0</td>\n",
       "      <td>True</td>\n",
       "      <td>2.6</td>\n",
       "      <td>flat</td>\n",
       "      <td>2.0</td>\n",
       "      <td>reversable defect</td>\n",
       "      <td>1</td>\n",
       "    </tr>\n",
       "    <tr>\n",
       "      <th>3</th>\n",
       "      <td>37</td>\n",
       "      <td>Male</td>\n",
       "      <td>Cleveland</td>\n",
       "      <td>non-anginal</td>\n",
       "      <td>130.0</td>\n",
       "      <td>250.0</td>\n",
       "      <td>False</td>\n",
       "      <td>normal</td>\n",
       "      <td>187.0</td>\n",
       "      <td>False</td>\n",
       "      <td>3.5</td>\n",
       "      <td>downsloping</td>\n",
       "      <td>0.0</td>\n",
       "      <td>normal</td>\n",
       "      <td>0</td>\n",
       "    </tr>\n",
       "    <tr>\n",
       "      <th>4</th>\n",
       "      <td>41</td>\n",
       "      <td>Female</td>\n",
       "      <td>Cleveland</td>\n",
       "      <td>atypical angina</td>\n",
       "      <td>130.0</td>\n",
       "      <td>204.0</td>\n",
       "      <td>False</td>\n",
       "      <td>lv hypertrophy</td>\n",
       "      <td>172.0</td>\n",
       "      <td>False</td>\n",
       "      <td>1.4</td>\n",
       "      <td>upsloping</td>\n",
       "      <td>0.0</td>\n",
       "      <td>normal</td>\n",
       "      <td>0</td>\n",
       "    </tr>\n",
       "  </tbody>\n",
       "</table>\n",
       "</div>"
      ],
      "text/plain": [
       "   age     sex     origin               cp  trestbps   chol    fbs  \\\n",
       "0   63    Male  Cleveland   typical angina     145.0  233.0   True   \n",
       "1   67    Male  Cleveland     asymptomatic     160.0  286.0  False   \n",
       "2   67    Male  Cleveland     asymptomatic     120.0  229.0  False   \n",
       "3   37    Male  Cleveland      non-anginal     130.0  250.0  False   \n",
       "4   41  Female  Cleveland  atypical angina     130.0  204.0  False   \n",
       "\n",
       "          restecg  thalch  exang  oldpeak        slope   ca  \\\n",
       "0  lv hypertrophy   150.0  False      2.3  downsloping  0.0   \n",
       "1  lv hypertrophy   108.0   True      1.5         flat  3.0   \n",
       "2  lv hypertrophy   129.0   True      2.6         flat  2.0   \n",
       "3          normal   187.0  False      3.5  downsloping  0.0   \n",
       "4  lv hypertrophy   172.0  False      1.4    upsloping  0.0   \n",
       "\n",
       "                thal  target  \n",
       "0       fixed defect       0  \n",
       "1             normal       1  \n",
       "2  reversable defect       1  \n",
       "3             normal       0  \n",
       "4             normal       0  "
      ]
     },
     "execution_count": 562,
     "metadata": {},
     "output_type": "execute_result"
    }
   ],
   "source": [
    "df = pd.DataFrame(data)\n",
    "mapping = {0: 0, 1: 1, 2: 1, 3: 1, 4: 1}\n",
    "\n",
    "# Map the values in the target column to the new groups\n",
    "df['target'] = df['num'].map(mapping)\n",
    "# Drop the old target column\n",
    "df = df.drop(columns=['num'])\n",
    "# Drop the id column as irrelevant\n",
    "df = df.drop(columns=['id'])\n",
    "df.head()"
   ]
  },
  {
   "cell_type": "code",
   "execution_count": 563,
   "id": "ca4f28b8",
   "metadata": {},
   "outputs": [
    {
     "data": {
      "text/plain": [
       "target\n",
       "1    509\n",
       "0    411\n",
       "Name: count, dtype: int64"
      ]
     },
     "execution_count": 563,
     "metadata": {},
     "output_type": "execute_result"
    }
   ],
   "source": [
    "df['target'].value_counts()"
   ]
  },
  {
   "cell_type": "markdown",
   "id": "cbbbd524",
   "metadata": {},
   "source": [
    "#### There are approximately equal numbers of healthy people and patients with heart disease in the database."
   ]
  },
  {
   "cell_type": "code",
   "execution_count": 564,
   "id": "93d6afdc",
   "metadata": {},
   "outputs": [
    {
     "data": {
      "image/png": "[encoded data removed]",
      "text/plain": [
       "<Figure size 1080x360 with 2 Axes>"
      ]
     },
     "metadata": {
      "needs_background": "light"
     },
     "output_type": "display_data"
    }
   ],
   "source": [
    "target=df['target'].value_counts()\n",
    "colors=['lightcoral','lightgreen']\n",
    "figure, axes=plt.subplots(1,2, figsize=(15,5))\n",
    "\n",
    "axes[0].barh(y=target.index.astype(str), width=target.values, color=colors)\n",
    "axes[0].set_xlabel('Frequency')\n",
    "axes[0].set_ylabel('Heart disease')\n",
    "axes[1].pie(target.values, labels=['Presence', 'Absence'], colors=colors, autopct='%.2f%%')\n",
    "plt.show()"
   ]
  },
  {
   "cell_type": "markdown",
   "id": "9df430a6",
   "metadata": {},
   "source": [
    "Checking for missing values"
   ]
  },
  {
   "cell_type": "code",
   "execution_count": 565,
   "id": "ecca60de",
   "metadata": {},
   "outputs": [
    {
     "data": {
      "text/plain": [
       "age           0\n",
       "sex           0\n",
       "origin        0\n",
       "cp            0\n",
       "trestbps     59\n",
       "chol         30\n",
       "fbs          90\n",
       "restecg       2\n",
       "thalch       55\n",
       "exang        55\n",
       "oldpeak      62\n",
       "slope       309\n",
       "ca          611\n",
       "thal        486\n",
       "target        0\n",
       "dtype: int64"
      ]
     },
     "execution_count": 565,
     "metadata": {},
     "output_type": "execute_result"
    }
   ],
   "source": [
    "df.isnull().sum()"
   ]
  },
  {
   "cell_type": "code",
   "execution_count": 566,
   "id": "19819587",
   "metadata": {},
   "outputs": [
    {
     "data": {
      "text/plain": [
       "0      0\n",
       "1      0\n",
       "2      0\n",
       "3      0\n",
       "4      0\n",
       "      ..\n",
       "915    3\n",
       "916    7\n",
       "917    2\n",
       "918    7\n",
       "919    3\n",
       "Length: 920, dtype: int64"
      ]
     },
     "execution_count": 566,
     "metadata": {},
     "output_type": "execute_result"
    }
   ],
   "source": [
    "df.isnull().sum(axis=1)"
   ]
  },
  {
   "cell_type": "markdown",
   "id": "381fd37a",
   "metadata": {},
   "source": [
    "#### Because the dataset includes sensitive medical data, filling missing values with mean or mode values is not recommended."
   ]
  },
  {
   "cell_type": "code",
   "execution_count": 567,
   "id": "6f96f468",
   "metadata": {},
   "outputs": [],
   "source": [
    "# Replace infinities with NaN\n",
    "df.replace([np.inf, -np.inf], np.nan, inplace=True)\n",
    "\n",
    "# Drop rows with NaN values\n",
    "df.dropna(inplace=True)\n"
   ]
  },
  {
   "cell_type": "code",
   "execution_count": 568,
   "id": "44a2e0ac",
   "metadata": {},
   "outputs": [
    {
     "name": "stdout",
     "output_type": "stream",
     "text": [
      "<class 'pandas.core.frame.DataFrame'>\n",
      "Index: 299 entries, 0 to 748\n",
      "Data columns (total 15 columns):\n",
      " #   Column    Non-Null Count  Dtype  \n",
      "---  ------    --------------  -----  \n",
      " 0   age       299 non-null    int64  \n",
      " 1   sex       299 non-null    object \n",
      " 2   origin    299 non-null    object \n",
      " 3   cp        299 non-null    object \n",
      " 4   trestbps  299 non-null    float64\n",
      " 5   chol      299 non-null    float64\n",
      " 6   fbs       299 non-null    object \n",
      " 7   restecg   299 non-null    object \n",
      " 8   thalch    299 non-null    float64\n",
      " 9   exang     299 non-null    object \n",
      " 10  oldpeak   299 non-null    float64\n",
      " 11  slope     299 non-null    object \n",
      " 12  ca        299 non-null    float64\n",
      " 13  thal      299 non-null    object \n",
      " 14  target    299 non-null    int64  \n",
      "dtypes: float64(5), int64(2), object(8)\n",
      "memory usage: 37.4+ KB\n"
     ]
    }
   ],
   "source": [
    "df.info()"
   ]
  },
  {
   "cell_type": "code",
   "execution_count": 569,
   "id": "a3678a08",
   "metadata": {},
   "outputs": [
    {
     "data": {
      "text/plain": [
       "age         0\n",
       "sex         0\n",
       "origin      0\n",
       "cp          0\n",
       "trestbps    0\n",
       "chol        0\n",
       "fbs         0\n",
       "restecg     0\n",
       "thalch      0\n",
       "exang       0\n",
       "oldpeak     0\n",
       "slope       0\n",
       "ca          0\n",
       "thal        0\n",
       "target      0\n",
       "dtype: int64"
      ]
     },
     "execution_count": 569,
     "metadata": {},
     "output_type": "execute_result"
    }
   ],
   "source": [
    "df.isnull().sum()"
   ]
  },
  {
   "cell_type": "code",
   "execution_count": 570,
   "id": "bbcb03d2",
   "metadata": {},
   "outputs": [
    {
     "data": {
      "text/plain": [
       "0      0\n",
       "1      0\n",
       "2      0\n",
       "3      0\n",
       "4      0\n",
       "      ..\n",
       "299    0\n",
       "300    0\n",
       "301    0\n",
       "508    0\n",
       "748    0\n",
       "Length: 299, dtype: int64"
      ]
     },
     "execution_count": 570,
     "metadata": {},
     "output_type": "execute_result"
    }
   ],
   "source": [
    "df.isnull().sum(axis=1)"
   ]
  },
  {
   "cell_type": "markdown",
   "id": "4c38cc0a",
   "metadata": {},
   "source": [
    "#### The dataset contains both numeric and categorical values. For exploratory data analysis, it is advisable to divide the data into appropriate groups."
   ]
  },
  {
   "cell_type": "markdown",
   "id": "4e48b276",
   "metadata": {},
   "source": [
    "### EDA of numerical data."
   ]
  },
  {
   "cell_type": "code",
   "execution_count": 571,
   "id": "9b4f157b",
   "metadata": {},
   "outputs": [],
   "source": [
    "numeric = ['age', 'trestbps', 'chol', 'thalch', 'oldpeak', 'ca', 'target']"
   ]
  },
  {
   "cell_type": "code",
   "execution_count": 572,
   "id": "3756aca1",
   "metadata": {},
   "outputs": [],
   "source": [
    "df[numeric] = outlier_treatment(df[numeric])"
   ]
  },
  {
   "cell_type": "code",
   "execution_count": 573,
   "id": "39a6cf61",
   "metadata": {},
   "outputs": [
    {
     "name": "stdout",
     "output_type": "stream",
     "text": [
      "Group of healthy: W-statistic = 0.8425946235656738, p-value = 6.71956064221e-32\n",
      "the date of healthy is not normally distributed\n",
      "Group with Heart Disease: W-statistic = 0.8439850211143494, p-value = 7.357342781683668e-30\n",
      "the date of heart disease having is not normally distributed\n"
     ]
    }
   ],
   "source": [
    "check_normality(df[numeric])"
   ]
  },
  {
   "cell_type": "code",
   "execution_count": 574,
   "id": "4a820cab",
   "metadata": {},
   "outputs": [
    {
     "data": {
      "text/html": [
       "<div>\n",
       "<style scoped>\n",
       "    .dataframe tbody tr th:only-of-type {\n",
       "        vertical-align: middle;\n",
       "    }\n",
       "\n",
       "    .dataframe tbody tr th {\n",
       "        vertical-align: top;\n",
       "    }\n",
       "\n",
       "    .dataframe thead th {\n",
       "        text-align: right;\n",
       "    }\n",
       "</style>\n",
       "<table border=\"1\" class=\"dataframe\">\n",
       "  <thead>\n",
       "    <tr style=\"text-align: right;\">\n",
       "      <th></th>\n",
       "      <th>age</th>\n",
       "      <th>trestbps</th>\n",
       "      <th>chol</th>\n",
       "      <th>thalch</th>\n",
       "      <th>oldpeak</th>\n",
       "      <th>ca</th>\n",
       "      <th>target</th>\n",
       "    </tr>\n",
       "  </thead>\n",
       "  <tbody>\n",
       "    <tr>\n",
       "      <th>count</th>\n",
       "      <td>299.000000</td>\n",
       "      <td>299.000000</td>\n",
       "      <td>299.000000</td>\n",
       "      <td>299.000000</td>\n",
       "      <td>299.000000</td>\n",
       "      <td>299.000000</td>\n",
       "      <td>299.000000</td>\n",
       "    </tr>\n",
       "    <tr>\n",
       "      <th>mean</th>\n",
       "      <td>54.521739</td>\n",
       "      <td>131.715719</td>\n",
       "      <td>246.785953</td>\n",
       "      <td>149.327759</td>\n",
       "      <td>1.058528</td>\n",
       "      <td>0.672241</td>\n",
       "      <td>0.464883</td>\n",
       "    </tr>\n",
       "    <tr>\n",
       "      <th>std</th>\n",
       "      <td>9.030264</td>\n",
       "      <td>17.747751</td>\n",
       "      <td>52.532582</td>\n",
       "      <td>23.121062</td>\n",
       "      <td>1.162769</td>\n",
       "      <td>0.937438</td>\n",
       "      <td>0.499601</td>\n",
       "    </tr>\n",
       "    <tr>\n",
       "      <th>min</th>\n",
       "      <td>29.000000</td>\n",
       "      <td>94.000000</td>\n",
       "      <td>100.000000</td>\n",
       "      <td>71.000000</td>\n",
       "      <td>0.000000</td>\n",
       "      <td>0.000000</td>\n",
       "      <td>0.000000</td>\n",
       "    </tr>\n",
       "    <tr>\n",
       "      <th>25%</th>\n",
       "      <td>48.000000</td>\n",
       "      <td>120.000000</td>\n",
       "      <td>211.000000</td>\n",
       "      <td>132.500000</td>\n",
       "      <td>0.000000</td>\n",
       "      <td>0.000000</td>\n",
       "      <td>0.000000</td>\n",
       "    </tr>\n",
       "    <tr>\n",
       "      <th>50%</th>\n",
       "      <td>56.000000</td>\n",
       "      <td>130.000000</td>\n",
       "      <td>242.000000</td>\n",
       "      <td>152.000000</td>\n",
       "      <td>0.800000</td>\n",
       "      <td>0.000000</td>\n",
       "      <td>0.000000</td>\n",
       "    </tr>\n",
       "    <tr>\n",
       "      <th>75%</th>\n",
       "      <td>61.000000</td>\n",
       "      <td>140.000000</td>\n",
       "      <td>275.500000</td>\n",
       "      <td>165.500000</td>\n",
       "      <td>1.600000</td>\n",
       "      <td>1.000000</td>\n",
       "      <td>1.000000</td>\n",
       "    </tr>\n",
       "    <tr>\n",
       "      <th>max</th>\n",
       "      <td>77.000000</td>\n",
       "      <td>200.000000</td>\n",
       "      <td>564.000000</td>\n",
       "      <td>202.000000</td>\n",
       "      <td>6.200000</td>\n",
       "      <td>3.000000</td>\n",
       "      <td>1.000000</td>\n",
       "    </tr>\n",
       "  </tbody>\n",
       "</table>\n",
       "</div>"
      ],
      "text/plain": [
       "              age    trestbps        chol      thalch     oldpeak          ca  \\\n",
       "count  299.000000  299.000000  299.000000  299.000000  299.000000  299.000000   \n",
       "mean    54.521739  131.715719  246.785953  149.327759    1.058528    0.672241   \n",
       "std      9.030264   17.747751   52.532582   23.121062    1.162769    0.937438   \n",
       "min     29.000000   94.000000  100.000000   71.000000    0.000000    0.000000   \n",
       "25%     48.000000  120.000000  211.000000  132.500000    0.000000    0.000000   \n",
       "50%     56.000000  130.000000  242.000000  152.000000    0.800000    0.000000   \n",
       "75%     61.000000  140.000000  275.500000  165.500000    1.600000    1.000000   \n",
       "max     77.000000  200.000000  564.000000  202.000000    6.200000    3.000000   \n",
       "\n",
       "           target  \n",
       "count  299.000000  \n",
       "mean     0.464883  \n",
       "std      0.499601  \n",
       "min      0.000000  \n",
       "25%      0.000000  \n",
       "50%      0.000000  \n",
       "75%      1.000000  \n",
       "max      1.000000  "
      ]
     },
     "execution_count": 574,
     "metadata": {},
     "output_type": "execute_result"
    }
   ],
   "source": [
    "df[numeric].describe(include='all')"
   ]
  },
  {
   "cell_type": "code",
   "execution_count": 575,
   "id": "2d119b06",
   "metadata": {},
   "outputs": [
    {
     "data": {
      "text/html": [
       "<div>\n",
       "<style scoped>\n",
       "    .dataframe tbody tr th:only-of-type {\n",
       "        vertical-align: middle;\n",
       "    }\n",
       "\n",
       "    .dataframe tbody tr th {\n",
       "        vertical-align: top;\n",
       "    }\n",
       "\n",
       "    .dataframe thead th {\n",
       "        text-align: right;\n",
       "    }\n",
       "</style>\n",
       "<table border=\"1\" class=\"dataframe\">\n",
       "  <thead>\n",
       "    <tr style=\"text-align: right;\">\n",
       "      <th></th>\n",
       "      <th>age</th>\n",
       "      <th>trestbps</th>\n",
       "      <th>chol</th>\n",
       "      <th>thalch</th>\n",
       "      <th>oldpeak</th>\n",
       "      <th>ca</th>\n",
       "      <th>target</th>\n",
       "    </tr>\n",
       "  </thead>\n",
       "  <tbody>\n",
       "    <tr>\n",
       "      <th>age</th>\n",
       "      <td>1.000000</td>\n",
       "      <td>0.294627</td>\n",
       "      <td>0.183580</td>\n",
       "      <td>-0.383994</td>\n",
       "      <td>0.249087</td>\n",
       "      <td>0.383070</td>\n",
       "      <td>0.236056</td>\n",
       "    </tr>\n",
       "    <tr>\n",
       "      <th>trestbps</th>\n",
       "      <td>0.294627</td>\n",
       "      <td>1.000000</td>\n",
       "      <td>0.140869</td>\n",
       "      <td>-0.049598</td>\n",
       "      <td>0.155534</td>\n",
       "      <td>0.076636</td>\n",
       "      <td>0.132335</td>\n",
       "    </tr>\n",
       "    <tr>\n",
       "      <th>chol</th>\n",
       "      <td>0.183580</td>\n",
       "      <td>0.140869</td>\n",
       "      <td>1.000000</td>\n",
       "      <td>-0.023664</td>\n",
       "      <td>0.018354</td>\n",
       "      <td>0.139908</td>\n",
       "      <td>0.106593</td>\n",
       "    </tr>\n",
       "    <tr>\n",
       "      <th>thalch</th>\n",
       "      <td>-0.383994</td>\n",
       "      <td>-0.049598</td>\n",
       "      <td>-0.023664</td>\n",
       "      <td>1.000000</td>\n",
       "      <td>-0.439465</td>\n",
       "      <td>-0.279205</td>\n",
       "      <td>-0.434501</td>\n",
       "    </tr>\n",
       "    <tr>\n",
       "      <th>oldpeak</th>\n",
       "      <td>0.249087</td>\n",
       "      <td>0.155534</td>\n",
       "      <td>0.018354</td>\n",
       "      <td>-0.439465</td>\n",
       "      <td>1.000000</td>\n",
       "      <td>0.260626</td>\n",
       "      <td>0.414202</td>\n",
       "    </tr>\n",
       "    <tr>\n",
       "      <th>ca</th>\n",
       "      <td>0.383070</td>\n",
       "      <td>0.076636</td>\n",
       "      <td>0.139908</td>\n",
       "      <td>-0.279205</td>\n",
       "      <td>0.260626</td>\n",
       "      <td>1.000000</td>\n",
       "      <td>0.482963</td>\n",
       "    </tr>\n",
       "    <tr>\n",
       "      <th>target</th>\n",
       "      <td>0.236056</td>\n",
       "      <td>0.132335</td>\n",
       "      <td>0.106593</td>\n",
       "      <td>-0.434501</td>\n",
       "      <td>0.414202</td>\n",
       "      <td>0.482963</td>\n",
       "      <td>1.000000</td>\n",
       "    </tr>\n",
       "  </tbody>\n",
       "</table>\n",
       "</div>"
      ],
      "text/plain": [
       "               age  trestbps      chol    thalch   oldpeak        ca    target\n",
       "age       1.000000  0.294627  0.183580 -0.383994  0.249087  0.383070  0.236056\n",
       "trestbps  0.294627  1.000000  0.140869 -0.049598  0.155534  0.076636  0.132335\n",
       "chol      0.183580  0.140869  1.000000 -0.023664  0.018354  0.139908  0.106593\n",
       "thalch   -0.383994 -0.049598 -0.023664  1.000000 -0.439465 -0.279205 -0.434501\n",
       "oldpeak   0.249087  0.155534  0.018354 -0.439465  1.000000  0.260626  0.414202\n",
       "ca        0.383070  0.076636  0.139908 -0.279205  0.260626  1.000000  0.482963\n",
       "target    0.236056  0.132335  0.106593 -0.434501  0.414202  0.482963  1.000000"
      ]
     },
     "execution_count": 575,
     "metadata": {},
     "output_type": "execute_result"
    }
   ],
   "source": [
    "# Check data correlation\n",
    "df[numeric].corr(method='spearman')"
   ]
  },
  {
   "cell_type": "code",
   "execution_count": 576,
   "id": "b1e6e28c",
   "metadata": {},
   "outputs": [
    {
     "data": {
      "text/plain": [
       "<AxesSubplot:>"
      ]
     },
     "execution_count": 576,
     "metadata": {},
     "output_type": "execute_result"
    },
    {
     "data": {
      "image/png": "[encoded data removed]",
      "text/plain": [
       "<Figure size 432x288 with 2 Axes>"
      ]
     },
     "metadata": {
      "needs_background": "light"
     },
     "output_type": "display_data"
    }
   ],
   "source": [
    "sns.heatmap(df[numeric].corr(method='spearman'))"
   ]
  },
  {
   "cell_type": "markdown",
   "id": "d7e2273c",
   "metadata": {},
   "source": [
    "#### The correlation heatmap demonstrates a strong correlation between the number of major vessels colored by fluoroscopy, ages of patient, ST depression and the target variable (presence or absence of heart disease)"
   ]
  },
  {
   "cell_type": "code",
   "execution_count": 577,
   "id": "63aa9a0b",
   "metadata": {},
   "outputs": [
    {
     "name": "stdout",
     "output_type": "stream",
     "text": [
      "Pearson correlation: 0.3627635052076773 p-value: 9.920919811828042e-11\n"
     ]
    }
   ],
   "source": [
    "from scipy.stats import pearsonr, spearmanr, kendalltau\n",
    "r = pearsonr(df['ca'], df['age'])\n",
    "print('Pearson correlation:', r[0], 'p-value:', r[1])"
   ]
  },
  {
   "cell_type": "code",
   "execution_count": 578,
   "id": "8a83eeb8",
   "metadata": {},
   "outputs": [
    {
     "name": "stdout",
     "output_type": "stream",
     "text": [
      "Spearman correlation: 0.2606260854550495 p-value: 4.948954002990665e-06\n"
     ]
    }
   ],
   "source": [
    "r = spearmanr(df['ca'], df['oldpeak'])\n",
    "print('Spearman correlation:', r[0], 'p-value:', r[1])"
   ]
  },
  {
   "cell_type": "code",
   "execution_count": 579,
   "id": "e5df4a2b",
   "metadata": {},
   "outputs": [
    {
     "name": "stdout",
     "output_type": "stream",
     "text": [
      "Ca vs. Heart Disease: (0.4553980878971928, 1.0279513505339087e-16)\n",
      "Oldpeak vs. Heart Disease: (0.4249472689646413, 1.5353648495103936e-14)\n",
      "Age vs. Heart Disease: (0.22349750720542, 9.7044958993712e-05)\n"
     ]
    }
   ],
   "source": [
    "r_ca_heart_disease = pearsonr(df['ca'], df['target'])\n",
    "print('Ca vs. Heart Disease:', r_ca_heart_disease)\n",
    "r_old_peak_heart_disease = pearsonr(df['oldpeak'], df['target'])\n",
    "print('Oldpeak vs. Heart Disease:', r_old_peak_heart_disease)\n",
    "r_age_heart_disease = pearsonr(df['age'], df['target'])\n",
    "print('Age vs. Heart Disease:', r_age_heart_disease)"
   ]
  },
  {
   "cell_type": "markdown",
   "id": "5a63ed04",
   "metadata": {},
   "source": [
    "#### A p value less than 0.05 confirms the rejection of the hypothesis about the absence of correlation between the variables under consideration."
   ]
  },
  {
   "cell_type": "markdown",
   "id": "87b0b2bb",
   "metadata": {},
   "source": [
    "### EDA of categorical data."
   ]
  },
  {
   "cell_type": "code",
   "execution_count": 580,
   "id": "d4ffd96b",
   "metadata": {},
   "outputs": [],
   "source": [
    "df.drop(['origin'], axis=1, inplace=True)"
   ]
  },
  {
   "cell_type": "code",
   "execution_count": 581,
   "id": "123e2336",
   "metadata": {},
   "outputs": [],
   "source": [
    "categoric = ['sex', 'cp', 'fbs', 'restecg', 'exang', 'slope','thal','target']"
   ]
  },
  {
   "cell_type": "code",
   "execution_count": 582,
   "id": "1b0bbaa2",
   "metadata": {},
   "outputs": [
    {
     "data": {
      "text/html": [
       "<div>\n",
       "<style scoped>\n",
       "    .dataframe tbody tr th:only-of-type {\n",
       "        vertical-align: middle;\n",
       "    }\n",
       "\n",
       "    .dataframe tbody tr th {\n",
       "        vertical-align: top;\n",
       "    }\n",
       "\n",
       "    .dataframe thead th {\n",
       "        text-align: right;\n",
       "    }\n",
       "</style>\n",
       "<table border=\"1\" class=\"dataframe\">\n",
       "  <thead>\n",
       "    <tr style=\"text-align: right;\">\n",
       "      <th></th>\n",
       "      <th>sex</th>\n",
       "      <th>cp</th>\n",
       "      <th>fbs</th>\n",
       "      <th>restecg</th>\n",
       "      <th>exang</th>\n",
       "      <th>slope</th>\n",
       "      <th>thal</th>\n",
       "      <th>target</th>\n",
       "    </tr>\n",
       "  </thead>\n",
       "  <tbody>\n",
       "    <tr>\n",
       "      <th>0</th>\n",
       "      <td>Male</td>\n",
       "      <td>typical angina</td>\n",
       "      <td>True</td>\n",
       "      <td>lv hypertrophy</td>\n",
       "      <td>False</td>\n",
       "      <td>downsloping</td>\n",
       "      <td>fixed defect</td>\n",
       "      <td>0</td>\n",
       "    </tr>\n",
       "    <tr>\n",
       "      <th>1</th>\n",
       "      <td>Male</td>\n",
       "      <td>asymptomatic</td>\n",
       "      <td>False</td>\n",
       "      <td>lv hypertrophy</td>\n",
       "      <td>True</td>\n",
       "      <td>flat</td>\n",
       "      <td>normal</td>\n",
       "      <td>1</td>\n",
       "    </tr>\n",
       "    <tr>\n",
       "      <th>2</th>\n",
       "      <td>Male</td>\n",
       "      <td>asymptomatic</td>\n",
       "      <td>False</td>\n",
       "      <td>lv hypertrophy</td>\n",
       "      <td>True</td>\n",
       "      <td>flat</td>\n",
       "      <td>reversable defect</td>\n",
       "      <td>1</td>\n",
       "    </tr>\n",
       "    <tr>\n",
       "      <th>3</th>\n",
       "      <td>Male</td>\n",
       "      <td>non-anginal</td>\n",
       "      <td>False</td>\n",
       "      <td>normal</td>\n",
       "      <td>False</td>\n",
       "      <td>downsloping</td>\n",
       "      <td>normal</td>\n",
       "      <td>0</td>\n",
       "    </tr>\n",
       "    <tr>\n",
       "      <th>4</th>\n",
       "      <td>Female</td>\n",
       "      <td>atypical angina</td>\n",
       "      <td>False</td>\n",
       "      <td>lv hypertrophy</td>\n",
       "      <td>False</td>\n",
       "      <td>upsloping</td>\n",
       "      <td>normal</td>\n",
       "      <td>0</td>\n",
       "    </tr>\n",
       "  </tbody>\n",
       "</table>\n",
       "</div>"
      ],
      "text/plain": [
       "      sex               cp    fbs         restecg  exang        slope  \\\n",
       "0    Male   typical angina   True  lv hypertrophy  False  downsloping   \n",
       "1    Male     asymptomatic  False  lv hypertrophy   True         flat   \n",
       "2    Male     asymptomatic  False  lv hypertrophy   True         flat   \n",
       "3    Male      non-anginal  False          normal  False  downsloping   \n",
       "4  Female  atypical angina  False  lv hypertrophy  False    upsloping   \n",
       "\n",
       "                thal  target  \n",
       "0       fixed defect       0  \n",
       "1             normal       1  \n",
       "2  reversable defect       1  \n",
       "3             normal       0  \n",
       "4             normal       0  "
      ]
     },
     "execution_count": 582,
     "metadata": {},
     "output_type": "execute_result"
    }
   ],
   "source": [
    "df[categoric].head()"
   ]
  },
  {
   "cell_type": "markdown",
   "id": "508751dd",
   "metadata": {},
   "source": [
    "#### Set up hypothese that there is no association between the categorical variables. For EDA use Chi-Square Statistic, which indicates the magnitude of the difference between the observed and expected frequencies."
   ]
  },
  {
   "cell_type": "code",
   "execution_count": 583,
   "id": "31633704",
   "metadata": {},
   "outputs": [
    {
     "name": "stdout",
     "output_type": "stream",
     "text": [
      "Chi-Square Statistic: 22.56759415762495\n",
      "P-value: 2.028779736181713e-06\n"
     ]
    },
    {
     "data": {
      "image/png": "[encoded data removed]",
      "text/plain": [
       "<Figure size 432x288 with 2 Axes>"
      ]
     },
     "metadata": {
      "needs_background": "light"
     },
     "output_type": "display_data"
    }
   ],
   "source": [
    "categoric_correlation(df[categoric],'sex','target')"
   ]
  },
  {
   "cell_type": "code",
   "execution_count": 584,
   "id": "aa9df975",
   "metadata": {},
   "outputs": [
    {
     "name": "stdout",
     "output_type": "stream",
     "text": [
      "Chi-Square Statistic: 78.91278890176218\n",
      "P-value: 5.250756261663884e-17\n"
     ]
    },
    {
     "data": {
      "image/png": "[encoded data removed]",
      "text/plain": [
       "<Figure size 432x288 with 2 Axes>"
      ]
     },
     "metadata": {
      "needs_background": "light"
     },
     "output_type": "display_data"
    }
   ],
   "source": [
    "categoric_correlation(df[categoric],'cp','target')"
   ]
  },
  {
   "cell_type": "code",
   "execution_count": 585,
   "id": "c0822475",
   "metadata": {},
   "outputs": [
    {
     "name": "stdout",
     "output_type": "stream",
     "text": [
      "Chi-Square Statistic: 0.0\n",
      "P-value: 1.0\n"
     ]
    },
    {
     "data": {
      "image/png": "[encoded data removed]",
      "text/plain": [
       "<Figure size 432x288 with 2 Axes>"
      ]
     },
     "metadata": {
      "needs_background": "light"
     },
     "output_type": "display_data"
    }
   ],
   "source": [
    "categoric_correlation(df[categoric],'fbs','target')"
   ]
  },
  {
   "cell_type": "markdown",
   "id": "2b4cfcd8",
   "metadata": {},
   "source": [
    "#### Since the p-value is greater than 0.05, fail to reject the hypothesis. There is no statistically significant association between fasting blood sugar in 2 hours and presence or absence heart disease."
   ]
  },
  {
   "cell_type": "code",
   "execution_count": 586,
   "id": "a2b84cb2",
   "metadata": {},
   "outputs": [
    {
     "name": "stdout",
     "output_type": "stream",
     "text": [
      "Chi-Square Statistic: 8.776152768026458\n",
      "P-value: 0.012424606419337495\n"
     ]
    },
    {
     "data": {
      "image/png": "[encoded data removed]",
      "text/plain": [
       "<Figure size 432x288 with 2 Axes>"
      ]
     },
     "metadata": {
      "needs_background": "light"
     },
     "output_type": "display_data"
    }
   ],
   "source": [
    "categoric_correlation(df[categoric],'restecg','target')"
   ]
  },
  {
   "cell_type": "markdown",
   "id": "fb145518",
   "metadata": {},
   "source": [
    "#### Since the p-value is greater than 0.05, fail to reject the hypothesis. There is no statistically significant association between resting electrocardiographic results  and presence or absence heart disease."
   ]
  },
  {
   "cell_type": "code",
   "execution_count": 587,
   "id": "6ff6b66e",
   "metadata": {},
   "outputs": [
    {
     "name": "stdout",
     "output_type": "stream",
     "text": [
      "Chi-Square Statistic: 52.74338913585041\n",
      "P-value: 3.8010057921072105e-13\n"
     ]
    },
    {
     "data": {
      "image/png": "[encoded data removed]",
      "text/plain": [
       "<Figure size 432x288 with 2 Axes>"
      ]
     },
     "metadata": {
      "needs_background": "light"
     },
     "output_type": "display_data"
    }
   ],
   "source": [
    "categoric_correlation(df[categoric],'exang','target')"
   ]
  },
  {
   "cell_type": "code",
   "execution_count": 588,
   "id": "ab0bc5ea",
   "metadata": {},
   "outputs": [
    {
     "name": "stdout",
     "output_type": "stream",
     "text": [
      "Chi-Square Statistic: 44.771628206170924\n",
      "P-value: 1.8965507220173321e-10\n"
     ]
    },
    {
     "data": {
      "image/png": "[encoded data removed]",
      "text/plain": [
       "<Figure size 432x288 with 2 Axes>"
      ]
     },
     "metadata": {
      "needs_background": "light"
     },
     "output_type": "display_data"
    }
   ],
   "source": [
    "categoric_correlation(df[categoric],'slope','target')"
   ]
  },
  {
   "cell_type": "code",
   "execution_count": 589,
   "id": "e9e027c2",
   "metadata": {},
   "outputs": [
    {
     "name": "stdout",
     "output_type": "stream",
     "text": [
      "Chi-Square Statistic: 84.2540152329356\n",
      "P-value: 5.063759291403921e-19\n"
     ]
    },
    {
     "data": {
      "image/png": "[encoded data removed]",
      "text/plain": [
       "<Figure size 432x288 with 2 Axes>"
      ]
     },
     "metadata": {
      "needs_background": "light"
     },
     "output_type": "display_data"
    }
   ],
   "source": [
    "categoric_correlation(df[categoric],'thal','target')"
   ]
  },
  {
   "cell_type": "markdown",
   "id": "d9bb3171",
   "metadata": {},
   "source": [
    "#### Data on fasting blood sugar in 2 hours and resting electrocardiographic results  are removed as they do not have a significant impact on the predicted variable. \n",
    "\n",
    "PS. This and other conclusion is based on the introduced data. Nevertheless, in reality, the correlation can be different. For example, the presence of ST-T abnormalities or LV hypertrophy on a resting ECG can be critical in diagnosing heart disease and assessing the risk of future cardiac events. "
   ]
  },
  {
   "cell_type": "code",
   "execution_count": 590,
   "id": "f73b83b3",
   "metadata": {},
   "outputs": [],
   "source": [
    "df.drop(['fbs','restecg'], axis=1, inplace=True)"
   ]
  },
  {
   "cell_type": "code",
   "execution_count": 591,
   "id": "500f2d9c",
   "metadata": {},
   "outputs": [
    {
     "data": {
      "text/html": [
       "<div>\n",
       "<style scoped>\n",
       "    .dataframe tbody tr th:only-of-type {\n",
       "        vertical-align: middle;\n",
       "    }\n",
       "\n",
       "    .dataframe tbody tr th {\n",
       "        vertical-align: top;\n",
       "    }\n",
       "\n",
       "    .dataframe thead th {\n",
       "        text-align: right;\n",
       "    }\n",
       "</style>\n",
       "<table border=\"1\" class=\"dataframe\">\n",
       "  <thead>\n",
       "    <tr style=\"text-align: right;\">\n",
       "      <th></th>\n",
       "      <th>age</th>\n",
       "      <th>sex</th>\n",
       "      <th>cp</th>\n",
       "      <th>trestbps</th>\n",
       "      <th>chol</th>\n",
       "      <th>thalch</th>\n",
       "      <th>exang</th>\n",
       "      <th>oldpeak</th>\n",
       "      <th>slope</th>\n",
       "      <th>ca</th>\n",
       "      <th>thal</th>\n",
       "      <th>target</th>\n",
       "    </tr>\n",
       "  </thead>\n",
       "  <tbody>\n",
       "    <tr>\n",
       "      <th>0</th>\n",
       "      <td>63</td>\n",
       "      <td>1</td>\n",
       "      <td>3</td>\n",
       "      <td>145.0</td>\n",
       "      <td>233.0</td>\n",
       "      <td>150.0</td>\n",
       "      <td>0</td>\n",
       "      <td>2.3</td>\n",
       "      <td>0</td>\n",
       "      <td>0.0</td>\n",
       "      <td>0</td>\n",
       "      <td>0</td>\n",
       "    </tr>\n",
       "    <tr>\n",
       "      <th>1</th>\n",
       "      <td>67</td>\n",
       "      <td>1</td>\n",
       "      <td>0</td>\n",
       "      <td>160.0</td>\n",
       "      <td>286.0</td>\n",
       "      <td>108.0</td>\n",
       "      <td>1</td>\n",
       "      <td>1.5</td>\n",
       "      <td>1</td>\n",
       "      <td>3.0</td>\n",
       "      <td>1</td>\n",
       "      <td>1</td>\n",
       "    </tr>\n",
       "    <tr>\n",
       "      <th>2</th>\n",
       "      <td>67</td>\n",
       "      <td>1</td>\n",
       "      <td>0</td>\n",
       "      <td>120.0</td>\n",
       "      <td>229.0</td>\n",
       "      <td>129.0</td>\n",
       "      <td>1</td>\n",
       "      <td>2.6</td>\n",
       "      <td>1</td>\n",
       "      <td>2.0</td>\n",
       "      <td>2</td>\n",
       "      <td>1</td>\n",
       "    </tr>\n",
       "    <tr>\n",
       "      <th>3</th>\n",
       "      <td>37</td>\n",
       "      <td>1</td>\n",
       "      <td>2</td>\n",
       "      <td>130.0</td>\n",
       "      <td>250.0</td>\n",
       "      <td>187.0</td>\n",
       "      <td>0</td>\n",
       "      <td>3.5</td>\n",
       "      <td>0</td>\n",
       "      <td>0.0</td>\n",
       "      <td>1</td>\n",
       "      <td>0</td>\n",
       "    </tr>\n",
       "    <tr>\n",
       "      <th>4</th>\n",
       "      <td>41</td>\n",
       "      <td>0</td>\n",
       "      <td>1</td>\n",
       "      <td>130.0</td>\n",
       "      <td>204.0</td>\n",
       "      <td>172.0</td>\n",
       "      <td>0</td>\n",
       "      <td>1.4</td>\n",
       "      <td>2</td>\n",
       "      <td>0.0</td>\n",
       "      <td>1</td>\n",
       "      <td>0</td>\n",
       "    </tr>\n",
       "    <tr>\n",
       "      <th>...</th>\n",
       "      <td>...</td>\n",
       "      <td>...</td>\n",
       "      <td>...</td>\n",
       "      <td>...</td>\n",
       "      <td>...</td>\n",
       "      <td>...</td>\n",
       "      <td>...</td>\n",
       "      <td>...</td>\n",
       "      <td>...</td>\n",
       "      <td>...</td>\n",
       "      <td>...</td>\n",
       "      <td>...</td>\n",
       "    </tr>\n",
       "    <tr>\n",
       "      <th>299</th>\n",
       "      <td>68</td>\n",
       "      <td>1</td>\n",
       "      <td>0</td>\n",
       "      <td>144.0</td>\n",
       "      <td>193.0</td>\n",
       "      <td>141.0</td>\n",
       "      <td>0</td>\n",
       "      <td>3.4</td>\n",
       "      <td>1</td>\n",
       "      <td>2.0</td>\n",
       "      <td>2</td>\n",
       "      <td>1</td>\n",
       "    </tr>\n",
       "    <tr>\n",
       "      <th>300</th>\n",
       "      <td>57</td>\n",
       "      <td>1</td>\n",
       "      <td>0</td>\n",
       "      <td>130.0</td>\n",
       "      <td>131.0</td>\n",
       "      <td>115.0</td>\n",
       "      <td>1</td>\n",
       "      <td>1.2</td>\n",
       "      <td>1</td>\n",
       "      <td>1.0</td>\n",
       "      <td>2</td>\n",
       "      <td>1</td>\n",
       "    </tr>\n",
       "    <tr>\n",
       "      <th>301</th>\n",
       "      <td>57</td>\n",
       "      <td>0</td>\n",
       "      <td>1</td>\n",
       "      <td>130.0</td>\n",
       "      <td>236.0</td>\n",
       "      <td>174.0</td>\n",
       "      <td>0</td>\n",
       "      <td>0.0</td>\n",
       "      <td>1</td>\n",
       "      <td>1.0</td>\n",
       "      <td>1</td>\n",
       "      <td>1</td>\n",
       "    </tr>\n",
       "    <tr>\n",
       "      <th>508</th>\n",
       "      <td>47</td>\n",
       "      <td>1</td>\n",
       "      <td>0</td>\n",
       "      <td>150.0</td>\n",
       "      <td>226.0</td>\n",
       "      <td>98.0</td>\n",
       "      <td>1</td>\n",
       "      <td>1.5</td>\n",
       "      <td>1</td>\n",
       "      <td>0.0</td>\n",
       "      <td>2</td>\n",
       "      <td>1</td>\n",
       "    </tr>\n",
       "    <tr>\n",
       "      <th>748</th>\n",
       "      <td>56</td>\n",
       "      <td>1</td>\n",
       "      <td>0</td>\n",
       "      <td>120.0</td>\n",
       "      <td>100.0</td>\n",
       "      <td>120.0</td>\n",
       "      <td>1</td>\n",
       "      <td>1.5</td>\n",
       "      <td>1</td>\n",
       "      <td>0.0</td>\n",
       "      <td>2</td>\n",
       "      <td>1</td>\n",
       "    </tr>\n",
       "  </tbody>\n",
       "</table>\n",
       "<p>299 rows × 12 columns</p>\n",
       "</div>"
      ],
      "text/plain": [
       "     age  sex  cp  trestbps   chol  thalch  exang  oldpeak  slope   ca  thal  \\\n",
       "0     63    1   3     145.0  233.0   150.0      0      2.3      0  0.0     0   \n",
       "1     67    1   0     160.0  286.0   108.0      1      1.5      1  3.0     1   \n",
       "2     67    1   0     120.0  229.0   129.0      1      2.6      1  2.0     2   \n",
       "3     37    1   2     130.0  250.0   187.0      0      3.5      0  0.0     1   \n",
       "4     41    0   1     130.0  204.0   172.0      0      1.4      2  0.0     1   \n",
       "..   ...  ...  ..       ...    ...     ...    ...      ...    ...  ...   ...   \n",
       "299   68    1   0     144.0  193.0   141.0      0      3.4      1  2.0     2   \n",
       "300   57    1   0     130.0  131.0   115.0      1      1.2      1  1.0     2   \n",
       "301   57    0   1     130.0  236.0   174.0      0      0.0      1  1.0     1   \n",
       "508   47    1   0     150.0  226.0    98.0      1      1.5      1  0.0     2   \n",
       "748   56    1   0     120.0  100.0   120.0      1      1.5      1  0.0     2   \n",
       "\n",
       "     target  \n",
       "0         0  \n",
       "1         1  \n",
       "2         1  \n",
       "3         0  \n",
       "4         0  \n",
       "..      ...  \n",
       "299       1  \n",
       "300       1  \n",
       "301       1  \n",
       "508       1  \n",
       "748       1  \n",
       "\n",
       "[299 rows x 12 columns]"
      ]
     },
     "execution_count": 591,
     "metadata": {},
     "output_type": "execute_result"
    }
   ],
   "source": [
    "# Fit and transform the categorical columns\n",
    "categorical_columns = ['sex', 'cp', 'exang', 'slope','thal','target']\n",
    "categoric_encoding(df, categorical_columns)"
   ]
  },
  {
   "cell_type": "code",
   "execution_count": 592,
   "id": "e888fc1e",
   "metadata": {},
   "outputs": [
    {
     "data": {
      "text/html": [
       "<div>\n",
       "<style scoped>\n",
       "    .dataframe tbody tr th:only-of-type {\n",
       "        vertical-align: middle;\n",
       "    }\n",
       "\n",
       "    .dataframe tbody tr th {\n",
       "        vertical-align: top;\n",
       "    }\n",
       "\n",
       "    .dataframe thead th {\n",
       "        text-align: right;\n",
       "    }\n",
       "</style>\n",
       "<table border=\"1\" class=\"dataframe\">\n",
       "  <thead>\n",
       "    <tr style=\"text-align: right;\">\n",
       "      <th></th>\n",
       "      <th>age</th>\n",
       "      <th>sex</th>\n",
       "      <th>cp</th>\n",
       "      <th>trestbps</th>\n",
       "      <th>chol</th>\n",
       "      <th>thalch</th>\n",
       "      <th>exang</th>\n",
       "      <th>oldpeak</th>\n",
       "      <th>slope</th>\n",
       "      <th>ca</th>\n",
       "      <th>thal</th>\n",
       "      <th>target</th>\n",
       "    </tr>\n",
       "  </thead>\n",
       "  <tbody>\n",
       "    <tr>\n",
       "      <th>0</th>\n",
       "      <td>0.940446</td>\n",
       "      <td>0.687682</td>\n",
       "      <td>1.987204</td>\n",
       "      <td>0.749760</td>\n",
       "      <td>-0.262867</td>\n",
       "      <td>0.029124</td>\n",
       "      <td>-0.703562</td>\n",
       "      <td>1.069475</td>\n",
       "      <td>-2.264299</td>\n",
       "      <td>-0.718306</td>\n",
       "      <td>-2.276554</td>\n",
       "      <td>0</td>\n",
       "    </tr>\n",
       "    <tr>\n",
       "      <th>1</th>\n",
       "      <td>1.384143</td>\n",
       "      <td>0.687682</td>\n",
       "      <td>-0.920662</td>\n",
       "      <td>1.596354</td>\n",
       "      <td>0.747722</td>\n",
       "      <td>-1.790447</td>\n",
       "      <td>1.421338</td>\n",
       "      <td>0.380309</td>\n",
       "      <td>-0.640737</td>\n",
       "      <td>2.487269</td>\n",
       "      <td>-0.566279</td>\n",
       "      <td>1</td>\n",
       "    </tr>\n",
       "    <tr>\n",
       "      <th>2</th>\n",
       "      <td>1.384143</td>\n",
       "      <td>0.687682</td>\n",
       "      <td>-0.920662</td>\n",
       "      <td>-0.661231</td>\n",
       "      <td>-0.339138</td>\n",
       "      <td>-0.880662</td>\n",
       "      <td>1.421338</td>\n",
       "      <td>1.327912</td>\n",
       "      <td>-0.640737</td>\n",
       "      <td>1.418744</td>\n",
       "      <td>1.143997</td>\n",
       "      <td>1</td>\n",
       "    </tr>\n",
       "    <tr>\n",
       "      <th>3</th>\n",
       "      <td>-1.943588</td>\n",
       "      <td>0.687682</td>\n",
       "      <td>1.017915</td>\n",
       "      <td>-0.096835</td>\n",
       "      <td>0.061285</td>\n",
       "      <td>1.632079</td>\n",
       "      <td>-0.703562</td>\n",
       "      <td>2.103224</td>\n",
       "      <td>-2.264299</td>\n",
       "      <td>-0.718306</td>\n",
       "      <td>-0.566279</td>\n",
       "      <td>0</td>\n",
       "    </tr>\n",
       "    <tr>\n",
       "      <th>4</th>\n",
       "      <td>-1.499891</td>\n",
       "      <td>-1.454161</td>\n",
       "      <td>0.048627</td>\n",
       "      <td>-0.096835</td>\n",
       "      <td>-0.815830</td>\n",
       "      <td>0.982232</td>\n",
       "      <td>-0.703562</td>\n",
       "      <td>0.294163</td>\n",
       "      <td>0.982825</td>\n",
       "      <td>-0.718306</td>\n",
       "      <td>-0.566279</td>\n",
       "      <td>0</td>\n",
       "    </tr>\n",
       "    <tr>\n",
       "      <th>...</th>\n",
       "      <td>...</td>\n",
       "      <td>...</td>\n",
       "      <td>...</td>\n",
       "      <td>...</td>\n",
       "      <td>...</td>\n",
       "      <td>...</td>\n",
       "      <td>...</td>\n",
       "      <td>...</td>\n",
       "      <td>...</td>\n",
       "      <td>...</td>\n",
       "      <td>...</td>\n",
       "      <td>...</td>\n",
       "    </tr>\n",
       "    <tr>\n",
       "      <th>299</th>\n",
       "      <td>1.495068</td>\n",
       "      <td>0.687682</td>\n",
       "      <td>-0.920662</td>\n",
       "      <td>0.693320</td>\n",
       "      <td>-1.025575</td>\n",
       "      <td>-0.360784</td>\n",
       "      <td>-0.703562</td>\n",
       "      <td>2.017078</td>\n",
       "      <td>-0.640737</td>\n",
       "      <td>1.418744</td>\n",
       "      <td>1.143997</td>\n",
       "      <td>1</td>\n",
       "    </tr>\n",
       "    <tr>\n",
       "      <th>300</th>\n",
       "      <td>0.274900</td>\n",
       "      <td>0.687682</td>\n",
       "      <td>-0.920662</td>\n",
       "      <td>-0.096835</td>\n",
       "      <td>-2.207774</td>\n",
       "      <td>-1.487186</td>\n",
       "      <td>1.421338</td>\n",
       "      <td>0.121872</td>\n",
       "      <td>-0.640737</td>\n",
       "      <td>0.350219</td>\n",
       "      <td>1.143997</td>\n",
       "      <td>1</td>\n",
       "    </tr>\n",
       "    <tr>\n",
       "      <th>301</th>\n",
       "      <td>0.274900</td>\n",
       "      <td>-1.454161</td>\n",
       "      <td>0.048627</td>\n",
       "      <td>-0.096835</td>\n",
       "      <td>-0.205664</td>\n",
       "      <td>1.068878</td>\n",
       "      <td>-0.703562</td>\n",
       "      <td>-0.911877</td>\n",
       "      <td>-0.640737</td>\n",
       "      <td>0.350219</td>\n",
       "      <td>-0.566279</td>\n",
       "      <td>1</td>\n",
       "    </tr>\n",
       "    <tr>\n",
       "      <th>508</th>\n",
       "      <td>-0.834344</td>\n",
       "      <td>0.687682</td>\n",
       "      <td>-0.920662</td>\n",
       "      <td>1.031958</td>\n",
       "      <td>-0.396341</td>\n",
       "      <td>-2.223678</td>\n",
       "      <td>1.421338</td>\n",
       "      <td>0.380309</td>\n",
       "      <td>-0.640737</td>\n",
       "      <td>-0.718306</td>\n",
       "      <td>1.143997</td>\n",
       "      <td>1</td>\n",
       "    </tr>\n",
       "    <tr>\n",
       "      <th>748</th>\n",
       "      <td>0.163975</td>\n",
       "      <td>0.687682</td>\n",
       "      <td>-0.920662</td>\n",
       "      <td>-0.661231</td>\n",
       "      <td>-2.798873</td>\n",
       "      <td>-1.270570</td>\n",
       "      <td>1.421338</td>\n",
       "      <td>0.380309</td>\n",
       "      <td>-0.640737</td>\n",
       "      <td>-0.718306</td>\n",
       "      <td>1.143997</td>\n",
       "      <td>1</td>\n",
       "    </tr>\n",
       "  </tbody>\n",
       "</table>\n",
       "<p>299 rows × 12 columns</p>\n",
       "</div>"
      ],
      "text/plain": [
       "          age       sex        cp  trestbps      chol    thalch     exang  \\\n",
       "0    0.940446  0.687682  1.987204  0.749760 -0.262867  0.029124 -0.703562   \n",
       "1    1.384143  0.687682 -0.920662  1.596354  0.747722 -1.790447  1.421338   \n",
       "2    1.384143  0.687682 -0.920662 -0.661231 -0.339138 -0.880662  1.421338   \n",
       "3   -1.943588  0.687682  1.017915 -0.096835  0.061285  1.632079 -0.703562   \n",
       "4   -1.499891 -1.454161  0.048627 -0.096835 -0.815830  0.982232 -0.703562   \n",
       "..        ...       ...       ...       ...       ...       ...       ...   \n",
       "299  1.495068  0.687682 -0.920662  0.693320 -1.025575 -0.360784 -0.703562   \n",
       "300  0.274900  0.687682 -0.920662 -0.096835 -2.207774 -1.487186  1.421338   \n",
       "301  0.274900 -1.454161  0.048627 -0.096835 -0.205664  1.068878 -0.703562   \n",
       "508 -0.834344  0.687682 -0.920662  1.031958 -0.396341 -2.223678  1.421338   \n",
       "748  0.163975  0.687682 -0.920662 -0.661231 -2.798873 -1.270570  1.421338   \n",
       "\n",
       "      oldpeak     slope        ca      thal  target  \n",
       "0    1.069475 -2.264299 -0.718306 -2.276554       0  \n",
       "1    0.380309 -0.640737  2.487269 -0.566279       1  \n",
       "2    1.327912 -0.640737  1.418744  1.143997       1  \n",
       "3    2.103224 -2.264299 -0.718306 -0.566279       0  \n",
       "4    0.294163  0.982825 -0.718306 -0.566279       0  \n",
       "..        ...       ...       ...       ...     ...  \n",
       "299  2.017078 -0.640737  1.418744  1.143997       1  \n",
       "300  0.121872 -0.640737  0.350219  1.143997       1  \n",
       "301 -0.911877 -0.640737  0.350219 -0.566279       1  \n",
       "508  0.380309 -0.640737 -0.718306  1.143997       1  \n",
       "748  0.380309 -0.640737 -0.718306  1.143997       1  \n",
       "\n",
       "[299 rows x 12 columns]"
      ]
     },
     "execution_count": 592,
     "metadata": {},
     "output_type": "execute_result"
    }
   ],
   "source": [
    "# Fit and scale dataset\n",
    "numerical_columns = df.select_dtypes(include=['number']).columns\n",
    "numerical_columns = numerical_columns.drop('target')\n",
    "numerical_scaling(df,numerical_columns)"
   ]
  },
  {
   "cell_type": "markdown",
   "id": "b535a099",
   "metadata": {},
   "source": [
    "## Data training."
   ]
  },
  {
   "cell_type": "code",
   "execution_count": 593,
   "id": "a83ceeda",
   "metadata": {},
   "outputs": [],
   "source": [
    "# Define features and target\n",
    "X = df.drop('target', axis=1)\n",
    "y = df['target']"
   ]
  },
  {
   "cell_type": "code",
   "execution_count": 594,
   "id": "6f539249",
   "metadata": {},
   "outputs": [],
   "source": [
    "# Split the data\n",
    "X_train, X_test, y_train, y_test = train_test_split(X, y, test_size=0.15, random_state=42)"
   ]
  },
  {
   "cell_type": "code",
   "execution_count": 595,
   "id": "214837bc",
   "metadata": {},
   "outputs": [],
   "source": [
    "from sklearn.tree import DecisionTreeClassifier\n",
    "# Initialize the DecisionTreeClassifier\n",
    "model = DecisionTreeClassifier(random_state=42)\n",
    "\n",
    "# Fit the model to the training data\n",
    "model.fit(X_train, y_train)\n",
    "\n",
    "# Make predictions on the test data\n",
    "y_pred1 = model.predict(X_test)"
   ]
  },
  {
   "cell_type": "markdown",
   "id": "b13ce0ae",
   "metadata": {},
   "source": [
    "## Evaluation."
   ]
  },
  {
   "cell_type": "code",
   "execution_count": 596,
   "id": "f850ad2e",
   "metadata": {},
   "outputs": [
    {
     "name": "stdout",
     "output_type": "stream",
     "text": [
      "Mean Absolute Error (MAE): 0.2222222222222222\n",
      "Accuracy: 0.7777777777777778\n",
      "Confusion Matrix:\n",
      " [[20  8]\n",
      " [ 2 15]]\n",
      "Classification Report:\n",
      "               precision    recall  f1-score   support\n",
      "\n",
      "           0       0.91      0.71      0.80        28\n",
      "           1       0.65      0.88      0.75        17\n",
      "\n",
      "    accuracy                           0.78        45\n",
      "   macro avg       0.78      0.80      0.78        45\n",
      "weighted avg       0.81      0.78      0.78        45\n",
      "\n"
     ]
    }
   ],
   "source": [
    "# Calculate MAE\n",
    "mae = mean_absolute_error(y_test, y_pred1)\n",
    "print(f\"Mean Absolute Error (MAE): {mae}\")\n",
    "\n",
    "# Calculate accuracy\n",
    "accuracy = accuracy_score(y_test, y_pred1)\n",
    "print(\"Accuracy:\", accuracy)\n",
    "\n",
    "# Confusion matrix\n",
    "conf_matrix = confusion_matrix(y_test, y_pred1)\n",
    "print(\"Confusion Matrix:\\n\", conf_matrix)\n",
    "\n",
    "# Classification report\n",
    "class_report = classification_report(y_test, y_pred1)\n",
    "print(\"Classification Report:\\n\", class_report)"
   ]
  },
  {
   "cell_type": "code",
   "execution_count": 597,
   "id": "29d7b94d",
   "metadata": {},
   "outputs": [
    {
     "data": {
      "image/png": "[encoded data removed]",
      "text/plain": [
       "<Figure size 432x288 with 2 Axes>"
      ]
     },
     "metadata": {
      "needs_background": "light"
     },
     "output_type": "display_data"
    }
   ],
   "source": [
    "scores_visualisation(y_test, y_pred1)"
   ]
  },
  {
   "cell_type": "markdown",
   "id": "010a4b69",
   "metadata": {},
   "source": [
    "### Decision Tree Classifier is a simple and effective machine learning model. Accuracy, MAE, and the confusion matrix are good enough to accept this model. Nevertheless, there are more effective models for classification purposes. Take the Random Forest Classifier for comparison."
   ]
  },
  {
   "cell_type": "code",
   "execution_count": 598,
   "id": "e2034262",
   "metadata": {},
   "outputs": [],
   "source": [
    "from sklearn.ensemble import RandomForestClassifier\n",
    "# Initialize the RandomForestClassifier\n",
    "model = RandomForestClassifier(n_estimators=100, random_state=42)\n",
    "\n",
    "# Fit the model to the training data\n",
    "model.fit(X_train, y_train)\n",
    "\n",
    "# Make predictions on the test data\n",
    "y_pred2 = model.predict(X_test)"
   ]
  },
  {
   "cell_type": "code",
   "execution_count": 599,
   "id": "50079607",
   "metadata": {},
   "outputs": [
    {
     "name": "stdout",
     "output_type": "stream",
     "text": [
      "Mean Absolute Error (MAE): 0.13333333333333333\n",
      "Accuracy: 0.8666666666666667\n",
      "Confusion Matrix:\n",
      " [[24  4]\n",
      " [ 2 15]]\n",
      "Classification Report:\n",
      "               precision    recall  f1-score   support\n",
      "\n",
      "           0       0.92      0.86      0.89        28\n",
      "           1       0.79      0.88      0.83        17\n",
      "\n",
      "    accuracy                           0.87        45\n",
      "   macro avg       0.86      0.87      0.86        45\n",
      "weighted avg       0.87      0.87      0.87        45\n",
      "\n"
     ]
    }
   ],
   "source": [
    "# Calculate MAE\n",
    "mae = mean_absolute_error(y_test, y_pred2)\n",
    "print(f\"Mean Absolute Error (MAE): {mae}\")\n",
    "\n",
    "# Calculate accuracy\n",
    "accuracy = accuracy_score(y_test, y_pred2)\n",
    "print(\"Accuracy:\", accuracy)\n",
    "\n",
    "# Confusion matrix\n",
    "conf_matrix = confusion_matrix(y_test, y_pred2)\n",
    "print(\"Confusion Matrix:\\n\", conf_matrix)\n",
    "\n",
    "# Classification report\n",
    "class_report = classification_report(y_test, y_pred2)\n",
    "print(\"Classification Report:\\n\", class_report)"
   ]
  },
  {
   "cell_type": "code",
   "execution_count": 600,
   "id": "464004fa",
   "metadata": {},
   "outputs": [
    {
     "data": {
      "image/png": "[encoded data removed]",
      "text/plain": [
       "<Figure size 432x288 with 2 Axes>"
      ]
     },
     "metadata": {
      "needs_background": "light"
     },
     "output_type": "display_data"
    }
   ],
   "source": [
    "scores_visualisation(y_test, y_pred2)"
   ]
  },
  {
   "cell_type": "markdown",
   "id": "f14e6522",
   "metadata": {},
   "source": [
    "## Conclusion."
   ]
  },
  {
   "cell_type": "markdown",
   "id": "798db8c7",
   "metadata": {},
   "source": [
    "## The RandomForestClassifier model was learned with an accuracy of 87% and an MAE of 0.13. The confusion matrix also shows acceptable values for the prediction of heart disease."
   ]
  },
  {
   "cell_type": "code",
   "execution_count": null,
   "id": "5cff0ddf",
   "metadata": {},
   "outputs": [],
   "source": []
  }
 ],
 "metadata": {
  "kernelspec": {
   "display_name": "Python 3 (ipykernel)",
   "language": "python",
   "name": "python3"
  },
  "language_info": {
   "codemirror_mode": {
    "name": "ipython",
    "version": 3
   },
   "file_extension": ".py",
   "mimetype": "text/x-python",
   "name": "python",
   "nbconvert_exporter": "python",
   "pygments_lexer": "ipython3",
   "version": "3.9.7"
  }
 },
 "nbformat": 4,
 "nbformat_minor": 5
}
