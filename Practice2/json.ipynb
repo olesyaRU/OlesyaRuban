{
 "cells": [
  {
   "cell_type": "markdown",
   "metadata": {},
   "source": [
    "## Практика"
   ]
  },
  {
   "cell_type": "code",
   "execution_count": null,
   "metadata": {},
   "outputs": [],
   "source": []
  },
  {
   "cell_type": "code",
   "execution_count": null,
   "metadata": {},
   "outputs": [],
   "source": []
  },
  {
   "cell_type": "code",
   "execution_count": null,
   "metadata": {},
   "outputs": [],
   "source": [
    " # Задание 5.2\n",
    " # К какой кухне относится блюдо с id = 13121?\n",
    " # Возможный вариант решения:\n",
    "              \n",
    "import json # Импортируем модуль json\n",
    "from pprint import pprint # Импортируем функцию pprint()\n",
    "with open('recipes.json') as f: # Открываем файл и связываем его с объектом \"f\"\n",
    "    recipes = json.load(f) # Загружаем содержимое открытого файла в переменную recipes\n",
    "for recipe in recipes: # начинаем перебор всех блюд входящих в список\n",
    "    if recipe['id'] == 13121: # если id текущего блюда равен заданному для поиска\n",
    "        print(recipe['cuisine']) # выводим на экран наименование кухни, к которой относится блюдо\n",
    "        break # прерываем выполнение цикла, т.к. нужное блюдо найдено"
   ]
  },
  {
   "cell_type": "code",
   "execution_count": null,
   "metadata": {},
   "outputs": [],
   "source": [
    "# Задание 5.3\n",
    "# Какое количество уникальных национальных кухонь присутствуют в нашем наборе данных?\n",
    "# Возможные варианты решения:\n",
    "                    \n",
    "# Используя список        \n",
    "import json # Импортируем модуль json\n",
    "from pprint import pprint # Импортируем функцию pprint()\n",
    "with open('recipes.json') as f: # Открываем файл и связываем его с объектом \"f\"\n",
    "    recipes = json.load(f) # Загружаем содержимое открытого файла в переменную recipes\n",
    "cuisines = [] # создаём пустой список для хранения уникальных значений кухонь\n",
    "for recipe in recipes: # начинаем перебор всех рецептов\n",
    "    if not(recipe['cuisine'] in cuisines): # если тип кухни текущего блюда ещё не встречался\n",
    "        cuisines.append(recipe['cuisine']) # добавляем его к списку cuisines\n",
    "len(cuisines) # Выводим на экран полученное значение\n",
    "            \n",
    "# Используя множество\n",
    "import json # Импортируем модуль json\n",
    "from pprint import pprint # Импортируем функцию pprint()\n",
    "with open('recipes.json') as f: # Открываем файл и связываем его с объектом \"f\"\n",
    "    recipes = json.load(f) # Загружаем содержимое открытого файла в переменную recipes\n",
    "cuisines = set()  # создаём пустое множество для хранения уникальных значений кухонь\n",
    "for recipe in recipes:  # начинаем перебор всех рецептов\n",
    "    cuisines.add(recipe['cuisine']) # добавляем название типа кухни к множеству\n",
    "len(cuisines) # Выводим на экран полученное значение"
   ]
  },
  {
   "cell_type": "code",
   "execution_count": null,
   "metadata": {},
   "outputs": [],
   "source": [
    "# Задание 5.4\n",
    "# Какой из национальных кухонь принадлежит самое большое количество рецептов?\n",
    "# Возможный вариант решения:\n",
    "                    \n",
    "import json # Импортируем модуль json\n",
    "from pprint import pprint # Импортируем функцию pprint()\n",
    "with open('recipes.json') as f: # Открываем файл и связываем его с объектом \"f\"\n",
    "    recipes = json.load(f) # Загружаем содержимое открытого файла в переменную recipes\n",
    "cuisines = [] # Создаём пустой список для хранения уникальных значений кухонь\n",
    "for recipe in recipes: # Начинаем перебор всех рецептов\n",
    "    if not(recipe['cuisine'] in cuisines): # Если тип кухни текущего блюда ещё не встречался\n",
    "        cuisines.append(recipe['cuisine']) # Добавляем его к списку cuisines\n",
    "valreccuisine = {} # Создаём пустой словарь для хранения информации об количествах рецептов в каждой кухне\n",
    "for item in cuisines: # Перебираем список кухонь\n",
    "    valreccuisine[item] = 0 # Добавляем в словарь ключ, соответствующий очередной кухне\n",
    "for recipe in recipes: # Перебираем список рецептов\n",
    "    valreccuisine[recipe['cuisine']] += 1 # Увеличиваем значение нужного ключа в словаре на 1\n",
    "            \n",
    "print(max(valreccuisine, key=valreccuisine.get)) # Извлекаем значения для всех ключей используя метод get(), \n",
    "# выбираем самое максимальное значение (при наличии одинаковых значений будет выбрано первое в словаре) и выводим на экран ключ максимального значения"
   ]
  }
 ],
 "metadata": {
  "kernelspec": {
   "display_name": "Python 3",
   "language": "python",
   "name": "python3"
  },
  "language_info": {
   "codemirror_mode": {
    "name": "ipython",
    "version": 3
   },
   "file_extension": ".py",
   "mimetype": "text/x-python",
   "name": "python",
   "nbconvert_exporter": "python",
   "pygments_lexer": "ipython3",
   "version": "3.9.10"
  }
 },
 "nbformat": 4,
 "nbformat_minor": 2
}
