{
 "cells": [
  {
   "cell_type": "markdown",
   "id": "87dec23c",
   "metadata": {},
   "source": [
    "# Программирование на Python\n",
    "## Семинар 2. Погружение в типы данных\n",
    "#### Задача 1\n",
    "На вход подается предложение. Удалите из него специальные символы (',', '.', ';', '!', '?') и выведите для пользователя количество уникальных слов. Регистр букв не должен влиять на результат."
   ]
  },
  {
   "cell_type": "code",
   "execution_count": 1,
   "id": "90a0a3ab",
   "metadata": {},
   "outputs": [
    {
     "name": "stdin",
     "output_type": "stream",
     "text": [
      " 111, 55555; 55555\n"
     ]
    },
    {
     "name": "stdout",
     "output_type": "stream",
     "text": [
      "2\n"
     ]
    }
   ],
   "source": [
    "sentence = input().lower()\n",
    "\n",
    "sentence_clean = sentence.replace(',', '').replace('.', '').replace(';', '').replace('!', '').replace('?', '')\n",
    "\n",
    "sentence_words = set(sentence_clean.split())\n",
    "\n",
    "print(len(sentence_words))"
   ]
  },
  {
   "cell_type": "code",
   "execution_count": 7,
   "id": "68f3794e-040f-4aea-bd5b-6136c360cd76",
   "metadata": {},
   "outputs": [
    {
     "data": {
      "text/plain": [
       "{'word', 'word2'}"
      ]
     },
     "execution_count": 7,
     "metadata": {},
     "output_type": "execute_result"
    }
   ],
   "source": [
    "set(['word', 'word2', 'word2'])"
   ]
  },
  {
   "cell_type": "code",
   "execution_count": 1,
   "id": "477227db-4aaf-4ed3-9617-f146c8c286e9",
   "metadata": {},
   "outputs": [
    {
     "data": {
      "text/plain": [
       "['8', '8']"
      ]
     },
     "execution_count": 1,
     "metadata": {},
     "output_type": "execute_result"
    }
   ],
   "source": [
    "'8   8'.split()"
   ]
  },
  {
   "cell_type": "code",
   "execution_count": 3,
   "id": "1b8c7a53-f5ca-492d-a7f9-d280edb3d57e",
   "metadata": {},
   "outputs": [
    {
     "data": {
      "text/plain": [
       "['8', '8']"
      ]
     },
     "execution_count": 3,
     "metadata": {},
     "output_type": "execute_result"
    }
   ],
   "source": [
    "'8   8'.split(sep=None)"
   ]
  },
  {
   "cell_type": "code",
   "execution_count": 2,
   "id": "30a88052-6a8c-4b3d-9a3c-aa4da2520bed",
   "metadata": {},
   "outputs": [
    {
     "data": {
      "text/plain": [
       "['8', '', '', '8']"
      ]
     },
     "execution_count": 2,
     "metadata": {},
     "output_type": "execute_result"
    }
   ],
   "source": [
    "'8   8'.split(sep=' ')"
   ]
  },
  {
   "cell_type": "code",
   "execution_count": 4,
   "id": "61f1c5c5-8115-4c06-b18c-7b6d42614193",
   "metadata": {},
   "outputs": [
    {
     "data": {
      "text/plain": [
       "\u001b[0;31mSignature:\u001b[0m \u001b[0mstr\u001b[0m\u001b[0;34m.\u001b[0m\u001b[0msplit\u001b[0m\u001b[0;34m(\u001b[0m\u001b[0mself\u001b[0m\u001b[0;34m,\u001b[0m \u001b[0;34m/\u001b[0m\u001b[0;34m,\u001b[0m \u001b[0msep\u001b[0m\u001b[0;34m=\u001b[0m\u001b[0;32mNone\u001b[0m\u001b[0;34m,\u001b[0m \u001b[0mmaxsplit\u001b[0m\u001b[0;34m=\u001b[0m\u001b[0;34m-\u001b[0m\u001b[0;36m1\u001b[0m\u001b[0;34m)\u001b[0m\u001b[0;34m\u001b[0m\u001b[0;34m\u001b[0m\u001b[0m\n",
       "\u001b[0;31mDocstring:\u001b[0m\n",
       "Return a list of the substrings in the string, using sep as the separator string.\n",
       "\n",
       "  sep\n",
       "    The separator used to split the string.\n",
       "\n",
       "    When set to None (the default value), will split on any whitespace\n",
       "    character (including \\n \\r \\t \\f and spaces) and will discard\n",
       "    empty strings from the result.\n",
       "  maxsplit\n",
       "    Maximum number of splits (starting from the left).\n",
       "    -1 (the default value) means no limit.\n",
       "\n",
       "Note, str.split() is mainly useful for data that has been intentionally\n",
       "delimited.  With natural text that includes punctuation, consider using\n",
       "the regular expression module.\n",
       "\u001b[0;31mType:\u001b[0m      method_descriptor"
      ]
     },
     "metadata": {},
     "output_type": "display_data"
    }
   ],
   "source": [
    "?str.split"
   ]
  },
  {
   "cell_type": "markdown",
   "id": "c384bd56",
   "metadata": {},
   "source": [
    "#### Задача 2\n",
    "\n",
    "Дана строка, в которой буква h встречается как минимум два раза. Разверните последовательность символов, заключенную между первым и последним появлением буквы h, в противоположном порядке (при этом остальную часть строки оставить неизменной).\n",
    "\n",
    "`jahafdhi` -> `jahdfahi`\n",
    "\n",
    "Вариант 1"
   ]
  },
  {
   "cell_type": "code",
   "execution_count": 25,
   "id": "70ea4d29-3045-4a31-bf8e-ff3f92de0582",
   "metadata": {},
   "outputs": [
    {
     "name": "stdout",
     "output_type": "stream",
     "text": [
      "jahdfhahi\n"
     ]
    }
   ],
   "source": [
    "string = 'jahahfdhi'\n",
    "\n",
    "start_index = string.find('h') + 1\n",
    "finish_index = string.rfind('h')\n",
    "\n",
    "middle = string[start_index:finish_index][::-1]\n",
    "left_part = string[:start_index]\n",
    "right_part = string[finish_index:]\n",
    "\n",
    "print(left_part + middle + right_part)"
   ]
  },
  {
   "cell_type": "code",
   "execution_count": 27,
   "id": "c5a30999-7b54-4958-a0ca-a7fa4cf91873",
   "metadata": {},
   "outputs": [
    {
     "name": "stdout",
     "output_type": "stream",
     "text": [
      "jahdfhahi\n"
     ]
    }
   ],
   "source": [
    "print(left_part, middle, right_part, sep='')"
   ]
  },
  {
   "cell_type": "markdown",
   "id": "cacef5de-35ce-40bc-9559-131360b1f457",
   "metadata": {},
   "source": [
    "Вариант 2"
   ]
  },
  {
   "cell_type": "code",
   "execution_count": 34,
   "id": "00d7b322-b507-4170-ae0f-ed6709bee266",
   "metadata": {},
   "outputs": [
    {
     "name": "stdout",
     "output_type": "stream",
     "text": [
      "jahdfhahi\n"
     ]
    }
   ],
   "source": [
    "string = 'jahahfdhi'\n",
    "\n",
    "start_index = string.find('h')\n",
    "finish_index = string.rfind('h') - 1\n",
    "\n",
    "middle = string[finish_index:start_index:-1]\n",
    "left_part = string[:(start_index + 1)]\n",
    "right_part = string[(finish_index + 1):]\n",
    "\n",
    "print(left_part + middle + right_part)"
   ]
  },
  {
   "cell_type": "markdown",
   "id": "fbdd28ca-d50c-40f9-9034-1dc59812de08",
   "metadata": {},
   "source": [
    "Вариант 3"
   ]
  },
  {
   "cell_type": "code",
   "execution_count": 55,
   "id": "c2ab63bc-c153-4b1f-a44c-2af321afe618",
   "metadata": {},
   "outputs": [],
   "source": [
    "string = 'jahahfdhi'\n",
    "\n",
    "start_index = string.find('h') + 1\n",
    "finish_index = string.rfind('h')\n",
    "\n",
    "middle = string[start_index:finish_index]\n",
    "middle = ''.join(list(reversed(middle)))\n",
    "\n",
    "left_part = string[:start_index]\n",
    "right_part = string[finish_index:]\n",
    "\n",
    "print(left_part + middle + right_part)"
   ]
  },
  {
   "cell_type": "markdown",
   "id": "c1fbd351-7f48-4bf9-a0c6-07a63cc63391",
   "metadata": {},
   "source": [
    "Вариант 4"
   ]
  },
  {
   "cell_type": "code",
   "execution_count": 58,
   "id": "8a824a1a-2b0d-4e5a-b01b-581688d41a5b",
   "metadata": {},
   "outputs": [],
   "source": [
    "string = 'jahahfdhi'\n",
    "\n",
    "start_index = string.find('h') + 1\n",
    "finish_index = len(string) - string[::-1].rfind('h') - 1\n",
    "\n",
    "middle = string[start_index:finish_index][::-1]\n",
    "left_part = string[:start_index]\n",
    "right_part = string[finish_index:]\n",
    "\n",
    "print(left_part + middle + right_part)"
   ]
  },
  {
   "cell_type": "code",
   "execution_count": 60,
   "id": "90f4b61a-06bb-4ad6-a9b8-6852ff11cdd2",
   "metadata": {},
   "outputs": [
    {
     "data": {
      "text/plain": [
       "\u001b[0;31mDocstring:\u001b[0m\n",
       "S.find(sub[, start[, end]]) -> int\n",
       "\n",
       "Return the lowest index in S where substring sub is found,\n",
       "such that sub is contained within S[start:end].  Optional\n",
       "arguments start and end are interpreted as in slice notation.\n",
       "\n",
       "Return -1 on failure.\n",
       "\u001b[0;31mType:\u001b[0m      method_descriptor"
      ]
     },
     "metadata": {},
     "output_type": "display_data"
    }
   ],
   "source": [
    "?str.find"
   ]
  },
  {
   "cell_type": "code",
   "execution_count": 36,
   "id": "c6d53d2d-6e95-4453-bb75-a252a479b64e",
   "metadata": {},
   "outputs": [
    {
     "data": {
      "text/plain": [
       "'ahfd'"
      ]
     },
     "execution_count": 36,
     "metadata": {},
     "output_type": "execute_result"
    }
   ],
   "source": [
    "middle"
   ]
  },
  {
   "cell_type": "code",
   "execution_count": 53,
   "id": "2974f31e-1457-4197-b0ea-0efbd41d8b30",
   "metadata": {},
   "outputs": [
    {
     "data": {
      "text/plain": [
       "4"
      ]
     },
     "execution_count": 53,
     "metadata": {},
     "output_type": "execute_result"
    }
   ],
   "source": [
    "len(middle)"
   ]
  },
  {
   "cell_type": "code",
   "execution_count": 39,
   "id": "32e33648-66b9-4ad2-9149-147c240d030f",
   "metadata": {},
   "outputs": [
    {
     "data": {
      "text/plain": [
       "<reversed at 0x110d41b70>"
      ]
     },
     "execution_count": 39,
     "metadata": {},
     "output_type": "execute_result"
    }
   ],
   "source": [
    "reversed(middle)"
   ]
  },
  {
   "cell_type": "code",
   "execution_count": 42,
   "id": "91ff3d80-88d5-4017-b046-1e2c4493ab69",
   "metadata": {},
   "outputs": [
    {
     "data": {
      "text/plain": [
       "['d', 'f', 'h', 'a']"
      ]
     },
     "execution_count": 42,
     "metadata": {},
     "output_type": "execute_result"
    }
   ],
   "source": [
    "list(reversed(middle))"
   ]
  },
  {
   "cell_type": "code",
   "execution_count": 52,
   "id": "27ac4ff2-1431-46da-8ebb-77d400a27fb8",
   "metadata": {},
   "outputs": [
    {
     "data": {
      "text/plain": [
       "('d', 'f', 'h', 'a')"
      ]
     },
     "execution_count": 52,
     "metadata": {},
     "output_type": "execute_result"
    }
   ],
   "source": [
    "tuple(reversed(middle))"
   ]
  },
  {
   "cell_type": "code",
   "execution_count": 48,
   "id": "d70c1ee5-7fda-4628-b966-75ce4afc873f",
   "metadata": {},
   "outputs": [
    {
     "data": {
      "text/plain": [
       "'1;2;3'"
      ]
     },
     "execution_count": 48,
     "metadata": {},
     "output_type": "execute_result"
    }
   ],
   "source": [
    "';'.join('1,2,3'.split(','))"
   ]
  },
  {
   "cell_type": "code",
   "execution_count": 51,
   "id": "223e6da9-10d0-4f18-b825-94ba575c91d6",
   "metadata": {},
   "outputs": [
    {
     "data": {
      "text/plain": [
       "'d                    f                    h                    a'"
      ]
     },
     "execution_count": 51,
     "metadata": {},
     "output_type": "execute_result"
    }
   ],
   "source": [
    "' '.join(list(reversed(middle)))"
   ]
  },
  {
   "cell_type": "code",
   "execution_count": 12,
   "id": "99fdee3c-4d9f-4113-9cde-dde3d5242fa2",
   "metadata": {},
   "outputs": [
    {
     "data": {
      "text/plain": [
       "\u001b[0;31mDocstring:\u001b[0m\n",
       "S.rfind(sub[, start[, end]]) -> int\n",
       "\n",
       "Return the highest index in S where substring sub is found,\n",
       "such that sub is contained within S[start:end].  Optional\n",
       "arguments start and end are interpreted as in slice notation.\n",
       "\n",
       "Return -1 on failure.\n",
       "\u001b[0;31mType:\u001b[0m      method_descriptor"
      ]
     },
     "metadata": {},
     "output_type": "display_data"
    }
   ],
   "source": [
    "?str.rfind"
   ]
  },
  {
   "cell_type": "markdown",
   "id": "0816928b-92bd-48e3-836f-02b79f5c76f2",
   "metadata": {},
   "source": [
    "#### Задача 3\n",
    "Напишите программу, которая принимает на вход слово на русском языке и проверяет, является ли оно палиндромом (если палиндром - сообщение пользователю, то же самое в ином случае). Case буквы не должен влиять на результат."
   ]
  },
  {
   "cell_type": "code",
   "execution_count": 22,
   "id": "eb8d20dd-599e-4a2c-bd4b-1e6a379dd2ba",
   "metadata": {},
   "outputs": [
    {
     "name": "stdin",
     "output_type": "stream",
     "text": [
      " Иоанн\n"
     ]
    },
    {
     "name": "stdout",
     "output_type": "stream",
     "text": [
      "Это НЕ палиндром\n"
     ]
    }
   ],
   "source": [
    "word = input().lower()\n",
    "\n",
    "if word == word[::-1]:\n",
    "    print('Это палиндром')\n",
    "else:\n",
    "    print('Это НЕ палиндром')"
   ]
  },
  {
   "cell_type": "code",
   "execution_count": 20,
   "id": "9985a1c5-5d15-44b3-9665-88de1f80fa58",
   "metadata": {},
   "outputs": [
    {
     "data": {
      "text/plain": [
       "'Анна'"
      ]
     },
     "execution_count": 20,
     "metadata": {},
     "output_type": "execute_result"
    }
   ],
   "source": [
    "word"
   ]
  },
  {
   "cell_type": "markdown",
   "id": "bf8372e2-231d-4841-8ecc-056898fff8fe",
   "metadata": {},
   "source": [
    "#### Задача 4\n",
    "Мы имеем словарь, в котором ключами являются идентификаторы испытуемых, а значениями - показатели датчиков за 10 дней. Нужно получить такой же словарь, но с числами (или с нулем вместо `'error'`)."
   ]
  },
  {
   "cell_type": "code",
   "execution_count": 23,
   "id": "3ecc18b4-bb0a-48f0-9616-861312bc5c92",
   "metadata": {},
   "outputs": [],
   "source": [
    "data = {\n",
    "    'patient1': ['-2.47', '10.414', '-20.147', '71.253', '6.184', '18.686', '14.767', '8.407', '49.355', '17.055'],\n",
    "    'patient2': ['-11.368', '71.067', '-31.519', 'error', '12.197', '-23.183', '28.052', '21.437', '19.261', '67.036'],\n",
    "    'patient3': ['-44.866', '-42.591', '32.409', '62.916', '23.356', 'error', '-52.277', '-20.885', '21.307', '10.846'],\n",
    "    'patient4': ['-50.765', 'error', '-26.627', 'error', '6.523', '11.412', 'error', '40.828', '-21.127', '-11.693'],\n",
    "    'patient5': ['5.076', '91.697', '-47.169', '-21.875', '-52.227', '20.551', '30.118', '-0.114', '25.138', '-21.818'],\n",
    "    'patient6': ['-15.347', '-27.504', '-33.92', '-45.092', '-23.837', '-15.655', '-43.795', '30.521', '68.682', '18.174'],\n",
    "    'patient7': ['4.825', '-22.918', 'error', '16.429', 'error', '15.604', '-27.403', 'error', '7.14', '26.587']\n",
    "}\n",
    "\n",
    "# решение\n",
    "data_new = {}\n",
    "\n",
    "for patient, patient_data in data.items():\n",
    "    patient_data_new = []\n",
    "\n",
    "    for value in patient_data:\n",
    "        if value == 'error':\n",
    "            patient_data_new.append(0.)\n",
    "        else:\n",
    "            patient_data_new.append(float(value))\n",
    "\n",
    "    data_new[patient] = patient_data_new"
   ]
  },
  {
   "cell_type": "code",
   "execution_count": 40,
   "id": "0e06557b-46a8-4fa2-937b-800ebf5749a8",
   "metadata": {},
   "outputs": [
    {
     "name": "stdout",
     "output_type": "stream",
     "text": [
      "{'patient1': [-2.47, 10.414, -20.147, 71.253, 6.184, 18.686, 14.767, 8.407, 49.355, 17.055], 'patient2': [-11.368, 71.067, -31.519, 0.0, 12.197, -23.183, 28.052, 21.437, 19.261, 67.036], 'patient3': [-44.866, -42.591, 32.409, 62.916, 23.356, 0.0, -52.277, -20.885, 21.307, 10.846], 'patient4': [-50.765, 0.0, -26.627, 0.0, 6.523, 11.412, 0.0, 40.828, -21.127, -11.693], 'patient5': [5.076, 91.697, -47.169, -21.875, -52.227, 20.551, 30.118, -0.114, 25.138, -21.818], 'patient6': [-15.347, -27.504, -33.92, -45.092, -23.837, -15.655, -43.795, 30.521, 68.682, 18.174], 'patient7': [4.825, -22.918, 0.0, 16.429, 0.0, 15.604, -27.403, 0.0, 7.14, 26.587]}\n"
     ]
    }
   ],
   "source": [
    "print(data_new)"
   ]
  },
  {
   "cell_type": "code",
   "execution_count": 29,
   "id": "ff268f14-e372-4bc3-8508-16a81f70aab8",
   "metadata": {},
   "outputs": [],
   "source": [
    "patient_data = ['4.825', '-22.918', 'error', '16.429', 'error', '15.604', '-27.403', 'error', '7.14', '26.587']\n",
    "patient_data_new = []\n",
    "\n",
    "for value in patient_data:\n",
    "    if value == 'error':\n",
    "        patient_data_new.append(0.)\n",
    "    else:\n",
    "        patient_data_new.append(float(value))"
   ]
  },
  {
   "cell_type": "code",
   "execution_count": 30,
   "id": "dd271cae-afa2-4bd3-bd35-42f9f16f9860",
   "metadata": {},
   "outputs": [
    {
     "data": {
      "text/plain": [
       "[4.825, -22.918, 0.0, 16.429, 0.0, 15.604, -27.403, 0.0, 7.14, 26.587]"
      ]
     },
     "execution_count": 30,
     "metadata": {},
     "output_type": "execute_result"
    }
   ],
   "source": [
    "patient_data_new"
   ]
  },
  {
   "cell_type": "code",
   "execution_count": 27,
   "id": "a9020757-c751-46ed-94b4-f20544b05399",
   "metadata": {},
   "outputs": [
    {
     "data": {
      "text/plain": [
       "(int, float)"
      ]
     },
     "execution_count": 27,
     "metadata": {},
     "output_type": "execute_result"
    }
   ],
   "source": [
    "type(1), type(1.)"
   ]
  },
  {
   "cell_type": "markdown",
   "id": "c64fe841-f057-4a85-9b65-ed377193bc9a",
   "metadata": {},
   "source": [
    "#### Задача 5\n",
    "Имеется геном E.coli в формате fasta ([тут](https://www.ncbi.nlm.nih.gov/nuccore/NC_011750.1?report=fasta)). Найдите два самых частых и самых редких 6-ти мера в геноме бактерии."
   ]
  },
  {
   "cell_type": "code",
   "execution_count": null,
   "id": "d0d8ac27-ee8f-4671-8670-9b57eac3f273",
   "metadata": {},
   "outputs": [],
   "source": [
    "# наш код здесь"
   ]
  },
  {
   "cell_type": "markdown",
   "id": "b370959a-cac6-4bb7-8c87-c422684cef62",
   "metadata": {},
   "source": [
    "### Разбор задач\n",
    "#### Задание 5.6 (Модуль 3)"
   ]
  },
  {
   "cell_type": "code",
   "execution_count": 31,
   "id": "6ad37cc9-4441-4d2f-986a-7ba34b3df2f1",
   "metadata": {},
   "outputs": [
    {
     "name": "stdout",
     "output_type": "stream",
     "text": [
      "Стоимость заказа составила: 8369. С учетом скидки в 5% — 7950.549999999999\n"
     ]
    }
   ],
   "source": [
    "prices = {\n",
    "    'Adidas': 4298,\n",
    "    'Nike': 6550,\n",
    "    'Puma': 4490,\n",
    "    'Asics': 3879\n",
    "}\n",
    "\n",
    "purchases = [\"Puma\", \"Asics\"]\n",
    "\n",
    "purchases_count = len(purchases)\n",
    "\n",
    "if purchases_count == 0:\n",
    "    print('Ваша корзина пуста')\n",
    "    \n",
    "elif purchases_count == 1:\n",
    "    my_purchase = purchases[0]  # получаю свой товар из корзины (корзина - список длиной 1)\n",
    "    total = prices[my_purchase]  # по ключу (товару) получаю значение\n",
    "    print(f'Стоимость заказа составила: {total}')\n",
    "    \n",
    "else:\n",
    "    if len(set(purchases)) == 1:  # имеем два ОДИНАКОВЫХ товара\n",
    "        my_purchase = purchases[0]  # на самом деле таких два\n",
    "        \n",
    "        total_without_sale = prices[my_purchase] * 2  # по ключу (товару) получаю значение, умножаю на 2 (считаю сумму)\n",
    "        total = total_without_sale * 0.9  # учитываю скидку\n",
    "        \n",
    "        print(f'Стоимость заказа составила: {total_without_sale}. С учетом скидки в 10% — {total}')\n",
    "        \n",
    "    else:  # имеем два РАЗНЫХ товара\n",
    "        my_purchase1 = purchases[0]\n",
    "        my_purchase2 = purchases[1]\n",
    "\n",
    "        total_without_sale = prices[my_purchase1] + prices[my_purchase2]  # по ключам (товарам) получаю значения (2)\n",
    "        total = total_without_sale * 0.95  # учитываю скидку\n",
    "\n",
    "        print(f'Стоимость заказа составила: {total_without_sale}. С учетом скидки в 5% — {total}')"
   ]
  },
  {
   "cell_type": "markdown",
   "id": "025f5aa8-d201-4242-a887-46c94461de4e",
   "metadata": {},
   "source": [
    "#### Задание 5.8 (Модуль 3)"
   ]
  },
  {
   "cell_type": "code",
   "execution_count": 12,
   "id": "8a579a86-77d5-4dc4-9899-13bf95e16de2",
   "metadata": {},
   "outputs": [],
   "source": [
    "city_info = \"Москва , не готов к переезду , готов к командировкам\""
   ]
  },
  {
   "cell_type": "code",
   "execution_count": 18,
   "id": "00a4866e-7550-48f3-884f-25ad854f8589",
   "metadata": {},
   "outputs": [
    {
     "data": {
      "text/plain": [
       "'Москва'"
      ]
     },
     "execution_count": 18,
     "metadata": {},
     "output_type": "execute_result"
    }
   ],
   "source": [
    "city_info[:city_info.find(' ')]"
   ]
  },
  {
   "cell_type": "code",
   "execution_count": 14,
   "id": "17971782-ffcd-4422-9144-a5a800e0a6a1",
   "metadata": {},
   "outputs": [
    {
     "data": {
      "text/plain": [
       "'о'"
      ]
     },
     "execution_count": 14,
     "metadata": {},
     "output_type": "execute_result"
    }
   ],
   "source": [
    "city_info[1]"
   ]
  },
  {
   "cell_type": "code",
   "execution_count": 15,
   "id": "0f05f415-e14a-46d8-ab48-bf070a0b8f3f",
   "metadata": {},
   "outputs": [
    {
     "data": {
      "text/plain": [
       "'Москва'"
      ]
     },
     "execution_count": 15,
     "metadata": {},
     "output_type": "execute_result"
    }
   ],
   "source": [
    "city_info.split()[0]"
   ]
  },
  {
   "cell_type": "code",
   "execution_count": 8,
   "id": "bad9f7b0-b677-4ad8-a6c8-dc984466583e",
   "metadata": {},
   "outputs": [],
   "source": [
    "city_info = \"Иваново , готов к переезду (Сочи, Москва, Санкт-Петербург) , готов к командировкам\"\n",
    "\n",
    "city_found = city_info.split()[0]\n",
    "# city_found = city_info[:city_info.find(' ')]\n",
    "\n",
    "million_cities = [\n",
    "    'Новосибирск', 'Екатеринбург', 'Нижний Новгород', 'Казань', 'Челябинск', 'Омск', 'Самара', 'Ростов-на-Дону', 'Уфа', 'Красноярск', 'Пермь', 'Воронеж', 'Волгоград'\n",
    "]\n",
    "\n",
    "if city_found == 'Москва':\n",
    "    city = 'Москва'\n",
    "elif city_found == 'Санкт-Петербург':\n",
    "    city = 'Санкт-Петербург'\n",
    "elif city_found in million_cities:\n",
    "    city = 'Город миллионник'\n",
    "else:\n",
    "    city = 'Другое'"
   ]
  },
  {
   "cell_type": "code",
   "execution_count": 9,
   "id": "19f20a5e-0ee4-4fe3-a884-53b6527ac91e",
   "metadata": {},
   "outputs": [
    {
     "data": {
      "text/plain": [
       "'Другое'"
      ]
     },
     "execution_count": 9,
     "metadata": {},
     "output_type": "execute_result"
    }
   ],
   "source": [
    "city"
   ]
  }
 ],
 "metadata": {
  "kernelspec": {
   "display_name": "Python 3 (ipykernel)",
   "language": "python",
   "name": "python3"
  },
  "language_info": {
   "codemirror_mode": {
    "name": "ipython",
    "version": 3
   },
   "file_extension": ".py",
   "mimetype": "text/x-python",
   "name": "python",
   "nbconvert_exporter": "python",
   "pygments_lexer": "ipython3",
   "version": "3.11.6"
  }
 },
 "nbformat": 4,
 "nbformat_minor": 5
}
