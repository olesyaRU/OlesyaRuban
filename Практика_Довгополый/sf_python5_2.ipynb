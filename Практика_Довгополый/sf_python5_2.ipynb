{
 "cells": [
  {
   "cell_type": "markdown",
   "id": "87dec23c",
   "metadata": {},
   "source": [
    "# Программирование на Python\n",
    "## Семинар 5. Функции\n",
    "#### Задача 1 (жизненная)\n",
    "Предположим, что вам необходимо разместить некоторую таблицу на веб-странице. Таблица имеется у вас в формате `csv`. Для размещения на странице необходимо сгенерировать `html`-код, который бы размечал данную таблицу. Вручную вы, конечно, делать это не будете. Кроме того, подобная задача может встретиться вам снова. Поэтому напишите функцию, которая будет принимать на вход путь к `csv`-файлу и сохранять его копию в `html`-формате в новом файле.\n",
    "\n",
    "Для тренировки воспользуйтесь файлом `cortisol.csv`.\n",
    "\n",
    "**Алгоритм решения**\n",
    "1. Разобраться в условии и расшифровать термины, которые непонятны: csv, html;\n",
    "2. Делим задачу на осмысленные подзадачи.\n",
    "\n",
    "**Как искать информацию**\n",
    "1. Загугли;\n",
    "2. Если не получается найти ответ в течение 5-10 минут либо не получается понять концепцию в течение часа-двух, лучше обратиться к более опытным коллегам.\n",
    "\n",
    "**План**\n",
    "1. <s>Считать текст из файла;</s>\n",
    "2. Преобразовать его в HTML-код;\n",
    "3. Сохранить в новый;\n",
    "4. Обернуть все в функцию."
   ]
  },
  {
   "cell_type": "markdown",
   "id": "efbc9619-7515-4526-9439-565ca9cae6dc",
   "metadata": {},
   "source": [
    "<p>Параграф</p>\n",
    "\n",
    "<b>Жирный текст</b>\n",
    "\n",
    "<table>\n",
    "    <thead>\n",
    "        <tr>\n",
    "            <th>Заголовок 1</th>\n",
    "            <th>Заголовок 2</th>\n",
    "        </tr>\n",
    "    </thead>\n",
    "    <tbody>\n",
    "        <tr>\n",
    "            <td>Ячейка 1.1</td>\n",
    "            <td>Ячейка 1.2</td>\n",
    "        </tr>\n",
    "        <tr>\n",
    "            <td>Ячейка 2.1</td>\n",
    "            <td>Ячейка 2.2</td>\n",
    "        </tr>\n",
    "    </tbody>\n",
    "</table>"
   ]
  },
  {
   "cell_type": "code",
   "execution_count": 14,
   "id": "5be151dd-edb0-4a75-b4ab-6d0855577e9a",
   "metadata": {},
   "outputs": [],
   "source": [
    "def from_csv_to_html(filename_from: str) -> str:\n",
    "    \"\"\"\n",
    "    This function takes name of csv-file and converts this file to html. Name of a new file is returned\n",
    "\n",
    "    filename_from: str - csv to convert\n",
    "    \"\"\"\n",
    "    filename_to = filename_from.replace('csv', 'html')\n",
    "    \n",
    "    file_from = open(filename_from, mode='r')\n",
    "    file_to = open(filename_to, mode='a')\n",
    "    \n",
    "    is_first = True\n",
    "    \n",
    "    for line in file_from:\n",
    "        line_split = line.strip().split(',')\n",
    "        \n",
    "        if is_first:\n",
    "            line_html = [f'<th>{value}</th>' for value in line_split]\n",
    "            line_html = '<table><thead><tr>' + ''.join(line_html) + '</tr></thead>\\n<tbody>'\n",
    "            is_first = False\n",
    "        else:\n",
    "            line_html = [f'<td>{value}</td>' for value in line_split]\n",
    "            line_html = '<tr>' + ''.join(line_html) + '</tr>\\n'\n",
    "    \n",
    "        file_to.write(line_html)\n",
    "    else:\n",
    "        file_to.write('</tbody></table>')\n",
    "    \n",
    "    file_from.close()\n",
    "    file_to.close()\n",
    "\n",
    "    return filename_to"
   ]
  },
  {
   "cell_type": "code",
   "execution_count": 19,
   "id": "4a55de40-fb33-4e44-8143-5101775d1cc8",
   "metadata": {},
   "outputs": [
    {
     "data": {
      "text/plain": [
       "'\"some quated text\" (C) some person'"
      ]
     },
     "execution_count": 19,
     "metadata": {},
     "output_type": "execute_result"
    }
   ],
   "source": [
    "'\"some quated text\" (C) some person'"
   ]
  },
  {
   "cell_type": "code",
   "execution_count": 21,
   "id": "7c3ec00e-ab14-47a2-8e46-a945bcbcd9c0",
   "metadata": {},
   "outputs": [
    {
     "name": "stdout",
     "output_type": "stream",
     "text": [
      "here we use both ' and \"\n"
     ]
    }
   ],
   "source": [
    "print('here we use both \\' and \"')"
   ]
  },
  {
   "cell_type": "code",
   "execution_count": 15,
   "id": "8b7a9059-b688-49b8-aa6b-681e75cb22fe",
   "metadata": {},
   "outputs": [
    {
     "data": {
      "text/plain": [
       "\u001b[0;31mSignature:\u001b[0m \u001b[0mfrom_csv_to_html\u001b[0m\u001b[0;34m(\u001b[0m\u001b[0mfilename_from\u001b[0m\u001b[0;34m:\u001b[0m \u001b[0mstr\u001b[0m\u001b[0;34m)\u001b[0m \u001b[0;34m->\u001b[0m \u001b[0mstr\u001b[0m\u001b[0;34m\u001b[0m\u001b[0;34m\u001b[0m\u001b[0m\n",
       "\u001b[0;31mDocstring:\u001b[0m\n",
       "This function takes name of csv-file and converts this file to html. Name of a new file is returned\n",
       "\n",
       "filename_from: str - csv to convert\n",
       "\u001b[0;31mFile:\u001b[0m      /var/folders/h6/lv17v1r10lz21g745pd6774h0tgc4z/T/ipykernel_7233/3297330045.py\n",
       "\u001b[0;31mType:\u001b[0m      function"
      ]
     },
     "metadata": {},
     "output_type": "display_data"
    }
   ],
   "source": [
    "?from_csv_to_html"
   ]
  },
  {
   "cell_type": "code",
   "execution_count": 16,
   "id": "737ea92a-c0b7-4446-bccf-54a5d1b17664",
   "metadata": {
    "scrolled": true
   },
   "outputs": [
    {
     "data": {
      "text/plain": [
       "\u001b[0;31mSignature:\u001b[0m\n",
       "\u001b[0mopen\u001b[0m\u001b[0;34m(\u001b[0m\u001b[0;34m\u001b[0m\n",
       "\u001b[0;34m\u001b[0m    \u001b[0mfile\u001b[0m\u001b[0;34m,\u001b[0m\u001b[0;34m\u001b[0m\n",
       "\u001b[0;34m\u001b[0m    \u001b[0mmode\u001b[0m\u001b[0;34m=\u001b[0m\u001b[0;34m'r'\u001b[0m\u001b[0;34m,\u001b[0m\u001b[0;34m\u001b[0m\n",
       "\u001b[0;34m\u001b[0m    \u001b[0mbuffering\u001b[0m\u001b[0;34m=\u001b[0m\u001b[0;34m-\u001b[0m\u001b[0;36m1\u001b[0m\u001b[0;34m,\u001b[0m\u001b[0;34m\u001b[0m\n",
       "\u001b[0;34m\u001b[0m    \u001b[0mencoding\u001b[0m\u001b[0;34m=\u001b[0m\u001b[0;32mNone\u001b[0m\u001b[0;34m,\u001b[0m\u001b[0;34m\u001b[0m\n",
       "\u001b[0;34m\u001b[0m    \u001b[0merrors\u001b[0m\u001b[0;34m=\u001b[0m\u001b[0;32mNone\u001b[0m\u001b[0;34m,\u001b[0m\u001b[0;34m\u001b[0m\n",
       "\u001b[0;34m\u001b[0m    \u001b[0mnewline\u001b[0m\u001b[0;34m=\u001b[0m\u001b[0;32mNone\u001b[0m\u001b[0;34m,\u001b[0m\u001b[0;34m\u001b[0m\n",
       "\u001b[0;34m\u001b[0m    \u001b[0mclosefd\u001b[0m\u001b[0;34m=\u001b[0m\u001b[0;32mTrue\u001b[0m\u001b[0;34m,\u001b[0m\u001b[0;34m\u001b[0m\n",
       "\u001b[0;34m\u001b[0m    \u001b[0mopener\u001b[0m\u001b[0;34m=\u001b[0m\u001b[0;32mNone\u001b[0m\u001b[0;34m,\u001b[0m\u001b[0;34m\u001b[0m\n",
       "\u001b[0;34m\u001b[0m\u001b[0;34m)\u001b[0m\u001b[0;34m\u001b[0m\u001b[0;34m\u001b[0m\u001b[0m\n",
       "\u001b[0;31mDocstring:\u001b[0m\n",
       "Open file and return a stream.  Raise OSError upon failure.\n",
       "\n",
       "file is either a text or byte string giving the name (and the path\n",
       "if the file isn't in the current working directory) of the file to\n",
       "be opened or an integer file descriptor of the file to be\n",
       "wrapped. (If a file descriptor is given, it is closed when the\n",
       "returned I/O object is closed, unless closefd is set to False.)\n",
       "\n",
       "mode is an optional string that specifies the mode in which the file\n",
       "is opened. It defaults to 'r' which means open for reading in text\n",
       "mode.  Other common values are 'w' for writing (truncating the file if\n",
       "it already exists), 'x' for creating and writing to a new file, and\n",
       "'a' for appending (which on some Unix systems, means that all writes\n",
       "append to the end of the file regardless of the current seek position).\n",
       "In text mode, if encoding is not specified the encoding used is platform\n",
       "dependent: locale.getencoding() is called to get the current locale encoding.\n",
       "(For reading and writing raw bytes use binary mode and leave encoding\n",
       "unspecified.) The available modes are:\n",
       "\n",
       "========= ===============================================================\n",
       "Character Meaning\n",
       "--------- ---------------------------------------------------------------\n",
       "'r'       open for reading (default)\n",
       "'w'       open for writing, truncating the file first\n",
       "'x'       create a new file and open it for writing\n",
       "'a'       open for writing, appending to the end of the file if it exists\n",
       "'b'       binary mode\n",
       "'t'       text mode (default)\n",
       "'+'       open a disk file for updating (reading and writing)\n",
       "========= ===============================================================\n",
       "\n",
       "The default mode is 'rt' (open for reading text). For binary random\n",
       "access, the mode 'w+b' opens and truncates the file to 0 bytes, while\n",
       "'r+b' opens the file without truncation. The 'x' mode implies 'w' and\n",
       "raises an `FileExistsError` if the file already exists.\n",
       "\n",
       "Python distinguishes between files opened in binary and text modes,\n",
       "even when the underlying operating system doesn't. Files opened in\n",
       "binary mode (appending 'b' to the mode argument) return contents as\n",
       "bytes objects without any decoding. In text mode (the default, or when\n",
       "'t' is appended to the mode argument), the contents of the file are\n",
       "returned as strings, the bytes having been first decoded using a\n",
       "platform-dependent encoding or using the specified encoding if given.\n",
       "\n",
       "buffering is an optional integer used to set the buffering policy.\n",
       "Pass 0 to switch buffering off (only allowed in binary mode), 1 to select\n",
       "line buffering (only usable in text mode), and an integer > 1 to indicate\n",
       "the size of a fixed-size chunk buffer.  When no buffering argument is\n",
       "given, the default buffering policy works as follows:\n",
       "\n",
       "* Binary files are buffered in fixed-size chunks; the size of the buffer\n",
       "  is chosen using a heuristic trying to determine the underlying device's\n",
       "  \"block size\" and falling back on `io.DEFAULT_BUFFER_SIZE`.\n",
       "  On many systems, the buffer will typically be 4096 or 8192 bytes long.\n",
       "\n",
       "* \"Interactive\" text files (files for which isatty() returns True)\n",
       "  use line buffering.  Other text files use the policy described above\n",
       "  for binary files.\n",
       "\n",
       "encoding is the name of the encoding used to decode or encode the\n",
       "file. This should only be used in text mode. The default encoding is\n",
       "platform dependent, but any encoding supported by Python can be\n",
       "passed.  See the codecs module for the list of supported encodings.\n",
       "\n",
       "errors is an optional string that specifies how encoding errors are to\n",
       "be handled---this argument should not be used in binary mode. Pass\n",
       "'strict' to raise a ValueError exception if there is an encoding error\n",
       "(the default of None has the same effect), or pass 'ignore' to ignore\n",
       "errors. (Note that ignoring encoding errors can lead to data loss.)\n",
       "See the documentation for codecs.register or run 'help(codecs.Codec)'\n",
       "for a list of the permitted encoding error strings.\n",
       "\n",
       "newline controls how universal newlines works (it only applies to text\n",
       "mode). It can be None, '', '\\n', '\\r', and '\\r\\n'.  It works as\n",
       "follows:\n",
       "\n",
       "* On input, if newline is None, universal newlines mode is\n",
       "  enabled. Lines in the input can end in '\\n', '\\r', or '\\r\\n', and\n",
       "  these are translated into '\\n' before being returned to the\n",
       "  caller. If it is '', universal newline mode is enabled, but line\n",
       "  endings are returned to the caller untranslated. If it has any of\n",
       "  the other legal values, input lines are only terminated by the given\n",
       "  string, and the line ending is returned to the caller untranslated.\n",
       "\n",
       "* On output, if newline is None, any '\\n' characters written are\n",
       "  translated to the system default line separator, os.linesep. If\n",
       "  newline is '' or '\\n', no translation takes place. If newline is any\n",
       "  of the other legal values, any '\\n' characters written are translated\n",
       "  to the given string.\n",
       "\n",
       "If closefd is False, the underlying file descriptor will be kept open\n",
       "when the file is closed. This does not work when a file name is given\n",
       "and must be True in that case.\n",
       "\n",
       "A custom opener can be used by passing a callable as *opener*. The\n",
       "underlying file descriptor for the file object is then obtained by\n",
       "calling *opener* with (*file*, *flags*). *opener* must return an open\n",
       "file descriptor (passing os.open as *opener* results in functionality\n",
       "similar to passing None).\n",
       "\n",
       "open() returns a file object whose type depends on the mode, and\n",
       "through which the standard file operations such as reading and writing\n",
       "are performed. When open() is used to open a file in a text mode ('w',\n",
       "'r', 'wt', 'rt', etc.), it returns a TextIOWrapper. When used to open\n",
       "a file in a binary mode, the returned class varies: in read binary\n",
       "mode, it returns a BufferedReader; in write binary and append binary\n",
       "modes, it returns a BufferedWriter, and in read/write mode, it returns\n",
       "a BufferedRandom.\n",
       "\n",
       "It is also possible to use a string or bytearray as a file for both\n",
       "reading and writing. For strings StringIO can be used like a file\n",
       "opened in a text mode, and for bytes a BytesIO can be used like a file\n",
       "opened in a binary mode.\n",
       "\u001b[0;31mType:\u001b[0m      function"
      ]
     },
     "metadata": {},
     "output_type": "display_data"
    }
   ],
   "source": [
    "?open"
   ]
  },
  {
   "cell_type": "code",
   "execution_count": 12,
   "id": "cb51d375-fcae-4f89-89d7-8024917eb538",
   "metadata": {
    "scrolled": true
   },
   "outputs": [],
   "source": [
    "file_from = open('cortisol.csv', mode='r')\n",
    "file_to = open('cortisol.html', mode='a')\n",
    "\n",
    "is_first = True\n",
    "\n",
    "for line in file_from:\n",
    "    line_split = line.strip().split(',')\n",
    "    \n",
    "    if is_first:\n",
    "        line_html = [f'<th>{value}</th>' for value in line_split]\n",
    "        line_html = '<table><thead><tr>' + ''.join(line_html) + '</tr></thead>\\n<tbody>'\n",
    "        is_first = False\n",
    "    else:\n",
    "        line_html = [f'<td>{value}</td>' for value in line_split]\n",
    "        line_html = '<tr>' + ''.join(line_html) + '</tr>\\n'\n",
    "\n",
    "    file_to.write(line_html)\n",
    "else:\n",
    "    file_to.write('</tbody></table>')\n",
    "\n",
    "file_from.close()\n",
    "file_to.close()"
   ]
  },
  {
   "cell_type": "code",
   "execution_count": null,
   "id": "14b1c3dd-4d9a-40bb-aaa0-fcdcd939e6cc",
   "metadata": {},
   "outputs": [],
   "source": [
    "file_from = open('cortisol.csv', mode='r')\n",
    "\n",
    "for line in file_from:\n",
    "    print(line)\n",
    "\n",
    "file_from.close()"
   ]
  },
  {
   "cell_type": "code",
   "execution_count": null,
   "id": "0218f914-c179-46c0-ad63-7e773b4b75a4",
   "metadata": {},
   "outputs": [],
   "source": [
    "with open('cortisol.csv', mode='r') as file:\n",
    "    for line in file_from:\n",
    "        print(line)\n",
    "\n"
   ]
  },
  {
   "cell_type": "code",
   "execution_count": 9,
   "id": "19ff1642-c026-4e2f-8c63-d6b7a9b28fae",
   "metadata": {},
   "outputs": [],
   "source": [
    "file_to = open('cortisol.html', mode='a')\n",
    "\n",
    "file_to.write('row1\\n')\n",
    "file_to.write('row2\\n')\n",
    "\n",
    "file_to.close()"
   ]
  },
  {
   "cell_type": "markdown",
   "id": "1997ba48-b33d-458c-bf4a-1ec5b4d469cb",
   "metadata": {},
   "source": [
    "<table><thead><tr><th>patient_id</th><th>time</th><th>cortisol</th></tr></thead>\n",
    "<tbody><tr><td>1</td><td>morning</td><td>310.6</td></tr>\n",
    "<tr><td>2</td><td>morning</td><td>146.1</td></tr>\n",
    "<tr><td>3</td><td>morning</td><td>297</td></tr>\n",
    "<tr><td>4</td><td>morning</td><td>270.9</td></tr>\n",
    "<tr><td>5</td><td>morning</td><td>267.5</td></tr>\n",
    "<tr><td>6</td><td>morning</td><td>263.8</td></tr>\n",
    "<tr><td>7</td><td>morning</td><td>357.6</td></tr>\n",
    "<tr><td>8</td><td>morning</td><td>316.5</td></tr>\n",
    "<tr><td>9</td><td>morning</td><td>336.1</td></tr>\n",
    "<tr><td>10</td><td>morning</td><td>220.7</td></tr>\n",
    "<tr><td>11</td><td>morning</td><td>366</td></tr>\n",
    "<tr><td>12</td><td>morning</td><td>255.9</td></tr>\n",
    "<tr><td>13</td><td>morning</td><td>432.5</td></tr>\n",
    "<tr><td>14</td><td>morning</td><td>208.3</td></tr>\n",
    "<tr><td>15</td><td>morning</td><td>324.5</td></tr>\n",
    "<tr><td>16</td><td>morning</td><td>387.8</td></tr>\n",
    "<tr><td>17</td><td>morning</td><td>332</td></tr>\n",
    "<tr><td>18</td><td>morning</td><td>414.1</td></tr>\n",
    "<tr><td>19</td><td>morning</td><td>405.1</td></tr>\n",
    "<tr><td>20</td><td>morning</td><td>356.1</td></tr>\n",
    "<tr><td>1</td><td>evening</td><td>273.2</td></tr>\n",
    "<tr><td>2</td><td>evening</td><td>65.7</td></tr>\n",
    "<tr><td>3</td><td>evening</td><td>256.6</td></tr>\n",
    "<tr><td>4</td><td>evening</td><td>321</td></tr>\n",
    "<tr><td>5</td><td>evening</td><td>80.3</td></tr>\n",
    "<tr><td>6</td><td>evening</td><td>379.3</td></tr>\n",
    "<tr><td>7</td><td>evening</td><td>162.8</td></tr>\n",
    "<tr><td>8</td><td>evening</td><td>294.5</td></tr>\n",
    "<tr><td>9</td><td>evening</td><td>140.2</td></tr>\n",
    "<tr><td>10</td><td>evening</td><td>231.1</td></tr>\n",
    "<tr><td>11</td><td>evening</td><td>130.8</td></tr>\n",
    "<tr><td>12</td><td>evening</td><td>114.2</td></tr>\n",
    "<tr><td>13</td><td>evening</td><td>217.4</td></tr>\n",
    "<tr><td>14</td><td>evening</td><td>60.1</td></tr>\n",
    "<tr><td>15</td><td>evening</td><td>199.1</td></tr>\n",
    "<tr><td>16</td><td>evening</td><td>169.7</td></tr>\n",
    "<tr><td>17</td><td>evening</td><td>160.2</td></tr>\n",
    "<tr><td>18</td><td>evening</td><td>178.8</td></tr>\n",
    "<tr><td>19</td><td>evening</td><td>286</td></tr>\n",
    "<tr><td>20</td><td>evening</td><td>226.4</td></tr>\n",
    "</tbody></table>"
   ]
  },
  {
   "cell_type": "markdown",
   "id": "ea543a6e-715f-4803-aadc-dcbbff91dd92",
   "metadata": {},
   "source": [
    "#### Задача 2\n",
    "Напишите функцию, которая будет переводить `int` в `str` без использования функции `str()`."
   ]
  },
  {
   "cell_type": "code",
   "execution_count": null,
   "id": "345ae64c-d16d-4664-910f-7793cb439642",
   "metadata": {},
   "outputs": [],
   "source": [
    "# наш код здесь"
   ]
  },
  {
   "cell_type": "markdown",
   "id": "c09b5c51-6d76-4f0e-9b52-58b84c6da718",
   "metadata": {},
   "source": [
    "#### Задача 3\n",
    "Решите прошлую задачу рекурсивно."
   ]
  },
  {
   "cell_type": "code",
   "execution_count": null,
   "id": "8f785a79-0238-4952-969b-ff277ea8f63c",
   "metadata": {},
   "outputs": [],
   "source": [
    "# наш код здесь"
   ]
  },
  {
   "cell_type": "markdown",
   "id": "392ae8fc-f61e-47d8-a261-1f307fc6534f",
   "metadata": {},
   "source": [
    "#### Задача 4\n",
    "Напишите функцию, которая считает факториал рекурсивно."
   ]
  },
  {
   "cell_type": "code",
   "execution_count": 22,
   "id": "2a91523f-edd4-4850-aa4a-000c9161b0fd",
   "metadata": {},
   "outputs": [],
   "source": [
    "def factorial(number: int) -> int:\n",
    "    if 0 <= number <= 1:\n",
    "        return 1\n",
    "    else:\n",
    "        return number * factorial(number - 1)"
   ]
  },
  {
   "cell_type": "code",
   "execution_count": null,
   "id": "7fc1624b-7e01-4847-b92f-a88d44a5b4fb",
   "metadata": {},
   "outputs": [],
   "source": [
    "# factorial(4)\n",
    "# 4 * factorial(3)\n",
    "\n",
    "# factorial(3)\n",
    "# 4 * factorial(3) -> 4 * (3 * factorial(2))\n",
    "\n",
    "# factorial(2)\n",
    "# 4 * 3 * 2 * factorial(1)\n",
    "\n",
    "# factorial(1)\n",
    "# 4 * 3 * 2 * 1\n",
    "\n",
    "# 4 * 3 * 2\n",
    "\n",
    "# 4 * 6\n",
    "\n",
    "# 24"
   ]
  },
  {
   "cell_type": "code",
   "execution_count": null,
   "id": "ccd76816-73a8-41d9-832b-36fc6949486a",
   "metadata": {},
   "outputs": [],
   "source": []
  }
 ],
 "metadata": {
  "kernelspec": {
   "display_name": "Python 3 (ipykernel)",
   "language": "python",
   "name": "python3"
  },
  "language_info": {
   "codemirror_mode": {
    "name": "ipython",
    "version": 3
   },
   "file_extension": ".py",
   "mimetype": "text/x-python",
   "name": "python",
   "nbconvert_exporter": "python",
   "pygments_lexer": "ipython3",
   "version": "3.11.6"
  }
 },
 "nbformat": 4,
 "nbformat_minor": 5
}
