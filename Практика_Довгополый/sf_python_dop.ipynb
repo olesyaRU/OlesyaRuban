{
 "cells": [
  {
   "cell_type": "markdown",
   "id": "82f5c7d6-89e7-4116-8827-d70452ebf100",
   "metadata": {},
   "source": [
    "## Программирование на Python\n",
    "### Дополнительное занятие\n",
    "#### Модуль 3. Задание 5.7"
   ]
  },
  {
   "cell_type": "code",
   "execution_count": 1,
   "id": "c401481d-2f28-474b-a3a0-f6f158023cf0",
   "metadata": {},
   "outputs": [],
   "source": [
    "date = '12.05.2019 08:42'\n",
    "\n",
    "# Постановка задачи:\n",
    "#1 май 2019 -> 1\n",
    "#2 с января по май (не включая май) 2019 года -> 2\n",
    "#3 раньше, чем 1 января 2019 года -> 3\n",
    "\n",
    "# Что делать:\n",
    "#1 надо понять, как определить что это май 2019 по строке date -> проверяю в date наличие '05.2019'\n",
    "#2 надо определять в строке '<01, 02, 03, 04>.2019'\n",
    "#3 все остальное"
   ]
  },
  {
   "cell_type": "code",
   "execution_count": null,
   "id": "18d562ad-02b8-48a9-9904-2ac1c4a5a945",
   "metadata": {},
   "outputs": [],
   "source": [
    "if year > 2019 or year < 2019"
   ]
  },
  {
   "cell_type": "code",
   "execution_count": 2,
   "id": "9c80a892-7b0f-4e75-af99-f4952bbeeb31",
   "metadata": {},
   "outputs": [],
   "source": [
    "if '05.2019' in date:\n",
    "    category = 1\n",
    "elif '.2019' in date:\n",
    "    category = 2\n",
    "else:\n",
    "    category = 3"
   ]
  },
  {
   "cell_type": "markdown",
   "id": "2e60a5ca-0033-4865-b03d-f595586ee8b5",
   "metadata": {},
   "source": [
    "#### Модуль 4. Задание 5.4"
   ]
  },
  {
   "cell_type": "code",
   "execution_count": 1,
   "id": "563afaf6-3039-4ce9-87a6-0170688333f7",
   "metadata": {},
   "outputs": [],
   "source": [
    "str_list = ['Hello', 'my', 'name', 'is', 'Ezeikel', 'I', 'like', 'knitting']\n",
    "cut_str_list = []\n",
    "\n",
    "for index, value in enumerate(str_list):\n",
    "    cut_str_list.append([index, value[:3]])"
   ]
  },
  {
   "cell_type": "code",
   "execution_count": 2,
   "id": "79797399-0c0d-4a69-8c4f-a680f98ac0a5",
   "metadata": {},
   "outputs": [
    {
     "name": "stdout",
     "output_type": "stream",
     "text": [
      "[[0, 'Hel'], [1, 'my'], [2, 'nam'], [3, 'is'], [4, 'Eze'], [5, 'I'], [6, 'lik'], [7, 'kni']]\n"
     ]
    }
   ],
   "source": [
    "print(cut_str_list)"
   ]
  },
  {
   "cell_type": "markdown",
   "id": "0a4f6b6a-0814-4e48-96f9-e9f1785fa45b",
   "metadata": {},
   "source": [
    "#### Модуль 4. Задание 4.10"
   ]
  },
  {
   "cell_type": "code",
   "execution_count": 10,
   "id": "950b7b7c-b385-4421-9930-b60a3e0bd61c",
   "metadata": {},
   "outputs": [],
   "source": [
    "customer_satisfaction = [\n",
    "    [0.87, 0.56, 0.77],\n",
    "    [0.22, 0.46, 0.56, 0.89, 0.95],\n",
    "    [0.45, 0.44, 0.68],\n",
    "    [0.73, 0.88, 0.95, 0.49]\n",
    "]\n",
    "\n",
    "month_satisfaction = []\n",
    "\n",
    "for month in customer_satisfaction:\n",
    "    month_sum = 0\n",
    "    month_count = 0\n",
    "\n",
    "    for sat in month:\n",
    "        month_sum += sat\n",
    "        month_count += 1\n",
    "\n",
    "    month_satisfaction.append(round(month_sum / month_count, 2))\n",
    "\n",
    "max_value = 0\n",
    "\n",
    "for month_sat in month_satisfaction:\n",
    "    if month_sat > max_value:\n",
    "        max_value = month_sat"
   ]
  },
  {
   "cell_type": "code",
   "execution_count": 11,
   "id": "c4eb1c29-8a51-4de3-a121-57f4247a5a96",
   "metadata": {},
   "outputs": [
    {
     "data": {
      "text/plain": [
       "([0.73, 0.62, 0.52, 0.76], 0.76)"
      ]
     },
     "execution_count": 11,
     "metadata": {},
     "output_type": "execute_result"
    }
   ],
   "source": [
    "month_satisfaction, max_value"
   ]
  },
  {
   "cell_type": "code",
   "execution_count": null,
   "id": "e1377582-efe1-42bb-88f4-9e03dd0a1bdb",
   "metadata": {},
   "outputs": [],
   "source": []
  },
  {
   "cell_type": "code",
   "execution_count": null,
   "id": "fa4cc8e9-0400-429b-9263-76647294f1f1",
   "metadata": {},
   "outputs": [],
   "source": [
    "customer_satisfaction = [\n",
    "    [0.87, 0.56, 0.77],\n",
    "    [0.22, 0.46, 0.56, 0.89, 0.95],\n",
    "    [0.45, 0.44, 0.68],\n",
    "    [0.73, 0.88, 0.95, 0.49]\n",
    "]\n",
    "\n",
    "month_satisfaction = [sum(month) / len(month) for month in customer_satisfaction]\n",
    "max_value = max(month_satisfaction)"
   ]
  }
 ],
 "metadata": {
  "kernelspec": {
   "display_name": "Python 3 (ipykernel)",
   "language": "python",
   "name": "python3"
  },
  "language_info": {
   "codemirror_mode": {
    "name": "ipython",
    "version": 3
   },
   "file_extension": ".py",
   "mimetype": "text/x-python",
   "name": "python",
   "nbconvert_exporter": "python",
   "pygments_lexer": "ipython3",
   "version": "3.11.6"
  }
 },
 "nbformat": 4,
 "nbformat_minor": 5
}
