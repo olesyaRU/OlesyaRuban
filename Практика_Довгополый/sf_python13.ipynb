{
 "cells": [
  {
   "cell_type": "markdown",
   "id": "836a206f",
   "metadata": {},
   "source": [
    "## Web-scraping\n",
    "\n",
    "### Небольшая напоминалка\n",
    "\n",
    "**HTML (HyperText Markup Language)** - это язык разметки, используемый для создания разных веб-страниц. Если помните, *Markdown* в JN - тоже язык разметки (и поддерживает HTML)s.\n",
    "\n",
    "В целом, веб-страница \"под капотом\" состоит из трех частей:\n",
    "* <span style=\"color: lightgreen;\">*HTML-скрипт* - здесь расписана детальная структура страницы</span>;\n",
    "* *CSS-script* - все, что имеет отношения к стилям (цвета, шрифты и так далее);\n",
    "* *JavaScript-script* - добавление интерактивных функций.\n",
    "\n",
    "Сегодня мы сконцентрируемся на первой части. Если вы хотите изучать HTML самостоятельно, добро пожаловать [сюда](https://www.w3schools.com/html/default.asp).\n",
    "\n",
    "**Тэги, атрибуты и контент**\n",
    "\n",
    "Структурной единицей в HTML является *объект*. Объект конструируется с использованием *тэга (tag)* - специального слова в необычных скобочках <>. Есть два вида тэгов:\n",
    "* открывающий тэг: \\<tag> - обозначаем начало объекта;\n",
    "* закрывающий тэг: \\</tag> - обозначаем конец объекта.\n",
    "\n",
    "Разные тэги имеют разные характеристики и приложения. К примеру, тэг \\<p> используется для создания нового абзаца (**p**aragraph):\n",
    "\n",
    "```\n",
    "<p>Some content</p>  # контент кладем между открывающим и закрывающим тэгами\n",
    "```\n",
    "\n",
    "Каждый объект может иметь *атрибуты (attributes)* (вспомним атрибуты в Python). Атрибуты прописываются внутри открывающего тэга. Например, тэг \\<a> используется для создания ссылок. Текст (контент), как обычно, кладем между открывающими и закрывающими тэгами, а сам адрес записывается в атрибут *href*:\n",
    "\n",
    "```\n",
    "<a href=\"https://www.w3schools.com/html/default.asp\">Text of the link</a>\n",
    "```\n",
    "\n",
    "Кстати, если мы напишем это в Markdown, то тут все сработает как надо:\n",
    "\n",
    "<a href=\"https://www.w3schools.com/html/default.asp\">Text of the link</a>\n",
    "\n",
    "**Структура HTML-страницы**\n",
    "\n",
    "Теперь давайте посмотрим на типичную структуру HTML-страницы. Вы можете использовать довольно удобный [HTML-конструктор](https://www.w3schools.com/Html/tryit.asp?filename=tryhtml_default). <img src=\"w3schoolsConstructor1.png\">\n",
    "\n",
    "Чтобы открыть код страницы, используйте сочетание клавиш *Ctrl (Command) + U*.\n",
    "\n",
    "В целом все выглядит примерно так:\n",
    "\n",
    "```\n",
    "<!DOCTYPE html>  # declare that we are going to create HTML-script\n",
    "<html>  # declare the start of the document\n",
    "<head>  # specify heading\n",
    "<title>Page Title</title>  # specify title\n",
    "</head>\n",
    "<body>  # construct body\n",
    "\n",
    "<h1>This is a Heading</h1>  # header of level 1 (also you can use 2, 3 etc.)\n",
    "<p>This is a paragraph.</p>  # paragraph\n",
    "\n",
    "</body>\n",
    "</html>\n",
    "```\n",
    "\n",
    "Можно немного персонализировать содержание:\n",
    "\n",
    "```\n",
    "<!DOCTYPE html>\n",
    "<html>\n",
    "<head>\n",
    "<title>My first HTML-page</title>\n",
    "</head>\n",
    "<body>\n",
    "\n",
    "<h1>About me</h1>\n",
    "<p>I am studying Python (and HTML a little bit).</p>\n",
    "\n",
    "</body>\n",
    "</html>\n",
    "```\n",
    "\n",
    "И даже положить все это в виде таблицы (очень часто вы будете парсить именно таблицы):\n",
    "\n",
    "```\n",
    "<table border='1'>     # starting tag\n",
    "<tr>     # start table row (1st)\n",
    "<th>Surname</th>     # make 1st header\n",
    "<th>Name</th>     # make 2nd header\n",
    "<th>Age</th>     # make 3d header\n",
    "</tr>     # end table row\n",
    "<tr>     # start table row (2nd)\n",
    "<td>Dovgopoly</td>     # make cell under the 1st header\n",
    "<td>Ioann</td>     # make cell under the 2nd header\n",
    "<td>22</td>     # make cell under the 3d header\n",
    "</tr>     # end table row\n",
    "</table>     # ending tag\n",
    "```\n",
    "\n",
    "<table border='1'>\n",
    "    <tr>\n",
    "        <th>Surname</th>\n",
    "        <th>Name</th>\n",
    "        <th>Age</th>\n",
    "    </tr>\n",
    "    <tr>\n",
    "        <td>Dovgopoly</td>\n",
    "        <td>Ioann</td>\n",
    "        <td>24</td>\n",
    "    </tr>\n",
    "</table>\n",
    "\n",
    "#### BeatifulSoup\n",
    "`BeautifulSoup` - класс из библиотеки `bs4` (документация [здесь](https://www.crummy.com/software/BeautifulSoup/bs4/doc.ru/bs4ru.html)).\n",
    "\n",
    "**Внимание!** Может понадобиться установка модуля `lxml`.\n",
    "\n",
    "### Задание\n",
    "\n",
    "**Условие.** Есть [ресурс](https://historik.val.se/val/val2018/slutresultat/R/rike/index.html) с результатами Swedish Gerenal Elections 2018 года. Мы хотим загрузить и сохранить в `.xlsx`-формате таблицу **Röstfördelning per riksdagsvalkrets** (Распределение голосов по регионам). Конечно, мы не будем делать это вручную, т. к. это будет утомительно, долго, и мы скорее всего ошибемся. Нам поможет `Beautiful soup`:"
   ]
  },
  {
   "cell_type": "code",
   "execution_count": 2,
   "id": "b2e7e07c",
   "metadata": {},
   "outputs": [],
   "source": [
    "import pandas as pd\n",
    "import requests  # we need to access web-page\n",
    "from bs4 import BeautifulSoup\n",
    "\n",
    "url = 'https://historik.val.se/val/val2018/slutresultat/R/rike/index.html'  # link"
   ]
  },
  {
   "cell_type": "code",
   "execution_count": 7,
   "id": "68882787",
   "metadata": {},
   "outputs": [],
   "source": [
    "response = requests.get('https://historik.val.se/val/val2018/slutresultat/R/rike/index.html')\n",
    "\n",
    "soup = BeautifulSoup(response.text)\n",
    "\n",
    "response.close()"
   ]
  },
  {
   "cell_type": "code",
   "execution_count": 12,
   "id": "0ae1a7c3-c8a6-4c88-a837-30faee40b794",
   "metadata": {
    "scrolled": true
   },
   "outputs": [
    {
     "data": {
      "text/plain": [
       "[<a accesskey=\"s\" href=\"#sida\" title=\"Klicka här för att hoppa direkt till sidans innehåll\">Till sidans innehåll</a>,\n",
       " <a accesskey=\"h\" href=\"#oversiktstabell\" title=\"Klicka här för att välja ett annat område\">Välj annat område</a>,\n",
       " <a href=\"/\">2018</a>,\n",
       " <a href=\"../../../slutresultat/R/rike/index.html\" title=\"Riksdag\">Riksdag</a>,\n",
       " <a href=\"../../../slutresultat/L/rike/index.html\" title=\"Landsting\">Landsting</a>,\n",
       " <a href=\"../../../slutresultat/K/rike/index.html\" title=\"Kommun\">Kommun</a>,\n",
       " <a href=\"../../../statistik/index.html\" title=\"Statistik\">Statistik</a>,\n",
       " <a href=\"../../../rostmottagning/vallokal/rike/index.html\" title=\"Röstmottagning\">Röstmottagning</a>,\n",
       " <a href=\"../../../slutresultat/R/rike/index.html\" title=\"Röster\">Röster</a>,\n",
       " <a href=\"../../../slutresultat/R/rike/valda.html\" title=\"Valda\">Valda</a>,\n",
       " <a href=\"../../../slutresultat/R/rike/personroster.html\" title=\"Personröster\">Personröster</a>,\n",
       " <a href=\"../../../valsedlar/R/rike/valsedlar.html\" title=\"Partier och valsedlar\">Partier och valsedlar</a>,\n",
       " <a href=\"../../../alkon/R/rike/alderkon.html\" title=\"Ålder och kön\">Ålder och kön</a>,\n",
       " <a href=\"../../../karta/R/rike/karta.html\" title=\"Karta\">Karta</a>,\n",
       " <a href=\"../../../valnatt/R/rike/index.html\" title=\"Valnatt\">Valnatt</a>,\n",
       " <a href=\"../../../prelresultat/R/rike/index.html\" title=\"Preliminär\">Preliminär</a>,\n",
       " <a href=\"../../../slutresultat/R/rike/index.html\" title=\"Hela riket\">Hela riket</a>,\n",
       " <a href=\"../../../slutresultat/R/rvalkrets/10/index.html\" title=\"Riksdagsvalkrets Blekinge län\">Blekinge län</a>,\n",
       " <a href=\"../../../slutresultat/R/rvalkrets/24/index.html\" title=\"Riksdagsvalkrets Dalarnas län\">Dalarnas län</a>,\n",
       " <a href=\"../../../slutresultat/R/rvalkrets/09/index.html\" title=\"Riksdagsvalkrets Gotlands län\">Gotlands län</a>,\n",
       " <a href=\"../../../slutresultat/R/rvalkrets/25/index.html\" title=\"Riksdagsvalkrets Gävleborgs län\">Gävleborgs län</a>,\n",
       " <a href=\"../../../slutresultat/R/rvalkrets/16/index.html\" title=\"Riksdagsvalkrets Göteborgs kommun\">Göteborgs kommun</a>,\n",
       " <a href=\"../../../slutresultat/R/rvalkrets/15/index.html\" title=\"Riksdagsvalkrets Hallands län\">Hallands län</a>,\n",
       " <a href=\"../../../slutresultat/R/rvalkrets/27/index.html\" title=\"Riksdagsvalkrets Jämtlands län\">Jämtlands län</a>,\n",
       " <a href=\"../../../slutresultat/R/rvalkrets/06/index.html\" title=\"Riksdagsvalkrets Jönköpings län\">Jönköpings län</a>,\n",
       " <a href=\"../../../slutresultat/R/rvalkrets/08/index.html\" title=\"Riksdagsvalkrets Kalmar län\">Kalmar län</a>,\n",
       " <a href=\"../../../slutresultat/R/rvalkrets/07/index.html\" title=\"Riksdagsvalkrets Kronobergs län\">Kronobergs län</a>,\n",
       " <a href=\"../../../slutresultat/R/rvalkrets/11/index.html\" title=\"Riksdagsvalkrets Malmö kommun\">Malmö kommun</a>,\n",
       " <a href=\"../../../slutresultat/R/rvalkrets/29/index.html\" title=\"Riksdagsvalkrets Norrbottens län\">Norrbottens län</a>,\n",
       " <a href=\"../../../slutresultat/R/rvalkrets/14/index.html\" title=\"Riksdagsvalkrets Skåne läns norra och östra\">Skåne läns norra och östra</a>,\n",
       " <a href=\"../../../slutresultat/R/rvalkrets/13/index.html\" title=\"Riksdagsvalkrets Skåne läns södra\">Skåne läns södra</a>,\n",
       " <a href=\"../../../slutresultat/R/rvalkrets/12/index.html\" title=\"Riksdagsvalkrets Skåne läns västra\">Skåne läns västra</a>,\n",
       " <a href=\"../../../slutresultat/R/rvalkrets/01/index.html\" title=\"Riksdagsvalkrets Stockholms kommun\">Stockholms kommun</a>,\n",
       " <a href=\"../../../slutresultat/R/rvalkrets/02/index.html\" title=\"Riksdagsvalkrets Stockholms län\">Stockholms län</a>,\n",
       " <a href=\"../../../slutresultat/R/rvalkrets/04/index.html\" title=\"Riksdagsvalkrets Södermanlands län\">Södermanlands län</a>,\n",
       " <a href=\"../../../slutresultat/R/rvalkrets/03/index.html\" title=\"Riksdagsvalkrets Uppsala län\">Uppsala län</a>,\n",
       " <a href=\"../../../slutresultat/R/rvalkrets/21/index.html\" title=\"Riksdagsvalkrets Värmlands län\">Värmlands län</a>,\n",
       " <a href=\"../../../slutresultat/R/rvalkrets/28/index.html\" title=\"Riksdagsvalkrets Västerbottens län\">Västerbottens län</a>,\n",
       " <a href=\"../../../slutresultat/R/rvalkrets/26/index.html\" title=\"Riksdagsvalkrets Västernorrlands län\">Västernorrlands län</a>,\n",
       " <a href=\"../../../slutresultat/R/rvalkrets/23/index.html\" title=\"Riksdagsvalkrets Västmanlands län\">Västmanlands län</a>,\n",
       " <a href=\"../../../slutresultat/R/rvalkrets/18/index.html\" title=\"Riksdagsvalkrets Västra Götalands läns norra\">Västra Götalands läns norra</a>,\n",
       " <a href=\"../../../slutresultat/R/rvalkrets/19/index.html\" title=\"Riksdagsvalkrets Västra Götalands läns södra\">Västra Götalands läns södra</a>,\n",
       " <a href=\"../../../slutresultat/R/rvalkrets/17/index.html\" title=\"Riksdagsvalkrets Västra Götalands läns västra\">Västra Götalands läns västra</a>,\n",
       " <a href=\"../../../slutresultat/R/rvalkrets/20/index.html\" title=\"Riksdagsvalkrets Västra Götalands läns östra\">Västra Götalands läns östra</a>,\n",
       " <a href=\"../../../slutresultat/R/rvalkrets/22/index.html\" title=\"Riksdagsvalkrets Örebro län\">Örebro län</a>,\n",
       " <a href=\"../../../slutresultat/R/rvalkrets/05/index.html\" title=\"Riksdagsvalkrets Östergötlands län\">Östergötlands län</a>,\n",
       " <a class=\"pdf\" href=\"../../../slutresultat/protokoll/protokoll_00R.pdf\" target=\"_blank\" title=\"Den slutliga sammanräkningen är klar. Klicka här för att läsa protokollet\">Beslut resultat val till riksdagen 2018</a>,\n",
       " <a class=\"togglare\" href=\"#\" onclick=\"toggla('relativ_nej','relativ_ja');return false;\" style=\"display:none\">visa procent</a>,\n",
       " <a class=\"togglare\" href=\"#\" onclick=\"toggla('relativ_ja','relativ_nej');return false;\" style=\"display:none\">visa antal</a>,\n",
       " <a href=\"../../../slutresultat/R/rvalkrets/10/index.html\" title=\"Blekinge län\">Blekinge län</a>,\n",
       " <a href=\"../../../slutresultat/R/rvalkrets/24/index.html\" title=\"Dalarnas län\">Dalarnas län</a>,\n",
       " <a href=\"../../../slutresultat/R/rvalkrets/09/index.html\" title=\"Gotlands län\">Gotlands län</a>,\n",
       " <a href=\"../../../slutresultat/R/rvalkrets/25/index.html\" title=\"Gävleborgs län\">Gävleborgs län</a>,\n",
       " <a href=\"../../../slutresultat/R/rvalkrets/16/index.html\" title=\"Göteborgs kommun\">Göteborgs kommun</a>,\n",
       " <a href=\"../../../slutresultat/R/rvalkrets/15/index.html\" title=\"Hallands län\">Hallands län</a>,\n",
       " <a href=\"../../../slutresultat/R/rvalkrets/27/index.html\" title=\"Jämtlands län\">Jämtlands län</a>,\n",
       " <a href=\"../../../slutresultat/R/rvalkrets/06/index.html\" title=\"Jönköpings län\">Jönköpings län</a>,\n",
       " <a href=\"../../../slutresultat/R/rvalkrets/08/index.html\" title=\"Kalmar län\">Kalmar län</a>,\n",
       " <a href=\"../../../slutresultat/R/rvalkrets/07/index.html\" title=\"Kronobergs län\">Kronobergs län</a>,\n",
       " <a href=\"../../../slutresultat/R/rvalkrets/11/index.html\" title=\"Malmö kommun\">Malmö kommun</a>,\n",
       " <a href=\"../../../slutresultat/R/rvalkrets/29/index.html\" title=\"Norrbottens län\">Norrbottens län</a>,\n",
       " <a href=\"../../../slutresultat/R/rvalkrets/14/index.html\" title=\"Skåne läns norra och östra\">Skåne läns norra och östra</a>,\n",
       " <a href=\"../../../slutresultat/R/rvalkrets/13/index.html\" title=\"Skåne läns södra\">Skåne läns södra</a>,\n",
       " <a href=\"../../../slutresultat/R/rvalkrets/12/index.html\" title=\"Skåne läns västra\">Skåne läns västra</a>,\n",
       " <a href=\"../../../slutresultat/R/rvalkrets/01/index.html\" title=\"Stockholms kommun\">Stockholms kommun</a>,\n",
       " <a href=\"../../../slutresultat/R/rvalkrets/02/index.html\" title=\"Stockholms län\">Stockholms län</a>,\n",
       " <a href=\"../../../slutresultat/R/rvalkrets/04/index.html\" title=\"Södermanlands län\">Södermanlands län</a>,\n",
       " <a href=\"../../../slutresultat/R/rvalkrets/03/index.html\" title=\"Uppsala län\">Uppsala län</a>,\n",
       " <a href=\"../../../slutresultat/R/rvalkrets/21/index.html\" title=\"Värmlands län\">Värmlands län</a>,\n",
       " <a href=\"../../../slutresultat/R/rvalkrets/28/index.html\" title=\"Västerbottens län\">Västerbottens län</a>,\n",
       " <a href=\"../../../slutresultat/R/rvalkrets/26/index.html\" title=\"Västernorrlands län\">Västernorrlands län</a>,\n",
       " <a href=\"../../../slutresultat/R/rvalkrets/23/index.html\" title=\"Västmanlands län\">Västmanlands län</a>,\n",
       " <a href=\"../../../slutresultat/R/rvalkrets/18/index.html\" title=\"Västra Götalands läns norra\">Västra Götalands läns norra</a>,\n",
       " <a href=\"../../../slutresultat/R/rvalkrets/19/index.html\" title=\"Västra Götalands läns södra\">Västra Götalands läns södra</a>,\n",
       " <a href=\"../../../slutresultat/R/rvalkrets/17/index.html\" title=\"Västra Götalands läns västra\">Västra Götalands läns västra</a>,\n",
       " <a href=\"../../../slutresultat/R/rvalkrets/20/index.html\" title=\"Västra Götalands läns östra\">Västra Götalands läns östra</a>,\n",
       " <a href=\"../../../slutresultat/R/rvalkrets/22/index.html\" title=\"Örebro län\">Örebro län</a>,\n",
       " <a href=\"../../../slutresultat/R/rvalkrets/05/index.html\" title=\"Östergötlands län\">Östergötlands län</a>,\n",
       " <a href=\"../../../statistik/index.html#handskrivna\">Rådata samtliga partier som ej beställt valsedlar</a>,\n",
       " <a href=\"http://www.val.se\">http://www.val.se</a>]"
      ]
     },
     "execution_count": 12,
     "metadata": {},
     "output_type": "execute_result"
    }
   ],
   "source": [
    "soup.find_all('a')"
   ]
  },
  {
   "cell_type": "code",
   "execution_count": 13,
   "id": "0c0e69df-de4f-488f-90b1-b55300c2598d",
   "metadata": {},
   "outputs": [],
   "source": [
    "table = soup.find('table', {'class': 'sorteringsbar_tabell'})"
   ]
  },
  {
   "cell_type": "code",
   "execution_count": 14,
   "id": "a2c8e868-eddf-43f6-9386-60b7e1c058ca",
   "metadata": {},
   "outputs": [
    {
     "data": {
      "text/plain": [
       "<thead>\n",
       "<tr>\n",
       "<th align=\"left\" width=\"5%\">Förk.</th>\n",
       "<th align=\"left\" width=\"35%\">Parti</th>\n",
       "<th align=\"right\" width=\"10%\">Antal<br/>2018</th>\n",
       "<th align=\"right\" width=\"10%\">Andel<br/>2018</th>\n",
       "<th align=\"right\" class=\"forandring\" width=\"10%\">Antal<br/>+/-</th>\n",
       "<th align=\"right\" class=\"forandring\" width=\"10%\">Andel<br/>+/-</th>\n",
       "<th align=\"right\" class=\"tidigare\" width=\"10%\">Antal<br/>2014</th>\n",
       "<th align=\"right\" class=\"tidigare\" width=\"10%\">Andel<br/>2014</th>\n",
       "</tr>\n",
       "</thead>"
      ]
     },
     "execution_count": 14,
     "metadata": {},
     "output_type": "execute_result"
    }
   ],
   "source": [
    "table.thead"
   ]
  },
  {
   "cell_type": "code",
   "execution_count": 16,
   "id": "bd5d41ab-bb92-4f16-96b9-b83379ba974a",
   "metadata": {},
   "outputs": [],
   "source": [
    "table_header = table.thead.tr\n",
    "table_body = table.tbody"
   ]
  },
  {
   "cell_type": "code",
   "execution_count": 18,
   "id": "9bb3b847-6f47-4a19-ab78-14552942f772",
   "metadata": {},
   "outputs": [
    {
     "data": {
      "text/plain": [
       "[<th align=\"left\" width=\"5%\">Förk.</th>,\n",
       " <th align=\"left\" width=\"35%\">Parti</th>,\n",
       " <th align=\"right\" width=\"10%\">Antal<br/>2018</th>,\n",
       " <th align=\"right\" width=\"10%\">Andel<br/>2018</th>,\n",
       " <th align=\"right\" class=\"forandring\" width=\"10%\">Antal<br/>+/-</th>,\n",
       " <th align=\"right\" class=\"forandring\" width=\"10%\">Andel<br/>+/-</th>,\n",
       " <th align=\"right\" class=\"tidigare\" width=\"10%\">Antal<br/>2014</th>,\n",
       " <th align=\"right\" class=\"tidigare\" width=\"10%\">Andel<br/>2014</th>]"
      ]
     },
     "execution_count": 18,
     "metadata": {},
     "output_type": "execute_result"
    }
   ],
   "source": [
    "table_header.find_all('th')"
   ]
  },
  {
   "cell_type": "code",
   "execution_count": 19,
   "id": "237776a2-eb80-4dbb-a161-dc6050626a92",
   "metadata": {},
   "outputs": [
    {
     "data": {
      "text/plain": [
       "'Förk.'"
      ]
     },
     "execution_count": 19,
     "metadata": {},
     "output_type": "execute_result"
    }
   ],
   "source": [
    "table_header.find_all('th')[0].text"
   ]
  }
 ],
 "metadata": {
  "kernelspec": {
   "display_name": "Python 3 (ipykernel)",
   "language": "python",
   "name": "python3"
  },
  "language_info": {
   "codemirror_mode": {
    "name": "ipython",
    "version": 3
   },
   "file_extension": ".py",
   "mimetype": "text/x-python",
   "name": "python",
   "nbconvert_exporter": "python",
   "pygments_lexer": "ipython3",
   "version": "3.11.6"
  }
 },
 "nbformat": 4,
 "nbformat_minor": 5
}
