{
 "cells": [
  {
   "cell_type": "markdown",
   "id": "87dec23c",
   "metadata": {},
   "source": [
    "# Программирование на Python\n",
    "## Семинар 7. Python для анализа данных\n",
    "**Data source:** https://www.kaggle.com/datasets/spscientist/students-performance-in-exams.\n",
    "\n",
    "**Columns:**\n",
    "- `gender` (binary variable);\n",
    "- `race/ethnicity` (categorical variable);\n",
    "- `parental level of education` (categorical variable, student's parents' level of education);\n",
    "- `lunch` (categorical variable, quality of student's lunch);\n",
    "- `test preparation course` (categorical variable, whether student managed to complete preparation course for the test);\n",
    "- `math score` (numeric variable, score for Math test);\n",
    "- `reading score` (numeric variable, score for Reading part);\n",
    "- `writing score` (numeric variable, score for Writing part).\n",
    "\n",
    "#### Задание 1\n",
    "Загрузите файл StudentsPerformance.csv используя модуль `csv` и возможности модуля `collections`. Не забудьте о том, что для удобства числовые типы данных будет удобнее привести сразу. На выходе должен получиться словарь с ключами-названиями колонок и значениями-колонками."
   ]
  },
  {
   "cell_type": "code",
   "execution_count": null,
   "id": "0dd582ed-a867-4ee5-892e-298fd0f831df",
   "metadata": {},
   "outputs": [],
   "source": [
    "{\n",
    "    'gender': ['female', 'female', 'female', 'male', ...],\n",
    "    'race/ethnicity': [...],\n",
    "    ...\n",
    "}"
   ]
  },
  {
   "cell_type": "code",
   "execution_count": null,
   "id": "5951b722-8eb2-414f-967f-f9b62d753cf8",
   "metadata": {},
   "outputs": [],
   "source": [
    "{\n",
    "    'gender': ['female'],\n",
    "    ...,\n",
    "    'writing score': [74]\n",
    "}"
   ]
  },
  {
   "cell_type": "code",
   "execution_count": null,
   "id": "768a7ca4-0f28-4b0b-9a47-ae36b49b2ed4",
   "metadata": {},
   "outputs": [],
   "source": [
    "{\n",
    "    'gender': ['female', 'female'],\n",
    "    ...,\n",
    "    'writing score': [74, 88]\n",
    "}"
   ]
  },
  {
   "cell_type": "code",
   "execution_count": 3,
   "id": "1346b1da-4cf9-401b-9a45-3a0e4c720350",
   "metadata": {
    "scrolled": true
   },
   "outputs": [],
   "source": [
    "import csv\n",
    "from collections import defaultdict\n",
    "\n",
    "path = 'StudentsPerformance.csv'\n",
    "numeric_cols = ['math score', 'reading score', 'writing score']\n",
    "\n",
    "data = defaultdict(list)\n",
    "\n",
    "with open(path, mode='r', newline='') as file:  # file = open(path, mode='r', newline='')\n",
    "    # after executing this code file will be closed автоматически\n",
    "    csvfile = csv.DictReader(file, delimiter=',')\n",
    "    for line_dict in csvfile:\n",
    "        for key, value in line_dict.items():\n",
    "            if key in numeric_cols:\n",
    "                value = int(value)\n",
    "                \n",
    "            data[key].append(value)"
   ]
  },
  {
   "cell_type": "code",
   "execution_count": 4,
   "id": "8d8f0dc3-b917-4393-ad5c-f38df65e7900",
   "metadata": {
    "scrolled": true
   },
   "outputs": [
    {
     "name": "stdout",
     "output_type": "stream",
     "text": [
      "defaultdict(<class 'list'>, {'gender': ['female', 'female', 'female', 'male', 'male', 'female', 'female', 'male', 'male', 'female', 'male', 'male', 'female', 'male', 'female', 'female', 'male', 'female', 'male', 'female', 'male', 'female', 'male', 'female', 'male', 'male', 'male', 'female', 'male', 'female', 'female', 'female', 'female', 'male', 'male', 'male', 'female', 'female', 'female', 'male', 'male', 'female', 'female', 'male', 'female', 'male', 'female', 'female', 'female', 'male', 'male', 'male', 'male', 'male', 'female', 'female', 'female', 'male', 'male', 'female', 'male', 'male', 'male', 'female', 'female', 'male', 'male', 'female', 'male', 'female', 'female', 'male', 'female', 'male', 'male', 'male', 'male', 'male', 'female', 'female', 'female', 'male', 'male', 'male', 'male', 'female', 'female', 'female', 'female', 'female', 'female', 'male', 'male', 'male', 'female', 'male', 'male', 'female', 'female', 'female', 'male', 'male', 'female', 'male', 'male', 'female', 'female', 'male', 'female', 'female', 'female', 'male', 'male', 'female', 'female', 'male', 'female', 'female', 'female', 'female', 'female', 'male', 'female', 'male', 'male', 'female', 'male', 'male', 'male', 'female', 'male', 'male', 'male', 'female', 'male', 'male', 'male', 'male', 'female', 'male', 'female', 'female', 'female', 'male', 'male', 'female', 'male', 'male', 'female', 'male', 'male', 'male', 'female', 'male', 'male', 'female', 'female', 'male', 'female', 'male', 'male', 'female', 'male', 'male', 'female', 'female', 'male', 'female', 'female', 'female', 'male', 'male', 'female', 'female', 'female', 'female', 'female', 'female', 'female', 'female', 'male', 'female', 'female', 'female', 'male', 'male', 'male', 'male', 'male', 'female', 'female', 'male', 'female', 'male', 'female', 'male', 'male', 'male', 'female', 'female', 'female', 'female', 'male', 'female', 'male', 'male', 'male', 'male', 'female', 'female', 'male', 'male', 'female', 'male', 'male', 'male', 'female', 'female', 'male', 'male', 'female', 'male', 'female', 'male', 'female', 'female', 'female', 'male', 'male', 'female', 'male', 'male', 'female', 'male', 'male', 'male', 'male', 'female', 'male', 'male', 'male', 'female', 'female', 'male', 'male', 'male', 'male', 'female', 'female', 'male', 'male', 'female', 'female', 'male', 'male', 'female', 'female', 'male', 'female', 'female', 'female', 'male', 'female', 'female', 'male', 'male', 'female', 'female', 'female', 'female', 'male', 'male', 'female', 'female', 'male', 'male', 'female', 'female', 'female', 'male', 'male', 'male', 'female', 'female', 'female', 'male', 'male', 'female', 'male', 'male', 'male', 'male', 'male', 'female', 'male', 'male', 'male', 'male', 'male', 'male', 'male', 'male', 'female', 'male', 'female', 'male', 'male', 'male', 'female', 'female', 'female', 'male', 'male', 'female', 'female', 'male', 'female', 'male', 'male', 'female', 'female', 'female', 'female', 'female', 'female', 'female', 'male', 'male', 'male', 'female', 'male', 'male', 'male', 'male', 'female', 'female', 'male', 'male', 'female', 'female', 'male', 'female', 'female', 'male', 'male', 'female', 'male', 'female', 'male', 'male', 'female', 'male', 'female', 'female', 'female', 'female', 'male', 'female', 'male', 'female', 'female', 'male', 'female', 'female', 'male', 'male', 'male', 'male', 'female', 'female', 'male', 'female', 'male', 'female', 'female', 'male', 'female', 'female', 'female', 'male', 'female', 'male', 'male', 'female', 'female', 'female', 'female', 'female', 'female', 'male', 'male', 'female', 'male', 'male', 'female', 'male', 'female', 'female', 'male', 'male', 'female', 'male', 'female', 'female', 'female', 'female', 'male', 'female', 'female', 'male', 'female', 'male', 'male', 'male', 'female', 'male', 'male', 'male', 'male', 'male', 'female', 'female', 'female', 'female', 'male', 'female', 'male', 'male', 'male', 'male', 'male', 'female', 'male', 'female', 'male', 'male', 'male', 'male', 'male', 'male', 'female', 'female', 'female', 'female', 'male', 'female', 'male', 'male', 'male', 'male', 'female', 'female', 'female', 'male', 'female', 'male', 'female', 'male', 'female', 'male', 'male', 'male', 'female', 'female', 'male', 'female', 'female', 'male', 'female', 'male', 'female', 'female', 'female', 'female', 'female', 'female', 'male', 'male', 'female', 'male', 'male', 'female', 'male', 'male', 'female', 'male', 'male', 'female', 'male', 'male', 'female', 'female', 'female', 'female', 'female', 'male', 'female', 'female', 'female', 'male', 'female', 'female', 'male', 'female', 'female', 'female', 'male', 'male', 'male', 'female', 'male', 'male', 'male', 'female', 'female', 'female', 'female', 'female', 'female', 'female', 'male', 'female', 'male', 'male', 'male', 'male', 'male', 'female', 'female', 'female', 'female', 'female', 'male', 'female', 'male', 'female', 'male', 'female', 'male', 'male', 'male', 'male', 'female', 'female', 'female', 'male', 'female', 'male', 'female', 'male', 'male', 'male', 'female', 'male', 'male', 'female', 'female', 'male', 'female', 'male', 'female', 'female', 'male', 'female', 'male', 'male', 'female', 'female', 'male', 'male', 'male', 'male', 'female', 'female', 'female', 'male', 'male', 'female', 'female', 'female', 'female', 'female', 'female', 'female', 'female', 'female', 'female', 'female', 'female', 'female', 'male', 'male', 'male', 'female', 'female', 'female', 'male', 'male', 'female', 'female', 'female', 'female', 'female', 'male', 'male', 'male', 'female', 'female', 'female', 'female', 'male', 'female', 'male', 'female', 'female', 'female', 'female', 'male', 'male', 'male', 'female', 'male', 'male', 'male', 'female', 'male', 'male', 'male', 'male', 'female', 'male', 'male', 'female', 'female', 'male', 'male', 'female', 'female', 'male', 'female', 'male', 'female', 'female', 'female', 'male', 'female', 'female', 'female', 'female', 'female', 'male', 'female', 'female', 'female', 'female', 'female', 'male', 'male', 'female', 'male', 'male', 'male', 'female', 'female', 'male', 'female', 'female', 'female', 'male', 'male', 'female', 'male', 'female', 'female', 'female', 'female', 'female', 'female', 'male', 'male', 'female', 'male', 'male', 'female', 'male', 'female', 'male', 'male', 'male', 'male', 'female', 'female', 'female', 'female', 'female', 'female', 'female', 'female', 'female', 'male', 'female', 'female', 'male', 'female', 'female', 'male', 'male', 'male', 'male', 'female', 'male', 'female', 'female', 'male', 'female', 'female', 'male', 'female', 'female', 'male', 'female', 'male', 'female', 'male', 'male', 'male', 'female', 'male', 'female', 'male', 'female', 'male', 'female', 'male', 'female', 'male', 'male', 'female', 'male', 'male', 'male', 'female', 'female', 'female', 'male', 'male', 'male', 'male', 'female', 'male', 'male', 'male', 'male', 'female', 'male', 'female', 'male', 'male', 'female', 'male', 'female', 'female', 'male', 'female', 'male', 'female', 'female', 'male', 'female', 'male', 'male', 'male', 'female', 'female', 'male', 'female', 'female', 'female', 'female', 'male', 'female', 'female', 'female', 'female', 'male', 'female', 'female', 'female', 'male', 'female', 'female', 'female', 'male', 'male', 'female', 'female', 'male', 'female', 'male', 'female', 'male', 'male', 'female', 'female', 'female', 'male', 'female', 'female', 'male', 'male', 'male', 'male', 'female', 'male', 'female', 'male', 'female', 'male', 'female', 'female', 'female', 'female', 'male', 'female', 'female', 'male', 'female', 'female', 'female', 'male', 'female', 'female', 'male', 'female', 'male', 'female', 'male', 'female', 'male', 'female', 'female', 'male', 'female', 'male', 'female', 'male', 'male', 'male', 'female', 'male', 'male', 'female', 'female', 'male', 'male', 'female', 'male', 'female', 'male', 'male', 'female', 'female', 'male', 'female', 'male', 'male', 'male', 'male', 'male', 'male', 'male', 'female', 'male', 'male', 'female', 'male', 'male', 'male', 'female', 'female', 'male', 'female', 'female', 'male', 'female', 'female', 'female', 'male', 'female', 'male', 'female', 'female', 'female', 'male', 'female', 'female', 'male', 'female', 'male', 'female', 'male', 'female', 'female', 'female', 'female', 'male', 'male', 'female', 'female', 'male', 'male', 'female', 'female', 'female', 'female', 'female', 'male', 'female', 'female', 'male', 'male', 'female', 'male', 'female', 'male', 'male', 'male', 'female', 'male', 'female', 'male', 'male', 'male', 'male', 'male', 'male', 'male', 'female', 'male', 'male', 'male', 'female', 'male', 'male', 'female', 'female', 'male', 'female', 'male', 'female', 'male', 'female', 'female', 'male', 'female', 'male', 'male', 'female', 'female', 'male', 'female', 'female', 'female', 'female', 'male', 'female', 'male', 'male', 'female', 'female', 'female', 'male', 'female', 'female', 'female', 'female', 'male', 'male', 'male', 'female', 'female', 'male', 'male', 'female', 'female', 'male', 'female', 'male', 'female', 'female', 'male', 'female', 'female', 'female', 'male', 'female', 'male', 'female', 'female', 'female'], 'race/ethnicity': ['group B', 'group C', 'group B', 'group A', 'group C', 'group B', 'group B', 'group B', 'group D', 'group B', 'group C', 'group D', 'group B', 'group A', 'group A', 'group C', 'group C', 'group B', 'group C', 'group C', 'group D', 'group B', 'group D', 'group C', 'group D', 'group A', 'group B', 'group C', 'group C', 'group D', 'group D', 'group B', 'group E', 'group D', 'group E', 'group E', 'group D', 'group D', 'group D', 'group B', 'group C', 'group C', 'group B', 'group B', 'group E', 'group B', 'group A', 'group C', 'group D', 'group C', 'group E', 'group E', 'group C', 'group D', 'group C', 'group C', 'group E', 'group D', 'group D', 'group C', 'group E', 'group A', 'group A', 'group C', 'group D', 'group B', 'group D', 'group C', 'group B', 'group C', 'group D', 'group D', 'group A', 'group C', 'group C', 'group B', 'group E', 'group A', 'group D', 'group E', 'group B', 'group B', 'group A', 'group E', 'group D', 'group C', 'group C', 'group D', 'group A', 'group D', 'group C', 'group C', 'group C', 'group C', 'group B', 'group C', 'group B', 'group E', 'group D', 'group D', 'group B', 'group D', 'group D', 'group B', 'group C', 'group C', 'group D', 'group E', 'group B', 'group B', 'group D', 'group C', 'group A', 'group D', 'group E', 'group C', 'group B', 'group D', 'group D', 'group C', 'group C', 'group B', 'group C', 'group D', 'group E', 'group B', 'group B', 'group D', 'group D', 'group A', 'group D', 'group C', 'group E', 'group C', 'group D', 'group C', 'group B', 'group E', 'group C', 'group D', 'group D', 'group C', 'group E', 'group A', 'group D', 'group C', 'group B', 'group C', 'group D', 'group E', 'group A', 'group A', 'group B', 'group D', 'group D', 'group C', 'group E', 'group B', 'group B', 'group D', 'group B', 'group E', 'group B', 'group C', 'group E', 'group C', 'group C', 'group B', 'group B', 'group C', 'group A', 'group E', 'group D', 'group C', 'group C', 'group C', 'group B', 'group C', 'group B', 'group D', 'group C', 'group C', 'group E', 'group D', 'group C', 'group C', 'group E', 'group D', 'group B', 'group C', 'group E', 'group D', 'group B', 'group D', 'group C', 'group D', 'group C', 'group E', 'group B', 'group B', 'group C', 'group D', 'group C', 'group B', 'group C', 'group D', 'group E', 'group E', 'group B', 'group B', 'group D', 'group C', 'group C', 'group C', 'group E', 'group B', 'group E', 'group C', 'group B', 'group B', 'group D', 'group B', 'group C', 'group D', 'group B', 'group E', 'group C', 'group D', 'group A', 'group C', 'group D', 'group C', 'group B', 'group E', 'group C', 'group D', 'group D', 'group D', 'group B', 'group C', 'group D', 'group E', 'group D', 'group E', 'group D', 'group C', 'group E', 'group B', 'group B', 'group C', 'group A', 'group D', 'group B', 'group D', 'group D', 'group E', 'group C', 'group C', 'group B', 'group C', 'group C', 'group C', 'group C', 'group E', 'group D', 'group D', 'group C', 'group D', 'group D', 'group E', 'group C', 'group C', 'group D', 'group D', 'group B', 'group C', 'group C', 'group E', 'group C', 'group B', 'group D', 'group D', 'group D', 'group D', 'group B', 'group B', 'group E', 'group B', 'group B', 'group E', 'group C', 'group D', 'group C', 'group E', 'group D', 'group B', 'group A', 'group E', 'group C', 'group D', 'group A', 'group D', 'group C', 'group B', 'group C', 'group A', 'group E', 'group C', 'group B', 'group D', 'group B', 'group B', 'group D', 'group C', 'group C', 'group C', 'group D', 'group C', 'group B', 'group D', 'group C', 'group E', 'group C', 'group C', 'group C', 'group C', 'group C', 'group A', 'group C', 'group B', 'group C', 'group C', 'group E', 'group B', 'group C', 'group B', 'group D', 'group C', 'group B', 'group D', 'group C', 'group C', 'group B', 'group D', 'group D', 'group C', 'group B', 'group C', 'group D', 'group E', 'group B', 'group E', 'group C', 'group C', 'group C', 'group B', 'group A', 'group C', 'group D', 'group D', 'group B', 'group B', 'group C', 'group D', 'group C', 'group A', 'group C', 'group C', 'group A', 'group D', 'group E', 'group C', 'group D', 'group D', 'group D', 'group E', 'group D', 'group D', 'group A', 'group A', 'group B', 'group C', 'group C', 'group E', 'group A', 'group E', 'group E', 'group C', 'group D', 'group D', 'group E', 'group D', 'group E', 'group C', 'group C', 'group A', 'group B', 'group C', 'group B', 'group D', 'group C', 'group A', 'group A', 'group D', 'group C', 'group C', 'group B', 'group B', 'group D', 'group D', 'group D', 'group E', 'group D', 'group B', 'group C', 'group E', 'group C', 'group C', 'group D', 'group E', 'group C', 'group D', 'group D', 'group A', 'group B', 'group C', 'group C', 'group C', 'group A', 'group C', 'group C', 'group C', 'group C', 'group A', 'group C', 'group C', 'group D', 'group D', 'group C', 'group D', 'group C', 'group D', 'group A', 'group B', 'group A', 'group C', 'group D', 'group C', 'group B', 'group B', 'group C', 'group E', 'group C', 'group C', 'group C', 'group C', 'group D', 'group D', 'group E', 'group B', 'group C', 'group B', 'group E', 'group C', 'group A', 'group C', 'group D', 'group A', 'group A', 'group C', 'group C', 'group C', 'group C', 'group D', 'group B', 'group D', 'group E', 'group D', 'group D', 'group E', 'group B', 'group D', 'group C', 'group A', 'group B', 'group C', 'group D', 'group C', 'group B', 'group A', 'group A', 'group C', 'group C', 'group C', 'group B', 'group D', 'group C', 'group D', 'group B', 'group E', 'group D', 'group B', 'group C', 'group E', 'group D', 'group B', 'group A', 'group B', 'group C', 'group C', 'group D', 'group A', 'group D', 'group B', 'group B', 'group C', 'group D', 'group E', 'group D', 'group B', 'group D', 'group C', 'group D', 'group C', 'group C', 'group E', 'group C', 'group C', 'group D', 'group C', 'group C', 'group C', 'group E', 'group E', 'group B', 'group C', 'group C', 'group D', 'group E', 'group A', 'group C', 'group D', 'group C', 'group D', 'group D', 'group E', 'group A', 'group C', 'group C', 'group C', 'group C', 'group B', 'group B', 'group D', 'group E', 'group C', 'group C', 'group C', 'group B', 'group D', 'group D', 'group C', 'group C', 'group D', 'group B', 'group B', 'group E', 'group D', 'group B', 'group D', 'group B', 'group A', 'group C', 'group C', 'group E', 'group A', 'group A', 'group B', 'group B', 'group D', 'group D', 'group E', 'group D', 'group D', 'group D', 'group C', 'group A', 'group C', 'group C', 'group A', 'group C', 'group A', 'group E', 'group E', 'group C', 'group C', 'group B', 'group A', 'group D', 'group D', 'group D', 'group C', 'group E', 'group D', 'group D', 'group C', 'group C', 'group C', 'group E', 'group B', 'group D', 'group C', 'group C', 'group C', 'group A', 'group C', 'group E', 'group D', 'group D', 'group C', 'group C', 'group B', 'group C', 'group A', 'group E', 'group D', 'group B', 'group D', 'group D', 'group C', 'group D', 'group B', 'group B', 'group C', 'group D', 'group A', 'group B', 'group D', 'group E', 'group D', 'group D', 'group D', 'group B', 'group E', 'group B', 'group B', 'group D', 'group E', 'group B', 'group D', 'group C', 'group A', 'group D', 'group A', 'group B', 'group B', 'group C', 'group D', 'group D', 'group D', 'group C', 'group C', 'group D', 'group C', 'group D', 'group C', 'group C', 'group B', 'group C', 'group D', 'group C', 'group D', 'group C', 'group C', 'group D', 'group B', 'group E', 'group C', 'group D', 'group D', 'group D', 'group B', 'group B', 'group C', 'group B', 'group E', 'group E', 'group D', 'group A', 'group E', 'group C', 'group E', 'group C', 'group D', 'group C', 'group D', 'group C', 'group A', 'group D', 'group C', 'group E', 'group B', 'group A', 'group D', 'group B', 'group A', 'group D', 'group C', 'group D', 'group D', 'group C', 'group E', 'group D', 'group D', 'group B', 'group B', 'group C', 'group C', 'group C', 'group E', 'group C', 'group D', 'group B', 'group C', 'group B', 'group E', 'group E', 'group E', 'group D', 'group C', 'group B', 'group A', 'group C', 'group D', 'group E', 'group C', 'group C', 'group B', 'group D', 'group C', 'group D', 'group A', 'group C', 'group C', 'group B', 'group D', 'group D', 'group C', 'group C', 'group B', 'group D', 'group E', 'group C', 'group C', 'group C', 'group E', 'group D', 'group E', 'group D', 'group B', 'group C', 'group D', 'group D', 'group B', 'group D', 'group B', 'group C', 'group B', 'group D', 'group A', 'group B', 'group D', 'group B', 'group C', 'group B', 'group B', 'group B', 'group C', 'group A', 'group E', 'group D', 'group B', 'group B', 'group C', 'group C', 'group B', 'group E', 'group B', 'group C', 'group C', 'group B', 'group D', 'group D', 'group E', 'group B', 'group E', 'group D', 'group E', 'group E', 'group C', 'group C', 'group C', 'group E', 'group B', 'group C', 'group A', 'group D', 'group E', 'group C', 'group B', 'group A', 'group A', 'group C', 'group E', 'group C', 'group B', 'group A', 'group D', 'group B', 'group C', 'group A', 'group D', 'group E', 'group B', 'group C', 'group C', 'group C', 'group C', 'group D', 'group B', 'group A', 'group C', 'group A', 'group B', 'group B', 'group C', 'group E', 'group A', 'group B', 'group C', 'group D', 'group C', 'group B', 'group B', 'group D', 'group E', 'group C', 'group D', 'group C', 'group D', 'group C', 'group A', 'group E', 'group E', 'group C', 'group B', 'group B', 'group C', 'group B', 'group C', 'group C', 'group E', 'group D', 'group C', 'group C', 'group D', 'group C', 'group B', 'group E', 'group C', 'group B', 'group C', 'group B', 'group E', 'group C', 'group C', 'group D', 'group C', 'group D', 'group D', 'group C', 'group E', 'group B', 'group D', 'group E', 'group C', 'group E', 'group C', 'group D', 'group D', 'group E', 'group E', 'group A', 'group D', 'group E', 'group E', 'group B', 'group B', 'group D', 'group D', 'group D', 'group C', 'group A', 'group D', 'group D', 'group D', 'group B', 'group D', 'group C', 'group E', 'group D', 'group A', 'group C', 'group C', 'group B', 'group E', 'group E', 'group C', 'group C', 'group B', 'group D', 'group C', 'group D', 'group B', 'group D', 'group E', 'group E', 'group D', 'group E', 'group C', 'group C', 'group D', 'group D', 'group C', 'group C', 'group D', 'group A', 'group E', 'group D', 'group D', 'group C', 'group D', 'group C', 'group A', 'group B', 'group C', 'group B', 'group D', 'group B', 'group E', 'group E', 'group D', 'group E', 'group C', 'group C', 'group E', 'group C', 'group D', 'group D', 'group C', 'group A', 'group D', 'group E', 'group C', 'group D', 'group D', 'group A', 'group C', 'group E', 'group B', 'group D', 'group C', 'group A', 'group D', 'group A', 'group C', 'group B', 'group C', 'group D', 'group C', 'group B', 'group D', 'group B', 'group A', 'group C', 'group A', 'group C', 'group E', 'group A', 'group D', 'group E', 'group B', 'group D', 'group D', 'group A', 'group E', 'group C', 'group C', 'group D', 'group D'], 'parental level of education': [\"bachelor's degree\", 'some college', \"master's degree\", \"associate's degree\", 'some college', \"associate's degree\", 'some college', 'some college', 'high school', 'high school', \"associate's degree\", \"associate's degree\", 'high school', 'some college', \"master's degree\", 'some high school', 'high school', 'some high school', \"master's degree\", \"associate's degree\", 'high school', 'some college', 'some college', 'some high school', \"bachelor's degree\", \"master's degree\", 'some college', \"bachelor's degree\", 'high school', \"master's degree\", 'some college', 'some college', \"master's degree\", 'some college', 'some college', \"associate's degree\", \"associate's degree\", 'some high school', \"associate's degree\", \"associate's degree\", \"associate's degree\", \"associate's degree\", \"associate's degree\", 'some college', \"associate's degree\", \"associate's degree\", \"associate's degree\", 'high school', \"associate's degree\", 'high school', 'some college', \"associate's degree\", 'some college', 'high school', 'some high school', 'high school', \"associate's degree\", \"associate's degree\", 'some college', 'some high school', \"bachelor's degree\", 'some high school', \"associate's degree\", \"associate's degree\", 'some high school', 'some high school', 'some high school', 'some college', \"associate's degree\", \"associate's degree\", 'some college', 'some college', \"associate's degree\", 'some high school', 'some high school', \"associate's degree\", 'some high school', \"bachelor's degree\", 'some high school', \"master's degree\", \"associate's degree\", 'high school', 'some college', \"associate's degree\", 'high school', 'some college', 'some college', \"associate's degree\", 'some college', 'some high school', \"bachelor's degree\", 'high school', 'high school', \"associate's degree\", 'some college', \"associate's degree\", 'some high school', 'some college', 'some college', \"bachelor's degree\", 'some college', \"bachelor's degree\", \"associate's degree\", 'high school', 'some college', 'some college', \"master's degree\", \"associate's degree\", \"associate's degree\", 'some high school', \"associate's degree\", 'high school', \"associate's degree\", 'some college', \"bachelor's degree\", 'high school', \"bachelor's degree\", \"bachelor's degree\", 'some high school', 'some college', \"bachelor's degree\", \"associate's degree\", 'some college', 'high school', 'some college', 'high school', 'some high school', 'some college', \"master's degree\", \"bachelor's degree\", \"master's degree\", 'some high school', 'some college', 'some college', \"bachelor's degree\", \"bachelor's degree\", 'some high school', 'high school', \"associate's degree\", 'some college', 'some high school', 'some college', 'some college', 'high school', 'some college', 'some college', 'some high school', \"associate's degree\", \"bachelor's degree\", \"associate's degree\", 'some high school', \"bachelor's degree\", \"associate's degree\", \"bachelor's degree\", 'some high school', 'some college', 'high school', 'some college', \"associate's degree\", \"associate's degree\", \"associate's degree\", 'some college', \"master's degree\", 'high school', \"master's degree\", \"bachelor's degree\", 'high school', \"master's degree\", 'high school', 'some college', 'high school', 'some high school', 'some college', \"associate's degree\", \"bachelor's degree\", \"master's degree\", 'high school', \"associate's degree\", \"master's degree\", 'some high school', \"master's degree\", 'some college', 'high school', \"associate's degree\", 'some high school', \"associate's degree\", 'high school', 'some high school', 'some high school', \"bachelor's degree\", \"associate's degree\", 'some college', 'some high school', 'some college', \"master's degree\", \"associate's degree\", 'some high school', 'high school', 'some college', \"bachelor's degree\", \"associate's degree\", 'some college', \"associate's degree\", \"associate's degree\", 'some college', 'some high school', \"bachelor's degree\", 'high school', 'some college', 'some college', 'some high school', 'some college', 'high school', \"associate's degree\", 'high school', 'some high school', \"associate's degree\", 'high school', 'high school', 'some high school', 'high school', \"associate's degree\", 'some high school', 'some high school', \"associate's degree\", \"master's degree\", 'some college', 'high school', 'some high school', 'some college', 'some college', \"associate's degree\", \"bachelor's degree\", 'some high school', \"bachelor's degree\", \"associate's degree\", \"bachelor's degree\", 'some high school', 'some college', \"associate's degree\", 'high school', \"bachelor's degree\", 'high school', 'some college', 'some high school', \"associate's degree\", \"associate's degree\", 'high school', 'high school', 'high school', 'some high school', 'some college', 'some high school', \"master's degree\", 'high school', 'some college', \"associate's degree\", \"associate's degree\", 'some college', \"master's degree\", 'some high school', 'some college', 'some high school', 'high school', 'high school', 'some high school', \"bachelor's degree\", 'high school', \"associate's degree\", 'some college', \"bachelor's degree\", 'some college', \"associate's degree\", 'some college', 'some college', \"bachelor's degree\", 'some high school', 'high school', 'some high school', \"bachelor's degree\", 'high school', 'high school', \"bachelor's degree\", 'some college', 'some high school', \"associate's degree\", \"associate's degree\", 'some high school', \"bachelor's degree\", 'some high school', \"associate's degree\", 'some high school', 'some high school', \"bachelor's degree\", 'high school', \"associate's degree\", 'some high school', \"associate's degree\", 'high school', \"associate's degree\", 'some college', 'some high school', \"associate's degree\", \"associate's degree\", \"associate's degree\", 'some college', 'some college', 'some high school', \"associate's degree\", 'high school', \"associate's degree\", \"bachelor's degree\", \"bachelor's degree\", \"associate's degree\", \"bachelor's degree\", 'high school', \"master's degree\", \"associate's degree\", \"bachelor's degree\", \"associate's degree\", 'high school', 'high school', 'some college', 'some high school', 'high school', 'some college', 'some college', 'some college', \"associate's degree\", 'some high school', 'high school', \"associate's degree\", \"associate's degree\", \"associate's degree\", \"bachelor's degree\", 'some college', 'some high school', \"associate's degree\", 'some high school', 'some high school', 'high school', 'high school', 'high school', \"associate's degree\", 'some college', 'high school', 'some college', \"bachelor's degree\", 'high school', \"associate's degree\", \"bachelor's degree\", 'some college', 'some college', \"associate's degree\", 'some college', \"bachelor's degree\", \"associate's degree\", 'some college', 'some college', 'some college', 'high school', 'some high school', 'some college', 'some high school', 'some college', \"bachelor's degree\", 'high school', \"bachelor's degree\", 'some high school', 'some high school', 'some college', 'some college', 'some high school', 'some college', \"bachelor's degree\", \"associate's degree\", 'some high school', \"master's degree\", 'some high school', \"bachelor's degree\", \"associate's degree\", \"associate's degree\", \"master's degree\", 'some high school', 'some high school', 'some college', \"bachelor's degree\", \"associate's degree\", 'high school', \"master's degree\", 'some high school', 'some college', 'some college', \"associate's degree\", 'some high school', 'high school', 'high school', \"associate's degree\", 'some high school', 'some high school', 'some high school', 'some college', 'some college', 'high school', 'high school', 'some high school', \"associate's degree\", \"associate's degree\", 'high school', \"associate's degree\", \"master's degree\", 'some college', \"associate's degree\", 'some high school', \"bachelor's degree\", 'high school', \"bachelor's degree\", \"associate's degree\", 'some college', 'high school', \"associate's degree\", 'high school', \"master's degree\", 'some high school', 'some college', 'some college', \"bachelor's degree\", 'some high school', 'some high school', 'some high school', \"associate's degree\", 'high school', 'high school', 'some high school', 'some high school', 'some college', \"associate's degree\", \"associate's degree\", 'high school', 'some high school', 'some college', 'high school', 'some high school', \"associate's degree\", 'some high school', 'some high school', 'some college', 'high school', 'high school', \"associate's degree\", 'some college', 'some college', \"associate's degree\", 'some college', \"associate's degree\", \"bachelor's degree\", \"bachelor's degree\", \"associate's degree\", \"bachelor's degree\", 'high school', \"bachelor's degree\", 'some college', 'some college', 'some college', \"bachelor's degree\", 'some college', \"associate's degree\", 'high school', 'high school', 'some college', \"associate's degree\", 'high school', \"associate's degree\", 'some high school', \"associate's degree\", \"bachelor's degree\", \"bachelor's degree\", \"associate's degree\", \"master's degree\", \"associate's degree\", 'high school', \"associate's degree\", 'some college', 'high school', \"associate's degree\", 'high school', 'some college', \"associate's degree\", 'some high school', \"associate's degree\", \"associate's degree\", \"associate's degree\", 'some college', \"bachelor's degree\", 'high school', 'high school', 'some college', 'some college', 'some high school', 'some college', \"master's degree\", \"associate's degree\", 'some college', \"associate's degree\", \"master's degree\", 'some high school', 'high school', \"bachelor's degree\", \"master's degree\", \"bachelor's degree\", 'some college', 'some high school', 'some high school', 'some high school', \"master's degree\", 'some high school', 'some college', 'some college', 'some high school', 'high school', 'some college', \"associate's degree\", \"bachelor's degree\", \"master's degree\", 'high school', 'some college', 'some high school', 'high school', \"bachelor's degree\", \"associate's degree\", \"associate's degree\", 'some high school', \"associate's degree\", \"associate's degree\", 'high school', \"bachelor's degree\", \"associate's degree\", 'high school', \"bachelor's degree\", \"associate's degree\", 'high school', \"associate's degree\", \"associate's degree\", \"associate's degree\", \"master's degree\", 'some high school', 'some high school', 'high school', 'high school', \"master's degree\", 'some high school', \"bachelor's degree\", \"associate's degree\", 'some college', \"associate's degree\", 'some college', \"associate's degree\", \"master's degree\", \"associate's degree\", 'some high school', 'some college', 'some college', \"bachelor's degree\", 'some college', \"bachelor's degree\", \"associate's degree\", \"bachelor's degree\", \"master's degree\", 'high school', \"bachelor's degree\", 'some college', \"bachelor's degree\", 'some college', 'high school', 'high school', \"associate's degree\", 'some college', 'high school', 'some college', \"master's degree\", 'some high school', 'some high school', \"bachelor's degree\", \"associate's degree\", 'some college', \"associate's degree\", 'high school', \"bachelor's degree\", 'some college', 'some high school', 'some college', 'some high school', \"bachelor's degree\", 'high school', \"bachelor's degree\", \"bachelor's degree\", 'high school', 'some high school', 'high school', 'some high school', \"master's degree\", 'high school', 'some college', 'high school', \"master's degree\", 'some high school', \"associate's degree\", \"master's degree\", 'some college', \"associate's degree\", 'some college', 'some college', \"bachelor's degree\", \"associate's degree\", \"associate's degree\", 'high school', \"bachelor's degree\", \"bachelor's degree\", \"master's degree\", \"associate's degree\", 'high school', \"bachelor's degree\", 'high school', 'some college', \"bachelor's degree\", 'some college', \"associate's degree\", \"associate's degree\", 'some college', 'some high school', 'some college', 'high school', \"bachelor's degree\", 'high school', 'some high school', 'high school', 'high school', 'some high school', 'some college', \"associate's degree\", 'high school', \"associate's degree\", 'some high school', 'high school', 'high school', \"bachelor's degree\", \"associate's degree\", 'high school', 'high school', 'some college', 'some high school', 'high school', 'some college', \"associate's degree\", 'some high school', 'some college', \"associate's degree\", 'some high school', \"associate's degree\", \"associate's degree\", 'some college', 'some high school', 'some college', 'high school', \"associate's degree\", 'some high school', 'some college', \"bachelor's degree\", 'some college', \"associate's degree\", 'high school', \"associate's degree\", 'some college', \"associate's degree\", 'high school', 'some college', 'some college', 'some high school', \"associate's degree\", 'some college', 'high school', 'high school', 'high school', 'some high school', 'some college', \"master's degree\", 'some college', \"associate's degree\", 'high school', 'some college', \"associate's degree\", \"associate's degree\", \"bachelor's degree\", \"associate's degree\", 'some high school', 'some college', \"associate's degree\", \"bachelor's degree\", \"associate's degree\", 'high school', \"bachelor's degree\", 'some high school', \"bachelor's degree\", 'some college', 'some high school', \"bachelor's degree\", 'high school', 'some college', 'high school', \"associate's degree\", 'some college', 'some high school', 'some college', \"master's degree\", 'some high school', \"associate's degree\", \"associate's degree\", \"associate's degree\", 'high school', \"associate's degree\", 'some college', 'some high school', 'some high school', 'high school', 'some college', 'some college', \"associate's degree\", 'some high school', 'high school', 'some college', \"associate's degree\", 'some high school', 'some college', 'some high school', 'some college', \"master's degree\", \"associate's degree\", 'some college', \"associate's degree\", 'high school', \"bachelor's degree\", \"associate's degree\", 'high school', \"associate's degree\", 'some college', \"associate's degree\", 'high school', 'some college', \"bachelor's degree\", 'some college', 'some high school', 'some college', \"master's degree\", 'some high school', \"associate's degree\", \"associate's degree\", 'some college', \"bachelor's degree\", 'some college', 'some college', 'high school', 'some high school', 'some high school', 'high school', 'some college', 'high school', 'high school', 'high school', 'some high school', 'some college', 'high school', \"bachelor's degree\", 'some high school', \"bachelor's degree\", 'some college', 'some high school', 'high school', 'some college', 'some college', \"associate's degree\", \"associate's degree\", \"master's degree\", 'high school', \"associate's degree\", \"bachelor's degree\", 'some high school', 'some high school', 'some college', \"associate's degree\", \"master's degree\", 'high school', 'some college', 'high school', 'some high school', 'high school', \"associate's degree\", 'high school', \"associate's degree\", 'some college', \"associate's degree\", 'some high school', 'some high school', \"associate's degree\", 'some college', 'some college', 'some college', 'some college', 'high school', 'high school', \"bachelor's degree\", 'some high school', 'high school', \"master's degree\", 'some high school', 'high school', 'some high school', \"bachelor's degree\", \"bachelor's degree\", 'high school', 'some high school', 'some high school', \"bachelor's degree\", 'some college', 'high school', 'some high school', 'high school', \"associate's degree\", 'some high school', 'some high school', 'some high school', 'some college', \"bachelor's degree\", \"bachelor's degree\", 'high school', 'some college', 'high school', 'high school', 'high school', \"associate's degree\", \"associate's degree\", 'high school', 'some high school', 'high school', 'some college', 'some high school', \"master's degree\", \"master's degree\", 'high school', 'high school', \"associate's degree\", \"master's degree\", 'high school', 'some college', 'some high school', 'some high school', \"bachelor's degree\", 'some college', \"bachelor's degree\", 'high school', \"associate's degree\", \"associate's degree\", \"master's degree\", \"bachelor's degree\", 'some college', \"associate's degree\", 'some college', 'high school', \"associate's degree\", \"associate's degree\", \"associate's degree\", 'high school', 'some college', \"associate's degree\", \"associate's degree\", \"bachelor's degree\", 'some college', 'some college', 'some high school', 'some high school', \"associate's degree\", \"bachelor's degree\", \"bachelor's degree\", 'high school', \"bachelor's degree\", \"associate's degree\", \"associate's degree\", \"associate's degree\", 'high school', 'some college', 'high school', 'some college', \"associate's degree\", \"master's degree\", 'some high school', \"associate's degree\", 'some high school', 'high school', 'some high school', \"associate's degree\", 'some high school', \"master's degree\", \"master's degree\", 'high school', \"bachelor's degree\", 'some high school', 'some college', 'high school', 'some college', \"bachelor's degree\", \"bachelor's degree\", \"bachelor's degree\", 'some college', \"bachelor's degree\", \"bachelor's degree\", \"associate's degree\", 'some college', \"bachelor's degree\", 'high school', \"associate's degree\", 'some college', 'high school', 'high school', 'high school', \"associate's degree\", 'high school', 'some high school', \"associate's degree\", 'high school', \"associate's degree\", 'some high school', 'some college', 'some college', \"associate's degree\", \"bachelor's degree\", \"associate's degree\", 'some college', \"associate's degree\", 'high school', 'some college', 'some high school', \"master's degree\", \"master's degree\", 'high school', 'some high school', 'high school', \"associate's degree\", 'high school', 'some college', 'some high school', 'high school', 'high school', 'some college', 'some high school', 'high school', 'some college', \"associate's degree\", 'some college', \"master's degree\", 'high school', 'high school', 'some college', 'some high school', \"associate's degree\", 'some high school', 'some college', 'some college', 'some high school', 'some college', \"associate's degree\", \"bachelor's degree\", \"bachelor's degree\", 'some high school', 'high school', 'some college', 'some college', 'some college', 'some college', \"associate's degree\", 'high school', \"associate's degree\", 'high school', 'some high school', 'some high school', 'some college', 'some high school', 'high school', \"associate's degree\", 'some high school', 'some high school', 'some college', 'high school', 'some high school', \"associate's degree\", \"bachelor's degree\", 'high school', \"master's degree\", 'high school', 'high school', 'some college', 'some college'], 'lunch': ['standard', 'standard', 'standard', 'free/reduced', 'standard', 'standard', 'standard', 'free/reduced', 'free/reduced', 'free/reduced', 'standard', 'standard', 'standard', 'standard', 'standard', 'standard', 'standard', 'free/reduced', 'free/reduced', 'free/reduced', 'standard', 'free/reduced', 'standard', 'standard', 'free/reduced', 'free/reduced', 'standard', 'standard', 'standard', 'standard', 'standard', 'standard', 'free/reduced', 'standard', 'standard', 'standard', 'standard', 'free/reduced', 'free/reduced', 'free/reduced', 'free/reduced', 'standard', 'standard', 'free/reduced', 'free/reduced', 'standard', 'standard', 'standard', 'free/reduced', 'standard', 'standard', 'free/reduced', 'standard', 'standard', 'free/reduced', 'free/reduced', 'standard', 'standard', 'standard', 'free/reduced', 'free/reduced', 'free/reduced', 'free/reduced', 'standard', 'standard', 'standard', 'free/reduced', 'standard', 'free/reduced', 'standard', 'free/reduced', 'standard', 'free/reduced', 'free/reduced', 'standard', 'free/reduced', 'standard', 'standard', 'standard', 'standard', 'standard', 'free/reduced', 'free/reduced', 'standard', 'free/reduced', 'standard', 'free/reduced', 'standard', 'standard', 'standard', 'standard', 'free/reduced', 'standard', 'free/reduced', 'standard', 'free/reduced', 'standard', 'standard', 'free/reduced', 'standard', 'standard', 'standard', 'standard', 'standard', 'standard', 'standard', 'standard', 'standard', 'free/reduced', 'standard', 'free/reduced', 'standard', 'standard', 'standard', 'standard', 'standard', 'free/reduced', 'standard', 'standard', 'standard', 'standard', 'standard', 'standard', 'free/reduced', 'standard', 'standard', 'standard', 'standard', 'standard', 'standard', 'standard', 'free/reduced', 'free/reduced', 'standard', 'free/reduced', 'standard', 'standard', 'standard', 'standard', 'standard', 'standard', 'free/reduced', 'free/reduced', 'standard', 'standard', 'free/reduced', 'standard', 'free/reduced', 'standard', 'free/reduced', 'standard', 'standard', 'standard', 'standard', 'standard', 'standard', 'free/reduced', 'free/reduced', 'standard', 'free/reduced', 'free/reduced', 'free/reduced', 'free/reduced', 'standard', 'standard', 'standard', 'free/reduced', 'free/reduced', 'standard', 'free/reduced', 'standard', 'standard', 'standard', 'standard', 'free/reduced', 'standard', 'free/reduced', 'standard', 'free/reduced', 'standard', 'free/reduced', 'free/reduced', 'standard', 'standard', 'free/reduced', 'free/reduced', 'standard', 'standard', 'free/reduced', 'standard', 'standard', 'standard', 'standard', 'standard', 'standard', 'standard', 'free/reduced', 'free/reduced', 'free/reduced', 'free/reduced', 'standard', 'free/reduced', 'standard', 'standard', 'standard', 'standard', 'standard', 'standard', 'free/reduced', 'free/reduced', 'free/reduced', 'free/reduced', 'free/reduced', 'free/reduced', 'standard', 'standard', 'free/reduced', 'free/reduced', 'free/reduced', 'standard', 'standard', 'standard', 'free/reduced', 'standard', 'standard', 'free/reduced', 'standard', 'standard', 'free/reduced', 'standard', 'standard', 'standard', 'standard', 'standard', 'standard', 'standard', 'free/reduced', 'standard', 'standard', 'standard', 'free/reduced', 'standard', 'standard', 'standard', 'standard', 'standard', 'standard', 'standard', 'standard', 'standard', 'standard', 'free/reduced', 'standard', 'standard', 'standard', 'standard', 'free/reduced', 'standard', 'standard', 'free/reduced', 'free/reduced', 'standard', 'free/reduced', 'standard', 'standard', 'free/reduced', 'standard', 'standard', 'standard', 'free/reduced', 'standard', 'standard', 'free/reduced', 'standard', 'standard', 'standard', 'standard', 'standard', 'free/reduced', 'free/reduced', 'standard', 'standard', 'free/reduced', 'free/reduced', 'standard', 'standard', 'standard', 'standard', 'free/reduced', 'standard', 'standard', 'standard', 'standard', 'standard', 'free/reduced', 'free/reduced', 'standard', 'standard', 'free/reduced', 'free/reduced', 'free/reduced', 'free/reduced', 'standard', 'standard', 'standard', 'standard', 'standard', 'standard', 'free/reduced', 'free/reduced', 'standard', 'standard', 'standard', 'free/reduced', 'standard', 'standard', 'standard', 'standard', 'standard', 'free/reduced', 'free/reduced', 'standard', 'standard', 'free/reduced', 'free/reduced', 'standard', 'standard', 'free/reduced', 'standard', 'standard', 'standard', 'standard', 'standard', 'standard', 'standard', 'free/reduced', 'standard', 'standard', 'free/reduced', 'free/reduced', 'free/reduced', 'standard', 'standard', 'standard', 'standard', 'standard', 'standard', 'standard', 'free/reduced', 'standard', 'standard', 'standard', 'standard', 'standard', 'standard', 'standard', 'standard', 'free/reduced', 'free/reduced', 'standard', 'standard', 'standard', 'standard', 'free/reduced', 'standard', 'free/reduced', 'standard', 'free/reduced', 'free/reduced', 'standard', 'standard', 'free/reduced', 'standard', 'standard', 'standard', 'free/reduced', 'standard', 'free/reduced', 'standard', 'standard', 'standard', 'standard', 'free/reduced', 'free/reduced', 'free/reduced', 'standard', 'standard', 'free/reduced', 'standard', 'standard', 'free/reduced', 'standard', 'standard', 'standard', 'standard', 'free/reduced', 'free/reduced', 'standard', 'standard', 'standard', 'standard', 'standard', 'free/reduced', 'standard', 'standard', 'standard', 'standard', 'standard', 'free/reduced', 'standard', 'standard', 'standard', 'standard', 'standard', 'free/reduced', 'standard', 'standard', 'standard', 'standard', 'free/reduced', 'free/reduced', 'standard', 'free/reduced', 'standard', 'free/reduced', 'free/reduced', 'standard', 'free/reduced', 'free/reduced', 'free/reduced', 'free/reduced', 'standard', 'standard', 'free/reduced', 'standard', 'free/reduced', 'standard', 'free/reduced', 'standard', 'standard', 'standard', 'standard', 'free/reduced', 'standard', 'free/reduced', 'standard', 'free/reduced', 'standard', 'standard', 'standard', 'free/reduced', 'standard', 'free/reduced', 'free/reduced', 'free/reduced', 'free/reduced', 'standard', 'free/reduced', 'standard', 'standard', 'free/reduced', 'free/reduced', 'standard', 'free/reduced', 'standard', 'standard', 'free/reduced', 'free/reduced', 'free/reduced', 'standard', 'standard', 'standard', 'standard', 'standard', 'standard', 'standard', 'standard', 'standard', 'standard', 'standard', 'standard', 'free/reduced', 'free/reduced', 'standard', 'standard', 'standard', 'free/reduced', 'free/reduced', 'standard', 'free/reduced', 'free/reduced', 'standard', 'standard', 'standard', 'standard', 'standard', 'standard', 'free/reduced', 'standard', 'standard', 'standard', 'standard', 'free/reduced', 'standard', 'free/reduced', 'standard', 'standard', 'free/reduced', 'standard', 'standard', 'standard', 'standard', 'free/reduced', 'standard', 'free/reduced', 'standard', 'standard', 'standard', 'standard', 'free/reduced', 'standard', 'standard', 'standard', 'free/reduced', 'standard', 'standard', 'free/reduced', 'free/reduced', 'free/reduced', 'standard', 'standard', 'standard', 'standard', 'standard', 'standard', 'free/reduced', 'standard', 'standard', 'standard', 'standard', 'standard', 'free/reduced', 'standard', 'standard', 'standard', 'free/reduced', 'standard', 'standard', 'free/reduced', 'standard', 'free/reduced', 'free/reduced', 'standard', 'free/reduced', 'standard', 'free/reduced', 'standard', 'free/reduced', 'free/reduced', 'standard', 'standard', 'standard', 'standard', 'free/reduced', 'free/reduced', 'standard', 'free/reduced', 'free/reduced', 'free/reduced', 'free/reduced', 'standard', 'standard', 'standard', 'free/reduced', 'standard', 'free/reduced', 'standard', 'standard', 'free/reduced', 'standard', 'standard', 'standard', 'free/reduced', 'standard', 'standard', 'standard', 'standard', 'free/reduced', 'standard', 'standard', 'free/reduced', 'standard', 'standard', 'standard', 'standard', 'standard', 'free/reduced', 'standard', 'standard', 'standard', 'standard', 'standard', 'standard', 'free/reduced', 'free/reduced', 'standard', 'standard', 'free/reduced', 'standard', 'standard', 'free/reduced', 'standard', 'standard', 'standard', 'standard', 'standard', 'standard', 'standard', 'standard', 'free/reduced', 'free/reduced', 'free/reduced', 'free/reduced', 'standard', 'free/reduced', 'standard', 'free/reduced', 'standard', 'free/reduced', 'standard', 'standard', 'standard', 'standard', 'standard', 'standard', 'standard', 'free/reduced', 'standard', 'standard', 'standard', 'standard', 'free/reduced', 'free/reduced', 'standard', 'standard', 'standard', 'standard', 'free/reduced', 'standard', 'standard', 'free/reduced', 'standard', 'standard', 'standard', 'standard', 'standard', 'free/reduced', 'standard', 'free/reduced', 'standard', 'free/reduced', 'standard', 'free/reduced', 'standard', 'standard', 'free/reduced', 'free/reduced', 'free/reduced', 'standard', 'standard', 'free/reduced', 'free/reduced', 'standard', 'standard', 'standard', 'standard', 'standard', 'standard', 'free/reduced', 'free/reduced', 'standard', 'standard', 'standard', 'free/reduced', 'standard', 'standard', 'standard', 'free/reduced', 'free/reduced', 'free/reduced', 'standard', 'free/reduced', 'free/reduced', 'standard', 'standard', 'free/reduced', 'standard', 'standard', 'standard', 'free/reduced', 'standard', 'standard', 'standard', 'standard', 'free/reduced', 'free/reduced', 'standard', 'standard', 'standard', 'free/reduced', 'standard', 'standard', 'standard', 'standard', 'standard', 'free/reduced', 'standard', 'standard', 'standard', 'free/reduced', 'free/reduced', 'free/reduced', 'free/reduced', 'standard', 'standard', 'standard', 'standard', 'standard', 'free/reduced', 'standard', 'free/reduced', 'free/reduced', 'standard', 'standard', 'free/reduced', 'standard', 'standard', 'free/reduced', 'standard', 'free/reduced', 'standard', 'free/reduced', 'standard', 'standard', 'free/reduced', 'standard', 'standard', 'standard', 'free/reduced', 'standard', 'standard', 'standard', 'free/reduced', 'standard', 'free/reduced', 'standard', 'standard', 'free/reduced', 'free/reduced', 'standard', 'free/reduced', 'standard', 'standard', 'standard', 'standard', 'standard', 'standard', 'standard', 'standard', 'free/reduced', 'standard', 'standard', 'free/reduced', 'free/reduced', 'standard', 'free/reduced', 'standard', 'free/reduced', 'standard', 'standard', 'free/reduced', 'standard', 'free/reduced', 'standard', 'standard', 'standard', 'free/reduced', 'standard', 'free/reduced', 'free/reduced', 'standard', 'free/reduced', 'free/reduced', 'standard', 'standard', 'free/reduced', 'standard', 'free/reduced', 'standard', 'standard', 'standard', 'standard', 'standard', 'standard', 'standard', 'free/reduced', 'free/reduced', 'free/reduced', 'standard', 'standard', 'standard', 'free/reduced', 'standard', 'standard', 'standard', 'standard', 'standard', 'free/reduced', 'free/reduced', 'standard', 'standard', 'free/reduced', 'free/reduced', 'free/reduced', 'free/reduced', 'standard', 'free/reduced', 'standard', 'free/reduced', 'standard', 'free/reduced', 'free/reduced', 'standard', 'standard', 'standard', 'standard', 'standard', 'standard', 'free/reduced', 'standard', 'free/reduced', 'standard', 'free/reduced', 'free/reduced', 'free/reduced', 'standard', 'standard', 'standard', 'standard', 'standard', 'standard', 'standard', 'standard', 'standard', 'standard', 'standard', 'free/reduced', 'standard', 'standard', 'free/reduced', 'standard', 'free/reduced', 'free/reduced', 'standard', 'standard', 'standard', 'free/reduced', 'standard', 'free/reduced', 'free/reduced', 'standard', 'standard', 'standard', 'free/reduced', 'free/reduced', 'free/reduced', 'standard', 'standard', 'standard', 'standard', 'standard', 'standard', 'free/reduced', 'free/reduced', 'standard', 'standard', 'standard', 'free/reduced', 'free/reduced', 'free/reduced', 'standard', 'standard', 'free/reduced', 'standard', 'standard', 'free/reduced', 'free/reduced', 'free/reduced', 'standard', 'standard', 'standard', 'standard', 'free/reduced', 'free/reduced', 'free/reduced', 'standard', 'standard', 'standard', 'free/reduced', 'standard', 'free/reduced', 'standard', 'standard', 'free/reduced', 'free/reduced', 'standard', 'standard', 'standard', 'standard', 'standard', 'free/reduced', 'free/reduced', 'standard', 'free/reduced', 'free/reduced', 'standard', 'free/reduced', 'free/reduced', 'free/reduced', 'free/reduced', 'free/reduced', 'free/reduced', 'free/reduced', 'free/reduced', 'standard', 'free/reduced', 'standard', 'free/reduced', 'standard', 'standard', 'free/reduced', 'standard', 'standard', 'free/reduced', 'standard', 'standard', 'standard', 'free/reduced', 'free/reduced', 'free/reduced', 'standard', 'standard', 'free/reduced', 'standard', 'standard', 'standard', 'standard', 'standard', 'standard', 'standard', 'standard', 'free/reduced', 'standard', 'free/reduced', 'standard', 'standard', 'standard', 'standard', 'standard', 'standard', 'standard', 'standard', 'free/reduced', 'free/reduced', 'standard', 'standard', 'free/reduced', 'standard', 'standard', 'standard', 'free/reduced', 'standard', 'standard', 'standard', 'standard', 'standard', 'standard', 'standard', 'free/reduced', 'free/reduced', 'free/reduced', 'standard', 'free/reduced', 'free/reduced', 'standard', 'standard', 'free/reduced', 'free/reduced', 'standard', 'free/reduced'], 'test preparation course': ['none', 'completed', 'none', 'none', 'none', 'none', 'completed', 'none', 'completed', 'none', 'none', 'none', 'none', 'completed', 'none', 'none', 'none', 'none', 'completed', 'none', 'none', 'completed', 'none', 'none', 'completed', 'none', 'none', 'none', 'none', 'none', 'none', 'none', 'none', 'none', 'none', 'completed', 'none', 'none', 'completed', 'none', 'none', 'none', 'none', 'completed', 'none', 'none', 'completed', 'none', 'completed', 'completed', 'none', 'completed', 'none', 'none', 'completed', 'none', 'completed', 'none', 'completed', 'none', 'completed', 'none', 'none', 'none', 'none', 'none', 'none', 'none', 'none', 'none', 'completed', 'completed', 'none', 'none', 'none', 'none', 'none', 'completed', 'completed', 'none', 'none', 'none', 'completed', 'none', 'none', 'none', 'none', 'none', 'none', 'none', 'none', 'none', 'none', 'completed', 'none', 'completed', 'completed', 'completed', 'none', 'none', 'none', 'completed', 'none', 'completed', 'completed', 'none', 'none', 'completed', 'none', 'none', 'completed', 'none', 'none', 'none', 'completed', 'none', 'none', 'none', 'none', 'none', 'completed', 'completed', 'completed', 'none', 'none', 'none', 'none', 'completed', 'none', 'none', 'none', 'completed', 'completed', 'completed', 'completed', 'none', 'completed', 'none', 'none', 'completed', 'none', 'none', 'completed', 'none', 'none', 'none', 'none', 'none', 'completed', 'completed', 'completed', 'none', 'completed', 'none', 'none', 'completed', 'completed', 'none', 'completed', 'none', 'completed', 'completed', 'none', 'none', 'none', 'completed', 'completed', 'completed', 'completed', 'completed', 'completed', 'none', 'none', 'none', 'completed', 'completed', 'completed', 'completed', 'completed', 'completed', 'completed', 'none', 'none', 'none', 'completed', 'completed', 'none', 'completed', 'none', 'none', 'none', 'completed', 'none', 'completed', 'completed', 'none', 'completed', 'none', 'none', 'none', 'completed', 'none', 'none', 'none', 'none', 'completed', 'none', 'completed', 'none', 'none', 'completed', 'none', 'none', 'completed', 'completed', 'completed', 'completed', 'none', 'none', 'completed', 'completed', 'none', 'none', 'none', 'completed', 'none', 'none', 'none', 'none', 'completed', 'none', 'none', 'none', 'none', 'completed', 'none', 'none', 'completed', 'none', 'none', 'completed', 'none', 'none', 'none', 'none', 'none', 'none', 'completed', 'none', 'none', 'completed', 'none', 'completed', 'none', 'none', 'none', 'none', 'completed', 'none', 'completed', 'completed', 'completed', 'none', 'none', 'none', 'none', 'none', 'none', 'completed', 'none', 'none', 'none', 'none', 'none', 'completed', 'none', 'completed', 'completed', 'none', 'none', 'none', 'none', 'none', 'completed', 'none', 'completed', 'completed', 'none', 'none', 'completed', 'none', 'none', 'completed', 'none', 'completed', 'none', 'completed', 'completed', 'completed', 'none', 'completed', 'none', 'completed', 'none', 'completed', 'none', 'completed', 'none', 'none', 'none', 'none', 'none', 'completed', 'completed', 'completed', 'none', 'completed', 'none', 'none', 'none', 'completed', 'none', 'none', 'none', 'none', 'none', 'none', 'none', 'completed', 'none', 'none', 'none', 'completed', 'none', 'none', 'none', 'completed', 'none', 'none', 'completed', 'none', 'none', 'completed', 'completed', 'none', 'none', 'none', 'completed', 'none', 'none', 'none', 'none', 'completed', 'none', 'none', 'none', 'none', 'completed', 'none', 'none', 'none', 'completed', 'none', 'none', 'none', 'completed', 'completed', 'none', 'none', 'none', 'none', 'completed', 'none', 'completed', 'none', 'none', 'none', 'completed', 'none', 'none', 'none', 'completed', 'none', 'none', 'none', 'none', 'none', 'none', 'none', 'none', 'completed', 'none', 'none', 'completed', 'completed', 'none', 'none', 'none', 'none', 'none', 'completed', 'none', 'none', 'completed', 'none', 'none', 'completed', 'none', 'completed', 'completed', 'completed', 'completed', 'none', 'completed', 'completed', 'none', 'completed', 'none', 'none', 'completed', 'completed', 'completed', 'completed', 'completed', 'none', 'none', 'none', 'none', 'none', 'none', 'none', 'none', 'none', 'none', 'none', 'completed', 'none', 'none', 'none', 'completed', 'completed', 'none', 'none', 'none', 'none', 'completed', 'none', 'completed', 'none', 'none', 'completed', 'none', 'none', 'none', 'none', 'none', 'none', 'none', 'none', 'completed', 'none', 'none', 'none', 'none', 'completed', 'none', 'none', 'completed', 'completed', 'none', 'completed', 'none', 'completed', 'none', 'completed', 'completed', 'completed', 'none', 'none', 'none', 'completed', 'none', 'none', 'none', 'none', 'none', 'none', 'none', 'completed', 'completed', 'none', 'none', 'none', 'none', 'none', 'completed', 'none', 'completed', 'none', 'none', 'none', 'completed', 'none', 'completed', 'none', 'none', 'none', 'none', 'none', 'none', 'none', 'none', 'none', 'completed', 'completed', 'completed', 'none', 'completed', 'completed', 'completed', 'none', 'none', 'none', 'none', 'completed', 'none', 'completed', 'none', 'none', 'none', 'completed', 'none', 'completed', 'completed', 'completed', 'completed', 'completed', 'none', 'completed', 'completed', 'completed', 'completed', 'none', 'none', 'none', 'completed', 'completed', 'completed', 'none', 'none', 'none', 'completed', 'none', 'none', 'none', 'none', 'completed', 'none', 'none', 'none', 'completed', 'none', 'completed', 'completed', 'none', 'none', 'completed', 'completed', 'none', 'none', 'completed', 'none', 'none', 'completed', 'none', 'completed', 'completed', 'none', 'completed', 'none', 'none', 'none', 'none', 'completed', 'none', 'none', 'none', 'none', 'none', 'none', 'none', 'none', 'none', 'none', 'completed', 'completed', 'none', 'none', 'none', 'none', 'none', 'none', 'none', 'none', 'completed', 'none', 'none', 'none', 'none', 'none', 'completed', 'none', 'completed', 'none', 'none', 'none', 'none', 'none', 'none', 'completed', 'none', 'none', 'completed', 'completed', 'none', 'completed', 'completed', 'none', 'none', 'completed', 'none', 'none', 'completed', 'none', 'none', 'none', 'completed', 'completed', 'none', 'none', 'none', 'completed', 'none', 'completed', 'none', 'completed', 'none', 'none', 'none', 'completed', 'completed', 'completed', 'completed', 'completed', 'none', 'none', 'none', 'none', 'none', 'none', 'none', 'none', 'none', 'none', 'none', 'completed', 'completed', 'none', 'none', 'completed', 'none', 'none', 'none', 'completed', 'completed', 'completed', 'completed', 'completed', 'none', 'none', 'none', 'none', 'none', 'completed', 'completed', 'completed', 'completed', 'none', 'none', 'none', 'none', 'none', 'completed', 'none', 'none', 'none', 'completed', 'none', 'completed', 'none', 'completed', 'none', 'completed', 'none', 'completed', 'none', 'none', 'none', 'none', 'completed', 'completed', 'completed', 'none', 'none', 'completed', 'completed', 'completed', 'completed', 'none', 'completed', 'none', 'completed', 'completed', 'none', 'none', 'completed', 'completed', 'completed', 'none', 'none', 'completed', 'none', 'completed', 'none', 'none', 'none', 'none', 'completed', 'none', 'none', 'none', 'none', 'none', 'completed', 'none', 'none', 'none', 'none', 'none', 'completed', 'completed', 'none', 'completed', 'completed', 'none', 'none', 'none', 'completed', 'completed', 'completed', 'none', 'none', 'completed', 'none', 'none', 'none', 'completed', 'completed', 'none', 'none', 'none', 'none', 'completed', 'none', 'none', 'none', 'none', 'none', 'completed', 'completed', 'none', 'none', 'completed', 'completed', 'completed', 'completed', 'none', 'none', 'none', 'none', 'none', 'none', 'none', 'completed', 'none', 'completed', 'none', 'none', 'none', 'none', 'completed', 'completed', 'none', 'none', 'none', 'none', 'none', 'none', 'none', 'none', 'none', 'none', 'completed', 'completed', 'none', 'completed', 'none', 'completed', 'none', 'none', 'completed', 'none', 'completed', 'none', 'none', 'none', 'completed', 'none', 'completed', 'none', 'none', 'completed', 'none', 'completed', 'none', 'completed', 'none', 'completed', 'completed', 'none', 'none', 'none', 'completed', 'completed', 'completed', 'none', 'completed', 'none', 'none', 'none', 'none', 'none', 'none', 'none', 'none', 'none', 'none', 'none', 'completed', 'none', 'none', 'none', 'completed', 'completed', 'none', 'completed', 'none', 'none', 'completed', 'none', 'none', 'completed', 'completed', 'none', 'none', 'none', 'none', 'none', 'none', 'none', 'completed', 'completed', 'none', 'none', 'none', 'completed', 'completed', 'none', 'none', 'none', 'completed', 'none', 'none', 'completed', 'none', 'none', 'none', 'completed', 'completed', 'completed', 'none', 'none', 'completed', 'completed', 'none', 'none', 'none', 'completed', 'none', 'completed', 'none', 'none', 'completed', 'completed', 'none', 'none', 'completed', 'none', 'completed', 'completed', 'none', 'none', 'none', 'none', 'none', 'completed', 'none', 'completed', 'completed', 'none', 'completed', 'none', 'completed', 'completed', 'completed', 'none', 'none', 'none', 'completed', 'completed', 'completed', 'none', 'none', 'completed', 'none', 'none', 'none', 'none', 'completed', 'completed', 'none', 'completed', 'none', 'completed', 'none', 'none', 'none', 'none', 'none', 'none', 'none', 'none', 'none', 'completed', 'none', 'none', 'completed', 'none', 'none', 'none', 'none', 'completed', 'completed', 'none', 'none', 'completed', 'completed', 'none', 'completed', 'none', 'none', 'none', 'completed', 'completed', 'none', 'none', 'none', 'completed', 'none', 'completed', 'completed', 'completed', 'none', 'none', 'none', 'completed', 'none', 'completed', 'completed', 'none'], 'math score': [72, 69, 90, 47, 76, 71, 88, 40, 64, 38, 58, 40, 65, 78, 50, 69, 88, 18, 46, 54, 66, 65, 44, 69, 74, 73, 69, 67, 70, 62, 69, 63, 56, 40, 97, 81, 74, 50, 75, 57, 55, 58, 53, 59, 50, 65, 55, 66, 57, 82, 53, 77, 53, 88, 71, 33, 82, 52, 58, 0, 79, 39, 62, 69, 59, 67, 45, 60, 61, 39, 58, 63, 41, 61, 49, 44, 30, 80, 61, 62, 47, 49, 50, 72, 42, 73, 76, 71, 58, 73, 65, 27, 71, 43, 79, 78, 65, 63, 58, 65, 79, 68, 85, 60, 98, 58, 87, 66, 52, 70, 77, 62, 54, 51, 99, 84, 75, 78, 51, 55, 79, 91, 88, 63, 83, 87, 72, 65, 82, 51, 89, 53, 87, 75, 74, 58, 51, 70, 59, 71, 76, 59, 42, 57, 88, 22, 88, 73, 68, 100, 62, 77, 59, 54, 62, 70, 66, 60, 61, 66, 82, 75, 49, 52, 81, 96, 53, 58, 68, 67, 72, 94, 79, 63, 43, 81, 46, 71, 52, 97, 62, 46, 50, 65, 45, 65, 80, 62, 48, 77, 66, 76, 62, 77, 69, 61, 59, 55, 45, 78, 67, 65, 69, 57, 59, 74, 82, 81, 74, 58, 80, 35, 42, 60, 87, 84, 83, 34, 66, 61, 56, 87, 55, 86, 52, 45, 72, 57, 68, 88, 76, 46, 67, 92, 83, 80, 63, 64, 54, 84, 73, 80, 56, 59, 75, 85, 89, 58, 65, 68, 47, 71, 60, 80, 54, 62, 64, 78, 70, 65, 64, 79, 44, 99, 76, 59, 63, 69, 88, 71, 69, 58, 47, 65, 88, 83, 85, 59, 65, 73, 53, 45, 73, 70, 37, 81, 97, 67, 88, 77, 76, 86, 63, 65, 78, 67, 46, 71, 40, 90, 81, 56, 67, 80, 74, 69, 99, 51, 53, 49, 73, 66, 67, 68, 59, 71, 77, 83, 63, 56, 67, 75, 71, 43, 41, 82, 61, 28, 82, 41, 71, 47, 62, 90, 83, 61, 76, 49, 24, 35, 58, 61, 69, 67, 79, 72, 62, 77, 75, 87, 52, 66, 63, 46, 59, 61, 63, 42, 59, 80, 58, 85, 52, 27, 59, 49, 69, 61, 44, 73, 84, 45, 74, 82, 59, 46, 80, 85, 71, 66, 80, 87, 79, 38, 38, 67, 64, 57, 62, 73, 73, 77, 76, 57, 65, 48, 50, 85, 74, 60, 59, 53, 49, 88, 54, 63, 65, 82, 52, 87, 70, 84, 71, 63, 51, 84, 71, 74, 68, 57, 82, 57, 47, 59, 41, 62, 86, 69, 65, 68, 64, 61, 61, 47, 73, 50, 75, 75, 70, 89, 67, 78, 59, 73, 79, 67, 69, 86, 47, 81, 64, 100, 65, 65, 53, 37, 79, 53, 100, 72, 53, 54, 71, 77, 75, 84, 26, 72, 77, 91, 83, 63, 68, 59, 90, 71, 76, 80, 55, 76, 73, 52, 68, 59, 49, 70, 61, 60, 64, 79, 65, 64, 83, 81, 54, 68, 54, 59, 66, 76, 74, 94, 63, 95, 40, 82, 68, 55, 79, 86, 76, 64, 62, 54, 77, 76, 74, 66, 66, 67, 71, 91, 69, 54, 53, 68, 56, 36, 29, 62, 68, 47, 62, 79, 73, 66, 51, 51, 85, 97, 75, 79, 81, 82, 64, 78, 92, 72, 62, 79, 79, 87, 40, 77, 53, 32, 55, 61, 53, 73, 74, 63, 96, 63, 48, 48, 92, 61, 63, 68, 71, 91, 53, 50, 74, 40, 61, 81, 48, 53, 81, 77, 63, 73, 69, 65, 55, 44, 54, 48, 58, 71, 68, 74, 92, 56, 30, 53, 69, 65, 54, 29, 76, 60, 84, 75, 85, 40, 61, 58, 69, 58, 94, 65, 82, 60, 37, 88, 95, 65, 35, 62, 58, 100, 61, 100, 69, 61, 49, 44, 67, 79, 66, 75, 84, 71, 67, 80, 86, 76, 41, 74, 72, 74, 70, 65, 59, 64, 50, 69, 51, 68, 85, 65, 73, 62, 77, 69, 43, 90, 74, 73, 55, 65, 80, 50, 63, 77, 73, 81, 66, 52, 69, 65, 69, 50, 73, 70, 81, 63, 67, 60, 62, 29, 62, 94, 85, 77, 53, 93, 49, 73, 66, 77, 49, 79, 75, 59, 57, 66, 79, 57, 87, 63, 59, 62, 46, 66, 89, 42, 93, 80, 98, 81, 60, 76, 73, 96, 76, 91, 62, 55, 74, 50, 47, 81, 65, 68, 73, 53, 68, 55, 87, 55, 53, 67, 92, 53, 81, 61, 80, 37, 81, 59, 55, 72, 69, 69, 50, 87, 71, 68, 79, 77, 58, 84, 55, 70, 52, 69, 53, 48, 78, 62, 60, 74, 58, 76, 68, 58, 52, 75, 52, 62, 66, 49, 66, 35, 72, 94, 46, 77, 76, 52, 91, 32, 72, 19, 68, 52, 48, 60, 66, 89, 42, 57, 70, 70, 69, 52, 67, 76, 87, 82, 73, 75, 64, 41, 90, 59, 51, 45, 54, 87, 72, 94, 45, 61, 60, 77, 85, 78, 49, 71, 48, 62, 56, 65, 69, 68, 61, 74, 64, 77, 58, 60, 73, 75, 58, 66, 39, 64, 23, 74, 40, 90, 91, 64, 59, 80, 71, 61, 87, 82, 62, 97, 75, 65, 52, 87, 53, 81, 39, 71, 97, 82, 59, 61, 78, 49, 59, 70, 82, 90, 43, 80, 81, 57, 59, 64, 63, 71, 64, 55, 51, 62, 93, 54, 69, 44, 86, 85, 50, 88, 59, 32, 36, 63, 67, 65, 85, 73, 34, 93, 67, 88, 57, 79, 67, 70, 50, 69, 52, 47, 46, 68, 100, 44, 57, 91, 69, 35, 72, 54, 74, 74, 64, 65, 46, 48, 67, 62, 61, 70, 98, 70, 67, 57, 85, 77, 72, 78, 81, 61, 58, 54, 82, 49, 49, 57, 94, 75, 74, 58, 62, 72, 84, 92, 45, 75, 56, 48, 100, 65, 72, 62, 66, 63, 68, 75, 89, 78, 53, 49, 54, 64, 60, 62, 55, 91, 8, 81, 79, 78, 74, 57, 40, 81, 44, 67, 86, 65, 55, 62, 63, 88, 62, 59, 68, 77], 'reading score': [72, 90, 95, 57, 78, 83, 95, 43, 64, 60, 54, 52, 81, 72, 53, 75, 89, 32, 42, 58, 69, 75, 54, 73, 71, 74, 54, 69, 70, 70, 74, 65, 72, 42, 87, 81, 81, 64, 90, 56, 61, 73, 58, 65, 56, 54, 65, 71, 74, 84, 55, 69, 44, 78, 84, 41, 85, 55, 59, 17, 74, 39, 61, 80, 58, 64, 37, 72, 58, 64, 63, 55, 51, 57, 49, 41, 26, 78, 74, 68, 49, 45, 47, 64, 39, 80, 83, 71, 70, 86, 72, 34, 79, 45, 86, 81, 66, 72, 67, 67, 67, 74, 91, 44, 86, 67, 100, 63, 76, 64, 89, 55, 53, 58, 100, 77, 85, 82, 63, 69, 92, 89, 93, 57, 80, 95, 68, 77, 82, 49, 84, 37, 74, 81, 79, 55, 54, 55, 66, 61, 72, 62, 55, 43, 73, 39, 84, 68, 75, 100, 67, 67, 70, 49, 67, 89, 74, 60, 86, 62, 78, 88, 53, 53, 92, 100, 51, 76, 83, 75, 73, 88, 86, 67, 51, 91, 54, 77, 70, 100, 68, 64, 50, 69, 52, 67, 76, 66, 52, 88, 65, 83, 64, 62, 84, 55, 69, 56, 53, 79, 84, 81, 77, 69, 41, 71, 62, 80, 81, 61, 79, 28, 62, 51, 91, 83, 86, 42, 77, 56, 68, 85, 65, 80, 66, 56, 72, 50, 72, 95, 64, 43, 86, 87, 82, 75, 66, 60, 52, 80, 68, 83, 52, 51, 74, 76, 76, 70, 64, 60, 49, 83, 70, 80, 52, 73, 73, 77, 75, 81, 79, 79, 50, 93, 73, 42, 75, 72, 92, 76, 63, 49, 53, 70, 85, 78, 92, 63, 86, 56, 52, 48, 79, 78, 46, 82, 82, 89, 75, 76, 70, 73, 60, 73, 77, 62, 41, 74, 46, 87, 78, 54, 84, 76, 75, 67, 87, 52, 71, 57, 76, 60, 61, 67, 64, 66, 82, 72, 71, 65, 79, 86, 81, 53, 46, 90, 61, 23, 75, 55, 60, 37, 56, 78, 93, 68, 70, 51, 38, 55, 61, 73, 76, 72, 73, 80, 61, 94, 74, 74, 65, 57, 78, 58, 71, 72, 61, 66, 62, 90, 62, 84, 58, 34, 60, 58, 58, 66, 64, 84, 77, 73, 74, 97, 70, 43, 90, 95, 83, 64, 86, 100, 81, 49, 43, 76, 73, 78, 64, 70, 67, 68, 67, 54, 74, 45, 67, 89, 63, 59, 54, 43, 65, 99, 59, 73, 65, 80, 57, 84, 71, 83, 66, 67, 72, 73, 74, 73, 59, 56, 93, 58, 58, 85, 39, 67, 83, 71, 59, 63, 66, 72, 56, 59, 66, 48, 68, 66, 56, 88, 81, 81, 73, 83, 82, 74, 66, 81, 46, 73, 85, 92, 77, 58, 61, 56, 89, 54, 100, 65, 58, 54, 70, 90, 58, 87, 31, 67, 88, 74, 85, 69, 86, 67, 90, 76, 62, 68, 64, 71, 71, 59, 68, 52, 52, 74, 47, 75, 53, 82, 85, 64, 83, 88, 64, 64, 48, 78, 69, 71, 79, 87, 61, 89, 59, 82, 70, 59, 78, 92, 71, 50, 49, 61, 97, 87, 89, 74, 78, 78, 49, 86, 58, 59, 52, 60, 61, 53, 41, 74, 67, 54, 61, 88, 69, 83, 60, 66, 66, 92, 69, 82, 77, 95, 63, 83, 100, 67, 67, 72, 76, 90, 48, 62, 45, 39, 72, 67, 70, 66, 75, 74, 90, 80, 51, 43, 100, 71, 48, 68, 75, 96, 62, 66, 81, 55, 51, 91, 56, 61, 97, 79, 73, 75, 77, 76, 73, 63, 64, 66, 57, 62, 68, 76, 100, 79, 24, 54, 77, 82, 60, 29, 78, 57, 89, 72, 84, 58, 64, 63, 60, 59, 90, 77, 93, 68, 45, 78, 81, 73, 61, 63, 51, 96, 58, 97, 70, 48, 57, 51, 64, 60, 74, 88, 84, 74, 80, 92, 76, 74, 52, 88, 81, 79, 65, 81, 70, 62, 53, 79, 56, 80, 86, 70, 79, 67, 67, 66, 60, 87, 77, 66, 71, 69, 63, 60, 73, 85, 74, 72, 76, 57, 78, 84, 77, 64, 78, 82, 75, 61, 72, 68, 55, 40, 66, 99, 75, 78, 58, 90, 53, 76, 74, 77, 63, 89, 82, 72, 78, 66, 81, 67, 84, 64, 63, 72, 34, 59, 87, 61, 84, 85, 100, 81, 70, 94, 78, 96, 76, 73, 72, 59, 90, 48, 43, 74, 75, 51, 92, 39, 77, 46, 89, 47, 58, 57, 79, 66, 71, 60, 73, 57, 84, 73, 55, 79, 75, 64, 60, 84, 69, 72, 77, 90, 55, 95, 58, 68, 59, 77, 72, 58, 81, 62, 63, 72, 75, 62, 71, 60, 48, 73, 67, 78, 65, 58, 72, 44, 79, 85, 56, 90, 85, 59, 81, 51, 79, 38, 65, 65, 62, 66, 74, 84, 52, 68, 70, 84, 60, 55, 73, 80, 94, 85, 76, 81, 74, 45, 75, 54, 31, 47, 64, 84, 80, 86, 59, 70, 72, 91, 90, 90, 52, 87, 58, 67, 68, 69, 86, 54, 60, 86, 60, 82, 50, 64, 64, 82, 57, 77, 52, 58, 44, 77, 65, 85, 85, 54, 72, 75, 67, 68, 85, 67, 64, 97, 68, 79, 49, 73, 62, 86, 42, 71, 93, 82, 53, 42, 74, 51, 58, 72, 84, 90, 62, 64, 82, 61, 72, 76, 64, 70, 73, 46, 51, 76, 100, 72, 65, 51, 85, 92, 67, 74, 62, 34, 29, 78, 54, 78, 84, 78, 48, 100, 84, 77, 48, 84, 75, 64, 42, 84, 61, 62, 61, 70, 100, 61, 77, 96, 70, 53, 66, 65, 70, 64, 56, 61, 43, 56, 74, 57, 71, 75, 87, 63, 57, 58, 81, 68, 66, 91, 66, 62, 68, 61, 82, 58, 50, 75, 73, 77, 74, 52, 69, 57, 87, 100, 63, 81, 58, 54, 100, 76, 57, 70, 68, 63, 76, 84, 100, 72, 50, 65, 63, 82, 62, 65, 41, 95, 24, 78, 85, 87, 75, 51, 59, 75, 45, 86, 81, 82, 76, 72, 63, 99, 55, 71, 78, 86], 'writing score': [74, 88, 93, 44, 75, 78, 92, 39, 67, 50, 52, 43, 73, 70, 58, 78, 86, 28, 46, 61, 63, 70, 53, 73, 80, 72, 55, 75, 65, 75, 74, 61, 65, 38, 82, 79, 83, 59, 88, 57, 54, 68, 65, 66, 54, 57, 62, 76, 76, 82, 48, 68, 42, 75, 87, 43, 86, 49, 58, 10, 72, 34, 55, 71, 59, 61, 37, 74, 56, 57, 73, 63, 48, 56, 41, 38, 22, 81, 72, 68, 50, 45, 54, 63, 34, 82, 88, 74, 67, 82, 74, 36, 71, 50, 92, 82, 62, 70, 62, 62, 67, 74, 89, 47, 90, 72, 100, 64, 70, 72, 98, 49, 47, 54, 100, 74, 82, 79, 61, 65, 89, 92, 93, 56, 73, 86, 67, 74, 74, 51, 82, 40, 70, 84, 75, 48, 41, 56, 67, 69, 71, 64, 54, 47, 78, 33, 75, 66, 81, 93, 69, 68, 66, 47, 61, 88, 78, 60, 87, 64, 74, 85, 52, 49, 91, 100, 51, 78, 78, 70, 74, 78, 81, 70, 54, 87, 58, 77, 62, 100, 75, 66, 47, 70, 49, 65, 65, 68, 45, 87, 69, 79, 66, 62, 85, 52, 65, 51, 55, 76, 86, 77, 69, 68, 42, 78, 62, 76, 76, 66, 79, 27, 60, 56, 81, 75, 88, 39, 70, 56, 74, 73, 62, 75, 73, 54, 71, 54, 64, 94, 66, 42, 83, 78, 84, 77, 67, 74, 51, 80, 66, 83, 55, 43, 69, 71, 74, 68, 62, 53, 49, 83, 70, 72, 52, 70, 68, 77, 78, 81, 77, 78, 51, 90, 68, 41, 81, 77, 95, 70, 61, 42, 58, 71, 76, 73, 93, 75, 80, 57, 42, 46, 84, 78, 46, 82, 88, 82, 76, 77, 68, 70, 57, 75, 80, 60, 43, 68, 50, 75, 81, 52, 81, 64, 83, 69, 81, 44, 67, 52, 80, 57, 68, 69, 75, 65, 91, 78, 69, 63, 84, 79, 80, 53, 43, 94, 62, 19, 77, 51, 61, 35, 53, 81, 95, 66, 69, 43, 27, 60, 52, 63, 74, 67, 67, 75, 57, 95, 66, 76, 69, 52, 80, 57, 70, 70, 61, 69, 61, 89, 59, 78, 58, 32, 58, 60, 53, 61, 58, 85, 71, 70, 72, 96, 73, 41, 82, 100, 77, 62, 83, 95, 71, 45, 43, 75, 70, 67, 64, 75, 59, 77, 67, 56, 77, 41, 63, 95, 57, 54, 67, 43, 55, 100, 62, 68, 63, 77, 56, 85, 74, 78, 60, 67, 79, 69, 68, 67, 62, 54, 93, 64, 67, 80, 34, 62, 86, 65, 53, 54, 59, 70, 55, 50, 66, 53, 64, 73, 51, 82, 79, 80, 69, 76, 73, 77, 60, 80, 42, 72, 85, 97, 74, 49, 62, 47, 89, 48, 100, 68, 55, 45, 76, 91, 62, 91, 38, 65, 85, 76, 90, 74, 84, 61, 91, 83, 66, 72, 70, 67, 68, 56, 61, 46, 54, 71, 56, 74, 57, 82, 76, 70, 90, 90, 68, 66, 52, 76, 68, 72, 82, 92, 54, 92, 54, 80, 66, 54, 77, 87, 73, 43, 52, 62, 94, 85, 84, 73, 78, 79, 52, 84, 57, 50, 49, 59, 60, 43, 47, 70, 73, 53, 58, 94, 68, 83, 58, 62, 71, 86, 68, 80, 79, 89, 66, 80, 97, 64, 64, 69, 65, 88, 50, 64, 40, 33, 79, 66, 70, 62, 79, 74, 92, 80, 46, 45, 100, 78, 47, 67, 70, 92, 56, 64, 71, 53, 52, 89, 58, 68, 96, 80, 78, 80, 77, 76, 73, 62, 65, 65, 54, 50, 64, 73, 99, 72, 15, 48, 73, 81, 63, 30, 80, 51, 90, 62, 82, 54, 62, 65, 63, 66, 91, 74, 93, 72, 38, 83, 84, 68, 54, 56, 52, 86, 62, 99, 63, 46, 46, 55, 70, 65, 81, 85, 80, 64, 81, 88, 74, 73, 51, 90, 79, 80, 60, 81, 65, 68, 55, 81, 53, 76, 98, 74, 79, 67, 64, 61, 58, 85, 73, 63, 69, 67, 63, 60, 71, 87, 61, 77, 68, 50, 76, 84, 78, 66, 76, 76, 78, 60, 74, 60, 54, 44, 68, 100, 68, 73, 44, 83, 53, 78, 81, 73, 56, 86, 90, 70, 79, 59, 82, 72, 87, 67, 64, 65, 36, 52, 79, 58, 90, 85, 99, 84, 74, 87, 72, 99, 74, 80, 70, 59, 88, 42, 41, 71, 77, 57, 84, 37, 80, 43, 94, 44, 57, 59, 84, 73, 73, 55, 72, 56, 82, 72, 47, 74, 71, 68, 59, 86, 68, 65, 75, 85, 53, 92, 52, 72, 65, 77, 64, 54, 86, 63, 59, 72, 77, 60, 75, 57, 49, 74, 72, 79, 60, 55, 70, 43, 82, 82, 57, 84, 82, 62, 79, 44, 77, 32, 61, 61, 60, 70, 69, 77, 51, 73, 70, 81, 54, 57, 68, 73, 95, 87, 78, 74, 75, 40, 69, 51, 36, 49, 67, 76, 83, 87, 64, 76, 68, 88, 92, 93, 51, 82, 52, 58, 70, 76, 81, 53, 57, 89, 58, 89, 45, 74, 57, 79, 53, 73, 46, 51, 36, 76, 64, 84, 85, 50, 68, 69, 67, 63, 93, 61, 55, 96, 65, 81, 46, 72, 53, 87, 38, 80, 91, 88, 52, 41, 72, 51, 47, 76, 78, 82, 61, 66, 84, 54, 80, 74, 66, 70, 71, 44, 54, 80, 95, 59, 74, 48, 91, 85, 73, 75, 69, 38, 27, 79, 63, 82, 89, 74, 41, 100, 84, 77, 51, 91, 72, 70, 48, 82, 66, 66, 55, 66, 100, 52, 80, 91, 67, 46, 66, 65, 69, 60, 52, 71, 44, 51, 70, 62, 73, 74, 90, 58, 53, 57, 85, 69, 72, 96, 64, 61, 61, 58, 80, 60, 52, 73, 71, 83, 72, 54, 69, 62, 81, 100, 59, 71, 64, 53, 100, 75, 58, 72, 64, 60, 67, 80, 100, 69, 60, 61, 67, 77, 60, 58, 48, 94, 23, 78, 86, 91, 82, 54, 51, 76, 45, 83, 75, 78, 76, 74, 62, 95, 55, 65, 77, 86]})\n"
     ]
    }
   ],
   "source": [
    "print(data)"
   ]
  },
  {
   "cell_type": "code",
   "execution_count": 6,
   "id": "6badf79b-4f3f-4fb0-8bc2-aadf8ccaab34",
   "metadata": {},
   "outputs": [
    {
     "data": {
      "text/plain": [
       "Counter({'female': 518, 'male': 482})"
      ]
     },
     "execution_count": 6,
     "metadata": {},
     "output_type": "execute_result"
    }
   ],
   "source": [
    "from collections import Counter\n",
    "\n",
    "# посмотреть, сколько мужчин и женщин\n",
    "Counter(data['gender'])"
   ]
  },
  {
   "cell_type": "code",
   "execution_count": 8,
   "id": "1e5461ee-6cfd-43b6-9490-86f10f4ad44b",
   "metadata": {},
   "outputs": [
    {
     "data": {
      "text/plain": [
       "66.089"
      ]
     },
     "execution_count": 8,
     "metadata": {},
     "output_type": "execute_result"
    }
   ],
   "source": [
    "# средний балл по математике\n",
    "\n",
    "sum(data['math score']) / len(data['math score'])"
   ]
  },
  {
   "cell_type": "markdown",
   "id": "97e1ebf8-c656-49b9-bd09-9a379b7a2263",
   "metadata": {},
   "source": [
    "#### Задание 2*\n",
    "Напишите функцию `show`, которая будет выводить название и первые `n` значений каждой колонки в виде таблицы."
   ]
  },
  {
   "cell_type": "code",
   "execution_count": null,
   "id": "7fa04084-e76f-466f-94c4-b47ea150171e",
   "metadata": {},
   "outputs": [],
   "source": [
    "# наш код здесь"
   ]
  },
  {
   "cell_type": "markdown",
   "id": "904d8564-3373-4690-b22a-1b7c26fac7df",
   "metadata": {},
   "source": [
    "#### Задание 3\n",
    "Подготовка и анализ данных почти всегда подразумевают изпользование таких pipeline'ов, как \"group->aggregate\" и \"group->apply\". Имеется в виду, что значения переменной X делятся на группы по значениям переменной Y, и над этими группами производятся различные операции. Реализуйте следующие функции:\n",
    "\n",
    "- `group`: принимает на вход векторы X и Y и возвращает словарь, в котором ключами являются уникальные значения переменной Y, а значениями - списки соответствующих значений переменной X;\n",
    "- `aggregate`: принимает на вход словарь, возвращаемый функцией `group`, а также функцию `fun`, которая должна быть применена к каждому его значению. Возвращаться должен словарь, состоящий из тех же ключей и значений-результатов применения функции `fun`."
   ]
  },
  {
   "cell_type": "code",
   "execution_count": 28,
   "id": "bd9034bd-9105-4502-a3e7-7acf83697d7c",
   "metadata": {},
   "outputs": [],
   "source": [
    "def group(variable, group_by):\n",
    "    variable_grouped = defaultdict(list)\n",
    "\n",
    "    for key, value in zip(group_by, variable):\n",
    "        variable_grouped[key].append(value)\n",
    "\n",
    "    return variable_grouped\n",
    "\n",
    "def aggregate(grouped, agg_func):\n",
    "    aggregated = {key: agg_func(value) for key, value in grouped.items()}\n",
    "\n",
    "    return aggregated"
   ]
  },
  {
   "cell_type": "code",
   "execution_count": 29,
   "id": "da90140b-15af-4156-8fd5-70f378df7a73",
   "metadata": {
    "scrolled": true
   },
   "outputs": [
    {
     "name": "stdout",
     "output_type": "stream",
     "text": [
      "defaultdict(<class 'list'>, {'female': [72, 69, 90, 71, 88, 38, 65, 50, 69, 18, 54, 65, 69, 67, 62, 69, 63, 56, 74, 50, 75, 58, 53, 50, 55, 66, 57, 71, 33, 82, 0, 69, 59, 60, 39, 58, 41, 61, 62, 47, 73, 76, 71, 58, 73, 65, 79, 63, 58, 65, 85, 58, 87, 52, 70, 77, 51, 99, 75, 78, 51, 55, 79, 88, 87, 51, 75, 59, 76, 59, 42, 22, 68, 59, 70, 66, 61, 75, 81, 96, 58, 68, 67, 79, 63, 43, 81, 46, 71, 52, 97, 46, 50, 65, 77, 66, 62, 69, 45, 78, 67, 65, 57, 74, 58, 42, 83, 34, 56, 55, 52, 45, 72, 88, 67, 64, 80, 56, 58, 65, 71, 60, 62, 64, 70, 65, 64, 44, 99, 63, 69, 88, 71, 47, 65, 85, 59, 65, 73, 70, 37, 67, 65, 67, 74, 53, 49, 73, 68, 59, 77, 56, 67, 75, 71, 43, 41, 82, 41, 83, 61, 24, 35, 61, 69, 72, 77, 52, 63, 46, 59, 61, 42, 80, 58, 52, 27, 44, 73, 45, 82, 59, 80, 85, 71, 80, 38, 38, 67, 64, 57, 62, 77, 65, 50, 85, 59, 49, 88, 54, 63, 82, 52, 70, 51, 82, 57, 47, 59, 62, 61, 47, 67, 78, 59, 73, 67, 64, 100, 65, 53, 79, 100, 71, 77, 84, 26, 77, 83, 63, 68, 59, 90, 71, 55, 52, 49, 60, 65, 64, 83, 81, 54, 54, 59, 66, 74, 94, 95, 40, 82, 86, 54, 77, 76, 74, 66, 66, 67, 91, 36, 29, 62, 68, 47, 79, 66, 51, 81, 82, 64, 92, 62, 40, 32, 55, 53, 74, 63, 63, 92, 61, 53, 50, 74, 81, 48, 53, 81, 77, 63, 73, 69, 65, 55, 44, 54, 48, 74, 92, 56, 69, 65, 54, 29, 76, 85, 40, 61, 58, 58, 65, 82, 60, 37, 35, 61, 44, 66, 75, 67, 80, 76, 74, 72, 74, 65, 59, 64, 50, 69, 68, 85, 65, 73, 62, 43, 55, 65, 50, 63, 77, 66, 69, 65, 69, 50, 73, 70, 67, 29, 94, 49, 73, 66, 77, 49, 79, 75, 59, 57, 79, 57, 63, 59, 42, 80, 98, 60, 76, 96, 76, 62, 74, 65, 73, 68, 87, 53, 53, 37, 81, 59, 50, 77, 84, 52, 53, 48, 62, 74, 58, 68, 52, 62, 49, 66, 35, 72, 46, 77, 76, 52, 32, 72, 19, 52, 48, 60, 42, 57, 70, 52, 87, 82, 73, 64, 41, 54, 72, 45, 60, 77, 85, 78, 71, 48, 56, 65, 69, 61, 74, 77, 60, 75, 66, 39, 23, 40, 59, 61, 87, 97, 65, 53, 81, 71, 70, 43, 59, 64, 71, 64, 51, 62, 93, 69, 86, 85, 50, 59, 32, 63, 65, 73, 34, 93, 67, 79, 67, 69, 52, 47, 46, 68, 44, 57, 35, 54, 65, 48, 57, 78, 58, 54, 49, 57, 75, 74, 62, 92, 45, 56, 48, 100, 65, 62, 68, 75, 89, 53, 49, 54, 64, 91, 8, 78, 74, 40, 44, 67, 65, 55, 62, 88, 59, 68, 77], 'male': [47, 76, 40, 64, 58, 40, 78, 88, 46, 66, 44, 74, 73, 69, 70, 40, 97, 81, 57, 55, 59, 65, 82, 53, 77, 53, 88, 52, 58, 79, 39, 62, 67, 45, 61, 63, 61, 49, 44, 30, 80, 49, 50, 72, 42, 27, 71, 43, 78, 65, 79, 68, 60, 98, 66, 62, 54, 84, 91, 63, 83, 72, 65, 82, 89, 53, 87, 74, 58, 51, 70, 71, 57, 88, 88, 73, 100, 62, 77, 54, 62, 60, 66, 82, 49, 52, 53, 72, 94, 62, 45, 65, 80, 62, 48, 76, 77, 61, 59, 55, 69, 59, 74, 82, 81, 80, 35, 60, 87, 84, 66, 61, 87, 86, 57, 68, 76, 46, 92, 83, 80, 63, 54, 84, 73, 59, 75, 85, 89, 68, 47, 80, 54, 78, 79, 76, 59, 69, 58, 88, 83, 73, 53, 45, 81, 97, 88, 77, 76, 86, 63, 78, 67, 46, 71, 40, 90, 81, 56, 80, 69, 99, 51, 66, 67, 71, 83, 63, 61, 28, 82, 71, 47, 62, 90, 76, 49, 58, 67, 79, 62, 75, 87, 66, 63, 59, 85, 59, 49, 69, 61, 84, 74, 46, 66, 87, 79, 73, 73, 76, 57, 48, 74, 60, 53, 65, 87, 84, 71, 63, 84, 71, 74, 68, 57, 41, 86, 69, 65, 68, 64, 61, 73, 50, 75, 75, 70, 89, 79, 69, 86, 47, 81, 65, 37, 53, 72, 53, 54, 75, 72, 91, 76, 80, 76, 73, 68, 59, 70, 61, 64, 79, 68, 76, 63, 68, 55, 79, 76, 64, 62, 71, 69, 54, 53, 68, 56, 62, 73, 51, 85, 97, 75, 79, 78, 72, 79, 79, 87, 77, 53, 61, 73, 96, 48, 48, 63, 68, 71, 91, 40, 61, 58, 71, 68, 30, 53, 60, 84, 75, 69, 94, 88, 95, 65, 62, 58, 100, 100, 69, 61, 49, 67, 79, 84, 71, 86, 41, 70, 51, 77, 69, 90, 74, 73, 80, 73, 81, 52, 81, 63, 60, 62, 62, 85, 77, 53, 93, 66, 87, 62, 46, 66, 89, 93, 81, 73, 91, 55, 50, 47, 81, 68, 53, 55, 55, 67, 92, 81, 61, 80, 55, 72, 69, 69, 87, 71, 68, 79, 58, 55, 70, 69, 78, 60, 76, 58, 52, 75, 66, 94, 91, 68, 66, 89, 70, 69, 67, 76, 75, 90, 59, 51, 45, 87, 94, 61, 49, 62, 68, 64, 58, 73, 58, 64, 74, 90, 91, 64, 80, 71, 82, 62, 75, 52, 87, 39, 97, 82, 59, 61, 78, 49, 59, 82, 90, 80, 81, 57, 63, 55, 54, 44, 88, 36, 67, 85, 88, 57, 70, 50, 100, 91, 69, 72, 74, 74, 64, 46, 67, 62, 61, 70, 98, 70, 67, 85, 77, 72, 81, 61, 82, 49, 94, 58, 72, 84, 75, 72, 66, 63, 78, 60, 62, 55, 81, 79, 57, 81, 86, 63, 62]})\n"
     ]
    }
   ],
   "source": [
    "math_score_grouped_by_gender = group(data['math score'], data['gender'])\n",
    "\n",
    "print(math_score_grouped_by_gender)"
   ]
  },
  {
   "cell_type": "code",
   "execution_count": 30,
   "id": "cb34839f-42be-40c4-8343-647dedcb22b5",
   "metadata": {},
   "outputs": [
    {
     "data": {
      "text/plain": [
       "{'female': 63.633204633204635, 'male': 68.72821576763485}"
      ]
     },
     "execution_count": 30,
     "metadata": {},
     "output_type": "execute_result"
    }
   ],
   "source": [
    "aggregate(math_score_grouped_by_gender, mean)"
   ]
  },
  {
   "cell_type": "code",
   "execution_count": null,
   "id": "55e6fe18-a6e5-455f-a5d2-deab5814c181",
   "metadata": {},
   "outputs": [],
   "source": [
    "# исследовательский вопрос: можно ли сказать, что подготовка к тесту по математике помогает лучше его написать?\n",
    "\n",
    "# мы работаем с переменными test preparation course и math score"
   ]
  },
  {
   "cell_type": "code",
   "execution_count": 9,
   "id": "0e1691f4-df8c-4c16-a938-52a62a616e58",
   "metadata": {},
   "outputs": [
    {
     "data": {
      "text/plain": [
       "Counter({'none': 642, 'completed': 358})"
      ]
     },
     "execution_count": 9,
     "metadata": {},
     "output_type": "execute_result"
    }
   ],
   "source": [
    "Counter(data['test preparation course'])"
   ]
  },
  {
   "cell_type": "code",
   "execution_count": 10,
   "id": "54baeeba-2e0f-4666-aad4-3cf741416bc2",
   "metadata": {},
   "outputs": [
    {
     "data": {
      "text/plain": [
       "66.089"
      ]
     },
     "execution_count": 10,
     "metadata": {},
     "output_type": "execute_result"
    }
   ],
   "source": [
    "sum(data['math score']) / len(data['math score'])"
   ]
  },
  {
   "cell_type": "code",
   "execution_count": 12,
   "id": "bd52969c-c53e-44fe-982a-85c5f1f04c87",
   "metadata": {},
   "outputs": [
    {
     "data": {
      "text/plain": [
       "[72, 69, 90, 47, 76, 71, 88, 40, 64, 38]"
      ]
     },
     "execution_count": 12,
     "metadata": {},
     "output_type": "execute_result"
    }
   ],
   "source": [
    "data['math score'][:10]"
   ]
  },
  {
   "cell_type": "code",
   "execution_count": 13,
   "id": "c6d79e66-2653-4103-a56d-4c654f514080",
   "metadata": {},
   "outputs": [
    {
     "data": {
      "text/plain": [
       "['none',\n",
       " 'completed',\n",
       " 'none',\n",
       " 'none',\n",
       " 'none',\n",
       " 'none',\n",
       " 'completed',\n",
       " 'none',\n",
       " 'completed',\n",
       " 'none']"
      ]
     },
     "execution_count": 13,
     "metadata": {},
     "output_type": "execute_result"
    }
   ],
   "source": [
    "data['test preparation course'][:10]"
   ]
  },
  {
   "cell_type": "code",
   "execution_count": null,
   "id": "ae3a2228-2fe4-4d01-b52b-0c1fb49daad8",
   "metadata": {},
   "outputs": [],
   "source": [
    "{\n",
    "    'none': 90,\n",
    "    'completed': 69\n",
    "}"
   ]
  },
  {
   "cell_type": "code",
   "execution_count": 14,
   "id": "d1705adc-56d3-4403-86d5-6cf1967ca0b9",
   "metadata": {},
   "outputs": [],
   "source": [
    "math_score_grouped = defaultdict(list)\n",
    "\n",
    "for key, value in zip(data['test preparation course'], data['math score']):\n",
    "    math_score_grouped[key].append(value)"
   ]
  },
  {
   "cell_type": "code",
   "execution_count": 19,
   "id": "84c39753-86d0-414b-8eb2-7ab9c34dba09",
   "metadata": {},
   "outputs": [
    {
     "data": {
      "text/plain": [
       "{'none': 64.0778816199377, 'completed': 69.69553072625699}"
      ]
     },
     "execution_count": 19,
     "metadata": {},
     "output_type": "execute_result"
    }
   ],
   "source": [
    "from statistics import mean, median\n",
    "\n",
    "{key: mean(value) for key, value in math_score_grouped.items()}"
   ]
  },
  {
   "cell_type": "code",
   "execution_count": 23,
   "id": "fce51fee-9a21-4cc6-a214-e4edad8c917d",
   "metadata": {},
   "outputs": [
    {
     "data": {
      "text/plain": [
       "{'none': 64.0, 'completed': 69.0}"
      ]
     },
     "execution_count": 23,
     "metadata": {},
     "output_type": "execute_result"
    }
   ],
   "source": [
    "{key: median(value) for key, value in math_score_grouped.items()}"
   ]
  },
  {
   "cell_type": "code",
   "execution_count": 21,
   "id": "6d5500de-6d1d-4c97-990b-b151c81d9151",
   "metadata": {},
   "outputs": [
    {
     "data": {
      "text/plain": [
       "[64.0778816199377, 69.69553072625699]"
      ]
     },
     "execution_count": 21,
     "metadata": {},
     "output_type": "execute_result"
    }
   ],
   "source": [
    "[mean(values) for values in math_score_grouped.values()]"
   ]
  },
  {
   "cell_type": "code",
   "execution_count": 22,
   "id": "83e40c94-04c9-4816-bb23-4b074b3f324e",
   "metadata": {},
   "outputs": [
    {
     "data": {
      "text/plain": [
       "{64.0778816199377, 69.69553072625699}"
      ]
     },
     "execution_count": 22,
     "metadata": {},
     "output_type": "execute_result"
    }
   ],
   "source": [
    "{mean(values) for values in math_score_grouped.values()}"
   ]
  },
  {
   "cell_type": "code",
   "execution_count": 20,
   "id": "b40b26c4-255e-47e9-8cc9-f3bc729aaa3d",
   "metadata": {},
   "outputs": [
    {
     "data": {
      "text/plain": [
       "dict_values([[72, 90, 47, 76, 71, 40, 38, 58, 40, 65, 50, 69, 88, 18, 54, 66, 44, 69, 73, 69, 67, 70, 62, 69, 63, 56, 40, 97, 74, 50, 57, 55, 58, 53, 50, 65, 66, 53, 53, 88, 33, 52, 0, 39, 62, 69, 59, 67, 45, 60, 61, 39, 41, 61, 49, 44, 30, 62, 47, 49, 72, 42, 73, 76, 71, 58, 73, 65, 27, 71, 79, 58, 65, 79, 85, 58, 87, 52, 70, 62, 54, 51, 84, 75, 78, 51, 55, 63, 83, 87, 72, 82, 51, 89, 58, 70, 59, 76, 59, 57, 88, 22, 88, 73, 77, 54, 62, 60, 66, 49, 52, 81, 94, 79, 63, 46, 50, 65, 80, 48, 77, 66, 62, 61, 55, 45, 78, 65, 69, 57, 59, 82, 74, 58, 35, 42, 34, 66, 87, 55, 86, 45, 72, 57, 68, 76, 46, 67, 92, 80, 63, 54, 84, 80, 56, 59, 75, 85, 89, 65, 68, 71, 80, 54, 62, 64, 70, 44, 99, 76, 59, 63, 69, 71, 69, 58, 47, 65, 83, 65, 73, 53, 45, 73, 37, 67, 88, 76, 86, 65, 67, 90, 56, 80, 69, 51, 53, 49, 73, 66, 71, 83, 63, 56, 75, 71, 43, 41, 82, 61, 28, 41, 71, 47, 90, 83, 61, 49, 24, 58, 61, 79, 72, 62, 75, 87, 52, 66, 46, 59, 61, 63, 59, 80, 58, 52, 27, 59, 61, 44, 73, 84, 74, 59, 46, 80, 71, 66, 80, 79, 38, 38, 67, 64, 57, 62, 73, 77, 76, 48, 50, 85, 74, 60, 53, 49, 54, 63, 82, 71, 84, 74, 68, 41, 62, 86, 69, 65, 68, 64, 61, 61, 47, 73, 75, 75, 70, 78, 59, 73, 79, 69, 47, 81, 100, 65, 65, 53, 37, 79, 53, 100, 53, 54, 71, 77, 84, 26, 91, 63, 59, 80, 55, 76, 52, 68, 59, 49, 70, 61, 60, 65, 64, 83, 81, 54, 54, 66, 76, 74, 63, 40, 82, 68, 55, 79, 86, 76, 64, 62, 74, 71, 91, 69, 54, 68, 36, 29, 62, 47, 51, 81, 82, 64, 62, 79, 79, 40, 77, 53, 32, 61, 53, 73, 63, 48, 48, 63, 68, 91, 53, 74, 81, 53, 81, 77, 63, 69, 65, 55, 44, 54, 48, 58, 71, 68, 74, 30, 53, 69, 65, 54, 29, 76, 60, 75, 85, 40, 61, 58, 58, 65, 82, 60, 37, 88, 95, 35, 62, 61, 61, 49, 67, 79, 75, 84, 71, 86, 76, 41, 72, 70, 59, 64, 50, 73, 62, 77, 69, 43, 90, 74, 73, 55, 65, 80, 77, 73, 66, 52, 69, 81, 63, 67, 60, 62, 77, 53, 93, 49, 73, 77, 49, 79, 59, 66, 57, 63, 62, 46, 66, 89, 98, 81, 76, 62, 50, 47, 73, 53, 55, 55, 53, 67, 92, 81, 61, 80, 37, 81, 55, 72, 69, 69, 50, 68, 58, 84, 55, 53, 48, 62, 60, 74, 68, 58, 52, 75, 62, 66, 49, 66, 35, 46, 77, 72, 19, 68, 52, 48, 60, 66, 42, 70, 70, 69, 52, 87, 82, 73, 75, 64, 41, 90, 59, 51, 45, 72, 45, 60, 77, 78, 71, 48, 62, 65, 68, 61, 64, 58, 73, 66, 39, 64, 90, 64, 59, 80, 71, 61, 87, 82, 62, 97, 75, 65, 87, 53, 81, 97, 59, 61, 49, 59, 90, 43, 80, 81, 57, 59, 64, 64, 55, 51, 54, 69, 44, 85, 50, 59, 32, 36, 85, 73, 67, 88, 57, 67, 50, 69, 46, 68, 44, 69, 35, 72, 54, 74, 64, 48, 62, 70, 67, 57, 78, 81, 58, 54, 82, 49, 94, 74, 62, 72, 84, 92, 45, 75, 56, 48, 100, 72, 62, 63, 68, 75, 89, 49, 54, 62, 91, 8, 81, 74, 57, 40, 44, 55, 62, 63, 62, 77], [69, 88, 64, 78, 46, 65, 74, 81, 75, 59, 55, 57, 82, 77, 71, 82, 58, 79, 58, 63, 80, 61, 50, 43, 78, 65, 63, 68, 60, 98, 66, 77, 99, 79, 91, 88, 65, 53, 87, 75, 74, 51, 71, 42, 68, 100, 62, 59, 70, 66, 61, 82, 75, 96, 53, 58, 68, 67, 72, 43, 81, 46, 71, 52, 97, 62, 45, 65, 62, 76, 77, 69, 59, 67, 74, 81, 80, 60, 87, 84, 83, 61, 56, 52, 88, 83, 64, 73, 58, 47, 60, 78, 65, 64, 79, 88, 88, 85, 59, 70, 81, 97, 77, 63, 78, 46, 71, 40, 81, 67, 74, 99, 67, 68, 59, 77, 67, 82, 62, 76, 35, 69, 67, 77, 63, 42, 85, 49, 69, 45, 82, 85, 87, 73, 57, 65, 59, 88, 65, 52, 87, 70, 84, 63, 51, 71, 57, 82, 57, 47, 59, 50, 89, 67, 67, 86, 64, 72, 75, 72, 77, 83, 68, 90, 71, 76, 73, 64, 79, 68, 59, 94, 95, 54, 77, 76, 66, 66, 67, 53, 56, 68, 62, 79, 73, 66, 51, 85, 97, 75, 79, 78, 92, 72, 87, 55, 74, 96, 63, 92, 61, 71, 50, 40, 61, 48, 73, 92, 56, 84, 69, 94, 65, 58, 100, 100, 69, 44, 66, 67, 80, 74, 74, 65, 69, 51, 68, 85, 65, 50, 63, 81, 65, 69, 50, 73, 70, 29, 62, 94, 85, 66, 75, 57, 79, 87, 59, 42, 93, 80, 60, 76, 73, 96, 91, 55, 74, 81, 65, 68, 68, 87, 53, 59, 87, 71, 79, 77, 70, 52, 69, 78, 58, 76, 52, 72, 94, 76, 52, 91, 32, 89, 57, 67, 76, 54, 87, 94, 61, 85, 49, 56, 69, 74, 77, 60, 75, 58, 23, 74, 40, 91, 52, 39, 71, 82, 78, 70, 82, 63, 71, 62, 93, 86, 88, 63, 67, 65, 34, 93, 79, 70, 52, 47, 100, 57, 91, 74, 65, 46, 67, 61, 70, 98, 85, 77, 72, 61, 49, 57, 75, 58, 65, 66, 78, 53, 64, 60, 55, 79, 78, 81, 67, 86, 65, 88, 59, 68]])"
      ]
     },
     "execution_count": 20,
     "metadata": {},
     "output_type": "execute_result"
    }
   ],
   "source": [
    "math_score_grouped.values()"
   ]
  },
  {
   "cell_type": "code",
   "execution_count": 31,
   "id": "ffa69fc2-8a80-42bd-ac4e-849b92fba91e",
   "metadata": {},
   "outputs": [],
   "source": [
    "print2 = print"
   ]
  },
  {
   "cell_type": "code",
   "execution_count": 32,
   "id": "a52672b2-ddd4-4bce-9bb3-1a20f799fe05",
   "metadata": {},
   "outputs": [
    {
     "name": "stdout",
     "output_type": "stream",
     "text": [
      "7\n"
     ]
    }
   ],
   "source": [
    "print2(7)"
   ]
  },
  {
   "cell_type": "code",
   "execution_count": 33,
   "id": "45afecf1-a95b-4e76-919c-7ff9dcf4df67",
   "metadata": {},
   "outputs": [],
   "source": [
    "def multiply_by2(value):\n",
    "    return value * 2\n",
    "\n",
    "def power_by2(value):\n",
    "    return value ** 2\n",
    "\n",
    "def apply_function(value, function_to_apply):\n",
    "    value_new = function_to_apply(value)\n",
    "\n",
    "    return value_new"
   ]
  },
  {
   "cell_type": "code",
   "execution_count": 34,
   "id": "9353b22b-c0ac-4d0b-99af-ac722f1b1ac4",
   "metadata": {},
   "outputs": [
    {
     "data": {
      "text/plain": [
       "20"
      ]
     },
     "execution_count": 34,
     "metadata": {},
     "output_type": "execute_result"
    }
   ],
   "source": [
    "apply_function(10, multiply_by2)"
   ]
  },
  {
   "cell_type": "code",
   "execution_count": 35,
   "id": "b21d308c-79c0-4160-a23c-2a7d6ede007f",
   "metadata": {},
   "outputs": [
    {
     "data": {
      "text/plain": [
       "100"
      ]
     },
     "execution_count": 35,
     "metadata": {},
     "output_type": "execute_result"
    }
   ],
   "source": [
    "apply_function(10, power_by2)"
   ]
  },
  {
   "cell_type": "markdown",
   "id": "c09ce39b-a496-4543-9fb6-3b7661b4518e",
   "metadata": {},
   "source": [
    "#### Задание 4\n",
    "Выдвините гипотезы о взаимодействии числовой и категориальной переменных и протестируйте их используя подготовленные вами функции."
   ]
  },
  {
   "cell_type": "code",
   "execution_count": null,
   "id": "323b720d-1f6b-4a0d-9f79-e27eddef783a",
   "metadata": {},
   "outputs": [],
   "source": [
    "# наш код здесь"
   ]
  }
 ],
 "metadata": {
  "kernelspec": {
   "display_name": "Python 3 (ipykernel)",
   "language": "python",
   "name": "python3"
  },
  "language_info": {
   "codemirror_mode": {
    "name": "ipython",
    "version": 3
   },
   "file_extension": ".py",
   "mimetype": "text/x-python",
   "name": "python",
   "nbconvert_exporter": "python",
   "pygments_lexer": "ipython3",
   "version": "3.11.6"
  }
 },
 "nbformat": 4,
 "nbformat_minor": 5
}
