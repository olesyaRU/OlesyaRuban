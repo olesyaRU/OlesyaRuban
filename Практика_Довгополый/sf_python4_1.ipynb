{
 "cells": [
  {
   "cell_type": "markdown",
   "id": "87dec23c",
   "metadata": {},
   "source": [
    "# Программирование на Python\n",
    "## Семинар 4. Циклы\n",
    "#### Задача 1\n",
    "\n",
    "Всякий одиночный символ (строка длиной 1) имеет свою кодировку в виде натурального числа, которое может быть возвращено функцией `ord()`. Например, для строчной буквы A (англ.) это 97. Ваша задача - написать программу, которая будет принимать на вход слово и печатать его в зашифрованном виде. В качестве разделителя должна использоваться точка.\n",
    "\n",
    "Также должна быть реализована обратная операцию (для возвращения символа по коду используется функция `chr()`).\n",
    "\n",
    "**Шифруем**"
   ]
  },
  {
   "cell_type": "code",
   "execution_count": 15,
   "id": "dad7f5fd-9200-4751-877e-2e48a9ad4890",
   "metadata": {},
   "outputs": [
    {
     "name": "stdin",
     "output_type": "stream",
     "text": [
      " word\n"
     ]
    },
    {
     "name": "stdout",
     "output_type": "stream",
     "text": [
      "119.111.114.100\n"
     ]
    }
   ],
   "source": [
    "word = input()\n",
    "encrypted = []\n",
    "\n",
    "for letter in word:\n",
    "    encrypted.append(str(ord(letter)))\n",
    "\n",
    "print('.'.join(encrypted))"
   ]
  },
  {
   "cell_type": "markdown",
   "id": "fd77dd49-08e8-4c88-ac09-27669ae7063f",
   "metadata": {},
   "source": [
    "**Расшифруем**"
   ]
  },
  {
   "cell_type": "code",
   "execution_count": 21,
   "id": "4ecb693d-2559-4ff7-8c8a-0b5f073f7eba",
   "metadata": {},
   "outputs": [
    {
     "name": "stdin",
     "output_type": "stream",
     "text": [
      " 119.111.114.100\n"
     ]
    },
    {
     "name": "stdout",
     "output_type": "stream",
     "text": [
      "word\n"
     ]
    }
   ],
   "source": [
    "word_encrypted = input().split('.')\n",
    "word = []\n",
    "\n",
    "for code in word_encrypted:\n",
    "    word.append(chr(int(code)))\n",
    "\n",
    "print(''.join(word))"
   ]
  },
  {
   "cell_type": "code",
   "execution_count": 20,
   "id": "afa97062-08ab-4779-8932-3d07b412f751",
   "metadata": {},
   "outputs": [
    {
     "data": {
      "text/plain": [
       "['w', 'o', 'r', 'd']"
      ]
     },
     "execution_count": 20,
     "metadata": {},
     "output_type": "execute_result"
    }
   ],
   "source": [
    "word"
   ]
  },
  {
   "cell_type": "code",
   "execution_count": 18,
   "id": "9b1ed8a2-c396-49be-bc2c-3497ae3507c0",
   "metadata": {},
   "outputs": [
    {
     "data": {
      "text/plain": [
       "'119.111.114.100'"
      ]
     },
     "execution_count": 18,
     "metadata": {},
     "output_type": "execute_result"
    }
   ],
   "source": []
  },
  {
   "cell_type": "code",
   "execution_count": 22,
   "id": "8f120de8-a629-4cf6-a166-84f761a0d081",
   "metadata": {},
   "outputs": [
    {
     "data": {
      "text/plain": [
       "['119', '111', '114', '100']"
      ]
     },
     "execution_count": 22,
     "metadata": {},
     "output_type": "execute_result"
    }
   ],
   "source": [
    "'119.111.114.100'.split('.')"
   ]
  },
  {
   "cell_type": "markdown",
   "id": "7aed2bf5-d54e-4ff0-9b3c-e1bd0188a914",
   "metadata": {},
   "source": [
    "#### Задача 2\n",
    "Напишите код, который бы выполнял операцию транспонирования матрицы. Решите задачу двумя способами."
   ]
  },
  {
   "cell_type": "code",
   "execution_count": 1,
   "id": "d5c67248-074d-4cb1-b301-e1d1c7741337",
   "metadata": {},
   "outputs": [],
   "source": [
    "matrix = [\n",
    "    [60, 46, 81, 25, 86],  # строка (row, не str, часть матрицы)\n",
    "    [60, 12, 80, 60, 98],\n",
    "    [31, 90, 35, 87, 60],\n",
    "    [86, 19, 88, 85, 8]\n",
    "]\n",
    "\n",
    "# [\n",
    "#     [60, 60, 31, 86],\n",
    "#     [46, 12, 90, 19],\n",
    "#     ...\n",
    "# ]"
   ]
  },
  {
   "cell_type": "markdown",
   "id": "a16100c1-f797-44c3-94d6-ad4c55db4445",
   "metadata": {},
   "source": [
    "Вариант 1"
   ]
  },
  {
   "cell_type": "code",
   "execution_count": 3,
   "id": "8bfc19bc-e4b8-4289-a009-257d662dd4cb",
   "metadata": {},
   "outputs": [
    {
     "name": "stdout",
     "output_type": "stream",
     "text": [
      "[60, 60, 31, 86]\n"
     ]
    }
   ],
   "source": [
    "row_new = []\n",
    "\n",
    "for row in matrix:\n",
    "    row_new.append(row[0])\n",
    "\n",
    "print(row_new)"
   ]
  },
  {
   "cell_type": "code",
   "execution_count": 4,
   "id": "6ddd6bd8-cc9e-4f16-b682-5a8f5ce201ef",
   "metadata": {},
   "outputs": [
    {
     "name": "stdout",
     "output_type": "stream",
     "text": [
      "0\n",
      "1\n",
      "2\n",
      "3\n",
      "4\n"
     ]
    }
   ],
   "source": [
    "for index in range(len(matrix[0])):\n",
    "    print(index)"
   ]
  },
  {
   "cell_type": "code",
   "execution_count": 6,
   "id": "2eea85fd-822d-443e-b5fc-3680b95001a6",
   "metadata": {},
   "outputs": [
    {
     "name": "stdout",
     "output_type": "stream",
     "text": [
      "[[60, 60, 31, 86], [46, 12, 90, 19], [81, 80, 35, 88], [25, 60, 87, 85], [86, 98, 60, 8]]\n"
     ]
    }
   ],
   "source": [
    "matrix_new = []\n",
    "\n",
    "for index in range(len(matrix[0])):\n",
    "    row_new = []\n",
    "\n",
    "    for row in matrix:\n",
    "        row_new.append(row[index])\n",
    "\n",
    "    matrix_new.append(row_new)"
   ]
  },
  {
   "cell_type": "code",
   "execution_count": 7,
   "id": "8c63aea2-e0fc-4b3c-aae6-2396a8510cb0",
   "metadata": {},
   "outputs": [
    {
     "data": {
      "text/plain": [
       "[[60, 60, 31, 86],\n",
       " [46, 12, 90, 19],\n",
       " [81, 80, 35, 88],\n",
       " [25, 60, 87, 85],\n",
       " [86, 98, 60, 8]]"
      ]
     },
     "execution_count": 7,
     "metadata": {},
     "output_type": "execute_result"
    }
   ],
   "source": [
    "matrix_new"
   ]
  },
  {
   "cell_type": "markdown",
   "id": "5341e26c-0dc7-4cfe-b271-51995447a7ce",
   "metadata": {},
   "source": [
    "Вариант 2"
   ]
  },
  {
   "cell_type": "code",
   "execution_count": 10,
   "id": "24653836-b0bf-4936-868f-c34015800124",
   "metadata": {},
   "outputs": [
    {
     "data": {
      "text/plain": [
       "[(1, 'a', True), (2, 'b', False), (3, 'c', False)]"
      ]
     },
     "execution_count": 10,
     "metadata": {},
     "output_type": "execute_result"
    }
   ],
   "source": [
    "# пример работы zip\n",
    "list(zip([1, 2, 3], ['a', 'b', 'c'], [True, False, False]))"
   ]
  },
  {
   "cell_type": "code",
   "execution_count": 12,
   "id": "0aaf1e50-2fd9-4b99-a3c5-854ac1afd85f",
   "metadata": {},
   "outputs": [],
   "source": [
    "# да, это все решение\n",
    "matrix_new2 = list(zip(*matrix))"
   ]
  },
  {
   "cell_type": "code",
   "execution_count": 13,
   "id": "9e87915d-c013-434b-8c95-2d066ab6e060",
   "metadata": {},
   "outputs": [
    {
     "data": {
      "text/plain": [
       "[(60, 60, 31, 86),\n",
       " (46, 12, 90, 19),\n",
       " (81, 80, 35, 88),\n",
       " (25, 60, 87, 85),\n",
       " (86, 98, 60, 8)]"
      ]
     },
     "execution_count": 13,
     "metadata": {},
     "output_type": "execute_result"
    }
   ],
   "source": [
    "matrix_new2"
   ]
  },
  {
   "cell_type": "markdown",
   "id": "83dff57d-cabb-40f5-b47a-3e6feeda09d4",
   "metadata": {},
   "source": [
    "Про `*`:"
   ]
  },
  {
   "cell_type": "code",
   "execution_count": 25,
   "id": "ae42427f-e15d-4821-9085-d41c4b9e359a",
   "metadata": {},
   "outputs": [
    {
     "data": {
      "text/plain": [
       "[([60, 46, 81, 25, 86],),\n",
       " ([60, 12, 80, 60, 98],),\n",
       " ([31, 90, 35, 87, 60],),\n",
       " ([86, 19, 88, 85, 8],)]"
      ]
     },
     "execution_count": 25,
     "metadata": {},
     "output_type": "execute_result"
    }
   ],
   "source": [
    "list(zip(matrix))  # не то что нам нужно"
   ]
  },
  {
   "cell_type": "code",
   "execution_count": 20,
   "id": "6bd9581d-9dc3-4153-8151-700277490516",
   "metadata": {},
   "outputs": [
    {
     "name": "stdout",
     "output_type": "stream",
     "text": [
      "1 + 2 + 3\n"
     ]
    }
   ],
   "source": [
    "print(1, 2, 3, sep=' + ')"
   ]
  },
  {
   "cell_type": "code",
   "execution_count": 17,
   "id": "d49c8e67-d8ac-428c-aeef-264c828dda7b",
   "metadata": {},
   "outputs": [],
   "source": [
    "big_list = list(range(30))"
   ]
  },
  {
   "cell_type": "code",
   "execution_count": 21,
   "id": "0cec919b-fe7d-4928-a9b7-abe7b9733c8b",
   "metadata": {},
   "outputs": [
    {
     "name": "stdout",
     "output_type": "stream",
     "text": [
      "[0, 1, 2, 3, 4, 5, 6, 7, 8, 9, 10, 11, 12, 13, 14, 15, 16, 17, 18, 19, 20, 21, 22, 23, 24, 25, 26, 27, 28, 29]\n"
     ]
    }
   ],
   "source": [
    "print(big_list, sep=' + ')  # хотел бы рассматривать значения списка как самостоятельные"
   ]
  },
  {
   "cell_type": "code",
   "execution_count": 22,
   "id": "f0a533e5-49d1-4d0e-a201-4721ce1937a2",
   "metadata": {},
   "outputs": [
    {
     "name": "stdout",
     "output_type": "stream",
     "text": [
      "0 + 1 + 2 + 3 + 4 + 5 + 6 + 7 + 8 + 9 + 10 + 11 + 12 + 13 + 14 + 15 + 16 + 17 + 18 + 19 + 20 + 21 + 22 + 23 + 24 + 25 + 26 + 27 + 28 + 29\n"
     ]
    }
   ],
   "source": [
    "# каждый раз я так делать не буду, но...\n",
    "print(0, 1, 2, 3, 4, 5, 6, 7, 8, 9, 10, 11, 12, 13, 14, 15, 16, 17, 18, 19, 20, 21, 22, 23, 24, 25, 26, 27, 28, 29, sep=' + ')"
   ]
  },
  {
   "cell_type": "code",
   "execution_count": 23,
   "id": "ce13ae3a-3409-4e95-978e-0c73e1be6a11",
   "metadata": {},
   "outputs": [
    {
     "name": "stdout",
     "output_type": "stream",
     "text": [
      "0 + 1 + 2 + 3 + 4 + 5 + 6 + 7 + 8 + 9 + 10 + 11 + 12 + 13 + 14 + 15 + 16 + 17 + 18 + 19 + 20 + 21 + 22 + 23 + 24 + 25 + 26 + 27 + 28 + 29\n"
     ]
    }
   ],
   "source": [
    "# ...за меня это сделает оператор *\n",
    "print(*big_list, sep=' + ')"
   ]
  },
  {
   "cell_type": "code",
   "execution_count": 24,
   "id": "841cc24d-d3ec-4fe1-8e1f-ac1d5e7df786",
   "metadata": {},
   "outputs": [
    {
     "name": "stdout",
     "output_type": "stream",
     "text": [
      "0 1 2 3 4 5 6 7 8 9 10 11 12 13 14 15 16 17 18 19 20 21 22 23 24 25 26 27 28 29\n"
     ]
    }
   ],
   "source": [
    "print(*big_list)"
   ]
  }
 ],
 "metadata": {
  "kernelspec": {
   "display_name": "Python 3 (ipykernel)",
   "language": "python",
   "name": "python3"
  },
  "language_info": {
   "codemirror_mode": {
    "name": "ipython",
    "version": 3
   },
   "file_extension": ".py",
   "mimetype": "text/x-python",
   "name": "python",
   "nbconvert_exporter": "python",
   "pygments_lexer": "ipython3",
   "version": "3.11.6"
  }
 },
 "nbformat": 4,
 "nbformat_minor": 5
}
