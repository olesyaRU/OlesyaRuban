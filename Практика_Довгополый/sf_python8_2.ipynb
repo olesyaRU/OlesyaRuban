{
 "cells": [
  {
   "cell_type": "markdown",
   "id": "f297fa3e",
   "metadata": {},
   "source": [
    "# Программирование на языке Python\n",
    "## Семинар 8. Pandas\n",
    "\n",
    "Данные взяты [отсюда](https://github.com/datasets/covid-19)."
   ]
  },
  {
   "cell_type": "code",
   "execution_count": 5,
   "id": "104e6513",
   "metadata": {},
   "outputs": [],
   "source": [
    "import pandas as pd\n",
    "import numpy as np"
   ]
  },
  {
   "cell_type": "markdown",
   "id": "a5e49a12",
   "metadata": {},
   "source": [
    "#### Задание 1\n",
    "Импортируйте и проведите первичное изучение данных (соответствующим типу каждой переменной)."
   ]
  },
  {
   "cell_type": "code",
   "execution_count": null,
   "id": "afd18ac8-c9a9-4f28-9be3-6fa05e6787ea",
   "metadata": {},
   "outputs": [],
   "source": [
    "# Вопросы:\n",
    "#1 есть пропущенные данные в колонках Province/State, Recovered\n",
    "#2 Recovered имеет тип float, хотя должна бы int\n",
    "#3 Date -> datetime\n",
    "#4 привести колонки к более конвенциональному формату\n",
    "#5 большинство стран встречаются 816 раз, но некоторые больше"
   ]
  },
  {
   "cell_type": "code",
   "execution_count": 2,
   "id": "38b532a6",
   "metadata": {},
   "outputs": [
    {
     "name": "stdout",
     "output_type": "stream",
     "text": [
      "<class 'pandas.core.frame.DataFrame'>\n",
      "RangeIndex: 231744 entries, 0 to 231743\n",
      "Data columns (total 6 columns):\n",
      " #   Column          Non-Null Count   Dtype  \n",
      "---  ------          --------------   -----  \n",
      " 0   Date            231744 non-null  object \n",
      " 1   Country/Region  231744 non-null  object \n",
      " 2   Province/State  72624 non-null   object \n",
      " 3   Confirmed       231744 non-null  int64  \n",
      " 4   Recovered       218688 non-null  float64\n",
      " 5   Deaths          231744 non-null  int64  \n",
      "dtypes: float64(1), int64(2), object(3)\n",
      "memory usage: 10.6+ MB\n"
     ]
    }
   ],
   "source": [
    "covid = pd.read_csv('time-series-19-covid-combined.csv')\n",
    "covid.info()"
   ]
  },
  {
   "cell_type": "code",
   "execution_count": 3,
   "id": "52170704-8896-4f6e-bff8-92ecb1f090ff",
   "metadata": {},
   "outputs": [
    {
     "data": {
      "text/html": [
       "<div>\n",
       "<style scoped>\n",
       "    .dataframe tbody tr th:only-of-type {\n",
       "        vertical-align: middle;\n",
       "    }\n",
       "\n",
       "    .dataframe tbody tr th {\n",
       "        vertical-align: top;\n",
       "    }\n",
       "\n",
       "    .dataframe thead th {\n",
       "        text-align: right;\n",
       "    }\n",
       "</style>\n",
       "<table border=\"1\" class=\"dataframe\">\n",
       "  <thead>\n",
       "    <tr style=\"text-align: right;\">\n",
       "      <th></th>\n",
       "      <th>Date</th>\n",
       "      <th>Country/Region</th>\n",
       "      <th>Province/State</th>\n",
       "      <th>Confirmed</th>\n",
       "      <th>Recovered</th>\n",
       "      <th>Deaths</th>\n",
       "    </tr>\n",
       "  </thead>\n",
       "  <tbody>\n",
       "    <tr>\n",
       "      <th>0</th>\n",
       "      <td>2020-01-22</td>\n",
       "      <td>Afghanistan</td>\n",
       "      <td>NaN</td>\n",
       "      <td>0</td>\n",
       "      <td>0.0</td>\n",
       "      <td>0</td>\n",
       "    </tr>\n",
       "    <tr>\n",
       "      <th>1</th>\n",
       "      <td>2020-01-23</td>\n",
       "      <td>Afghanistan</td>\n",
       "      <td>NaN</td>\n",
       "      <td>0</td>\n",
       "      <td>0.0</td>\n",
       "      <td>0</td>\n",
       "    </tr>\n",
       "    <tr>\n",
       "      <th>2</th>\n",
       "      <td>2020-01-24</td>\n",
       "      <td>Afghanistan</td>\n",
       "      <td>NaN</td>\n",
       "      <td>0</td>\n",
       "      <td>0.0</td>\n",
       "      <td>0</td>\n",
       "    </tr>\n",
       "    <tr>\n",
       "      <th>3</th>\n",
       "      <td>2020-01-25</td>\n",
       "      <td>Afghanistan</td>\n",
       "      <td>NaN</td>\n",
       "      <td>0</td>\n",
       "      <td>0.0</td>\n",
       "      <td>0</td>\n",
       "    </tr>\n",
       "    <tr>\n",
       "      <th>4</th>\n",
       "      <td>2020-01-26</td>\n",
       "      <td>Afghanistan</td>\n",
       "      <td>NaN</td>\n",
       "      <td>0</td>\n",
       "      <td>0.0</td>\n",
       "      <td>0</td>\n",
       "    </tr>\n",
       "  </tbody>\n",
       "</table>\n",
       "</div>"
      ],
      "text/plain": [
       "         Date Country/Region Province/State  Confirmed  Recovered  Deaths\n",
       "0  2020-01-22    Afghanistan            NaN          0        0.0       0\n",
       "1  2020-01-23    Afghanistan            NaN          0        0.0       0\n",
       "2  2020-01-24    Afghanistan            NaN          0        0.0       0\n",
       "3  2020-01-25    Afghanistan            NaN          0        0.0       0\n",
       "4  2020-01-26    Afghanistan            NaN          0        0.0       0"
      ]
     },
     "execution_count": 3,
     "metadata": {},
     "output_type": "execute_result"
    }
   ],
   "source": [
    "covid.head()"
   ]
  },
  {
   "cell_type": "code",
   "execution_count": null,
   "id": "2aa6dc0f-7964-4449-b9b5-2d123652c674",
   "metadata": {},
   "outputs": [],
   "source": [
    "covid.sample(5)"
   ]
  },
  {
   "cell_type": "markdown",
   "id": "bf1c9fc1-0a60-47ba-bbab-b9694cadc561",
   "metadata": {},
   "source": [
    "**Исследуем каждую переменную**"
   ]
  },
  {
   "cell_type": "code",
   "execution_count": null,
   "id": "9987fd2f-dacf-49bf-a29c-1908828a81c7",
   "metadata": {},
   "outputs": [],
   "source": [
    "# категориальные переменные\n",
    "covid['Country/Region'].value_counts()"
   ]
  },
  {
   "cell_type": "code",
   "execution_count": null,
   "id": "a555bbfd-f338-4374-b4c7-39a147c58d2f",
   "metadata": {},
   "outputs": [],
   "source": [
    "covid['Country/Region'].value_counts().value_counts()"
   ]
  },
  {
   "cell_type": "code",
   "execution_count": null,
   "id": "0e8e02fc-23d8-4743-a1a2-66acf5fc4bd3",
   "metadata": {},
   "outputs": [],
   "source": [
    "numeric_cols = ['Confirmed', 'Recovered', 'Deaths']\n",
    "\n",
    "covid[numeric_cols].describe().round()"
   ]
  },
  {
   "cell_type": "markdown",
   "id": "21c1d4ab",
   "metadata": {},
   "source": [
    "#### Задание 2\n",
    "**Проработаем наши заметки**"
   ]
  },
  {
   "cell_type": "code",
   "execution_count": null,
   "id": "1e0e8562-24ce-448c-bc92-0cf90d979a54",
   "metadata": {},
   "outputs": [],
   "source": [
    "# Вопросы:\n",
    "#1 есть пропущенные данные в колонках Province/State, Recovered\n",
    "#2 Recovered имеет тип float, хотя должна бы int\n",
    "#3 Date -> datetime\n",
    "#4 привести колонки к более конвенциональному формату\n",
    "#5 большинство стран встречаются 816 раз, но некоторые больше"
   ]
  },
  {
   "cell_type": "code",
   "execution_count": null,
   "id": "dfe76ac9-c5a7-4046-89ec-18a9eac90b9e",
   "metadata": {},
   "outputs": [],
   "source": [
    "covid.head()"
   ]
  },
  {
   "cell_type": "code",
   "execution_count": null,
   "id": "7f3310f6-eba2-483d-a5ed-f502bc6993b3",
   "metadata": {},
   "outputs": [],
   "source": [
    "covid['Recovered'].astype(int)"
   ]
  },
  {
   "cell_type": "code",
   "execution_count": null,
   "id": "6cf9f474-ac3e-47c9-8da9-bccd59bc3c29",
   "metadata": {},
   "outputs": [],
   "source": [
    "#1 есть пропущенные данные в колонках Province/State, Recovered ->\n",
    "## ЯВЛЯЮТСЯ ЛИ ЭТИ ПРОПУСКИ НЕЗАВИСИМЫМИ?\n",
    "\n",
    "(covid['Province/State'].isna() & covid['Recovered'].isna()).value_counts()"
   ]
  },
  {
   "cell_type": "code",
   "execution_count": null,
   "id": "b2d5d9f6-9194-4f7a-a2bb-c1f10c1c9f28",
   "metadata": {},
   "outputs": [],
   "source": [
    "(covid['Province/State'].isna() & covid['Recovered'].isna()).sum()"
   ]
  },
  {
   "cell_type": "code",
   "execution_count": null,
   "id": "2d4836ca-f70d-4205-85bf-2b80a672781a",
   "metadata": {},
   "outputs": [],
   "source": [
    "(covid['Province/State'].isna() & covid['Recovered'].isna()).any()"
   ]
  },
  {
   "cell_type": "code",
   "execution_count": null,
   "id": "0d0dd545-44eb-4ceb-94fe-822e9bad9c71",
   "metadata": {},
   "outputs": [],
   "source": [
    "#2 Recovered имеет тип float, хотя должна бы int\n",
    "## НАДО ПРОВЕРИТЬ, БЫЛИ ЛИ ВВЕДЕНЫ НЕКОРРЕКТНЫЕ ДАННЫЕ (если есть дробная часть)"
   ]
  },
  {
   "cell_type": "code",
   "execution_count": null,
   "id": "fb53f7e4-d31b-4d09-a394-d79ceee35790",
   "metadata": {},
   "outputs": [],
   "source": [
    "((covid['Recovered'] + 1) / (covid['Recovered'] + 1) == (covid['Recovered'] + 1) // (covid['Recovered'] + 1)).value_counts()"
   ]
  },
  {
   "cell_type": "code",
   "execution_count": null,
   "id": "40678cf0-dda9-44a6-b37f-4277eb9856ff",
   "metadata": {},
   "outputs": [],
   "source": [
    "covid[(covid['Recovered'] + 1) / (covid['Recovered'] + 1) != (covid['Recovered'] + 1) // (covid['Recovered'] + 1)]"
   ]
  },
  {
   "cell_type": "code",
   "execution_count": null,
   "id": "3e8b83f0-be7c-434b-b6e0-226825115d52",
   "metadata": {},
   "outputs": [],
   "source": [
    "covid[(covid['Recovered'] + 1) / (covid['Recovered'] + 1) != (covid['Recovered'] + 1) // (covid['Recovered'] + 1)]['Recovered'].isna().all()"
   ]
  },
  {
   "cell_type": "code",
   "execution_count": null,
   "id": "0152c59f-db00-48ec-812b-3c4f85b3a88a",
   "metadata": {},
   "outputs": [],
   "source": [
    "type(np.nan)"
   ]
  },
  {
   "cell_type": "code",
   "execution_count": null,
   "id": "e7986f52-9ea8-485d-aeff-227c7c8ae2b5",
   "metadata": {},
   "outputs": [],
   "source": [
    "np.array([1, 2, 3, 4, np.nan])"
   ]
  },
  {
   "cell_type": "code",
   "execution_count": null,
   "id": "1763bd68-3f0c-40cf-acf4-23c63c3a6499",
   "metadata": {},
   "outputs": [],
   "source": [
    "#5 большинство стран встречаются 816 раз, но некоторые больше\n",
    "# В НЕКОТОРЫХ СТРАНАХ ЕСТЬ РАЗДЕЛЕНИЕ НА РЕГИОНЫ -> ДЛЯ ОБЩЕГО АНАЛИЗА ОТ ЭТОГО РАЗДЕЛЕНИЯ НАДО ИЗБАВИТЬСЯ\n",
    "country_counts = covid['Country/Region'].value_counts()\n",
    "strange_countries = country_counts.index[country_counts.values != 816]"
   ]
  },
  {
   "cell_type": "code",
   "execution_count": null,
   "id": "a4c1ea23-f73e-4eb6-be04-0ca567dc0424",
   "metadata": {},
   "outputs": [],
   "source": [
    "covid[~covid['Country/Region'].isin(strange_countries)]['Province/State'].isna().all()"
   ]
  },
  {
   "cell_type": "code",
   "execution_count": null,
   "id": "643cd2fc-8f63-4677-9f32-2ba196254688",
   "metadata": {},
   "outputs": [],
   "source": [
    "covid[(covid['Country/Region'] == 'Australia') & (covid['Date'] == '2020-01-22')]"
   ]
  },
  {
   "cell_type": "code",
   "execution_count": null,
   "id": "c8d963cf-3b6f-423d-8abb-0bd3689f4df2",
   "metadata": {},
   "outputs": [],
   "source": [
    "1 in [1, 2, 3]"
   ]
  },
  {
   "cell_type": "code",
   "execution_count": null,
   "id": "1acb0784-dd3f-43f3-88ee-ec10d6427b38",
   "metadata": {},
   "outputs": [],
   "source": [
    "[1, 4] in [1, 2, 3]  # [True, False]"
   ]
  },
  {
   "cell_type": "code",
   "execution_count": null,
   "id": "25a35b59-213e-4835-a533-92a46b8b7c76",
   "metadata": {},
   "outputs": [],
   "source": [
    "pd.Series([1, 4]).isin([1, 2, 3])"
   ]
  },
  {
   "cell_type": "code",
   "execution_count": null,
   "id": "b8a9bb50-f54d-405d-88d1-b27ffaab0241",
   "metadata": {},
   "outputs": [],
   "source": [
    "covid.columns"
   ]
  },
  {
   "cell_type": "code",
   "execution_count": 4,
   "id": "6ff45f8f-e8ad-4794-bd9b-7129ffd9c7b6",
   "metadata": {},
   "outputs": [],
   "source": [
    "#3 Date -> datetime\n",
    "#4 привести колонки к более конвенциональному формату\n",
    "covid_data = covid.rename(columns=lambda name: name.replace('/', '_').lower())\n",
    "covid_data['date'] = pd.to_datetime(covid_data['date'], format='%Y-%m-%d')"
   ]
  },
  {
   "cell_type": "markdown",
   "id": "6387aeba-58db-4feb-9de3-4859accc0535",
   "metadata": {},
   "source": [
    "#### Задание 3\n",
    "Перед тем, как выполнять данное задание, подумайте, не лучше ли будет каким-либо образом преобразовать имеющиеся данные.\n",
    "\n",
    "- как меняется соотношения типа обнаруженные / умершие и т. д. во времени (в среднемировом разрезе)?\n",
    "- если смотреть в среднемировом разрезе, как можно оценить, на какой день болезни шанс заразить кого-нибудь больше всего? Попробуйте проверить, можно ли говорить о какой-либо статистической значимости в контексте вашего ответа;\n",
    "- если смотреть в среднемировом разрезе, как можно оценить, на какой день болезни шанс умереть больше всего? Попробуйте проверить, можно ли говорить о какой-либо статистической значимости в контексте вашего ответа."
   ]
  },
  {
   "cell_type": "code",
   "execution_count": 6,
   "id": "6a33954f-edac-47b4-a276-66ae8cf5e136",
   "metadata": {},
   "outputs": [
    {
     "data": {
      "text/html": [
       "<div>\n",
       "<style scoped>\n",
       "    .dataframe tbody tr th:only-of-type {\n",
       "        vertical-align: middle;\n",
       "    }\n",
       "\n",
       "    .dataframe tbody tr th {\n",
       "        vertical-align: top;\n",
       "    }\n",
       "\n",
       "    .dataframe thead th {\n",
       "        text-align: right;\n",
       "    }\n",
       "</style>\n",
       "<table border=\"1\" class=\"dataframe\">\n",
       "  <thead>\n",
       "    <tr style=\"text-align: right;\">\n",
       "      <th></th>\n",
       "      <th>date</th>\n",
       "      <th>country_region</th>\n",
       "      <th>province_state</th>\n",
       "      <th>confirmed</th>\n",
       "      <th>recovered</th>\n",
       "      <th>deaths</th>\n",
       "    </tr>\n",
       "  </thead>\n",
       "  <tbody>\n",
       "    <tr>\n",
       "      <th>0</th>\n",
       "      <td>2020-01-22</td>\n",
       "      <td>Afghanistan</td>\n",
       "      <td>NaN</td>\n",
       "      <td>0</td>\n",
       "      <td>0.0</td>\n",
       "      <td>0</td>\n",
       "    </tr>\n",
       "    <tr>\n",
       "      <th>1</th>\n",
       "      <td>2020-01-23</td>\n",
       "      <td>Afghanistan</td>\n",
       "      <td>NaN</td>\n",
       "      <td>0</td>\n",
       "      <td>0.0</td>\n",
       "      <td>0</td>\n",
       "    </tr>\n",
       "    <tr>\n",
       "      <th>2</th>\n",
       "      <td>2020-01-24</td>\n",
       "      <td>Afghanistan</td>\n",
       "      <td>NaN</td>\n",
       "      <td>0</td>\n",
       "      <td>0.0</td>\n",
       "      <td>0</td>\n",
       "    </tr>\n",
       "    <tr>\n",
       "      <th>3</th>\n",
       "      <td>2020-01-25</td>\n",
       "      <td>Afghanistan</td>\n",
       "      <td>NaN</td>\n",
       "      <td>0</td>\n",
       "      <td>0.0</td>\n",
       "      <td>0</td>\n",
       "    </tr>\n",
       "    <tr>\n",
       "      <th>4</th>\n",
       "      <td>2020-01-26</td>\n",
       "      <td>Afghanistan</td>\n",
       "      <td>NaN</td>\n",
       "      <td>0</td>\n",
       "      <td>0.0</td>\n",
       "      <td>0</td>\n",
       "    </tr>\n",
       "  </tbody>\n",
       "</table>\n",
       "</div>"
      ],
      "text/plain": [
       "        date country_region province_state  confirmed  recovered  deaths\n",
       "0 2020-01-22    Afghanistan            NaN          0        0.0       0\n",
       "1 2020-01-23    Afghanistan            NaN          0        0.0       0\n",
       "2 2020-01-24    Afghanistan            NaN          0        0.0       0\n",
       "3 2020-01-25    Afghanistan            NaN          0        0.0       0\n",
       "4 2020-01-26    Afghanistan            NaN          0        0.0       0"
      ]
     },
     "execution_count": 6,
     "metadata": {},
     "output_type": "execute_result"
    }
   ],
   "source": [
    "covid_data.head()"
   ]
  },
  {
   "cell_type": "code",
   "execution_count": 7,
   "id": "7785e3d6-686a-4cbb-b3a2-e921dbb75e9b",
   "metadata": {},
   "outputs": [
    {
     "data": {
      "text/html": [
       "<div>\n",
       "<style scoped>\n",
       "    .dataframe tbody tr th:only-of-type {\n",
       "        vertical-align: middle;\n",
       "    }\n",
       "\n",
       "    .dataframe tbody tr th {\n",
       "        vertical-align: top;\n",
       "    }\n",
       "\n",
       "    .dataframe thead th {\n",
       "        text-align: right;\n",
       "    }\n",
       "</style>\n",
       "<table border=\"1\" class=\"dataframe\">\n",
       "  <thead>\n",
       "    <tr style=\"text-align: right;\">\n",
       "      <th></th>\n",
       "      <th>date</th>\n",
       "      <th>country_region</th>\n",
       "      <th>province_state</th>\n",
       "      <th>confirmed</th>\n",
       "      <th>recovered</th>\n",
       "      <th>deaths</th>\n",
       "    </tr>\n",
       "  </thead>\n",
       "  <tbody>\n",
       "    <tr>\n",
       "      <th>32640</th>\n",
       "      <td>2020-01-22</td>\n",
       "      <td>Canada</td>\n",
       "      <td>Alberta</td>\n",
       "      <td>0</td>\n",
       "      <td>NaN</td>\n",
       "      <td>0</td>\n",
       "    </tr>\n",
       "    <tr>\n",
       "      <th>33456</th>\n",
       "      <td>2020-01-22</td>\n",
       "      <td>Canada</td>\n",
       "      <td>British Columbia</td>\n",
       "      <td>0</td>\n",
       "      <td>NaN</td>\n",
       "      <td>0</td>\n",
       "    </tr>\n",
       "    <tr>\n",
       "      <th>34272</th>\n",
       "      <td>2020-01-22</td>\n",
       "      <td>Canada</td>\n",
       "      <td>Diamond Princess</td>\n",
       "      <td>0</td>\n",
       "      <td>NaN</td>\n",
       "      <td>0</td>\n",
       "    </tr>\n",
       "    <tr>\n",
       "      <th>35088</th>\n",
       "      <td>2020-01-22</td>\n",
       "      <td>Canada</td>\n",
       "      <td>Grand Princess</td>\n",
       "      <td>0</td>\n",
       "      <td>NaN</td>\n",
       "      <td>0</td>\n",
       "    </tr>\n",
       "    <tr>\n",
       "      <th>35904</th>\n",
       "      <td>2020-01-22</td>\n",
       "      <td>Canada</td>\n",
       "      <td>Manitoba</td>\n",
       "      <td>0</td>\n",
       "      <td>NaN</td>\n",
       "      <td>0</td>\n",
       "    </tr>\n",
       "    <tr>\n",
       "      <th>36720</th>\n",
       "      <td>2020-01-22</td>\n",
       "      <td>Canada</td>\n",
       "      <td>New Brunswick</td>\n",
       "      <td>0</td>\n",
       "      <td>NaN</td>\n",
       "      <td>0</td>\n",
       "    </tr>\n",
       "    <tr>\n",
       "      <th>37536</th>\n",
       "      <td>2020-01-22</td>\n",
       "      <td>Canada</td>\n",
       "      <td>Newfoundland and Labrador</td>\n",
       "      <td>0</td>\n",
       "      <td>NaN</td>\n",
       "      <td>0</td>\n",
       "    </tr>\n",
       "    <tr>\n",
       "      <th>38352</th>\n",
       "      <td>2020-01-22</td>\n",
       "      <td>Canada</td>\n",
       "      <td>Northwest Territories</td>\n",
       "      <td>0</td>\n",
       "      <td>NaN</td>\n",
       "      <td>0</td>\n",
       "    </tr>\n",
       "    <tr>\n",
       "      <th>39168</th>\n",
       "      <td>2020-01-22</td>\n",
       "      <td>Canada</td>\n",
       "      <td>Nova Scotia</td>\n",
       "      <td>0</td>\n",
       "      <td>NaN</td>\n",
       "      <td>0</td>\n",
       "    </tr>\n",
       "    <tr>\n",
       "      <th>39984</th>\n",
       "      <td>2020-01-22</td>\n",
       "      <td>Canada</td>\n",
       "      <td>Nunavut</td>\n",
       "      <td>0</td>\n",
       "      <td>NaN</td>\n",
       "      <td>0</td>\n",
       "    </tr>\n",
       "    <tr>\n",
       "      <th>40800</th>\n",
       "      <td>2020-01-22</td>\n",
       "      <td>Canada</td>\n",
       "      <td>Ontario</td>\n",
       "      <td>0</td>\n",
       "      <td>NaN</td>\n",
       "      <td>0</td>\n",
       "    </tr>\n",
       "    <tr>\n",
       "      <th>41616</th>\n",
       "      <td>2020-01-22</td>\n",
       "      <td>Canada</td>\n",
       "      <td>Prince Edward Island</td>\n",
       "      <td>0</td>\n",
       "      <td>NaN</td>\n",
       "      <td>0</td>\n",
       "    </tr>\n",
       "    <tr>\n",
       "      <th>42432</th>\n",
       "      <td>2020-01-22</td>\n",
       "      <td>Canada</td>\n",
       "      <td>Quebec</td>\n",
       "      <td>0</td>\n",
       "      <td>NaN</td>\n",
       "      <td>0</td>\n",
       "    </tr>\n",
       "    <tr>\n",
       "      <th>43248</th>\n",
       "      <td>2020-01-22</td>\n",
       "      <td>Canada</td>\n",
       "      <td>Repatriated Travellers</td>\n",
       "      <td>0</td>\n",
       "      <td>NaN</td>\n",
       "      <td>0</td>\n",
       "    </tr>\n",
       "    <tr>\n",
       "      <th>44064</th>\n",
       "      <td>2020-01-22</td>\n",
       "      <td>Canada</td>\n",
       "      <td>Saskatchewan</td>\n",
       "      <td>0</td>\n",
       "      <td>NaN</td>\n",
       "      <td>0</td>\n",
       "    </tr>\n",
       "    <tr>\n",
       "      <th>44880</th>\n",
       "      <td>2020-01-22</td>\n",
       "      <td>Canada</td>\n",
       "      <td>Yukon</td>\n",
       "      <td>0</td>\n",
       "      <td>NaN</td>\n",
       "      <td>0</td>\n",
       "    </tr>\n",
       "  </tbody>\n",
       "</table>\n",
       "</div>"
      ],
      "text/plain": [
       "            date country_region             province_state  confirmed  \\\n",
       "32640 2020-01-22         Canada                    Alberta          0   \n",
       "33456 2020-01-22         Canada           British Columbia          0   \n",
       "34272 2020-01-22         Canada           Diamond Princess          0   \n",
       "35088 2020-01-22         Canada             Grand Princess          0   \n",
       "35904 2020-01-22         Canada                   Manitoba          0   \n",
       "36720 2020-01-22         Canada              New Brunswick          0   \n",
       "37536 2020-01-22         Canada  Newfoundland and Labrador          0   \n",
       "38352 2020-01-22         Canada      Northwest Territories          0   \n",
       "39168 2020-01-22         Canada                Nova Scotia          0   \n",
       "39984 2020-01-22         Canada                    Nunavut          0   \n",
       "40800 2020-01-22         Canada                    Ontario          0   \n",
       "41616 2020-01-22         Canada       Prince Edward Island          0   \n",
       "42432 2020-01-22         Canada                     Quebec          0   \n",
       "43248 2020-01-22         Canada     Repatriated Travellers          0   \n",
       "44064 2020-01-22         Canada               Saskatchewan          0   \n",
       "44880 2020-01-22         Canada                      Yukon          0   \n",
       "\n",
       "       recovered  deaths  \n",
       "32640        NaN       0  \n",
       "33456        NaN       0  \n",
       "34272        NaN       0  \n",
       "35088        NaN       0  \n",
       "35904        NaN       0  \n",
       "36720        NaN       0  \n",
       "37536        NaN       0  \n",
       "38352        NaN       0  \n",
       "39168        NaN       0  \n",
       "39984        NaN       0  \n",
       "40800        NaN       0  \n",
       "41616        NaN       0  \n",
       "42432        NaN       0  \n",
       "43248        NaN       0  \n",
       "44064        NaN       0  \n",
       "44880        NaN       0  "
      ]
     },
     "execution_count": 7,
     "metadata": {},
     "output_type": "execute_result"
    }
   ],
   "source": [
    "# В НЕКОТОРЫХ СТРАНАХ ЕСТЬ РАЗДЕЛЕНИЕ НА РЕГИОНЫ -> ДЛЯ ОБЩЕГО АНАЛИЗА ОТ ЭТОГО РАЗДЕЛЕНИЯ НАДО ИЗБАВИТЬСЯ\n",
    "covid_data[(covid_data['country_region'] == 'Canada') & (covid_data['date'] == '2020-01-22')]"
   ]
  },
  {
   "cell_type": "code",
   "execution_count": 16,
   "id": "5e13fa70-fc0e-4558-a069-17b3d6c6414a",
   "metadata": {},
   "outputs": [],
   "source": [
    "groups = list(covid_data.groupby(['country_region', 'date']))"
   ]
  },
  {
   "cell_type": "code",
   "execution_count": 17,
   "id": "d38b31ab-1f83-4efa-91b4-569f9453d2f6",
   "metadata": {},
   "outputs": [
    {
     "data": {
      "text/plain": [
       "161568"
      ]
     },
     "execution_count": 17,
     "metadata": {},
     "output_type": "execute_result"
    }
   ],
   "source": [
    "len(groups)"
   ]
  },
  {
   "cell_type": "code",
   "execution_count": 19,
   "id": "e657ede1-1689-4497-80e4-810e1a43d6a9",
   "metadata": {},
   "outputs": [
    {
     "data": {
      "text/plain": [
       "('Afghanistan', Timestamp('2020-01-22 00:00:00'))"
      ]
     },
     "execution_count": 19,
     "metadata": {},
     "output_type": "execute_result"
    }
   ],
   "source": [
    "groups[0][0]"
   ]
  },
  {
   "cell_type": "code",
   "execution_count": 20,
   "id": "6c4cd226-6aa7-4f28-a895-542ed56dcb25",
   "metadata": {},
   "outputs": [
    {
     "data": {
      "text/html": [
       "<div>\n",
       "<style scoped>\n",
       "    .dataframe tbody tr th:only-of-type {\n",
       "        vertical-align: middle;\n",
       "    }\n",
       "\n",
       "    .dataframe tbody tr th {\n",
       "        vertical-align: top;\n",
       "    }\n",
       "\n",
       "    .dataframe thead th {\n",
       "        text-align: right;\n",
       "    }\n",
       "</style>\n",
       "<table border=\"1\" class=\"dataframe\">\n",
       "  <thead>\n",
       "    <tr style=\"text-align: right;\">\n",
       "      <th></th>\n",
       "      <th>date</th>\n",
       "      <th>country_region</th>\n",
       "      <th>province_state</th>\n",
       "      <th>confirmed</th>\n",
       "      <th>recovered</th>\n",
       "      <th>deaths</th>\n",
       "    </tr>\n",
       "  </thead>\n",
       "  <tbody>\n",
       "    <tr>\n",
       "      <th>0</th>\n",
       "      <td>2020-01-22</td>\n",
       "      <td>Afghanistan</td>\n",
       "      <td>NaN</td>\n",
       "      <td>0</td>\n",
       "      <td>0.0</td>\n",
       "      <td>0</td>\n",
       "    </tr>\n",
       "  </tbody>\n",
       "</table>\n",
       "</div>"
      ],
      "text/plain": [
       "        date country_region province_state  confirmed  recovered  deaths\n",
       "0 2020-01-22    Afghanistan            NaN          0        0.0       0"
      ]
     },
     "execution_count": 20,
     "metadata": {},
     "output_type": "execute_result"
    }
   ],
   "source": [
    "groups[0][1]"
   ]
  },
  {
   "cell_type": "code",
   "execution_count": 26,
   "id": "8ac1f214-b8c5-4cf2-ad2a-a27b02b43cd1",
   "metadata": {},
   "outputs": [],
   "source": [
    "covid_data_agg = covid_data.groupby(\n",
    "    ['country_region', 'date'], as_index=False\n",
    ")[['confirmed', 'recovered', 'deaths']].sum().sort_values(by=['country_region', 'date'])"
   ]
  },
  {
   "cell_type": "code",
   "execution_count": 27,
   "id": "95770a44-b7e4-4507-869f-4b82d31533a0",
   "metadata": {},
   "outputs": [
    {
     "data": {
      "text/html": [
       "<div>\n",
       "<style scoped>\n",
       "    .dataframe tbody tr th:only-of-type {\n",
       "        vertical-align: middle;\n",
       "    }\n",
       "\n",
       "    .dataframe tbody tr th {\n",
       "        vertical-align: top;\n",
       "    }\n",
       "\n",
       "    .dataframe thead th {\n",
       "        text-align: right;\n",
       "    }\n",
       "</style>\n",
       "<table border=\"1\" class=\"dataframe\">\n",
       "  <thead>\n",
       "    <tr style=\"text-align: right;\">\n",
       "      <th></th>\n",
       "      <th>country_region</th>\n",
       "      <th>date</th>\n",
       "      <th>confirmed</th>\n",
       "      <th>recovered</th>\n",
       "      <th>deaths</th>\n",
       "    </tr>\n",
       "  </thead>\n",
       "  <tbody>\n",
       "    <tr>\n",
       "      <th>0</th>\n",
       "      <td>Afghanistan</td>\n",
       "      <td>2020-01-22</td>\n",
       "      <td>0</td>\n",
       "      <td>0.0</td>\n",
       "      <td>0</td>\n",
       "    </tr>\n",
       "    <tr>\n",
       "      <th>1</th>\n",
       "      <td>Afghanistan</td>\n",
       "      <td>2020-01-23</td>\n",
       "      <td>0</td>\n",
       "      <td>0.0</td>\n",
       "      <td>0</td>\n",
       "    </tr>\n",
       "    <tr>\n",
       "      <th>2</th>\n",
       "      <td>Afghanistan</td>\n",
       "      <td>2020-01-24</td>\n",
       "      <td>0</td>\n",
       "      <td>0.0</td>\n",
       "      <td>0</td>\n",
       "    </tr>\n",
       "    <tr>\n",
       "      <th>3</th>\n",
       "      <td>Afghanistan</td>\n",
       "      <td>2020-01-25</td>\n",
       "      <td>0</td>\n",
       "      <td>0.0</td>\n",
       "      <td>0</td>\n",
       "    </tr>\n",
       "    <tr>\n",
       "      <th>4</th>\n",
       "      <td>Afghanistan</td>\n",
       "      <td>2020-01-26</td>\n",
       "      <td>0</td>\n",
       "      <td>0.0</td>\n",
       "      <td>0</td>\n",
       "    </tr>\n",
       "    <tr>\n",
       "      <th>...</th>\n",
       "      <td>...</td>\n",
       "      <td>...</td>\n",
       "      <td>...</td>\n",
       "      <td>...</td>\n",
       "      <td>...</td>\n",
       "    </tr>\n",
       "    <tr>\n",
       "      <th>161563</th>\n",
       "      <td>Zimbabwe</td>\n",
       "      <td>2022-04-12</td>\n",
       "      <td>247094</td>\n",
       "      <td>0.0</td>\n",
       "      <td>5460</td>\n",
       "    </tr>\n",
       "    <tr>\n",
       "      <th>161564</th>\n",
       "      <td>Zimbabwe</td>\n",
       "      <td>2022-04-13</td>\n",
       "      <td>247160</td>\n",
       "      <td>0.0</td>\n",
       "      <td>5460</td>\n",
       "    </tr>\n",
       "    <tr>\n",
       "      <th>161565</th>\n",
       "      <td>Zimbabwe</td>\n",
       "      <td>2022-04-14</td>\n",
       "      <td>247208</td>\n",
       "      <td>0.0</td>\n",
       "      <td>5462</td>\n",
       "    </tr>\n",
       "    <tr>\n",
       "      <th>161566</th>\n",
       "      <td>Zimbabwe</td>\n",
       "      <td>2022-04-15</td>\n",
       "      <td>247237</td>\n",
       "      <td>0.0</td>\n",
       "      <td>5462</td>\n",
       "    </tr>\n",
       "    <tr>\n",
       "      <th>161567</th>\n",
       "      <td>Zimbabwe</td>\n",
       "      <td>2022-04-16</td>\n",
       "      <td>247237</td>\n",
       "      <td>0.0</td>\n",
       "      <td>5462</td>\n",
       "    </tr>\n",
       "  </tbody>\n",
       "</table>\n",
       "<p>161568 rows × 5 columns</p>\n",
       "</div>"
      ],
      "text/plain": [
       "       country_region       date  confirmed  recovered  deaths\n",
       "0         Afghanistan 2020-01-22          0        0.0       0\n",
       "1         Afghanistan 2020-01-23          0        0.0       0\n",
       "2         Afghanistan 2020-01-24          0        0.0       0\n",
       "3         Afghanistan 2020-01-25          0        0.0       0\n",
       "4         Afghanistan 2020-01-26          0        0.0       0\n",
       "...               ...        ...        ...        ...     ...\n",
       "161563       Zimbabwe 2022-04-12     247094        0.0    5460\n",
       "161564       Zimbabwe 2022-04-13     247160        0.0    5460\n",
       "161565       Zimbabwe 2022-04-14     247208        0.0    5462\n",
       "161566       Zimbabwe 2022-04-15     247237        0.0    5462\n",
       "161567       Zimbabwe 2022-04-16     247237        0.0    5462\n",
       "\n",
       "[161568 rows x 5 columns]"
      ]
     },
     "execution_count": 27,
     "metadata": {},
     "output_type": "execute_result"
    }
   ],
   "source": [
    "covid_data_agg"
   ]
  },
  {
   "cell_type": "code",
   "execution_count": 51,
   "id": "7bcaaf7e-c14c-4614-8b42-10516b94fffe",
   "metadata": {},
   "outputs": [],
   "source": [
    "# значения для даты и страны - это значения \"к данному моменты\"\n",
    "\n",
    "def get_diff(country_df: pd.DataFrame) -> pd.DataFrame:\n",
    "    country_df = country_df.copy()\n",
    "\n",
    "    for var in ['confirmed', 'recovered', 'deaths']:\n",
    "        country_df[var] = country_df[var].diff(1).fillna(0)\n",
    "\n",
    "    return country_df"
   ]
  },
  {
   "cell_type": "code",
   "execution_count": null,
   "id": "465e8602-e3b8-4cdd-9cb8-2d72a5a18286",
   "metadata": {},
   "outputs": [],
   "source": [
    "3 3\n",
    "4 1\n",
    "4 0\n",
    "4 0\n",
    "2 0\n",
    "5 3\n",
    "6 "
   ]
  },
  {
   "cell_type": "code",
   "execution_count": 62,
   "id": "52e83cf7-7084-4b85-966f-3afcea5bf721",
   "metadata": {},
   "outputs": [
    {
     "name": "stderr",
     "output_type": "stream",
     "text": [
      "/var/folders/h6/lv17v1r10lz21g745pd6774h0tgc4z/T/ipykernel_5354/3073416743.py:1: DeprecationWarning: DataFrameGroupBy.apply operated on the grouping columns. This behavior is deprecated, and in a future version of pandas the grouping columns will be excluded from the operation. Either pass `include_groups=False` to exclude the groupings or explicitly select the grouping columns after groupby to silence this warning.\n",
      "  covid_data_final = covid_data_agg.groupby(['country_region'], group_keys=False).apply(get_diff)\n"
     ]
    },
    {
     "data": {
      "text/html": [
       "<div>\n",
       "<style scoped>\n",
       "    .dataframe tbody tr th:only-of-type {\n",
       "        vertical-align: middle;\n",
       "    }\n",
       "\n",
       "    .dataframe tbody tr th {\n",
       "        vertical-align: top;\n",
       "    }\n",
       "\n",
       "    .dataframe thead th {\n",
       "        text-align: right;\n",
       "    }\n",
       "</style>\n",
       "<table border=\"1\" class=\"dataframe\">\n",
       "  <thead>\n",
       "    <tr style=\"text-align: right;\">\n",
       "      <th></th>\n",
       "      <th>country_region</th>\n",
       "      <th>date</th>\n",
       "      <th>confirmed</th>\n",
       "      <th>recovered</th>\n",
       "      <th>deaths</th>\n",
       "    </tr>\n",
       "  </thead>\n",
       "  <tbody>\n",
       "    <tr>\n",
       "      <th>0</th>\n",
       "      <td>Afghanistan</td>\n",
       "      <td>2020-01-22</td>\n",
       "      <td>0.0</td>\n",
       "      <td>0.0</td>\n",
       "      <td>0.0</td>\n",
       "    </tr>\n",
       "    <tr>\n",
       "      <th>1</th>\n",
       "      <td>Afghanistan</td>\n",
       "      <td>2020-01-23</td>\n",
       "      <td>0.0</td>\n",
       "      <td>0.0</td>\n",
       "      <td>0.0</td>\n",
       "    </tr>\n",
       "    <tr>\n",
       "      <th>2</th>\n",
       "      <td>Afghanistan</td>\n",
       "      <td>2020-01-24</td>\n",
       "      <td>0.0</td>\n",
       "      <td>0.0</td>\n",
       "      <td>0.0</td>\n",
       "    </tr>\n",
       "    <tr>\n",
       "      <th>3</th>\n",
       "      <td>Afghanistan</td>\n",
       "      <td>2020-01-25</td>\n",
       "      <td>0.0</td>\n",
       "      <td>0.0</td>\n",
       "      <td>0.0</td>\n",
       "    </tr>\n",
       "    <tr>\n",
       "      <th>4</th>\n",
       "      <td>Afghanistan</td>\n",
       "      <td>2020-01-26</td>\n",
       "      <td>0.0</td>\n",
       "      <td>0.0</td>\n",
       "      <td>0.0</td>\n",
       "    </tr>\n",
       "  </tbody>\n",
       "</table>\n",
       "</div>"
      ],
      "text/plain": [
       "  country_region       date  confirmed  recovered  deaths\n",
       "0    Afghanistan 2020-01-22        0.0        0.0     0.0\n",
       "1    Afghanistan 2020-01-23        0.0        0.0     0.0\n",
       "2    Afghanistan 2020-01-24        0.0        0.0     0.0\n",
       "3    Afghanistan 2020-01-25        0.0        0.0     0.0\n",
       "4    Afghanistan 2020-01-26        0.0        0.0     0.0"
      ]
     },
     "execution_count": 62,
     "metadata": {},
     "output_type": "execute_result"
    }
   ],
   "source": [
    "covid_data_final = covid_data_agg.groupby(['country_region'], group_keys=False).apply(get_diff)\n",
    "\n",
    "for var in ['confirmed', 'recovered', 'deaths']:\n",
    "        covid_data_final.loc[covid_data_final[var] < 0, var] = 0\n",
    "\n",
    "covid_data_final.head()"
   ]
  },
  {
   "cell_type": "code",
   "execution_count": 63,
   "id": "7f19be5a-a9a4-4fa2-b78b-ce0b9f5f92f4",
   "metadata": {},
   "outputs": [
    {
     "data": {
      "text/plain": [
       "confirmed    0\n",
       "recovered    0\n",
       "deaths       0\n",
       "dtype: int64"
      ]
     },
     "execution_count": 63,
     "metadata": {},
     "output_type": "execute_result"
    }
   ],
   "source": [
    "(covid_data_final[['confirmed', 'recovered', 'deaths']] < 0).sum()"
   ]
  },
  {
   "cell_type": "code",
   "execution_count": null,
   "id": "e70b2d34-39fc-4937-88b6-0c249fc44ce6",
   "metadata": {},
   "outputs": [],
   "source": []
  },
  {
   "cell_type": "code",
   "execution_count": 46,
   "id": "3ad1163b-a7b0-42df-8320-9d3e7da25aeb",
   "metadata": {},
   "outputs": [],
   "source": [
    "US = covid_data_agg[covid_data_agg['country_region'] == 'US'].reset_index(drop=True)"
   ]
  },
  {
   "cell_type": "code",
   "execution_count": 52,
   "id": "923dcf2f-fc55-40fe-ae21-384907c04a58",
   "metadata": {},
   "outputs": [
    {
     "data": {
      "text/html": [
       "<div>\n",
       "<style scoped>\n",
       "    .dataframe tbody tr th:only-of-type {\n",
       "        vertical-align: middle;\n",
       "    }\n",
       "\n",
       "    .dataframe tbody tr th {\n",
       "        vertical-align: top;\n",
       "    }\n",
       "\n",
       "    .dataframe thead th {\n",
       "        text-align: right;\n",
       "    }\n",
       "</style>\n",
       "<table border=\"1\" class=\"dataframe\">\n",
       "  <thead>\n",
       "    <tr style=\"text-align: right;\">\n",
       "      <th></th>\n",
       "      <th>country_region</th>\n",
       "      <th>date</th>\n",
       "      <th>confirmed</th>\n",
       "      <th>recovered</th>\n",
       "      <th>deaths</th>\n",
       "    </tr>\n",
       "  </thead>\n",
       "  <tbody>\n",
       "    <tr>\n",
       "      <th>0</th>\n",
       "      <td>US</td>\n",
       "      <td>2020-01-22</td>\n",
       "      <td>0.0</td>\n",
       "      <td>0.0</td>\n",
       "      <td>0.0</td>\n",
       "    </tr>\n",
       "    <tr>\n",
       "      <th>1</th>\n",
       "      <td>US</td>\n",
       "      <td>2020-01-23</td>\n",
       "      <td>0.0</td>\n",
       "      <td>0.0</td>\n",
       "      <td>0.0</td>\n",
       "    </tr>\n",
       "    <tr>\n",
       "      <th>2</th>\n",
       "      <td>US</td>\n",
       "      <td>2020-01-24</td>\n",
       "      <td>1.0</td>\n",
       "      <td>0.0</td>\n",
       "      <td>0.0</td>\n",
       "    </tr>\n",
       "    <tr>\n",
       "      <th>3</th>\n",
       "      <td>US</td>\n",
       "      <td>2020-01-25</td>\n",
       "      <td>0.0</td>\n",
       "      <td>0.0</td>\n",
       "      <td>0.0</td>\n",
       "    </tr>\n",
       "    <tr>\n",
       "      <th>4</th>\n",
       "      <td>US</td>\n",
       "      <td>2020-01-26</td>\n",
       "      <td>3.0</td>\n",
       "      <td>0.0</td>\n",
       "      <td>0.0</td>\n",
       "    </tr>\n",
       "    <tr>\n",
       "      <th>...</th>\n",
       "      <td>...</td>\n",
       "      <td>...</td>\n",
       "      <td>...</td>\n",
       "      <td>...</td>\n",
       "      <td>...</td>\n",
       "    </tr>\n",
       "    <tr>\n",
       "      <th>811</th>\n",
       "      <td>US</td>\n",
       "      <td>2022-04-12</td>\n",
       "      <td>27853.0</td>\n",
       "      <td>0.0</td>\n",
       "      <td>561.0</td>\n",
       "    </tr>\n",
       "    <tr>\n",
       "      <th>812</th>\n",
       "      <td>US</td>\n",
       "      <td>2022-04-13</td>\n",
       "      <td>41192.0</td>\n",
       "      <td>0.0</td>\n",
       "      <td>956.0</td>\n",
       "    </tr>\n",
       "    <tr>\n",
       "      <th>813</th>\n",
       "      <td>US</td>\n",
       "      <td>2022-04-14</td>\n",
       "      <td>54543.0</td>\n",
       "      <td>0.0</td>\n",
       "      <td>778.0</td>\n",
       "    </tr>\n",
       "    <tr>\n",
       "      <th>814</th>\n",
       "      <td>US</td>\n",
       "      <td>2022-04-15</td>\n",
       "      <td>39149.0</td>\n",
       "      <td>0.0</td>\n",
       "      <td>437.0</td>\n",
       "    </tr>\n",
       "    <tr>\n",
       "      <th>815</th>\n",
       "      <td>US</td>\n",
       "      <td>2022-04-16</td>\n",
       "      <td>12439.0</td>\n",
       "      <td>0.0</td>\n",
       "      <td>51.0</td>\n",
       "    </tr>\n",
       "  </tbody>\n",
       "</table>\n",
       "<p>816 rows × 5 columns</p>\n",
       "</div>"
      ],
      "text/plain": [
       "    country_region       date  confirmed  recovered  deaths\n",
       "0               US 2020-01-22        0.0        0.0     0.0\n",
       "1               US 2020-01-23        0.0        0.0     0.0\n",
       "2               US 2020-01-24        1.0        0.0     0.0\n",
       "3               US 2020-01-25        0.0        0.0     0.0\n",
       "4               US 2020-01-26        3.0        0.0     0.0\n",
       "..             ...        ...        ...        ...     ...\n",
       "811             US 2022-04-12    27853.0        0.0   561.0\n",
       "812             US 2022-04-13    41192.0        0.0   956.0\n",
       "813             US 2022-04-14    54543.0        0.0   778.0\n",
       "814             US 2022-04-15    39149.0        0.0   437.0\n",
       "815             US 2022-04-16    12439.0        0.0    51.0\n",
       "\n",
       "[816 rows x 5 columns]"
      ]
     },
     "execution_count": 52,
     "metadata": {},
     "output_type": "execute_result"
    }
   ],
   "source": [
    "get_diff(US)"
   ]
  },
  {
   "cell_type": "code",
   "execution_count": 50,
   "id": "b12bc2d3-44f3-4eed-bda4-dc3d30344cbd",
   "metadata": {},
   "outputs": [
    {
     "data": {
      "text/plain": [
       "0          0.0\n",
       "1          0.0\n",
       "2          1.0\n",
       "3          0.0\n",
       "4          3.0\n",
       "        ...   \n",
       "811    27853.0\n",
       "812    41192.0\n",
       "813    54543.0\n",
       "814    39149.0\n",
       "815    12439.0\n",
       "Name: confirmed, Length: 816, dtype: float64"
      ]
     },
     "execution_count": 50,
     "metadata": {},
     "output_type": "execute_result"
    }
   ],
   "source": [
    "US['confirmed'].diff(1).fillna(0)"
   ]
  },
  {
   "cell_type": "markdown",
   "id": "a2e9bd21-2685-417d-a56b-aff4c6461066",
   "metadata": {},
   "source": [
    "#### Немного о важности индексов в pandas"
   ]
  },
  {
   "cell_type": "code",
   "execution_count": 30,
   "id": "932fb48c-f720-4817-9efa-5e58dd3ee774",
   "metadata": {},
   "outputs": [],
   "source": [
    "series1 = pd.Series([1, 2, 3], index=[0, 1, 2])\n",
    "series2 = pd.Series([1, 2, 3], index=[2, 1, 0])\n",
    "series3 = pd.Series([1, 2, 3], index=[1, 1, 1])"
   ]
  },
  {
   "cell_type": "code",
   "execution_count": 37,
   "id": "a52c2bfe-ea4e-42b6-a586-4bc4868206ec",
   "metadata": {},
   "outputs": [
    {
     "data": {
      "text/plain": [
       "(0    1\n",
       " 1    2\n",
       " 2    3\n",
       " dtype: int64,\n",
       " 2    1\n",
       " 1    2\n",
       " 0    3\n",
       " dtype: int64,\n",
       " 1    1\n",
       " 1    2\n",
       " 1    3\n",
       " dtype: int64)"
      ]
     },
     "execution_count": 37,
     "metadata": {},
     "output_type": "execute_result"
    }
   ],
   "source": [
    "series1, series2, series3"
   ]
  },
  {
   "cell_type": "code",
   "execution_count": 34,
   "id": "a34c73fb-8a74-4647-81e1-59f97a46bfaa",
   "metadata": {},
   "outputs": [
    {
     "data": {
      "text/plain": [
       "0    0\n",
       "1    0\n",
       "2    0\n",
       "dtype: int64"
      ]
     },
     "execution_count": 34,
     "metadata": {},
     "output_type": "execute_result"
    }
   ],
   "source": [
    "series1 - series1"
   ]
  },
  {
   "cell_type": "code",
   "execution_count": 38,
   "id": "c9a7e953-f924-4ff1-9a8b-9532ab345b85",
   "metadata": {},
   "outputs": [
    {
     "data": {
      "text/plain": [
       "0   -2\n",
       "1    0\n",
       "2    2\n",
       "dtype: int64"
      ]
     },
     "execution_count": 38,
     "metadata": {},
     "output_type": "execute_result"
    }
   ],
   "source": [
    "series1 - series2"
   ]
  },
  {
   "cell_type": "code",
   "execution_count": 39,
   "id": "03ac76b9-10b5-4283-accf-f1200c8a9b58",
   "metadata": {},
   "outputs": [
    {
     "data": {
      "text/plain": [
       "0    NaN\n",
       "1    1.0\n",
       "1    0.0\n",
       "1   -1.0\n",
       "2    NaN\n",
       "dtype: float64"
      ]
     },
     "execution_count": 39,
     "metadata": {},
     "output_type": "execute_result"
    }
   ],
   "source": [
    "series1 - series3"
   ]
  },
  {
   "cell_type": "code",
   "execution_count": 41,
   "id": "dde3fac0-9a55-4616-be9c-bcb6b6611565",
   "metadata": {},
   "outputs": [
    {
     "data": {
      "text/plain": [
       "array([0, 0, 0])"
      ]
     },
     "execution_count": 41,
     "metadata": {},
     "output_type": "execute_result"
    }
   ],
   "source": [
    "series1.values - series3.values"
   ]
  },
  {
   "cell_type": "code",
   "execution_count": null,
   "id": "e647e19e-26f9-4731-8348-7c4a4bbd3cc8",
   "metadata": {},
   "outputs": [],
   "source": [
    "# как меняется соотношения типа обнаруженные / умершие и т. д. во времени (в среднемировом разрезе)?"
   ]
  },
  {
   "cell_type": "code",
   "execution_count": 69,
   "id": "65b8055b-6f0e-42af-ba6a-3db8e9f17795",
   "metadata": {},
   "outputs": [],
   "source": [
    "covid_world = covid_data_agg.groupby(['date'], as_index=False)[['confirmed', 'recovered', 'deaths']].mean()\n",
    "covid_world['ratio'] = covid_world['deaths'] / covid_world['confirmed']\n",
    "\n",
    "covid_world.index = covid_world['date']"
   ]
  },
  {
   "cell_type": "code",
   "execution_count": 72,
   "id": "7d6a50e6-a79d-4846-9b1a-d65b9460798e",
   "metadata": {},
   "outputs": [
    {
     "data": {
      "image/png": "[encoded data removed]",
      "text/plain": [
       "<Figure size 640x480 with 1 Axes>"
      ]
     },
     "metadata": {},
     "output_type": "display_data"
    }
   ],
   "source": [
    "covid_world['ratio'].plot.line();"
   ]
  },
  {
   "cell_type": "code",
   "execution_count": 81,
   "id": "aa1d4b3f-fe5f-46e5-9866-e8a32f998c5a",
   "metadata": {},
   "outputs": [
    {
     "data": {
      "image/png": "[encoded data removed]",
      "text/plain": [
       "<Figure size 640x480 with 1 Axes>"
      ]
     },
     "metadata": {},
     "output_type": "display_data"
    }
   ],
   "source": [
    "import matplotlib.pyplot as plt\n",
    "\n",
    "fig, ax = plt.subplots()\n",
    "ax.scatter(covid_world['ratio'].index, covid_world['ratio'].values, marker='.');"
   ]
  },
  {
   "cell_type": "code",
   "execution_count": 82,
   "id": "54cbdfec-266d-453f-a2e4-a7fd57da9605",
   "metadata": {},
   "outputs": [
    {
     "data": {
      "text/html": [
       "<div>\n",
       "<style scoped>\n",
       "    .dataframe tbody tr th:only-of-type {\n",
       "        vertical-align: middle;\n",
       "    }\n",
       "\n",
       "    .dataframe tbody tr th {\n",
       "        vertical-align: top;\n",
       "    }\n",
       "\n",
       "    .dataframe thead th {\n",
       "        text-align: right;\n",
       "    }\n",
       "</style>\n",
       "<table border=\"1\" class=\"dataframe\">\n",
       "  <thead>\n",
       "    <tr style=\"text-align: right;\">\n",
       "      <th></th>\n",
       "      <th>date</th>\n",
       "      <th>confirmed</th>\n",
       "      <th>recovered</th>\n",
       "      <th>deaths</th>\n",
       "      <th>ratio</th>\n",
       "    </tr>\n",
       "    <tr>\n",
       "      <th>date</th>\n",
       "      <th></th>\n",
       "      <th></th>\n",
       "      <th></th>\n",
       "      <th></th>\n",
       "      <th></th>\n",
       "    </tr>\n",
       "  </thead>\n",
       "  <tbody>\n",
       "    <tr>\n",
       "      <th>2020-01-22</th>\n",
       "      <td>2020-01-22</td>\n",
       "      <td>2.813131</td>\n",
       "      <td>0.151515</td>\n",
       "      <td>0.085859</td>\n",
       "      <td>0.030521</td>\n",
       "    </tr>\n",
       "    <tr>\n",
       "      <th>2020-01-23</th>\n",
       "      <td>2020-01-23</td>\n",
       "      <td>3.318182</td>\n",
       "      <td>0.161616</td>\n",
       "      <td>0.090909</td>\n",
       "      <td>0.027397</td>\n",
       "    </tr>\n",
       "    <tr>\n",
       "      <th>2020-01-24</th>\n",
       "      <td>2020-01-24</td>\n",
       "      <td>4.767677</td>\n",
       "      <td>0.196970</td>\n",
       "      <td>0.131313</td>\n",
       "      <td>0.027542</td>\n",
       "    </tr>\n",
       "    <tr>\n",
       "      <th>2020-01-25</th>\n",
       "      <td>2020-01-25</td>\n",
       "      <td>7.257576</td>\n",
       "      <td>0.212121</td>\n",
       "      <td>0.212121</td>\n",
       "      <td>0.029228</td>\n",
       "    </tr>\n",
       "    <tr>\n",
       "      <th>2020-01-26</th>\n",
       "      <td>2020-01-26</td>\n",
       "      <td>10.707071</td>\n",
       "      <td>0.282828</td>\n",
       "      <td>0.282828</td>\n",
       "      <td>0.026415</td>\n",
       "    </tr>\n",
       "  </tbody>\n",
       "</table>\n",
       "</div>"
      ],
      "text/plain": [
       "                 date  confirmed  recovered    deaths     ratio\n",
       "date                                                           \n",
       "2020-01-22 2020-01-22   2.813131   0.151515  0.085859  0.030521\n",
       "2020-01-23 2020-01-23   3.318182   0.161616  0.090909  0.027397\n",
       "2020-01-24 2020-01-24   4.767677   0.196970  0.131313  0.027542\n",
       "2020-01-25 2020-01-25   7.257576   0.212121  0.212121  0.029228\n",
       "2020-01-26 2020-01-26  10.707071   0.282828  0.282828  0.026415"
      ]
     },
     "execution_count": 82,
     "metadata": {},
     "output_type": "execute_result"
    }
   ],
   "source": [
    "# если смотреть в среднемировом разрезе, как можно оценить, на какой день болезни шанс заразить кого-нибудь больше всего?\n",
    "# Попробуйте проверить, можно ли говорить о какой-либо статистической значимости в контексте вашего ответа;\n",
    "\n",
    "covid_world.head()"
   ]
  },
  {
   "cell_type": "code",
   "execution_count": 88,
   "id": "7c6bf06b-633d-48fb-9311-3a4cbc90f507",
   "metadata": {},
   "outputs": [],
   "source": [
    "cors = []\n",
    "\n",
    "for shift in range(1, 51):\n",
    "    cor = np.corrcoef(covid_world['confirmed'].shift(shift).fillna(0), covid_world['confirmed'])[0, 1]\n",
    "    cors.append(cor)"
   ]
  },
  {
   "cell_type": "code",
   "execution_count": 89,
   "id": "29e43b91-5c50-4f02-9d6d-6e7f93e860d4",
   "metadata": {},
   "outputs": [
    {
     "data": {
      "image/png": "[encoded data removed]",
      "text/plain": [
       "<Figure size 640x480 with 1 Axes>"
      ]
     },
     "metadata": {},
     "output_type": "display_data"
    }
   ],
   "source": [
    "fig, ax = plt.subplots()\n",
    "\n",
    "ax.plot(np.arange(1, 51), cors);"
   ]
  },
  {
   "cell_type": "code",
   "execution_count": null,
   "id": "bc431a0b-892a-451e-8235-57ba2a6a8e58",
   "metadata": {},
   "outputs": [],
   "source": []
  },
  {
   "cell_type": "code",
   "execution_count": null,
   "id": "f400b10c-f758-4b28-bf11-05b6def44146",
   "metadata": {},
   "outputs": [],
   "source": []
  }
 ],
 "metadata": {
  "kernelspec": {
   "display_name": "Python 3 (ipykernel)",
   "language": "python",
   "name": "python3"
  },
  "language_info": {
   "codemirror_mode": {
    "name": "ipython",
    "version": 3
   },
   "file_extension": ".py",
   "mimetype": "text/x-python",
   "name": "python",
   "nbconvert_exporter": "python",
   "pygments_lexer": "ipython3",
   "version": "3.11.6"
  }
 },
 "nbformat": 4,
 "nbformat_minor": 5
}
